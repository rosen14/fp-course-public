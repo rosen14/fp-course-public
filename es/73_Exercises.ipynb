{
  "cells": [
    {
      "cell_type": "markdown",
      "metadata": {},
      "source": [
        "## Ejercicios"
      ]
    },
    {
      "cell_type": "markdown",
      "metadata": {},
      "source": [
        "### La máquina expendedora, toma 32768...\n",
        "\n",
        "Para completar el modelo de la máquina expendedora, necesitamos definir los inputs y outputs. Asimismo, el fabricante de la máquina expendedora nos informa que a lo sumo habrá 7 estantes, y a lo sumo 10 productos por estante. \n",
        "La máquina recibe monedas de 1 doblón (equivalente a 100 centavos), 50, 25 y 10\n",
        "centavos de doblón; o en tarjeta de crédito. El vuelto (de existir) también se genera en monedas.\n"
      ]
    },
    {
      "cell_type": "markdown",
      "metadata": {},
      "source": [
        "#### Inputs\n",
        "\n",
        "Usando el modelo que diseño en [el ejercicio de monedas](https://ibprogramacionavanzada.github.io/fsharp/14_Exercises/#monedas). \n",
        "\n",
        "- Extienda los tipos de datos para agregar la posibilidad de introducir monedas de 1 doblón. \n",
        "\n",
        "Además, el usuario debe seleccionar el producto, con una letra (correspondiente al estante), y un\n",
        "número (correspondiente al producto en el estante). \n",
        "\n",
        "- Cree los tipos de datos para modelar este input.\n",
        "- Cree una función que valide dicho input, de acuerdo a la configuración de número de estantes y número de productos por estante.\n",
        "- Cree una función que de aviso al cliente de cuánto dinero falta introducir, en caso en que\n",
        "  el dinero introducido no ha sido suficiente.\n",
        "  "
      ]
    },
    {
      "cell_type": "markdown",
      "metadata": {},
      "source": [
        "#### Outputs  \n",
        "\n",
        "Cree las funciones que entregan el producto al usuario (descontándolo adecuadamente del stock correspondiente), y el vuelto, si lo hubiere. \n"
      ]
    },
    {
      "cell_type": "markdown",
      "metadata": {},
      "source": [
        "#### Extra: un caso de borde\n",
        "\n",
        "Un caso raro, pero que podría ocurrir, es el siguiente: el usuario introduce las monedas, suficientes\n",
        "como para comprar el producto que quiere, pero la máquina no tiene monedas suficientes para dar \n",
        "el vuelto.\n",
        "\n",
        "\n",
        "\n",
        "\n",
        "\n"
      ]
    },
    {
      "cell_type": "markdown",
      "metadata": {},
      "source": [
        "### Nutrientes en la alimentación\n",
        "\n",
        "> Haga el ejercicio de producir el código **sin mirar el archivo de datos!!** \n",
        "\n",
        "El archivo [food.csv](https://github.com/fcolavecchia/fp-course-public/blob/main/data/food.csv) extraído de [acá](https://data.nal.usda.gov/) contiene datos de nutrientes de una gran cantidad de productos de alimentación. Los datos corresponden en cada caso a 100 g de cada \n",
        "producto alimenticio. Cada fila del archivo corresponde a un producto distinto.\n",
        "\n",
        "\n",
        "- ¿Cuántas categorías de nutrientes hay?\n",
        "\n",
        "A partir de la respuesta anterior, diseñe el código de forma tal que se pueda acceder a los datos de nutrientes _sin necesidad de usar índices_. \n",
        ">> Ayuda: los diccionarios `Map...` pueden ser sus aliados.\n",
        "\n",
        "\n",
        "- Valide la estructura de la información: para ello compruebe que cada una de las filas de datos tiene la información de todos los nutrientes\n",
        "- Encuentre los diez alimentos con más contenido de colesterol, y los 10 con menos contenido de colesterol.\n",
        "- Encuentre los alimentos que contienen pan (_bread_) y muestre su contenido de carbohidratos en una tabla\n",
        "- Entre los productos con leche, encuentre aquellos que tienen el menor contenido de grasas. \n"
      ]
    }
  ],
  "metadata": {
    "language_info": {
      "name": "python"
    },
    "orig_nbformat": 4
  },
  "nbformat": 4,
  "nbformat_minor": 2
}
