{
  "cells": [
    {
      "cell_type": "markdown",
      "metadata": {},
      "source": [
        "## Ejercicios"
      ]
    },
    {
      "cell_type": "markdown",
      "metadata": {},
      "source": [
        "### Trenes ingleses\n",
        "\n",
        "> Este es un dominio de verdad, tratado por [Kit Easton en su libro Stylish F#](https://doi.org/10.1007/978-1-4842-4000-7_2), cuya lectura recomiendo. En particular, el primer capítulo es de lectura imprescindible para comprender qué significa un estilo de programación, más allá\n",
        "del lenguaje usado.\n",
        "\n",
        "Los trenes británicos, antes de pasar al sistema decimal, usaban como medidas la milla y la yarda. Una milla tiene 1760 yardas, y una \n",
        "yarda es igual a 0.9144 metros. Como si esto fuera poco, el sistema que se utilizaba para escribir las distancias era un número decimal, \n",
        "donde la parte entera es el número de millas, _y la parte fraccional el número de yardas_... Entonces, una milla y media se escribe como \n",
        "1.0880, puesto que 880 es exactamente 1760 yardas dividido dos. La parte fraccionaria entonces toma valores desde 0.0 hasta 0.1759. Siguiendo\n",
        "a Easton, llamaremos a esta notación _millas.yardas_.\n",
        "\n",
        "- Escriba funciones para convertir de la notación millas.yardas a millas decimales, y viceversa.\n",
        "\n",
        "No contentos con esto, a veces no se utiliza las millas.yardas, sino que se usa la notación _millas y cadenas_, donde una cadena se define\n",
        "como 22 yardas. \n",
        "\n",
        "- Escriba las funciones para convertir esta nueva notación a las anteriores.\n"
      ]
    }
  ],
  "metadata": {
    "language_info": {
      "name": "python"
    },
    "orig_nbformat": 4
  },
  "nbformat": 4,
  "nbformat_minor": 2
}
