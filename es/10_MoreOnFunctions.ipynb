{
 "cells": [
  {
   "attachments": {},
   "cell_type": "markdown",
   "metadata": {},
   "source": [
    "## Más sobre funciones\n",
    "\n",
    "Hemos presentado las bases sobre las cuales se asienta el lenguaje en términos de funciones: \n",
    "\n",
    "- Funciones como _ciudadanos de primera clase_ en el lenguaje\n",
    "- Composición de funciones\n",
    "- Aplicación parcial\n",
    "\n",
    "Veamos algunos ejemplos más como para ir progresando"
   ]
  },
  {
   "cell_type": "code",
   "execution_count": 3,
   "metadata": {
    "dotnet_interactive": {
     "language": "fsharp"
    },
    "polyglot_notebook": {
     "kernelName": "fsharp"
    },
    "vscode": {
     "languageId": "polyglot-notebook"
    }
   },
   "outputs": [
    {
     "name": "stdout",
     "output_type": "stream",
     "text": [
      "\"JohnLennon\"\n"
     ]
    }
   ],
   "source": [
    "let fullName firstName lastName =\n",
    "    let s = firstName + lastName \n",
    "    s \n",
    "\n",
    "let john = fullName \"John\" \"Lennon\"     \n",
    "\n",
    "printfn \"%A\" john    \n"
   ]
  },
  {
   "attachments": {},
   "cell_type": "markdown",
   "metadata": {},
   "source": [
    "Vemos que se pueden definir otros identificadores dentro de las funciones, tal como esperábamos. En este caso, aparentemente, la función concatenaría los strings `firstName` y `lastName` en un solo string, que devuelve como resultado a través de `s`. \n",
    "\n",
    "Sin embargo, un punto interesante a notar con la función `fullName` es que hasta tanto la función no se aplica sobre dos strings, el compilador no tiene manera de saber qué tipo de datos quiero usar. Esto se debe a que el operador `+` en F# se usa tanto para sumar números como para concatenar _strings_. Si bien el nombre de la función induce a pensar que se van a usar _strings_, el compilador no hace un análisis semántico... \n"
   ]
  },
  {
   "cell_type": "code",
   "execution_count": 4,
   "metadata": {
    "dotnet_interactive": {
     "language": "fsharp"
    },
    "polyglot_notebook": {
     "kernelName": "fsharp"
    },
    "vscode": {
     "languageId": "polyglot-notebook"
    }
   },
   "outputs": [],
   "source": [
    "let fullNameS firstName lastName =\n",
    "    let s = firstName + \" \" +  lastName \n",
    "    s "
   ]
  },
  {
   "attachments": {},
   "cell_type": "markdown",
   "metadata": {},
   "source": [
    "En el caso de `fullNameS` el compilador infiere correctamente los tipos como _strings_, debido a que claramente el operador `+` se está usando para concatenar, al utilizarlo con ` + \"  \" +`. "
   ]
  },
  {
   "attachments": {},
   "cell_type": "markdown",
   "metadata": {},
   "source": [
    "> Acá hay que aclarar una particularidad de los _Notebooks_: si defino la función en una celda, y la utilizo en otra, la función va a quedar asociada a inputs (y outputs) de tipo entero. Para que el compilador infiera correctamente los tipos de datos, debo utilizar la función en la misma celda. A partir de allí, quedarán definidos los tipos de datos para todo el _Notebook_."
   ]
  },
  {
   "attachments": {},
   "cell_type": "markdown",
   "metadata": {},
   "source": [
    "Por supuesto se pueden llamar funciones dentro de otras funciones:"
   ]
  },
  {
   "cell_type": "code",
   "execution_count": 1,
   "metadata": {
    "dotnet_interactive": {
     "language": "fsharp"
    },
    "polyglot_notebook": {
     "kernelName": "fsharp"
    },
    "vscode": {
     "languageId": "polyglot-notebook"
    }
   },
   "outputs": [],
   "source": [
    "let prettyPrint s =\n",
    "    printfn \"%A\" s \n",
    "\n",
    "let hola name =\n",
    "    prettyPrint (\"Hola \" + name + \" !\")"
   ]
  },
  {
   "cell_type": "code",
   "execution_count": 5,
   "metadata": {
    "dotnet_interactive": {
     "language": "fsharp"
    },
    "polyglot_notebook": {
     "kernelName": "fsharp"
    },
    "vscode": {
     "languageId": "polyglot-notebook"
    }
   },
   "outputs": [
    {
     "name": "stdout",
     "output_type": "stream",
     "text": [
      "\"Paul McCartney\"\n"
     ]
    }
   ],
   "source": [
    "let paul = fullNameS \"Paul\" \"McCartney\"\n",
    "\n",
    "prettyPrint paul"
   ]
  },
  {
   "cell_type": "code",
   "execution_count": 6,
   "metadata": {
    "dotnet_interactive": {
     "language": "fsharp"
    },
    "polyglot_notebook": {
     "kernelName": "fsharp"
    },
    "vscode": {
     "languageId": "polyglot-notebook"
    }
   },
   "outputs": [
    {
     "name": "stdout",
     "output_type": "stream",
     "text": [
      "\"Hola Paul McCartney !\"\n"
     ]
    }
   ],
   "source": [
    "hola paul"
   ]
  },
  {
   "cell_type": "code",
   "execution_count": 7,
   "metadata": {
    "dotnet_interactive": {
     "language": "fsharp"
    },
    "polyglot_notebook": {
     "kernelName": "fsharp"
    },
    "vscode": {
     "languageId": "polyglot-notebook"
    }
   },
   "outputs": [
    {
     "name": "stdout",
     "output_type": "stream",
     "text": [
      "\"Hola Paul McCartney !\"\n"
     ]
    }
   ],
   "source": [
    "paul\n",
    "|> hola"
   ]
  },
  {
   "attachments": {},
   "cell_type": "markdown",
   "metadata": {},
   "source": [
    "Usamos los paréntesis para separar los llamados a funciones que llaman a funciones:"
   ]
  },
  {
   "cell_type": "code",
   "execution_count": 8,
   "metadata": {
    "dotnet_interactive": {
     "language": "fsharp"
    },
    "polyglot_notebook": {
     "kernelName": "fsharp"
    },
    "vscode": {
     "languageId": "polyglot-notebook"
    }
   },
   "outputs": [
    {
     "name": "stdout",
     "output_type": "stream",
     "text": [
      "\"Hola George Harrison !\"\n"
     ]
    }
   ],
   "source": [
    "hola (fullNameS \"George\" \"Harrison\")"
   ]
  },
  {
   "attachments": {},
   "cell_type": "markdown",
   "metadata": {},
   "source": [
    "Podemos también usar el operador _pipe_:"
   ]
  },
  {
   "cell_type": "code",
   "execution_count": 9,
   "metadata": {
    "dotnet_interactive": {
     "language": "fsharp"
    },
    "polyglot_notebook": {
     "kernelName": "fsharp"
    },
    "vscode": {
     "languageId": "polyglot-notebook"
    }
   },
   "outputs": [
    {
     "name": "stdout",
     "output_type": "stream",
     "text": [
      "\"Hola Paul McCartney !\"\n"
     ]
    }
   ],
   "source": [
    "paul \n",
    "|> hola "
   ]
  },
  {
   "attachments": {},
   "cell_type": "markdown",
   "metadata": {},
   "source": [
    "Pero atención cuando uno usa varios inputs, porque el _piping_ sólo acepta el último argumento cuando hay más de uno:"
   ]
  },
  {
   "cell_type": "code",
   "execution_count": 10,
   "metadata": {
    "dotnet_interactive": {
     "language": "fsharp"
    },
    "polyglot_notebook": {
     "kernelName": "fsharp"
    },
    "vscode": {
     "languageId": "polyglot-notebook"
    }
   },
   "outputs": [
    {
     "ename": "Error",
     "evalue": "input.fsx (1,1)-(1,9) typecheck error This value is not a function and cannot be applied.\ninput.fsx (3,4)-(3,8) typecheck error Type mismatch. Expecting a\n    '(string -> string) -> 'a'    \nbut given a\n    'string -> unit'    \nThe type 'string -> string' does not match the type 'string'",
     "output_type": "error",
     "traceback": [
      "input.fsx (1,1)-(1,9) typecheck error This value is not a function and cannot be applied.\n",
      "input.fsx (3,4)-(3,8) typecheck error Type mismatch. Expecting a\n",
      "    '(string -> string) -> 'a'    \n",
      "but given a\n",
      "    'string -> unit'    \n",
      "The type 'string -> string' does not match the type 'string'"
     ]
    }
   ],
   "source": [
    "\"George\" \"Harrison\"\n",
    "|> fullNameS \n",
    "|> hola "
   ]
  },
  {
   "cell_type": "code",
   "execution_count": 11,
   "metadata": {
    "dotnet_interactive": {
     "language": "fsharp"
    },
    "polyglot_notebook": {
     "kernelName": "fsharp"
    },
    "vscode": {
     "languageId": "polyglot-notebook"
    }
   },
   "outputs": [
    {
     "name": "stdout",
     "output_type": "stream",
     "text": [
      "\"Hola George Harrison !\"\n"
     ]
    }
   ],
   "source": [
    "\"Harrison\"\n",
    "|> fullNameS \"George\" \n",
    "|> hola "
   ]
  },
  {
   "attachments": {},
   "cell_type": "markdown",
   "metadata": {},
   "source": [
    "Veamos un ejemplo un poco más claro. Volviendo a nuestra máquina expendedora, supongamos que se conoce el costo de un paquete de galletitas marca ACME, que es el precio que paga el vendedor. A ese costo le aplica un porcentaje de ganancia, y además otro porcentaje de impuestos que traslada al consumidor final. Veamos cómo calcular el precio del paquete:"
   ]
  },
  {
   "cell_type": "code",
   "execution_count": 12,
   "metadata": {
    "dotnet_interactive": {
     "language": "fsharp"
    },
    "polyglot_notebook": {
     "kernelName": "fsharp"
    },
    "vscode": {
     "languageId": "polyglot-notebook"
    }
   },
   "outputs": [],
   "source": [
    "let priceAfterTax tax value = \n",
    "    let price = value * (1.0 + tax/100.0)\n",
    "    price \n",
    "\n",
    "let priceAfterEarning earning value = \n",
    "    let price = value * (1.0 + earning/100.0)\n",
    "    price \n",
    "\n",
    "let price tax earning value = \n",
    "    let p = priceAfterTax tax value \n",
    "    let q = priceAfterEarning earning p \n",
    "    q  \n",
    "\n"
   ]
  },
  {
   "cell_type": "code",
   "execution_count": 13,
   "metadata": {
    "dotnet_interactive": {
     "language": "fsharp"
    },
    "polyglot_notebook": {
     "kernelName": "fsharp"
    },
    "vscode": {
     "languageId": "polyglot-notebook"
    }
   },
   "outputs": [
    {
     "name": "stdout",
     "output_type": "stream",
     "text": [
      "59.895\n"
     ]
    }
   ],
   "source": [
    "let cost = 45.0 \n",
    "\n",
    "let tax = 21 \n",
    "let earning = 10 \n",
    "\n",
    "let finalPrice = price tax earning cost \n",
    "\n",
    "prettyPrint finalPrice"
   ]
  },
  {
   "attachments": {},
   "cell_type": "markdown",
   "metadata": {},
   "source": [
    "O uno podría usar pipe:"
   ]
  },
  {
   "cell_type": "code",
   "execution_count": 14,
   "metadata": {
    "dotnet_interactive": {
     "language": "fsharp"
    },
    "polyglot_notebook": {
     "kernelName": "fsharp"
    },
    "vscode": {
     "languageId": "polyglot-notebook"
    }
   },
   "outputs": [
    {
     "data": {
      "text/html": [
       "<div class=\"dni-plaintext\"><pre>59.89500000000001</pre></div><style>\r\n",
       ".dni-code-hint {\r\n",
       "    font-style: italic;\r\n",
       "    overflow: hidden;\r\n",
       "    white-space: nowrap;\r\n",
       "}\r\n",
       ".dni-treeview {\r\n",
       "    white-space: nowrap;\r\n",
       "}\r\n",
       ".dni-treeview td {\r\n",
       "    vertical-align: top;\r\n",
       "    text-align: start;\r\n",
       "}\r\n",
       "details.dni-treeview {\r\n",
       "    padding-left: 1em;\r\n",
       "}\r\n",
       "table td {\r\n",
       "    text-align: start;\r\n",
       "}\r\n",
       "table tr { \r\n",
       "    vertical-align: top; \r\n",
       "    margin: 0em 0px;\r\n",
       "}\r\n",
       "table tr td pre \r\n",
       "{ \r\n",
       "    vertical-align: top !important; \r\n",
       "    margin: 0em 0px !important;\r\n",
       "} \r\n",
       "table th {\r\n",
       "    text-align: start;\r\n",
       "}\r\n",
       "</style>"
      ]
     },
     "metadata": {},
     "output_type": "display_data"
    }
   ],
   "source": [
    "cost\n",
    "|> priceAfterEarning earning \n",
    "|> priceAfterTax tax \n"
   ]
  },
  {
   "attachments": {},
   "cell_type": "markdown",
   "metadata": {},
   "source": [
    "Otra posibilidad es generalizar y crear una sola función para calcular el porcentaje"
   ]
  },
  {
   "cell_type": "code",
   "execution_count": 15,
   "metadata": {
    "dotnet_interactive": {
     "language": "fsharp"
    },
    "polyglot_notebook": {
     "kernelName": "fsharp"
    },
    "vscode": {
     "languageId": "polyglot-notebook"
    }
   },
   "outputs": [],
   "source": [
    "let applyPercentage per value = \n",
    "    value * (1.0 + per/100.0)\n",
    "\n",
    "let priceAfterEarning2 = applyPercentage earning\n",
    "let priceAfterTax2 = applyPercentage tax     "
   ]
  },
  {
   "cell_type": "code",
   "execution_count": 16,
   "metadata": {
    "dotnet_interactive": {
     "language": "fsharp"
    },
    "polyglot_notebook": {
     "kernelName": "fsharp"
    },
    "vscode": {
     "languageId": "polyglot-notebook"
    }
   },
   "outputs": [
    {
     "data": {
      "text/html": [
       "<div class=\"dni-plaintext\"><pre>59.89500000000001</pre></div><style>\r\n",
       ".dni-code-hint {\r\n",
       "    font-style: italic;\r\n",
       "    overflow: hidden;\r\n",
       "    white-space: nowrap;\r\n",
       "}\r\n",
       ".dni-treeview {\r\n",
       "    white-space: nowrap;\r\n",
       "}\r\n",
       ".dni-treeview td {\r\n",
       "    vertical-align: top;\r\n",
       "    text-align: start;\r\n",
       "}\r\n",
       "details.dni-treeview {\r\n",
       "    padding-left: 1em;\r\n",
       "}\r\n",
       "table td {\r\n",
       "    text-align: start;\r\n",
       "}\r\n",
       "table tr { \r\n",
       "    vertical-align: top; \r\n",
       "    margin: 0em 0px;\r\n",
       "}\r\n",
       "table tr td pre \r\n",
       "{ \r\n",
       "    vertical-align: top !important; \r\n",
       "    margin: 0em 0px !important;\r\n",
       "} \r\n",
       "table th {\r\n",
       "    text-align: start;\r\n",
       "}\r\n",
       "</style>"
      ]
     },
     "metadata": {},
     "output_type": "display_data"
    }
   ],
   "source": [
    "cost\n",
    "|> priceAfterEarning2\n",
    "|> priceAfterTax2 "
   ]
  },
  {
   "attachments": {},
   "cell_type": "markdown",
   "metadata": {},
   "source": [
    "Que es equivalente a componer las funciones:"
   ]
  },
  {
   "cell_type": "code",
   "execution_count": 17,
   "metadata": {
    "dotnet_interactive": {
     "language": "fsharp"
    },
    "polyglot_notebook": {
     "kernelName": "fsharp"
    },
    "vscode": {
     "languageId": "polyglot-notebook"
    }
   },
   "outputs": [],
   "source": [
    "let finalPrice = priceAfterEarning2 >> priceAfterTax2 "
   ]
  },
  {
   "cell_type": "code",
   "execution_count": 18,
   "metadata": {
    "dotnet_interactive": {
     "language": "fsharp"
    },
    "polyglot_notebook": {
     "kernelName": "fsharp"
    },
    "vscode": {
     "languageId": "polyglot-notebook"
    }
   },
   "outputs": [
    {
     "name": "stdout",
     "output_type": "stream",
     "text": [
      "59.895\n"
     ]
    }
   ],
   "source": [
    "printfn \"%A\" (finalPrice cost)"
   ]
  }
 ],
 "metadata": {
  "language_info": {
   "name": "python"
  },
  "orig_nbformat": 4
 },
 "nbformat": 4,
 "nbformat_minor": 2
}
