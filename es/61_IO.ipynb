{
 "cells": [
  {
   "cell_type": "markdown",
   "metadata": {},
   "source": [
    "## Input/Output"
   ]
  },
  {
   "attachments": {},
   "cell_type": "markdown",
   "metadata": {},
   "source": [
    "Quizás una de las tareas principales de todo código es leer (y escribir) información en archivos. Para ello F# utiliza en su base las funciones que el ecosistema .NET ofrece, [con numerosas alternativas](). Veamos algunas de ellas:"
   ]
  },
  {
   "cell_type": "code",
   "execution_count": 1,
   "metadata": {
    "dotnet_interactive": {
     "language": "fsharp"
    },
    "polyglot_notebook": {
     "kernelName": "fsharp"
    },
    "vscode": {
     "languageId": "polyglot-notebook"
    }
   },
   "outputs": [],
   "source": [
    "let fileName = \"../data/El reloj de arena.txt\""
   ]
  },
  {
   "cell_type": "code",
   "execution_count": 3,
   "metadata": {
    "dotnet_interactive": {
     "language": "fsharp"
    },
    "polyglot_notebook": {
     "kernelName": "fsharp"
    },
    "vscode": {
     "languageId": "polyglot-notebook"
    }
   },
   "outputs": [],
   "source": [
    "let readFile (fileName: string) =  \n",
    "    let lines = File.ReadAllLines(fileName)\n",
    "    lines "
   ]
  },
  {
   "cell_type": "code",
   "execution_count": 4,
   "metadata": {
    "dotnet_interactive": {
     "language": "fsharp"
    },
    "polyglot_notebook": {
     "kernelName": "fsharp"
    },
    "vscode": {
     "languageId": "polyglot-notebook"
    }
   },
   "outputs": [],
   "source": [
    "let lines = readFile fileName "
   ]
  },
  {
   "attachments": {},
   "cell_type": "markdown",
   "metadata": {},
   "source": [
    "La función `ReadAllLines` devuelve una secuencia, donde cada línea es un elemento:"
   ]
  },
  {
   "cell_type": "code",
   "execution_count": 5,
   "metadata": {
    "dotnet_interactive": {
     "language": "fsharp"
    },
    "polyglot_notebook": {
     "kernelName": "fsharp"
    },
    "vscode": {
     "languageId": "polyglot-notebook"
    }
   },
   "outputs": [
    {
     "name": "stdout",
     "output_type": "stream",
     "text": [
      "0: El reloj de arena \n",
      "1: JLB\n",
      "2: \n",
      "3: Está bien que se mida con la dura\n",
      "4: Sombra que una columna en el estío\n",
      "5: Arroja o con el agua de aquel río\n",
      "6: En que Heráclito vio nuestra locura\n",
      "7: \n",
      "8: El tiempo, ya que al tiempo y al destino\n",
      "9: Se parecen los dos: la imponderable\n",
      "10: Sombra diurna y el curso irrevocable\n",
      "11: Del agua que prosigue su camino.\n",
      "12: \n",
      "13: Está bien, pero el tiempo en los desiertos\n",
      "14: Otra substancia halló, suave y pesada,\n",
      "15: Que parece haber sido imaginada\n",
      "16: Para medir el tiempo de los muertos.\n",
      "17: \n",
      "18: Surge así el alegórico instrumento\n",
      "19: De los grabados de los diccionarios,\n",
      "20: La pieza que los grises anticuarios\n",
      "21: Relegarán al mundo ceniciento\n",
      "22: \n",
      "23: Del alfil desparejo, de la espada\n",
      "24: Inerme, del borroso telescopio,\n",
      "25: Del sándalo mordido por el opio\n",
      "26: Del polvo, del azar y de la nada.\n",
      "27: \n",
      "28: ¿Quién no se ha demorado ante el severo\n",
      "29: Y tétrico instrumento que acompaña\n",
      "30: En la diestra del dios a la guadaña\n",
      "31: Y cuyas líneas repitió Durero?\n",
      "32: \n",
      "33: Por el ápice abierto el cono inverso\n",
      "34: Deja caer la cautelosa arena,\n",
      "35: Oro gradual que se desprende y llena\n",
      "36: El cóncavo cristal de su universo.\n",
      "37: \n",
      "38: Hay un agrado en observar la arcana\n",
      "39: Arena que resbala y que declina\n",
      "40: Y, a punto de caer, se arremolina\n",
      "41: Con una prisa que es del todo humana.\n",
      "42: \n",
      "43: La arena de los ciclos es la misma\n",
      "44: E infinita es la historia de la arena;\n",
      "45: Así, bajo tus dichas o tu pena,\n",
      "46: La invulnerable eternidad se abisma.\n",
      "47: \n",
      "48: No se detiene nunca la caída\n",
      "49: Yo me desangro, no el cristal. El rito\n",
      "50: De decantar la arena es infinito\n",
      "51: Y con la arena se nos va la vida.\n",
      "52: \n",
      "53: En los minutos de la arena creo\n",
      "54: Sentir el tiempo cósmico: la historia\n",
      "55: Que encierra en sus espejos la memoria\n",
      "56: O que ha disuelto el mágico Leteo.\n",
      "57: \n",
      "58: El pilar de humo y el pilar de fuego,\n",
      "59: Cartago y Roma y su apretada guerra,\n",
      "60: Simón Mago, los siete pies de tierra\n",
      "61: Que el rey sajón ofrece al rey noruego,\n",
      "62: \n",
      "63: Todo lo arrastra y pierde este incansable\n",
      "64: Hilo sutil de arena numerosa.\n",
      "65: No he de salvarme yo, fortuita cosa\n",
      "66: De tiempo, que es materia deleznable.\n"
     ]
    }
   ],
   "source": [
    "lines\n",
    "|> Seq.iteri (fun i l -> printfn \"%d: %s\" i l)"
   ]
  },
  {
   "cell_type": "code",
   "execution_count": 17,
   "metadata": {
    "dotnet_interactive": {
     "language": "fsharp"
    },
    "polyglot_notebook": {
     "kernelName": "fsharp"
    },
    "vscode": {
     "languageId": "polyglot-notebook"
    }
   },
   "outputs": [
    {
     "name": "stdout",
     "output_type": "stream",
     "text": [
      "0: El tiempo, ya que al tiempo y al destino\n",
      "1: Está bien, pero el tiempo en los desiertos\n",
      "2: Para medir el tiempo de los muertos.\n",
      "3: Sentir el tiempo cósmico: la historia\n",
      "4: De tiempo, que es materia deleznable.\n"
     ]
    }
   ],
   "source": [
    "lines\n",
    "|> Seq.where (fun l -> l.Contains(\"tiempo\"))\n",
    "|> Seq.iteri (fun i l -> printfn \"%d: %s\" i l)"
   ]
  },
  {
   "attachments": {},
   "cell_type": "markdown",
   "metadata": {},
   "source": [
    "Utilizando algunos métodos de `seq`, podemos procesar el poema y separarlo en estrofas:"
   ]
  },
  {
   "cell_type": "code",
   "execution_count": 6,
   "metadata": {
    "dotnet_interactive": {
     "language": "fsharp"
    },
    "polyglot_notebook": {
     "kernelName": "fsharp"
    },
    "vscode": {
     "languageId": "polyglot-notebook"
    }
   },
   "outputs": [
    {
     "name": "stdout",
     "output_type": "stream",
     "text": [
      "1: seq\n",
      "  [\"Está bien que se mida con la dura\"; \"Sombra que una columna en el estío\";\n",
      "   \"Arroja o con el agua de aquel río\"; \"En que Heráclito vio nuestra locura\"]\n",
      "2: seq\n",
      "  [\"El tiempo, ya que al tiempo y al destino\";\n",
      "   \"Se parecen los dos: la imponderable\"; \"Sombra diurna y el curso irrevocable\";\n",
      "   \"Del agua que prosigue su camino.\"]\n",
      "3: seq\n",
      "  [\"Está bien, pero el tiempo en los desiertos\";\n",
      "   \"Otra substancia halló, suave y pesada,\"; \"Que parece haber sido imaginada\";\n",
      "   \"Para medir el tiempo de los muertos.\"]\n",
      "4: seq\n",
      "  [\"Surge así el alegórico instrumento\"; \"De los grabados de los diccionarios,\";\n",
      "   \"La pieza que los grises anticuarios\"; \"Relegarán al mundo ceniciento\"]\n",
      "5: seq\n",
      "  [\"Del alfil desparejo, de la espada\"; \"Inerme, del borroso telescopio,\";\n",
      "   \"Del sándalo mordido por el opio\"; \"Del polvo, del azar y de la nada.\"]\n",
      "6: seq\n",
      "  [\"¿Quién no se ha demorado ante el severo\";\n",
      "   \"Y tétrico instrumento que acompaña\"; \"En la diestra del dios a la guadaña\";\n",
      "   \"Y cuyas líneas repitió Durero?\"]\n",
      "7: seq\n",
      "  [\"Por el ápice abierto el cono inverso\"; \"Deja caer la cautelosa arena,\";\n",
      "   \"Oro gradual que se desprende y llena\"; \"El cóncavo cristal de su universo.\"]\n",
      "8: seq\n",
      "  [\"Hay un agrado en observar la arcana\"; \"Arena que resbala y que declina\";\n",
      "   \"Y, a punto de caer, se arremolina\"; \"Con una prisa que es del todo humana.\"]\n",
      "9: seq\n",
      "  [\"La arena de los ciclos es la misma\";\n",
      "   \"E infinita es la historia de la arena;\"; \"Así, bajo tus dichas o tu pena,\";\n",
      "   \"La invulnerable eternidad se abisma.\"]\n",
      "10: seq\n",
      "  [\"No se detiene nunca la caída\"; \"Yo me desangro, no el cristal. El rito\";\n",
      "   \"De decantar la arena es infinito\"; \"Y con la arena se nos va la vida.\"]\n",
      "11: seq\n",
      "  [\"En los minutos de la arena creo\"; \"Sentir el tiempo cósmico: la historia\";\n",
      "   \"Que encierra en sus espejos la memoria\";\n",
      "   \"O que ha disuelto el mágico Leteo.\"]\n",
      "12: seq\n",
      "  [\"El pilar de humo y el pilar de fuego,\";\n",
      "   \"Cartago y Roma y su apretada guerra,\";\n",
      "   \"Simón Mago, los siete pies de tierra\";\n",
      "   \"Que el rey sajón ofrece al rey noruego,\"]\n",
      "13: seq\n",
      "  [\"Todo lo arrastra y pierde este incansable\"; \"Hilo sutil de arena numerosa.\";\n",
      "   \"No he de salvarme yo, fortuita cosa\";\n",
      "   \"De tiempo, que es materia deleznable.\"]\n"
     ]
    }
   ],
   "source": [
    "lines\n",
    "|> Seq.skip 3\n",
    "|> Seq.chunkBySize 5\n",
    "|> Seq.map (fun estrofa ->\n",
    "                estrofa \n",
    "                |> Seq.where (fun verso -> not (String.IsNullOrEmpty(verso)))\n",
    "                )\n",
    "|> Seq.mapi (fun i e -> (i+1,e))\n",
    "|> Seq.iter (fun (i,l) -> printfn \"%d: %A\" i l)"
   ]
  },
  {
   "attachments": {},
   "cell_type": "markdown",
   "metadata": {},
   "source": [
    "A diferencia de `ReadAllLines`, la función `ReadAllText` lee el archivo como un string"
   ]
  },
  {
   "cell_type": "code",
   "execution_count": 9,
   "metadata": {
    "dotnet_interactive": {
     "language": "fsharp"
    },
    "polyglot_notebook": {
     "kernelName": "fsharp"
    },
    "vscode": {
     "languageId": "polyglot-notebook"
    }
   },
   "outputs": [],
   "source": [
    "let readFileAsTxt (fileName: string) =  \n",
    "    let lines = File.ReadAllText(fileName)\n",
    "    lines "
   ]
  },
  {
   "cell_type": "code",
   "execution_count": 10,
   "metadata": {
    "dotnet_interactive": {
     "language": "fsharp"
    },
    "polyglot_notebook": {
     "kernelName": "fsharp"
    },
    "vscode": {
     "languageId": "polyglot-notebook"
    }
   },
   "outputs": [
    {
     "name": "stdout",
     "output_type": "stream",
     "text": [
      "\"El reloj de arena \n",
      "JLB\n",
      "\n",
      "Está bien que se mida con la dura\n",
      "Sombra que una columna en el estío\n",
      "Arroja o con el agua de aquel río\n",
      "En que Heráclito vio nuestra locura\n",
      "\n",
      "El tiempo, ya que al tiempo y al destino\n",
      "Se parecen los dos: la imponderable\n",
      "Sombra diurna y el curso irrevocable\n",
      "Del agua que prosigue su camino.\n",
      "\n",
      "Está bien, pero el tiempo en los desiertos\n",
      "Otra substancia halló, suave y pesada,\n",
      "Que parece haber sido imaginada\n",
      "Para medir el tiempo de los muertos.\n",
      "\n",
      "Surge así el alegórico instrumento\n",
      "De los grabados de los diccionarios,\n",
      "La pieza que los grises anticuarios\n",
      "Relegarán al mundo ceniciento\n",
      "\n",
      "Del alfil desparejo, de la espada\n",
      "Inerme, del borroso telescopio,\n",
      "Del sándalo mordido por el opio\n",
      "Del polvo, del azar y de la nada.\n",
      "\n",
      "¿Quién no se ha demorado ante el severo\n",
      "Y tétrico instrumento que acompaña\n",
      "En la diestra del dios a la guadaña\n",
      "Y cuyas líneas repitió Durero?\n",
      "\n",
      "Por el ápice abierto el cono inverso\n",
      "Deja caer la cautelosa arena,\n",
      "Oro gradual que se desprende y llena\n",
      "El cóncavo cristal de su universo.\n",
      "\n",
      "Hay un agrado en observar la arcana\n",
      "Arena que resbala y que declina\n",
      "Y, a punto de caer, se arremolina\n",
      "Con una prisa que es del todo humana.\n",
      "\n",
      "La arena de los ciclos es la misma\n",
      "E infinita es la historia de la arena;\n",
      "Así, bajo tus dichas o tu pena,\n",
      "La invulnerable eternidad se abisma.\n",
      "\n",
      "No se detiene nunca la caída\n",
      "Yo me desangro, no el cristal. El rito\n",
      "De decantar la arena es infinito\n",
      "Y con la arena se nos va la vida.\n",
      "\n",
      "En los minutos de la arena creo\n",
      "Sentir el tiempo cósmico: la historia\n",
      "Que encierra en sus espejos la memoria\n",
      "O que ha disuelto el mágico Leteo.\n",
      "\n",
      "El pilar de humo y el pilar de fuego,\n",
      "Cartago y Roma y su apretada guerra,\n",
      "Simón Mago, los siete pies de tierra\n",
      "Que el rey sajón ofrece al rey noruego,\n",
      "\n",
      "Todo lo arrastra y pierde este incansable\n",
      "Hilo sutil de arena numerosa.\n",
      "No he de salvarme yo, fortuita cosa\n",
      "De tiempo, que es materia deleznable.\"\n"
     ]
    }
   ],
   "source": [
    "let poema = readFileAsTxt fileName\n",
    "printfn \"%A\" poema"
   ]
  },
  {
   "attachments": {},
   "cell_type": "markdown",
   "metadata": {},
   "source": [
    "Entonces, podemos usar el método `Split` del módulo `System.String` para separar el texto en versos usando el caracter `\\n` (final de línea):"
   ]
  },
  {
   "cell_type": "code",
   "execution_count": 11,
   "metadata": {
    "dotnet_interactive": {
     "language": "fsharp"
    },
    "polyglot_notebook": {
     "kernelName": "fsharp"
    },
    "vscode": {
     "languageId": "polyglot-notebook"
    }
   },
   "outputs": [
    {
     "name": "stdout",
     "output_type": "stream",
     "text": [
      "[|\"El reloj de arena \"; \"JLB\"; \"\"; \"Está bien que se mida con la dura\";\n",
      "  \"Sombra que una columna en el estío\"; \"Arroja o con el agua de aquel río\";\n",
      "  \"En que Heráclito vio nuestra locura\"; \"\";\n",
      "  \"El tiempo, ya que al tiempo y al destino\";\n",
      "  \"Se parecen los dos: la imponderable\"; \"Sombra diurna y el curso irrevocable\";\n",
      "  \"Del agua que prosigue su camino.\"; \"\";\n",
      "  \"Está bien, pero el tiempo en los desiertos\";\n",
      "  \"Otra substancia halló, suave y pesada,\"; \"Que parece haber sido imaginada\";\n",
      "  \"Para medir el tiempo de los muertos.\"; \"\";\n",
      "  \"Surge así el alegórico instrumento\"; \"De los grabados de los diccionarios,\";\n",
      "  \"La pieza que los grises anticuarios\"; \"Relegarán al mundo ceniciento\"; \"\";\n",
      "  \"Del alfil desparejo, de la espada\"; \"Inerme, del borroso telescopio,\";\n",
      "  \"Del sándalo mordido por el opio\"; \"Del polvo, del azar y de la nada.\"; \"\";\n",
      "  \"¿Quién no se ha demorado ante el severo\";\n",
      "  \"Y tétrico instrumento que acompaña\"; \"En la diestra del dios a la guadaña\";\n",
      "  \"Y cuyas líneas repitió Durero?\"; \"\"; \"Por el ápice abierto el cono inverso\";\n",
      "  \"Deja caer la cautelosa arena,\"; \"Oro gradual que se desprende y llena\";\n",
      "  \"El cóncavo cristal de su universo.\"; \"\";\n",
      "  \"Hay un agrado en observar la arcana\"; \"Arena que resbala y que declina\";\n",
      "  \"Y, a punto de caer, se arremolina\"; \"Con una prisa que es del todo humana.\";\n",
      "  \"\"; \"La arena de los ciclos es la misma\";\n",
      "  \"E infinita es la historia de la arena;\"; \"Así, bajo tus dichas o tu pena,\";\n",
      "  \"La invulnerable eternidad se abisma.\"; \"\"; \"No se detiene nunca la caída\";\n",
      "  \"Yo me desangro, no el cristal. El rito\"; \"De decantar la arena es infinito\";\n",
      "  \"Y con la arena se nos va la vida.\"; \"\"; \"En los minutos de la arena creo\";\n",
      "  \"Sentir el tiempo cósmico: la historia\";\n",
      "  \"Que encierra en sus espejos la memoria\"; \"O que ha disuelto el mágico Leteo.\";\n",
      "  \"\"; \"El pilar de humo y el pilar de fuego,\";\n",
      "  \"Cartago y Roma y su apretada guerra,\"; \"Simón Mago, los siete pies de tierra\";\n",
      "  \"Que el rey sajón ofrece al rey noruego,\"; \"\";\n",
      "  \"Todo lo arrastra y pierde este incansable\"; \"Hilo sutil de arena numerosa.\";\n",
      "  \"No he de salvarme yo, fortuita cosa\"; \"De tiempo, que es materia deleznable.\"|]\n"
     ]
    }
   ],
   "source": [
    "let p = poema.Split(\"\\n\")\n",
    "printfn \"%A\" p"
   ]
  },
  {
   "attachments": {},
   "cell_type": "markdown",
   "metadata": {},
   "source": [
    "Otra manera de leer sería:"
   ]
  },
  {
   "cell_type": "code",
   "execution_count": 12,
   "metadata": {
    "dotnet_interactive": {
     "language": "fsharp"
    },
    "polyglot_notebook": {
     "kernelName": "fsharp"
    },
    "vscode": {
     "languageId": "polyglot-notebook"
    }
   },
   "outputs": [],
   "source": [
    "let linesOfFile = \n",
    "    seq {\n",
    "        use reader = new StreamReader(File.OpenRead(\"../data/The Beatles songs dataset.csv\"))\n",
    "        while not reader.EndOfStream do\n",
    "                yield reader.ReadLine()\n",
    "    }"
   ]
  },
  {
   "attachments": {},
   "cell_type": "markdown",
   "metadata": {},
   "source": [
    "### Escribiendo en archivos\n",
    "\n",
    "Vamos a editar un poco el poema para que se pueda ver como Markdown. "
   ]
  },
  {
   "cell_type": "code",
   "execution_count": 13,
   "metadata": {
    "dotnet_interactive": {
     "language": "fsharp"
    },
    "polyglot_notebook": {
     "kernelName": "fsharp"
    },
    "vscode": {
     "languageId": "polyglot-notebook"
    }
   },
   "outputs": [
    {
     "name": "stdout",
     "output_type": "stream",
     "text": [
      "El reloj de arena \n",
      "JLB\n",
      "\n",
      "Está bien que se mida con la dura\n",
      "Sombra que una columna en el estío\n",
      "Arroja o con el agua de aquel río\n",
      "En que Heráclito vio nuestra locura\n",
      "\n",
      "El _tiempo_, ya que al _tiempo_ y al destino\n",
      "Se parecen los dos: la imponderable\n",
      "Sombra diurna y el curso irrevocable\n",
      "Del agua que prosigue su camino.\n",
      "\n",
      "Está bien, pero el _tiempo_ en los desiertos\n",
      "Otra substancia halló, suave y pesada,\n",
      "Que parece haber sido imaginada\n",
      "Para medir el _tiempo_ de los muertos.\n",
      "\n",
      "Surge así el alegórico instrumento\n",
      "De los grabados de los diccionarios,\n",
      "La pieza que los grises anticuarios\n",
      "Relegarán al mundo ceniciento\n",
      "\n",
      "Del alfil desparejo, de la espada\n",
      "Inerme, del borroso telescopio,\n",
      "Del sándalo mordido por el opio\n",
      "Del polvo, del azar y de la nada.\n",
      "\n",
      "¿Quién no se ha demorado ante el severo\n",
      "Y tétrico instrumento que acompaña\n",
      "En la diestra del dios a la guadaña\n",
      "Y cuyas líneas repitió Durero?\n",
      "\n",
      "Por el ápice abierto el cono inverso\n",
      "Deja caer la cautelosa arena,\n",
      "Oro gradual que se desprende y llena\n",
      "El cóncavo cristal de su universo.\n",
      "\n",
      "Hay un agrado en observar la arcana\n",
      "Arena que resbala y que declina\n",
      "Y, a punto de caer, se arremolina\n",
      "Con una prisa que es del todo humana.\n",
      "\n",
      "La arena de los ciclos es la misma\n",
      "E infinita es la historia de la arena;\n",
      "Así, bajo tus dichas o tu pena,\n",
      "La invulnerable eternidad se abisma.\n",
      "\n",
      "No se detiene nunca la caída\n",
      "Yo me desangro, no el cristal. El rito\n",
      "De decantar la arena es infinito\n",
      "Y con la arena se nos va la vida.\n",
      "\n",
      "En los minutos de la arena creo\n",
      "Sentir el _tiempo_ cósmico: la historia\n",
      "Que encierra en sus espejos la memoria\n",
      "O que ha disuelto el mágico Leteo.\n",
      "\n",
      "El pilar de humo y el pilar de fuego,\n",
      "Cartago y Roma y su apretada guerra,\n",
      "Simón Mago, los siete pies de tierra\n",
      "Que el rey sajón ofrece al rey noruego,\n",
      "\n",
      "Todo lo arrastra y pierde este incansable\n",
      "Hilo sutil de arena numerosa.\n",
      "No he de salvarme yo, fortuita cosa\n",
      "De _tiempo_, que es materia deleznable.\n"
     ]
    }
   ],
   "source": [
    "let poemaConFormato =\n",
    "    lines\n",
    "    |> Seq.map (fun l -> l.Replace(\"tiempo\",\"_tiempo_\")) // Cambiamos tiempo por itálica\n",
    "\n",
    "poemaConFormato\n",
    "|> Seq.iter (fun v -> printfn \"%s\" v)"
   ]
  },
  {
   "cell_type": "code",
   "execution_count": 14,
   "metadata": {
    "dotnet_interactive": {
     "language": "fsharp"
    },
    "polyglot_notebook": {
     "kernelName": "fsharp"
    },
    "vscode": {
     "languageId": "polyglot-notebook"
    }
   },
   "outputs": [],
   "source": [
    "File.WriteAllLines(\"../El reloj de arena.md\",poemaConFormato)"
   ]
  },
  {
   "attachments": {},
   "cell_type": "markdown",
   "metadata": {},
   "source": [
    "Para que quede escrito tal cual poema, tendríamos que agregar una línea vacía entre cada verso, porque una estrofa tal como está en el archivo quedaría así\n",
    "\n",
    "> El _tiempo_, ya que al _tiempo_ y al destino\n",
    "Se parecen los dos: la imponderable\n",
    "Sombra diurna y el curso irrevocable\n",
    "Del agua que prosigue su camino.\n",
    "\n",
    "Una manera es intercalar una línea vacía entre cada verso:"
   ]
  },
  {
   "cell_type": "code",
   "execution_count": 15,
   "metadata": {
    "dotnet_interactive": {
     "language": "fsharp"
    },
    "polyglot_notebook": {
     "kernelName": "fsharp"
    },
    "vscode": {
     "languageId": "polyglot-notebook"
    }
   },
   "outputs": [
    {
     "name": "stdout",
     "output_type": "stream",
     "text": [
      "El reloj de arena \n",
      "\n",
      "JLB\n",
      "\n",
      "\n",
      "\n",
      "Está bien que se mida con la dura\n",
      "\n",
      "Sombra que una columna en el estío\n",
      "\n",
      "Arroja o con el agua de aquel río\n",
      "\n",
      "En que Heráclito vio nuestra locura\n",
      "\n",
      "\n",
      "\n",
      "El _tiempo_, ya que al _tiempo_ y al destino\n",
      "\n",
      "Se parecen los dos: la imponderable\n",
      "\n",
      "Sombra diurna y el curso irrevocable\n",
      "\n",
      "Del agua que prosigue su camino.\n",
      "\n",
      "\n",
      "\n",
      "Está bien, pero el _tiempo_ en los desiertos\n",
      "\n",
      "Otra substancia halló, suave y pesada,\n",
      "\n",
      "Que parece haber sido imaginada\n",
      "\n",
      "Para medir el _tiempo_ de los muertos.\n",
      "\n",
      "\n",
      "\n",
      "Surge así el alegórico instrumento\n",
      "\n",
      "De los grabados de los diccionarios,\n",
      "\n",
      "La pieza que los grises anticuarios\n",
      "\n",
      "Relegarán al mundo ceniciento\n",
      "\n",
      "\n",
      "\n",
      "Del alfil desparejo, de la espada\n",
      "\n",
      "Inerme, del borroso telescopio,\n",
      "\n",
      "Del sándalo mordido por el opio\n",
      "\n",
      "Del polvo, del azar y de la nada.\n",
      "\n",
      "\n",
      "\n",
      "¿Quién no se ha demorado ante el severo\n",
      "\n",
      "Y tétrico instrumento que acompaña\n",
      "\n",
      "En la diestra del dios a la guadaña\n",
      "\n",
      "Y cuyas líneas repitió Durero?\n",
      "\n",
      "\n",
      "\n",
      "Por el ápice abierto el cono inverso\n",
      "\n",
      "Deja caer la cautelosa arena,\n",
      "\n",
      "Oro gradual que se desprende y llena\n",
      "\n",
      "El cóncavo cristal de su universo.\n",
      "\n",
      "\n",
      "\n",
      "Hay un agrado en observar la arcana\n",
      "\n",
      "Arena que resbala y que declina\n",
      "\n",
      "Y, a punto de caer, se arremolina\n",
      "\n",
      "Con una prisa que es del todo humana.\n",
      "\n",
      "\n",
      "\n",
      "La arena de los ciclos es la misma\n",
      "\n",
      "E infinita es la historia de la arena;\n",
      "\n",
      "Así, bajo tus dichas o tu pena,\n",
      "\n",
      "La invulnerable eternidad se abisma.\n",
      "\n",
      "\n",
      "\n",
      "No se detiene nunca la caída\n",
      "\n",
      "Yo me desangro, no el cristal. El rito\n",
      "\n",
      "De decantar la arena es infinito\n",
      "\n",
      "Y con la arena se nos va la vida.\n",
      "\n",
      "\n",
      "\n",
      "En los minutos de la arena creo\n",
      "\n",
      "Sentir el _tiempo_ cósmico: la historia\n",
      "\n",
      "Que encierra en sus espejos la memoria\n",
      "\n",
      "O que ha disuelto el mágico Leteo.\n",
      "\n",
      "\n",
      "\n",
      "El pilar de humo y el pilar de fuego,\n",
      "\n",
      "Cartago y Roma y su apretada guerra,\n",
      "\n",
      "Simón Mago, los siete pies de tierra\n",
      "\n",
      "Que el rey sajón ofrece al rey noruego,\n",
      "\n",
      "\n",
      "\n",
      "Todo lo arrastra y pierde este incansable\n",
      "\n",
      "Hilo sutil de arena numerosa.\n",
      "\n",
      "No he de salvarme yo, fortuita cosa\n",
      "\n",
      "De _tiempo_, que es materia deleznable.\n",
      "\n"
     ]
    }
   ],
   "source": [
    "let poemaConFormato2 =\n",
    "    lines\n",
    "    |> Seq.map (fun l -> l.Replace(\"tiempo\",\"_tiempo_\"))\n",
    "    |> Seq.map (fun l -> seq {l ; \"\"})\n",
    "    |> Seq.concat\n",
    "\n",
    "poemaConFormato2\n",
    "|> Seq.iter (fun v -> printfn \"%s\" v)    \n"
   ]
  },
  {
   "attachments": {},
   "cell_type": "markdown",
   "metadata": {},
   "source": [
    "O, siguiendo [estas instrucciones](https://www.markdowntutorial.com/lesson/7/), agregar dos espacios al final del texto."
   ]
  },
  {
   "cell_type": "code",
   "execution_count": 16,
   "metadata": {
    "dotnet_interactive": {
     "language": "fsharp"
    },
    "polyglot_notebook": {
     "kernelName": "fsharp"
    },
    "vscode": {
     "languageId": "polyglot-notebook"
    }
   },
   "outputs": [],
   "source": [
    "let poemaConFormato3 =\n",
    "    lines\n",
    "    |> Seq.map (fun l -> l.Replace(\"tiempo\",\"_tiempo_\"))\n",
    "    |> Seq.map (fun l -> l + \"  \")\n",
    "\n",
    "File.WriteAllLines(\"../data/El reloj de arena 2.md\",poemaConFormato3)"
   ]
  },
  {
   "attachments": {},
   "cell_type": "markdown",
   "metadata": {},
   "source": [
    "Para aprender más sobre IO, pueden ver [este blog de Ángel Muñoz](https://dev.to/tunaxor/doing-some-io-in-f-4agg)."
   ]
  }
 ],
 "metadata": {
  "language_info": {
   "name": "python"
  },
  "orig_nbformat": 4
 },
 "nbformat": 4,
 "nbformat_minor": 2
}
