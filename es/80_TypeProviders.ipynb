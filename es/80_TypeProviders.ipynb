{
 "cells": [
  {
   "cell_type": "markdown",
   "metadata": {},
   "source": [
    "## Type providers"
   ]
  },
  {
   "attachments": {},
   "cell_type": "markdown",
   "metadata": {},
   "source": [
    "Continuando con la lectura de archivos de datos estructurados, a veces no es posible (o es mucho trabajo) hacer el _parsing_ de los datos. Veamos un ejemplo en que esto ocurre:"
   ]
  },
  {
   "cell_type": "code",
   "execution_count": 3,
   "metadata": {
    "dotnet_interactive": {
     "language": "fsharp"
    },
    "polyglot_notebook": {
     "kernelName": "fsharp"
    }
   },
   "outputs": [],
   "source": [
    "let readFile(fileName: string) =  \n",
    "    let lines = File.ReadAllLines(fileName)\n",
    "    lines \n",
    "    "
   ]
  },
  {
   "attachments": {},
   "cell_type": "markdown",
   "metadata": {},
   "source": [
    "En este caso, tomamos datos de un archivo con canciones de los Beatles"
   ]
  },
  {
   "cell_type": "code",
   "execution_count": 4,
   "metadata": {
    "dotnet_interactive": {
     "language": "fsharp"
    },
    "polyglot_notebook": {
     "kernelName": "fsharp"
    }
   },
   "outputs": [],
   "source": [
    "let beatlesFile = \"../data/The Beatles songs dataset.csv\"\n",
    "\n",
    "let songs = readFile(beatlesFile)"
   ]
  },
  {
   "cell_type": "code",
   "execution_count": 5,
   "metadata": {
    "dotnet_interactive": {
     "language": "fsharp"
    },
    "polyglot_notebook": {
     "kernelName": "fsharp"
    }
   },
   "outputs": [
    {
     "data": {
      "text/html": [
       "<span><a href=\"https://docs.microsoft.com/dotnet/api/system.string[]?view=net-7.0\">System.String[]</a></span>"
      ]
     },
     "metadata": {},
     "output_type": "display_data"
    }
   ],
   "source": [
    "songs.GetType()"
   ]
  },
  {
   "cell_type": "code",
   "execution_count": 6,
   "metadata": {
    "dotnet_interactive": {
     "language": "fsharp"
    },
    "polyglot_notebook": {
     "kernelName": "fsharp"
    }
   },
   "outputs": [
    {
     "name": "stdout",
     "output_type": "stream",
     "text": [
      "\"Title,Year,Album.debut,Duration,Other.releases,Genre,Songwriter,Lead.vocal,Top.50.Billboard\"\n",
      "\"12-Bar Original,1965,Anthology 2,174,0,Blues,\"Lennon, McCartney, Harrison and Starkey\",,-1\"\n"
     ]
    }
   ],
   "source": [
    "printfn \"%A\" songs[0]\n",
    "printfn \"%A\" songs[1]"
   ]
  },
  {
   "cell_type": "code",
   "execution_count": 7,
   "metadata": {
    "dotnet_interactive": {
     "language": "fsharp"
    },
    "polyglot_notebook": {
     "kernelName": "fsharp"
    }
   },
   "outputs": [
    {
     "name": "stdout",
     "output_type": "stream",
     "text": [
      "0: Title,Year,Album.debut,Duration,Other.releases,Genre,Songwriter,Lead.vocal,Top.50.Billboard\n",
      "1: 12-Bar Original,1965,Anthology 2,174,0,Blues,\"Lennon, McCartney, Harrison and Starkey\",,-1\n",
      "2: A Day in the Life,1967,Sgt. Pepper's Lonely Hearts Club Band,335,12,\"Psychedelic Rock, Art Rock, Pop/Rock\",Lennon and McCartney,Lennon and McCartney,-1\n",
      "3: A Hard Day's Night,1964,UK: A Hard Day's Night US: 1962-1966,152,35,\"Rock, Electronic, Pop/Rock\",Lennon,\"Lennon, with McCartney\",8\n",
      "4: A Shot of Rhythm and Blues,1963,Live at the BBC,104,0,\"R&B, Pop/Rock\",Thompson,Lennon,-1\n",
      "5: A Taste of Honey,1963,UK: Please Please Me US: The Early Beatles,163,29,\"Pop/Rock, Jazz, Stage&Screen\",\"Scott, Marlow\",McCartney,-1\n",
      "6: Across the Universe,1968,Let It Be,230,19,\"Psychedelic folk, Pop/Rock\",Lennon,Lennon,-1\n",
      "7: Act Naturally,1965,UK: Help! US: Yesterday and Today,139,14,\"Country, Pop/Rock\",\"Russell, Morrison\",Starkey,50\n",
      "8: Ain't She Sweet,1961,Anthology 1,150,9,Pop/Rock,\"Yellen, Ager\",Lennon,41\n",
      "9: All I've Got to Do,1963,UK: With the Beatles US: Meet The Beatles!,124,9,Pop/Rock,Lennon,Lennon,-1\n",
      "10: All My Loving,1963,UK: With the Beatles US: Meet The Beatles!,124,32,Pop/Rock,McCartney,McCartney,-1\n",
      "11: All Things Must Pass,1969,Anthology 3,227,0,\"Folk Rock, Pop/Rock\",Harrison,Harrison,-1\n",
      "12: All Together Now,1967,Yellow Submarine,130,8,\"Skiffle, Pop/Rock\",\"McCartney, with Lennon\",\"McCartney, with Lennon\",-1\n",
      "13: All You Need Is Love,1967,Magical Mystery Tour,237,25,Pop/Rock,Lennon,Lennon,15\n",
      "14: And I Love Her,1964,UK: A Hard Day's Night US: Something New,152,29,Pop/Rock,\"McCartney, with Lennon\",McCartney,37\n",
      "15: And Your Bird Can Sing,1966,UK: Revolver US: Yesterday and Today,121,9,\"Power Pop, Psychedelic Pop, Pop/Rock\",\"Lennon, with McCartney\",Lennon,-1\n",
      "16: Anna (Go to Him),1963,UK: Please Please Me US: The Early Beatles,168,16,\"Soul, Pop/Rock\",Alexander,Lennon,-1\n",
      "17: Another Girl,1965,Help!,124,9,\"Country Rock, Pop/Rock\",McCartney,McCartney,-1\n",
      "18: Any Time at All,1964,UK: A Hard Day's Night US: Something New,133,15,Pop/Rock,\"Lennon, with McCartney\",\"Lennon, with McCartney\",-1\n",
      "19: Ask Me Why,1962,UK: Please Please Me US: The Early Beatles,144,24,Pop/Rock,\"Lennon, with McCartney\",Lennon,-1\n",
      "20: Baby It's You,1963,UK: Please Please Me US: The Early Beatles,162,17,Pop/Rock,\"Bacharach, David, Dixon\",Lennon,-1\n"
     ]
    }
   ],
   "source": [
    "songs[0..20]\n",
    "|> Seq.iteri  (fun i s->  printfn $\"{i}: {s}\")"
   ]
  },
  {
   "cell_type": "code",
   "execution_count": 8,
   "metadata": {
    "dotnet_interactive": {
     "language": "fsharp"
    },
    "polyglot_notebook": {
     "kernelName": "fsharp"
    }
   },
   "outputs": [
    {
     "name": "stdout",
     "output_type": "stream",
     "text": [
      "\"A Day in the Life,1967,Sgt. Pepper's Lonely Hearts Club Band,335,12,\"Psychedelic Rock, Art Rock, Pop/Rock\",Lennon and McCartney,Lennon and McCartney,-1\"\n",
      "[|\"A Day in the Life\"; \"1967\"; \"Sgt. Pepper's Lonely Hearts Club Band\"; \"335\";\n",
      "  \"12\"; \"\"Psychedelic Rock\"; \" Art Rock\"; \" Pop/Rock\"\"; \"Lennon and McCartney\";\n",
      "  \"Lennon and McCartney\"; \"-1\"|]\n"
     ]
    }
   ],
   "source": [
    "let song =   songs[2].Split(',')\n",
    "printfn \"%A\" songs[2]\n",
    "printfn \"%A\" song"
   ]
  },
  {
   "cell_type": "code",
   "execution_count": 9,
   "metadata": {
    "dotnet_interactive": {
     "language": "fsharp"
    },
    "polyglot_notebook": {
     "kernelName": "fsharp"
    }
   },
   "outputs": [
    {
     "data": {
      "text/html": [
       "<div class=\"dni-plaintext\"><pre>11</pre></div><style>\r\n",
       ".dni-code-hint {\r\n",
       "    font-style: italic;\r\n",
       "    overflow: hidden;\r\n",
       "    white-space: nowrap;\r\n",
       "}\r\n",
       ".dni-treeview {\r\n",
       "    white-space: nowrap;\r\n",
       "}\r\n",
       ".dni-treeview td {\r\n",
       "    vertical-align: top;\r\n",
       "    text-align: start;\r\n",
       "}\r\n",
       "details.dni-treeview {\r\n",
       "    padding-left: 1em;\r\n",
       "}\r\n",
       "table td {\r\n",
       "    text-align: start;\r\n",
       "}\r\n",
       "table tr { \r\n",
       "    vertical-align: top; \r\n",
       "    margin: 0em 0px;\r\n",
       "}\r\n",
       "table tr td pre \r\n",
       "{ \r\n",
       "    vertical-align: top !important; \r\n",
       "    margin: 0em 0px !important;\r\n",
       "} \r\n",
       "table th {\r\n",
       "    text-align: start;\r\n",
       "}\r\n",
       "</style>"
      ]
     },
     "metadata": {},
     "output_type": "display_data"
    }
   ],
   "source": [
    "song.Length"
   ]
  },
  {
   "attachments": {},
   "cell_type": "markdown",
   "metadata": {},
   "source": [
    "Uno puede consultar otros _parsers_, que los hay por doquier, por ejemplo [en esta página](https://www.joelverhagen.com/blog/2020/12/fastest-net-csv-parsers), pero, gracias al tipo de dato estático, existe una módulo que nos puede resolver el problema, a través de _type providers_."
   ]
  },
  {
   "attachments": {},
   "cell_type": "markdown",
   "metadata": {},
   "source": [
    "### Type Providers\n",
    "\n",
    "Un _type provider_  es una biblioteca que nos permite lidiar con tipos particulares datos:\n",
    "\n",
    "- [CSV type provider](http://fsprojects.github.io/FSharp.Data/library/CsvProvider.html).\n",
    "- [Html type provider](https://fsprojects.github.io/FSharp.Data/library/HtmlProvider.html).\n",
    "- [Json type provider](https://fsprojects.github.io/FSharp.Data/library/JsonProvider.html).\n",
    "\n",
    "son algunos ejemplos. \n",
    "\n",
    "La biblioteca `FSharp.Data` es la que usaremos para aprender a leer estos tipos de datos. En un notebook se importa de la siguiente manera:"
   ]
  },
  {
   "cell_type": "code",
   "execution_count": 1,
   "metadata": {
    "dotnet_interactive": {
     "language": "fsharp"
    },
    "polyglot_notebook": {
     "kernelName": "fsharp"
    }
   },
   "outputs": [
    {
     "data": {
      "text/html": [
       "<div><div></div><div></div><div><strong>Installed Packages</strong><ul><li><span>FSharp.Data, 6.4.0</span></li></ul></div></div>"
      ]
     },
     "metadata": {},
     "output_type": "display_data"
    }
   ],
   "source": [
    "#r \"nuget: FSharp.Data\"\n",
    "\n",
    "open FSharp.Data"
   ]
  },
  {
   "attachments": {},
   "cell_type": "markdown",
   "metadata": {},
   "source": [
    "Un _type provider_ genera un tipo de dato a partir de la información que lee desde un archivo. Esto ocurre en el momento de la compilación. Al momento de ejecutar el código, el tipo que se creó puede utilizarse para procesar los datos"
   ]
  },
  {
   "cell_type": "code",
   "execution_count": 11,
   "metadata": {
    "dotnet_interactive": {
     "language": "fsharp"
    },
    "polyglot_notebook": {
     "kernelName": "fsharp"
    }
   },
   "outputs": [],
   "source": [
    "type SongsTypeProvider = FSharp.Data.CsvProvider<\"../data/The Beatles songs dataset.csv\", HasHeaders=true>"
   ]
  },
  {
   "attachments": {},
   "cell_type": "markdown",
   "metadata": {},
   "source": [
    "El compilador (y la biblioteca `FSharp.Data`) construyen el _type provider_ utilizando el archivo \"../data/The Beatles songs dataset.csv\" como plantilla, descubriendo la estructura de los datos. \n",
    "\n",
    "Se puede obtener los datos propiamente dichos con:"
   ]
  },
  {
   "cell_type": "code",
   "execution_count": 12,
   "metadata": {
    "dotnet_interactive": {
     "language": "fsharp"
    },
    "polyglot_notebook": {
     "kernelName": "fsharp"
    }
   },
   "outputs": [],
   "source": [
    "let songs = SongsTypeProvider.GetSample()"
   ]
  },
  {
   "attachments": {},
   "cell_type": "markdown",
   "metadata": {},
   "source": [
    "De este modo, usamos el mismo archivo para crear el tipo y para obtener los datos. Sin embargo, se podría usar dos archivos diferentes, uno como plantilla y otro con los datos. En ese caso, llamamos al método  `.Load`: \n",
    "\n",
    "```fsharp\n",
    "type SongsTypeProvider = FSharp.Data.CsvProvider<\"myTemplateDataFile.csv\", HasHeaders=true>\n",
    "let songs = SongsTypeProvider.Load(\"myRealDataFile.csv\")\n",
    "```\n"
   ]
  },
  {
   "attachments": {},
   "cell_type": "markdown",
   "metadata": {},
   "source": [
    "Al crear el tipo de dato, el _type provider_ crea los campos para poder acceder a la información, por ejemplo"
   ]
  },
  {
   "cell_type": "code",
   "execution_count": 13,
   "metadata": {
    "dotnet_interactive": {
     "language": "fsharp"
    },
    "polyglot_notebook": {
     "kernelName": "fsharp"
    }
   },
   "outputs": [
    {
     "data": {
      "text/html": [
       "<details open=\"open\" class=\"dni-treeview\"><summary><span class=\"dni-code-hint\"><code>Some(System.String[])</code></span></summary><div><table><thead><tr></tr></thead><tbody><tr><td>Value</td><td><div class=\"dni-plaintext\"><pre>[ Title, Year, Album.debut, Duration, Other.releases, Genre, Songwriter, Lead.vocal, Top.50.Billboard ]</pre></div></td></tr></tbody></table></div></details><style>\r\n",
       ".dni-code-hint {\r\n",
       "    font-style: italic;\r\n",
       "    overflow: hidden;\r\n",
       "    white-space: nowrap;\r\n",
       "}\r\n",
       ".dni-treeview {\r\n",
       "    white-space: nowrap;\r\n",
       "}\r\n",
       ".dni-treeview td {\r\n",
       "    vertical-align: top;\r\n",
       "    text-align: start;\r\n",
       "}\r\n",
       "details.dni-treeview {\r\n",
       "    padding-left: 1em;\r\n",
       "}\r\n",
       "table td {\r\n",
       "    text-align: start;\r\n",
       "}\r\n",
       "table tr { \r\n",
       "    vertical-align: top; \r\n",
       "    margin: 0em 0px;\r\n",
       "}\r\n",
       "table tr td pre \r\n",
       "{ \r\n",
       "    vertical-align: top !important; \r\n",
       "    margin: 0em 0px !important;\r\n",
       "} \r\n",
       "table th {\r\n",
       "    text-align: start;\r\n",
       "}\r\n",
       "</style>"
      ]
     },
     "metadata": {},
     "output_type": "display_data"
    }
   ],
   "source": [
    "songs.Headers "
   ]
  },
  {
   "attachments": {},
   "cell_type": "markdown",
   "metadata": {},
   "source": [
    "nos da los encabezados de cada columna de los datos. Los datos propiamente dichos los encontramos en el campo `.Rows`: "
   ]
  },
  {
   "cell_type": "code",
   "execution_count": 14,
   "metadata": {
    "dotnet_interactive": {
     "language": "fsharp"
    },
    "polyglot_notebook": {
     "kernelName": "fsharp"
    }
   },
   "outputs": [
    {
     "name": "stdout",
     "output_type": "stream",
     "text": [
      "0: (12-Bar Original, 1965, Anthology 2, 174, 0, Blues, Lennon, McCartney, Harrison and Starkey, , -1)\n",
      "1: (A Day in the Life, 1967, Sgt. Pepper's Lonely Hearts Club Band, 335, 12, Psychedelic Rock, Art Rock, Pop/Rock, Lennon and McCartney, Lennon and McCartney, -1)\n",
      "2: (A Hard Day's Night, 1964, UK: A Hard Day's Night US: 1962-1966, 152, 35, Rock, Electronic, Pop/Rock, Lennon, Lennon, with McCartney, 8)\n",
      "3: (A Shot of Rhythm and Blues, 1963, Live at the BBC, 104, 0, R&B, Pop/Rock, Thompson, Lennon, -1)\n",
      "4: (A Taste of Honey, 1963, UK: Please Please Me US: The Early Beatles, 163, 29, Pop/Rock, Jazz, Stage&Screen, Scott, Marlow, McCartney, -1)\n",
      "5: (Across the Universe, 1968, Let It Be, 230, 19, Psychedelic folk, Pop/Rock, Lennon, Lennon, -1)\n",
      "6: (Act Naturally, 1965, UK: Help! US: Yesterday and Today, 139, 14, Country, Pop/Rock, Russell, Morrison, Starkey, 50)\n",
      "7: (Ain't She Sweet, 1961, Anthology 1, 150, 9, Pop/Rock, Yellen, Ager, Lennon, 41)\n",
      "8: (All I've Got to Do, 1963, UK: With the Beatles US: Meet The Beatles!, 124, 9, Pop/Rock, Lennon, Lennon, -1)\n",
      "9: (All My Loving, 1963, UK: With the Beatles US: Meet The Beatles!, 124, 32, Pop/Rock, McCartney, McCartney, -1)\n",
      "10: (All Things Must Pass, 1969, Anthology 3, 227, 0, Folk Rock, Pop/Rock, Harrison, Harrison, -1)\n",
      "11: (All Together Now, 1967, Yellow Submarine, 130, 8, Skiffle, Pop/Rock, McCartney, with Lennon, McCartney, with Lennon, -1)\n",
      "12: (All You Need Is Love, 1967, Magical Mystery Tour, 237, 25, Pop/Rock, Lennon, Lennon, 15)\n",
      "13: (And I Love Her, 1964, UK: A Hard Day's Night US: Something New, 152, 29, Pop/Rock, McCartney, with Lennon, McCartney, 37)\n",
      "14: (And Your Bird Can Sing, 1966, UK: Revolver US: Yesterday and Today, 121, 9, Power Pop, Psychedelic Pop, Pop/Rock, Lennon, with McCartney, Lennon, -1)\n",
      "15: (Anna (Go to Him), 1963, UK: Please Please Me US: The Early Beatles, 168, 16, Soul, Pop/Rock, Alexander, Lennon, -1)\n",
      "16: (Another Girl, 1965, Help!, 124, 9, Country Rock, Pop/Rock, McCartney, McCartney, -1)\n",
      "17: (Any Time at All, 1964, UK: A Hard Day's Night US: Something New, 133, 15, Pop/Rock, Lennon, with McCartney, Lennon, with McCartney, -1)\n",
      "18: (Ask Me Why, 1962, UK: Please Please Me US: The Early Beatles, 144, 24, Pop/Rock, Lennon, with McCartney, Lennon, -1)\n",
      "19: (Baby It's You, 1963, UK: Please Please Me US: The Early Beatles, 162, 17, Pop/Rock, Bacharach, David, Dixon, Lennon, -1)\n"
     ]
    }
   ],
   "source": [
    "songs.Rows\n",
    "|> Seq.take 20 \n",
    "|> Seq.iteri  (fun i s ->  printfn $\"{i}: {s}\")"
   ]
  },
  {
   "attachments": {},
   "cell_type": "markdown",
   "metadata": {},
   "source": [
    "A partir de los encabezados de las columnas, el _type provider_ construye los campos correspondientes a cada dato:"
   ]
  },
  {
   "cell_type": "code",
   "execution_count": 16,
   "metadata": {
    "dotnet_interactive": {
     "language": "fsharp"
    },
    "polyglot_notebook": {
     "kernelName": "fsharp"
    }
   },
   "outputs": [
    {
     "name": "stdout",
     "output_type": "stream",
     "text": [
      "0: 12-Bar Original by Lennon, McCartney, Harrison and Starkey (1965)\n",
      "1: A Day in the Life by Lennon and McCartney (1967)\n",
      "2: A Hard Day's Night by Lennon (1964)\n",
      "3: A Shot of Rhythm and Blues by Thompson (1963)\n",
      "4: A Taste of Honey by Scott, Marlow (1963)\n",
      "5: Across the Universe by Lennon (1968)\n",
      "6: Act Naturally by Russell, Morrison (1965)\n",
      "7: Ain't She Sweet by Yellen, Ager (1961)\n",
      "8: All I've Got to Do by Lennon (1963)\n",
      "9: All My Loving by McCartney (1963)\n"
     ]
    }
   ],
   "source": [
    "songs.Rows\n",
    "|> Seq.take 10 \n",
    "|> Seq.iteri  (fun i s ->  printfn $\"{i}: {s.Title} by {s.Songwriter} ({s.Year})\")"
   ]
  },
  {
   "cell_type": "code",
   "execution_count": 17,
   "metadata": {
    "dotnet_interactive": {
     "language": "fsharp"
    },
    "polyglot_notebook": {
     "kernelName": "fsharp"
    }
   },
   "outputs": [
    {
     "name": "stdout",
     "output_type": "stream",
     "text": [
      "0: 12-Bar Original by ><\n",
      "1: A Day in the Life by >Lennon and McCartney<\n",
      "2: A Hard Day's Night by >Lennon, with McCartney<\n",
      "3: A Shot of Rhythm and Blues by >Lennon<\n",
      "4: A Taste of Honey by >McCartney<\n",
      "5: Across the Universe by >Lennon<\n",
      "6: Act Naturally by >Starkey<\n",
      "7: Ain't She Sweet by >Lennon<\n",
      "8: All I've Got to Do by >Lennon<\n",
      "9: All My Loving by >McCartney<\n",
      "10: All Things Must Pass by >Harrison<\n",
      "11: All Together Now by >McCartney, with Lennon<\n",
      "12: All You Need Is Love by >Lennon<\n",
      "13: And I Love Her by >McCartney<\n",
      "14: And Your Bird Can Sing by >Lennon<\n",
      "15: Anna (Go to Him) by >Lennon<\n",
      "16: Another Girl by >McCartney<\n",
      "17: Any Time at All by >Lennon, with McCartney<\n",
      "18: Ask Me Why by >Lennon<\n",
      "19: Baby It's You by >Lennon<\n"
     ]
    }
   ],
   "source": [
    "songs.Rows\n",
    "|> Seq.take 20 \n",
    "|> Seq.iteri  (fun i s ->  printfn $\"{i}: {s.Title} by >{s.``Lead.vocal``}<\")"
   ]
  },
  {
   "cell_type": "code",
   "execution_count": 19,
   "metadata": {
    "dotnet_interactive": {
     "language": "fsharp"
    },
    "polyglot_notebook": {
     "kernelName": "fsharp"
    }
   },
   "outputs": [
    {
     "name": "stdout",
     "output_type": "stream",
     "text": [
      "Name:Hey Jude position 1\n"
     ]
    }
   ],
   "source": [
    "songs.Rows \n",
    "|> Seq.filter (fun r -> r.``Top.50.Billboard``=1)\n",
    "|> Seq.iter (fun r -> printfn $\"Name:{r.Title} position {r.``Top.50.Billboard``}\")\n"
   ]
  },
  {
   "cell_type": "code",
   "execution_count": 25,
   "metadata": {
    "dotnet_interactive": {
     "language": "fsharp"
    },
    "polyglot_notebook": {
     "kernelName": "fsharp"
    }
   },
   "outputs": [
    {
     "data": {
      "text/plain": [
       "All Things Must Pass"
      ]
     },
     "metadata": {},
     "output_type": "display_data"
    }
   ],
   "source": [
    "let s10 = songs.Rows |> Seq.item 10 \n",
    "s10.Title"
   ]
  },
  {
   "attachments": {},
   "cell_type": "markdown",
   "metadata": {},
   "source": [
    "#### Eligiendo separadores\n",
    "\n",
    "Se pueden especificar los separadores al momento de crear el tipo:\n",
    "```fsharp\n",
    "CsvProvider<\"../data/AirQuality.csv\", Separators=\";,\">\n",
    "```\n",
    "\n",
    "### Datos que faltan\n",
    "\n",
    "El _type provider_ tiene [ciertas reglas para tratar con datos que faltan](https://fsprojects.github.io/FSharp.Data/library/CsvProvider.html#Controlling-the-column-types). Por ejemplo, si el dato que se espera en alguna columna es un número, pero el archivo contiene `NaN`, al crear el dato el _type provider lo reportará como `Double.NaN`. \n",
    "\n",
    "Por otro lado, [podemos especificar qué `strings` queremos que se conviertan a `Nan`](https://fsprojects.github.io/FSharp.Data/library/CsvProvider.html#Missing-values):\n",
    "\n",
    "```fsharp \n",
    "CsvProvider<\"X,Y,Z\\nthis,that,1.0\", MissingValues=\"this,that\">\n",
    "    .GetSample()\n",
    "    .Rows\n",
    "```\n",
    "\n",
    "Además, si preferimos no utilizar las reglas del _type provider_, usamos `PreferOptionals=true` para que genere tipos `option` en el caso \n",
    "de datos faltantes:\n"
   ]
  },
  {
   "cell_type": "code",
   "execution_count": 20,
   "metadata": {
    "dotnet_interactive": {
     "language": "fsharp"
    },
    "polyglot_notebook": {
     "kernelName": "fsharp"
    }
   },
   "outputs": [
    {
     "name": "stdout",
     "output_type": "stream",
     "text": [
      "0: (12-Bar Original, 1965, Some(Anthology 2), 174, 0, Some(Blues), Lennon, McCartney, Harrison and Starkey, , -1)\n",
      "1: (A Day in the Life, 1967, Some(Sgt. Pepper's Lonely Hearts Club Band), 335, 12, Some(Psychedelic Rock, Art Rock, Pop/Rock), Lennon and McCartney, Some(Lennon and McCartney), -1)\n",
      "2: (A Hard Day's Night, 1964, Some(UK: A Hard Day's Night US: 1962-1966), 152, 35, Some(Rock, Electronic, Pop/Rock), Lennon, Some(Lennon, with McCartney), 8)\n",
      "3: (A Shot of Rhythm and Blues, 1963, Some(Live at the BBC), 104, 0, Some(R&B, Pop/Rock), Thompson, Some(Lennon), -1)\n",
      "4: (A Taste of Honey, 1963, Some(UK: Please Please Me US: The Early Beatles), 163, 29, Some(Pop/Rock, Jazz, Stage&Screen), Scott, Marlow, Some(McCartney), -1)\n"
     ]
    }
   ],
   "source": [
    "type SongsTypeProviderOpt = FSharp.Data.CsvProvider<\"../data/The Beatles songs dataset.csv\", HasHeaders=true, PreferOptionals=true>\n",
    "\n",
    "let songsWithOpt = SongsTypeProviderOpt.GetSample()\n",
    "\n",
    "songsWithOpt.Rows\n",
    "|> Seq.take 5\n",
    "|> Seq.iteri  (fun i s ->  printfn $\"{i}: {s}\")"
   ]
  },
  {
   "attachments": {},
   "cell_type": "markdown",
   "metadata": {},
   "source": [
    "### Html Provider\n",
    "\n",
    "También podemos obtener los datos de una página web usando un Html provider:"
   ]
  },
  {
   "cell_type": "code",
   "execution_count": 29,
   "metadata": {
    "dotnet_interactive": {
     "language": "fsharp"
    },
    "polyglot_notebook": {
     "kernelName": "fsharp"
    }
   },
   "outputs": [],
   "source": [
    "[<Literal>]\n",
    "let url = \"\"\"https://en.wikipedia.org/wiki/List_of_songs_recorded_by_the_Beatles\"\"\"\n",
    "\n",
    "type WebSongsTypeProvider = FSharp.Data.HtmlProvider<url>\n",
    "\n",
    "let songs = WebSongsTypeProvider.Load(\"https://en.wikipedia.org/wiki/List_of_songs_recorded_by_the_Beatles\")"
   ]
  },
  {
   "cell_type": "code",
   "execution_count": 30,
   "metadata": {
    "dotnet_interactive": {
     "language": "fsharp"
    },
    "polyglot_notebook": {
     "kernelName": "fsharp"
    }
   },
   "outputs": [
    {
     "data": {
      "text/html": [
       "<details open=\"open\" class=\"dni-treeview\"><summary><span class=\"dni-code-hint\"><code>FSharp.Data.Runtime.BaseTypes.HtmlDocument</code></span></summary><div><table><thead><tr></tr></thead><tbody><tr><td>Html</td><td><details class=\"dni-treeview\"><summary><span class=\"dni-code-hint\"><code>&lt;!DOCTYPE html&gt;\\n&lt;html class=&quot;client-nojs mf-expand-sections-clientpref-0 mf-font-size-clientpref-small mw-mf-amc-clientpref-0&quot; lang=&quot;en&quot; dir=&quot;ltr&quot;&gt;\\n  &lt;head&gt;\\n    &lt;meta charset=&quot;UTF-8&quot; /&gt;&lt;title&gt;List of songs recorded by the Beatles - Wikipedia&lt;/title&gt;&lt;script&gt;(function(){var className=&quot;client-js mf-...</code></span></summary><div><table><thead><tr></tr></thead><tbody><tr><td>_Print</td><td><div class=\"dni-plaintext\"><pre>&lt;!DOCTYPE html&gt;\n",
       "&lt;html class=&quot;client-nojs mf-expand-sections-clientpref-0 mf-font-size-clientpref-small mw-mf-amc-clientpref-0&quot; lang=&quot;en&quot; dir=&quot;ltr&quot;&gt;\n",
       "  &lt;head&gt;\n",
       "    &lt;meta charset=&quot;UTF-8&quot; /&gt;&lt;title&gt;List of songs recorded by the Beatles - Wikipedia&lt;/title&gt;&lt;script&gt;(function(){var className=&quot;client-js mf-expand-sections-clientpref-0 mf-font-size-clientpref-small mw-mf-amc-clientpref-0&quot;;var cookie=document.cookie.match(/(?:^|; )enwikimwclientpreferences=([^;]+)/);if(cookie){cookie[1].split(&#39;%2C&#39;).forEach(function(...</pre></div></td></tr></tbody></table></div></details></td></tr></tbody></table></div></details><style>\r\n",
       ".dni-code-hint {\r\n",
       "    font-style: italic;\r\n",
       "    overflow: hidden;\r\n",
       "    white-space: nowrap;\r\n",
       "}\r\n",
       ".dni-treeview {\r\n",
       "    white-space: nowrap;\r\n",
       "}\r\n",
       ".dni-treeview td {\r\n",
       "    vertical-align: top;\r\n",
       "    text-align: start;\r\n",
       "}\r\n",
       "details.dni-treeview {\r\n",
       "    padding-left: 1em;\r\n",
       "}\r\n",
       "table td {\r\n",
       "    text-align: start;\r\n",
       "}\r\n",
       "table tr { \r\n",
       "    vertical-align: top; \r\n",
       "    margin: 0em 0px;\r\n",
       "}\r\n",
       "table tr td pre \r\n",
       "{ \r\n",
       "    vertical-align: top !important; \r\n",
       "    margin: 0em 0px !important;\r\n",
       "} \r\n",
       "table th {\r\n",
       "    text-align: start;\r\n",
       "}\r\n",
       "</style>"
      ]
     },
     "metadata": {},
     "output_type": "display_data"
    }
   ],
   "source": [
    "songs.Tables"
   ]
  },
  {
   "cell_type": "code",
   "execution_count": 32,
   "metadata": {
    "dotnet_interactive": {
     "language": "fsharp"
    },
    "polyglot_notebook": {
     "kernelName": "fsharp"
    }
   },
   "outputs": [
    {
     "name": "stdout",
     "output_type": "stream",
     "text": [
      "Name:\"Back in the U.S.S.R.\" Year:1968\n",
      "Name:\"Birthday\" Year:1968\n",
      "Name:\"Blackbird\" Year:1968\n",
      "Name:\"The Continuing Story of Bungalow Bill\" Year:1968\n",
      "Name:\"Cry Baby Cry\" Year:1968\n",
      "Name:\"Dear Prudence\" Year:1968\n",
      "Name:\"Don't Pass Me By\" Year:1968\n",
      "Name:\"Everybody's Got Something to Hide Except Me and My Monkey\" Year:1968\n",
      "Name:\"Glass Onion\" Year:1968\n",
      "Name:\"Good Night\" Year:1968\n",
      "Name:\"Happiness Is a Warm Gun\" Year:1968\n",
      "Name:\"Helter Skelter\" Year:1968\n",
      "Name:\"Hey Jude\" # Year:1968\n",
      "Name:\"Honey Pie\" Year:1968\n",
      "Name:\"I Will\" Year:1968\n",
      "Name:\"I'm So Tired\" Year:1968\n",
      "Name:\"The Inner Light\" # Year:1968\n",
      "Name:\"Julia\" Year:1968\n",
      "Name:\"Lady Madonna\" # Year:1968\n",
      "Name:\"Long, Long, Long\" Year:1968\n",
      "Name:\"Martha My Dear\" Year:1968\n",
      "Name:\"Mother Nature's Son\" Year:1968\n",
      "Name:\"Ob-La-Di, Ob-La-Da\" Year:1968\n",
      "Name:\"Piggies\" Year:1968\n",
      "Name:\"Revolution\"[m] # Year:1968\n",
      "Name:\"Revolution 1\"[n] Year:1968\n",
      "Name:\"Revolution 9\"[o] Year:1968\n",
      "Name:\"Rocky Raccoon\" Year:1968\n",
      "Name:\"Savoy Truffle\" Year:1968\n",
      "Name:\"Sexy Sadie\" Year:1968\n",
      "Name:\"While My Guitar Gently Weeps\" Year:1968\n",
      "Name:\"Why Don't We Do It in the Road?\" Year:1968\n",
      "Name:\"Wild Honey Pie\" Year:1968\n",
      "Name:\"Yer Blues\" Year:1968\n"
     ]
    }
   ],
   "source": [
    "songs.Tables.``Main songsedit 3``.Rows\n",
    "|> Seq.map (fun r -> r.Song, r.Year)\n",
    "|> Seq.filter (fun (s,y) -> y=1968)\n",
    "|> Seq.iter (fun (s,y) -> printfn $\"Name:%s{s} Year:{y}\")\n"
   ]
  },
  {
   "attachments": {},
   "cell_type": "markdown",
   "metadata": {},
   "source": [
    "### Json Provider\n",
    "\n",
    "Finalmente, existe un _type provider_  para leer datos en formato JSON (JavaScript Object Notation), que es standard en la transmisión de información en internet."
   ]
  },
  {
   "cell_type": "code",
   "execution_count": 2,
   "metadata": {
    "dotnet_interactive": {
     "language": "fsharp"
    },
    "polyglot_notebook": {
     "kernelName": "fsharp"
    }
   },
   "outputs": [],
   "source": [
    "[<Literal>]\n",
    "let tvUrl = \"https://raw.githubusercontent.com/mganitombalak/training/master/DATA/tv-shows.json\""
   ]
  },
  {
   "cell_type": "code",
   "execution_count": 3,
   "metadata": {
    "dotnet_interactive": {
     "language": "fsharp"
    },
    "polyglot_notebook": {
     "kernelName": "fsharp"
    }
   },
   "outputs": [],
   "source": [
    "type TvListing = JsonProvider<tvUrl>\n",
    "let tvListing = TvListing.GetSamples()                                   \n"
   ]
  },
  {
   "cell_type": "code",
   "execution_count": 4,
   "metadata": {
    "dotnet_interactive": {
     "language": "fsharp"
    },
    "polyglot_notebook": {
     "kernelName": "fsharp"
    }
   },
   "outputs": [
    {
     "data": {
      "text/html": [
       "<div class=\"dni-plaintext\"><pre>240</pre></div><style>\r\n",
       ".dni-code-hint {\r\n",
       "    font-style: italic;\r\n",
       "    overflow: hidden;\r\n",
       "    white-space: nowrap;\r\n",
       "}\r\n",
       ".dni-treeview {\r\n",
       "    white-space: nowrap;\r\n",
       "}\r\n",
       ".dni-treeview td {\r\n",
       "    vertical-align: top;\r\n",
       "    text-align: start;\r\n",
       "}\r\n",
       "details.dni-treeview {\r\n",
       "    padding-left: 1em;\r\n",
       "}\r\n",
       "table td {\r\n",
       "    text-align: start;\r\n",
       "}\r\n",
       "table tr { \r\n",
       "    vertical-align: top; \r\n",
       "    margin: 0em 0px;\r\n",
       "}\r\n",
       "table tr td pre \r\n",
       "{ \r\n",
       "    vertical-align: top !important; \r\n",
       "    margin: 0em 0px !important;\r\n",
       "} \r\n",
       "table th {\r\n",
       "    text-align: start;\r\n",
       "}\r\n",
       "</style>"
      ]
     },
     "metadata": {},
     "output_type": "display_data"
    }
   ],
   "source": [
    "tvListing.Length"
   ]
  },
  {
   "cell_type": "code",
   "execution_count": 5,
   "metadata": {
    "dotnet_interactive": {
     "language": "fsharp"
    },
    "polyglot_notebook": {
     "kernelName": "fsharp"
    }
   },
   "outputs": [
    {
     "name": "stdout",
     "output_type": "stream",
     "text": [
      "\"Game of Thrones\": Some(9.4)\n",
      "\"Rick and Morty\": Some(9.4)\n",
      "\"Breaking Bad\": Some(9.3)\n",
      "\"The Wire\": Some(9.3)\n",
      "\"Firefly\": Some(9.3)\n",
      "\"Stargate SG-1\": Some(9.3)\n",
      "\"Berserk\": Some(9.2)\n",
      "\"Person of Interest\": Some(9)\n",
      "\"Fargo\": Some(9)\n",
      "\"House\": Some(9)\n",
      "\"Banshee\": Some(9)\n",
      "\"The Newsroom\": Some(8.9)\n",
      "\"Fringe\": Some(8.9)\n",
      "\"Battlestar Galactica\": Some(8.9)\n",
      "\"Stargate Atlantis\": Some(8.9)\n",
      "\"Vikings\": Some(8.8)\n",
      "\"Boardwalk Empire\": Some(8.8)\n",
      "\"Justified\": Some(8.8)\n",
      "\"Bob's Burgers\": Some(8.8)\n",
      "\"CSI: Crime Scene Investigation\": Some(8.8)\n"
     ]
    }
   ],
   "source": [
    "tvListing\n",
    "|> Seq.map (fun t -> (t.Name,t.Rating.Average))\n",
    "|> Seq.sortByDescending (fun (n,a) -> a)\n",
    "|> Seq.take 20\n",
    "|> Seq.iter (fun (n,a) -> printfn $\"{n}: {a}\")"
   ]
  },
  {
   "cell_type": "code",
   "execution_count": 6,
   "metadata": {
    "dotnet_interactive": {
     "language": "fsharp"
    },
    "polyglot_notebook": {
     "kernelName": "fsharp"
    }
   },
   "outputs": [
    {
     "data": {
      "text/html": [
       "<div class=\"dni-plaintext\"><pre>232</pre></div><style>\r\n",
       ".dni-code-hint {\r\n",
       "    font-style: italic;\r\n",
       "    overflow: hidden;\r\n",
       "    white-space: nowrap;\r\n",
       "}\r\n",
       ".dni-treeview {\r\n",
       "    white-space: nowrap;\r\n",
       "}\r\n",
       ".dni-treeview td {\r\n",
       "    vertical-align: top;\r\n",
       "    text-align: start;\r\n",
       "}\r\n",
       "details.dni-treeview {\r\n",
       "    padding-left: 1em;\r\n",
       "}\r\n",
       "table td {\r\n",
       "    text-align: start;\r\n",
       "}\r\n",
       "table tr { \r\n",
       "    vertical-align: top; \r\n",
       "    margin: 0em 0px;\r\n",
       "}\r\n",
       "table tr td pre \r\n",
       "{ \r\n",
       "    vertical-align: top !important; \r\n",
       "    margin: 0em 0px !important;\r\n",
       "} \r\n",
       "table th {\r\n",
       "    text-align: start;\r\n",
       "}\r\n",
       "</style>"
      ]
     },
     "metadata": {},
     "output_type": "display_data"
    }
   ],
   "source": [
    "tvListing\n",
    "|> Seq.map (fun t -> (t.Name,t.Rating.Average))\n",
    "|> Seq.choose (fun (n,a) -> a)\n",
    "|> Seq.length"
   ]
  },
  {
   "cell_type": "code",
   "execution_count": 9,
   "metadata": {
    "dotnet_interactive": {
     "language": "fsharp"
    },
    "polyglot_notebook": {
     "kernelName": "fsharp"
    }
   },
   "outputs": [
    {
     "name": "stdout",
     "output_type": "stream",
     "text": [
      "\"The Biggest Loser\"\n",
      "\"Mulaney\"\n",
      "\"Utopia\"\n",
      "\"The Chair\"\n",
      "\"Happyland\"\n",
      "\"The Great Fire\"\n",
      "\"Town of the Living Dead\"\n",
      "\"Long Shadow\"\n"
     ]
    }
   ],
   "source": [
    "tvListing\n",
    "|> Seq.map (fun t -> (t.Name,t.Rating.Average))\n",
    "|> Seq.filter (fun (n,a) -> \n",
    "                match a with \n",
    "                | Some a -> false\n",
    "                | None -> true\n",
    ")\n",
    "|> Seq.iter (fun (n,a) -> printfn $\"{n}\")\n",
    "// |> Seq.length"
   ]
  }
 ],
 "metadata": {
  "kernelspec": {
   "display_name": ".NET (C#)",
   "language": "C#",
   "name": ".net-csharp"
  },
  "language_info": {
   "name": "polyglot-notebook"
  },
  "orig_nbformat": 4,
  "polyglot_notebook": {
   "kernelInfo": {
    "defaultKernelName": "csharp",
    "items": [
     {
      "aliases": [],
      "name": "csharp"
     },
     {
      "aliases": [],
      "name": "fsharp"
     }
    ]
   }
  }
 },
 "nbformat": 4,
 "nbformat_minor": 2
}
