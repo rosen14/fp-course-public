{
 "cells": [
  {
   "attachments": {},
   "cell_type": "markdown",
   "metadata": {},
   "source": [
    "## Colecciones homogéneas\n",
    "\n",
    "La vida del programador sería muy aburrida si sólo se pudiera trabajar con entidades únicas. En la enorme mayoría de los casos, uno tiene colecciones de datos con los que tiene que desarrollar código. Si bien es posible construir agregados de datos usando los tipos algebraicos que posee F#, el lenguaje provee de distintas opciones para manejar colecciones de datos. F# no cuenta con una, sino con varios tipos de datos para manejar colecciones, que iremos viendo en las próximas clases. \n",
    "\n",
    "En F# las colecciones siempre son homogéneas, esto es, contienen el mismo tipo de dato. Por otra parte, el lenguaje provee de tipos de colecciones _inmutables_ (`list`, `seq`, `map`, `set`), excepto `Array` que puede ser mutable. \n",
    "\n",
    "El lenguaje provee de una variedad de métodos para trabajar con las colecciones como un todo, sin necesidad de tener que iterar para sacar provecho de las mismas."
   ]
  },
  {
   "attachments": {},
   "cell_type": "markdown",
   "metadata": {},
   "source": [
    "### Tipos y recursión\n",
    "\n",
    "Hemos visto cómo la recursión permite reemplazar el tradicional loop `for`. También es posible definir tipos recursivos. \n",
    "\n",
    "Por ejemplo, uno puede modelar los números naturales al [estilo de Peano](https://en.wikipedia.org/wiki/Peano_axioms):"
   ]
  },
  {
   "cell_type": "code",
   "execution_count": 1,
   "metadata": {
    "dotnet_interactive": {
     "language": "fsharp"
    },
    "polyglot_notebook": {
     "kernelName": "fsharp"
    },
    "vscode": {
     "languageId": "polyglot-notebook"
    }
   },
   "outputs": [],
   "source": [
    "type Peano = \n",
    "    | Zero \n",
    "    | Succ of Peano"
   ]
  },
  {
   "cell_type": "code",
   "execution_count": 2,
   "metadata": {
    "dotnet_interactive": {
     "language": "fsharp"
    },
    "polyglot_notebook": {
     "kernelName": "fsharp"
    },
    "vscode": {
     "languageId": "polyglot-notebook"
    }
   },
   "outputs": [
    {
     "name": "stdout",
     "output_type": "stream",
     "text": [
      "Succ Zero\n",
      "Succ (Succ Zero)\n"
     ]
    }
   ],
   "source": [
    "let one = Succ Zero \n",
    "let two = Succ(Succ(Zero))\n",
    "\n",
    "printfn \"%A\" one\n",
    "printfn \"%A\" two\n"
   ]
  },
  {
   "attachments": {},
   "cell_type": "markdown",
   "metadata": {},
   "source": [
    "Al igual que la recursión en algoritmos, los tipos recursivos siempre tienen uno o más casos _base_, y luego uno o más casos recursivos. \n",
    "\n",
    "Con esta posibilidad, podemos construir un tipo de dato recursivo que corresponda a una lista enlazada (_linked list_), donde cada nodo de la lista contiene un elemento y el resto de la lista:"
   ]
  },
  {
   "cell_type": "code",
   "execution_count": 3,
   "metadata": {
    "dotnet_interactive": {
     "language": "fsharp"
    },
    "polyglot_notebook": {
     "kernelName": "fsharp"
    },
    "vscode": {
     "languageId": "polyglot-notebook"
    }
   },
   "outputs": [],
   "source": [
    "type MyList =\n",
    "    | Empty\n",
    "    | Cons of int * MyList "
   ]
  },
  {
   "cell_type": "code",
   "execution_count": 4,
   "metadata": {
    "dotnet_interactive": {
     "language": "fsharp"
    },
    "polyglot_notebook": {
     "kernelName": "fsharp"
    },
    "vscode": {
     "languageId": "polyglot-notebook"
    }
   },
   "outputs": [
    {
     "name": "stdout",
     "output_type": "stream",
     "text": [
      "Cons (1, Cons (2, Cons (3, Empty)))\n"
     ]
    }
   ],
   "source": [
    "let emptyList  = Empty\n",
    "\n",
    "let singletonList = Cons (3, Empty)\n",
    "\n",
    "let exampleList = Cons (1, Cons (2, Cons (3, Empty)))\n",
    "\n",
    "printfn \"%A\" exampleList"
   ]
  },
  {
   "attachments": {},
   "cell_type": "markdown",
   "metadata": {},
   "source": [
    "Por supuesto que uno necesitaría de algunas funciones como para poblar esta lista. Por ejemplo, `replicate x n` crea una lista de longitud `n` con el mismo elemento `x`: "
   ]
  },
  {
   "cell_type": "code",
   "execution_count": 5,
   "metadata": {
    "dotnet_interactive": {
     "language": "fsharp"
    },
    "polyglot_notebook": {
     "kernelName": "fsharp"
    },
    "vscode": {
     "languageId": "polyglot-notebook"
    }
   },
   "outputs": [],
   "source": [
    "let rec replicate x n =\n",
    "    if n = 0 then\n",
    "        Empty \n",
    "    else\n",
    "        Cons(x, replicate x (n - 1))"
   ]
  },
  {
   "cell_type": "code",
   "execution_count": 6,
   "metadata": {
    "dotnet_interactive": {
     "language": "fsharp"
    },
    "polyglot_notebook": {
     "kernelName": "fsharp"
    },
    "vscode": {
     "languageId": "polyglot-notebook"
    }
   },
   "outputs": [
    {
     "data": {
      "text/html": [
       "<details open=\"open\" class=\"dni-treeview\"><summary><span class=\"dni-code-hint\"><code>Cons (1, Cons (1, Cons (1, Cons (1, Empty))))</code></span></summary><div><table><thead><tr></tr></thead><tbody><tr><td>Item1</td><td><div class=\"dni-plaintext\"><pre>1</pre></div></td></tr><tr><td>Item2</td><td><details class=\"dni-treeview\"><summary><span class=\"dni-code-hint\"><code>Cons (1, Cons (1, Cons (1, Empty)))</code></span></summary><div><table><thead><tr></tr></thead><tbody><tr><td>Item1</td><td><div class=\"dni-plaintext\"><pre>1</pre></div></td></tr><tr><td>Item2</td><td><details class=\"dni-treeview\"><summary><span class=\"dni-code-hint\"><code>Cons (1, Cons (1, Empty))</code></span></summary><div><table><thead><tr></tr></thead><tbody><tr><td>Item1</td><td><div class=\"dni-plaintext\"><pre>1</pre></div></td></tr><tr><td>Item2</td><td><details class=\"dni-treeview\"><summary><span class=\"dni-code-hint\"><code>Cons (1, Empty)</code></span></summary><div><table><thead><tr></tr></thead><tbody><tr><td>Item1</td><td><div class=\"dni-plaintext\"><pre>1</pre></div></td></tr><tr><td>Item2</td><td><details class=\"dni-treeview\"><summary><span class=\"dni-code-hint\"><code>Empty</code></span></summary><div><table><thead><tr></tr></thead><tbody></tbody></table></div></details></td></tr></tbody></table></div></details></td></tr></tbody></table></div></details></td></tr></tbody></table></div></details></td></tr></tbody></table></div></details><style>\r\n",
       ".dni-code-hint {\r\n",
       "    font-style: italic;\r\n",
       "    overflow: hidden;\r\n",
       "    white-space: nowrap;\r\n",
       "}\r\n",
       ".dni-treeview {\r\n",
       "    white-space: nowrap;\r\n",
       "}\r\n",
       ".dni-treeview td {\r\n",
       "    vertical-align: top;\r\n",
       "    text-align: start;\r\n",
       "}\r\n",
       "details.dni-treeview {\r\n",
       "    padding-left: 1em;\r\n",
       "}\r\n",
       "table td {\r\n",
       "    text-align: start;\r\n",
       "}\r\n",
       "table tr { \r\n",
       "    vertical-align: top; \r\n",
       "    margin: 0em 0px;\r\n",
       "}\r\n",
       "table tr td pre \r\n",
       "{ \r\n",
       "    vertical-align: top !important; \r\n",
       "    margin: 0em 0px !important;\r\n",
       "} \r\n",
       "table th {\r\n",
       "    text-align: start;\r\n",
       "}\r\n",
       "</style>"
      ]
     },
     "metadata": {},
     "output_type": "display_data"
    }
   ],
   "source": [
    "replicate 1 4"
   ]
  },
  {
   "attachments": {},
   "cell_type": "markdown",
   "metadata": {},
   "source": [
    "O también se podría crear una lista de n elementos desde el 0 hasta el n-1:"
   ]
  },
  {
   "cell_type": "code",
   "execution_count": 7,
   "metadata": {
    "dotnet_interactive": {
     "language": "fsharp"
    },
    "polyglot_notebook": {
     "kernelName": "fsharp"
    },
    "vscode": {
     "languageId": "polyglot-notebook"
    }
   },
   "outputs": [],
   "source": [
    "let initList n =\n",
    "\n",
    "    let rec loop i n = \n",
    "        if n = 0 then\n",
    "            Empty\n",
    "        else\n",
    "            if (i<n) then \n",
    "                Cons(i, loop (i+1) n )\n",
    "            else \n",
    "                Cons(n,Empty)\n",
    "\n",
    "\n",
    "    loop 0 (n-1) "
   ]
  },
  {
   "cell_type": "code",
   "execution_count": 8,
   "metadata": {
    "dotnet_interactive": {
     "language": "fsharp"
    },
    "polyglot_notebook": {
     "kernelName": "fsharp"
    },
    "vscode": {
     "languageId": "polyglot-notebook"
    }
   },
   "outputs": [
    {
     "name": "stdout",
     "output_type": "stream",
     "text": [
      "Cons (0, Cons (1, Empty))\n",
      "Cons (0, Cons (1, Cons (2, Empty)))\n",
      "Cons (0, Cons (1, Cons (2, Cons (3, Empty))))\n"
     ]
    }
   ],
   "source": [
    "printfn \"%A\" (initList 2)\n",
    "printfn \"%A\" (initList 3)\n",
    "printfn \"%A\" (initList 4)"
   ]
  },
  {
   "attachments": {},
   "cell_type": "markdown",
   "metadata": {},
   "source": [
    "Así es posible entonces crear colecciones de elementos del mismo tipo en forma recursiva. "
   ]
  },
  {
   "attachments": {},
   "cell_type": "markdown",
   "metadata": {},
   "source": [
    "## Operaciones sobre listas\n",
    "\n",
    "En esencia, hay unas pocas operaciones que se pueden realizar sobre colecciones de entidades de un mismo tipo. Por ejemplo, uno podría aplicar una función a cada elemento de la lista, para convertirlo en otro elemento. O se podría obtener un valor a partir de un cómputo sobre todos los elementos de una lista (calcular el máximo o el mínimo, obtener el \n",
    "promedio, etc). Al utilizar un estilo funcional, es importante enfocar la programación de\n",
    "código que usa colecciones teniendo en cuenta estas operaciones. En el caso de F#, existe una gran variedad de métodos sobre los distintos tipos de colecciones que provee el lenguaje. En la mayoría de los casos es posible combinar estos métodos para obtener el resultado requerido, sin tener que utilizar recursión. \n",
    "\n",
    "Siguiendo con el ejemplo de `MyList`, vamos a definir dos tipos de operaciones sobre colecciones que son muy importantes.\n",
    "\n",
    "El primer caso es el de `map`, que permite aplicar una función a cada elemento de la lista:"
   ]
  },
  {
   "cell_type": "code",
   "execution_count": 9,
   "metadata": {
    "dotnet_interactive": {
     "language": "fsharp"
    },
    "polyglot_notebook": {
     "kernelName": "fsharp"
    },
    "vscode": {
     "languageId": "polyglot-notebook"
    }
   },
   "outputs": [],
   "source": [
    "let rec map f list =\n",
    "    match list with \n",
    "    | Empty -> Empty \n",
    "    | Cons (n, ls) -> \n",
    "        Cons(f n, map f ls)"
   ]
  },
  {
   "cell_type": "code",
   "execution_count": 11,
   "metadata": {
    "dotnet_interactive": {
     "language": "fsharp"
    },
    "polyglot_notebook": {
     "kernelName": "fsharp"
    },
    "vscode": {
     "languageId": "polyglot-notebook"
    }
   },
   "outputs": [
    {
     "name": "stdout",
     "output_type": "stream",
     "text": [
      "Cons (0, Cons (1, Cons (2, Cons (3, Empty))))\n",
      "Cons (0, Cons (1, Cons (4, Cons (9, Empty))))\n"
     ]
    }
   ],
   "source": [
    "let square i = \n",
    "    i*i \n",
    "\n",
    "let l = initList 4\n",
    "\n",
    "let lsq = map square l \n",
    "\n",
    "printfn \"%A\" l\n",
    "printfn \"%A\" lsq"
   ]
  },
  {
   "attachments": {},
   "cell_type": "markdown",
   "metadata": {},
   "source": [
    "El siguiente es un ejemplo de la operación reducción, que consiste en aplicar una función que combina dos elementos de la lista sucesivamente:"
   ]
  },
  {
   "cell_type": "code",
   "execution_count": 12,
   "metadata": {
    "dotnet_interactive": {
     "language": "fsharp"
    },
    "polyglot_notebook": {
     "kernelName": "fsharp"
    },
    "vscode": {
     "languageId": "polyglot-notebook"
    }
   },
   "outputs": [],
   "source": [
    "let fold f list =\n",
    "\n",
    "    let rec loop acc f list = \n",
    "        match list with \n",
    "        | Empty -> acc \n",
    "        | Cons (n, ls) -> \n",
    "            let a = f acc n \n",
    "            loop a f ls \n",
    "\n",
    "    loop 0 f list             "
   ]
  },
  {
   "cell_type": "code",
   "execution_count": 13,
   "metadata": {
    "dotnet_interactive": {
     "language": "fsharp"
    },
    "polyglot_notebook": {
     "kernelName": "fsharp"
    },
    "vscode": {
     "languageId": "polyglot-notebook"
    }
   },
   "outputs": [
    {
     "name": "stdout",
     "output_type": "stream",
     "text": [
      "10\n"
     ]
    }
   ],
   "source": [
    "let add i j : int = \n",
    "    i + j \n",
    "\n",
    "let l2 = initList 5\n",
    "let sum  = fold add l2 \n",
    "\n",
    "printfn \"%A\" sum "
   ]
  },
  {
   "attachments": {},
   "cell_type": "markdown",
   "metadata": {},
   "source": [
    "Estos métodos pueden componerse adecuadamente ya sea a través del _piping_:"
   ]
  },
  {
   "cell_type": "code",
   "execution_count": 15,
   "metadata": {
    "dotnet_interactive": {
     "language": "fsharp"
    },
    "polyglot_notebook": {
     "kernelName": "fsharp"
    },
    "vscode": {
     "languageId": "polyglot-notebook"
    }
   },
   "outputs": [
    {
     "data": {
      "text/html": [
       "<div class=\"dni-plaintext\"><pre>30</pre></div><style>\r\n",
       ".dni-code-hint {\r\n",
       "    font-style: italic;\r\n",
       "    overflow: hidden;\r\n",
       "    white-space: nowrap;\r\n",
       "}\r\n",
       ".dni-treeview {\r\n",
       "    white-space: nowrap;\r\n",
       "}\r\n",
       ".dni-treeview td {\r\n",
       "    vertical-align: top;\r\n",
       "    text-align: start;\r\n",
       "}\r\n",
       "details.dni-treeview {\r\n",
       "    padding-left: 1em;\r\n",
       "}\r\n",
       "table td {\r\n",
       "    text-align: start;\r\n",
       "}\r\n",
       "table tr { \r\n",
       "    vertical-align: top; \r\n",
       "    margin: 0em 0px;\r\n",
       "}\r\n",
       "table tr td pre \r\n",
       "{ \r\n",
       "    vertical-align: top !important; \r\n",
       "    margin: 0em 0px !important;\r\n",
       "} \r\n",
       "table th {\r\n",
       "    text-align: start;\r\n",
       "}\r\n",
       "</style>"
      ]
     },
     "metadata": {},
     "output_type": "display_data"
    }
   ],
   "source": [
    "l2\n",
    "|> map square\n",
    "|> fold add"
   ]
  },
  {
   "attachments": {},
   "cell_type": "markdown",
   "metadata": {},
   "source": [
    "O definiendo una composición de funciones:"
   ]
  },
  {
   "cell_type": "code",
   "execution_count": 16,
   "metadata": {
    "dotnet_interactive": {
     "language": "fsharp"
    },
    "polyglot_notebook": {
     "kernelName": "fsharp"
    },
    "vscode": {
     "languageId": "polyglot-notebook"
    }
   },
   "outputs": [
    {
     "name": "stdout",
     "output_type": "stream",
     "text": [
      "30\n"
     ]
    }
   ],
   "source": [
    "let squareAndAdd = (map square) >> (fold add) \n",
    "\n",
    "printfn \"%A\" (squareAndAdd l2)"
   ]
  },
  {
   "attachments": {},
   "cell_type": "markdown",
   "metadata": {},
   "source": [
    "### Listas\n",
    "\n",
    "F# provee del tipo `list` para manejar listas tal como vimos en el ejemplo anterior, con una sintaxis clara: se utilizan corchetes para definir el comienzo y final de la lista, que contiene elementos separados por `;`."
   ]
  },
  {
   "cell_type": "code",
   "execution_count": 14,
   "metadata": {
    "dotnet_interactive": {
     "language": "fsharp"
    },
    "polyglot_notebook": {
     "kernelName": "fsharp"
    },
    "vscode": {
     "languageId": "polyglot-notebook"
    }
   },
   "outputs": [
    {
     "name": "stdout",
     "output_type": "stream",
     "text": [
      "[0; 2; 3]\n",
      "[]\n",
      "2\n"
     ]
    },
    {
     "ename": "Error",
     "evalue": "System.ArgumentException: The index was outside the range of elements in the list. (Parameter 'n')\n   at Microsoft.FSharp.Collections.PrivateListHelpers.nth[a](FSharpList`1 l, Int32 n) in D:\\a\\_work\\1\\s\\src\\FSharp.Core\\prim-types.fs:line 4093\n   at Microsoft.FSharp.Collections.FSharpList`1.get_Item(Int32 index) in D:\\a\\_work\\1\\s\\src\\FSharp.Core\\prim-types.fs:line 4154\n   at <StartupCode$FSI_0018>.$FSI_0018.main@()\n   at System.RuntimeMethodHandle.InvokeMethod(Object target, Void** arguments, Signature sig, Boolean isConstructor)\n   at System.Reflection.MethodBaseInvoker.InvokeWithNoArgs(Object obj, BindingFlags invokeAttr)",
     "output_type": "error",
     "traceback": [
      "System.ArgumentException: The index was outside the range of elements in the list. (Parameter 'n')\n",
      "   at Microsoft.FSharp.Collections.PrivateListHelpers.nth[a](FSharpList`1 l, Int32 n) in D:\\a\\_work\\1\\s\\src\\FSharp.Core\\prim-types.fs:line 4093\n",
      "   at Microsoft.FSharp.Collections.FSharpList`1.get_Item(Int32 index) in D:\\a\\_work\\1\\s\\src\\FSharp.Core\\prim-types.fs:line 4154\n",
      "   at <StartupCode$FSI_0018>.$FSI_0018.main@()\n",
      "   at System.RuntimeMethodHandle.InvokeMethod(Object target, Void** arguments, Signature sig, Boolean isConstructor)\n",
      "   at System.Reflection.MethodBaseInvoker.InvokeWithNoArgs(Object obj, BindingFlags invokeAttr)"
     ]
    }
   ],
   "source": [
    "let l3 = [0; 2; 3]\n",
    "\n",
    "let singleton = [\"Hola\"]\n",
    "\n",
    "let empty = List.empty \n",
    "\n",
    "printfn \"%A\" l3\n",
    "printfn \"%A\" empty\n",
    "\n",
    "printfn \"%A\" l3[1]\n",
    "printfn \"%A\" l3.[3]\n"
   ]
  },
  {
   "attachments": {},
   "cell_type": "markdown",
   "metadata": {},
   "source": [
    "Se pueden inicializar las listas:"
   ]
  },
  {
   "cell_type": "code",
   "execution_count": 18,
   "metadata": {
    "dotnet_interactive": {
     "language": "fsharp"
    },
    "polyglot_notebook": {
     "kernelName": "fsharp"
    },
    "vscode": {
     "languageId": "polyglot-notebook"
    }
   },
   "outputs": [
    {
     "name": "stdout",
     "output_type": "stream",
     "text": [
      "[0; 1; 2; 3; 4]\n",
      "[0; 3; 6; 9; 12; 15]\n",
      "[1; 1; 1; 1]\n",
      "[0; 1; 2; 3]\n"
     ]
    }
   ],
   "source": [
    "// A range list\n",
    "let range = [0..4]\n",
    "\n",
    "// A range list with steps \n",
    "let rangeby3 = [0..3..17]\n",
    "\n",
    "// All the same\n",
    "let constants = List.replicate 4 1\n",
    "\n",
    "// A range \n",
    "let rangeByInit = List.init 4 id \n",
    "\n",
    "printfn \"%A\" range\n",
    "printfn \"%A\" rangeby3\n",
    "printfn \"%A\" constants\n",
    "printfn \"%A\" rangeByInit\n"
   ]
  },
  {
   "attachments": {},
   "cell_type": "markdown",
   "metadata": {},
   "source": [
    "Y provee de las funciones `map` y `fold` correspondientes."
   ]
  },
  {
   "cell_type": "code",
   "execution_count": 19,
   "metadata": {
    "dotnet_interactive": {
     "language": "fsharp"
    },
    "polyglot_notebook": {
     "kernelName": "fsharp"
    },
    "vscode": {
     "languageId": "polyglot-notebook"
    }
   },
   "outputs": [
    {
     "name": "stdout",
     "output_type": "stream",
     "text": [
      "[0; 1; 4; 9; 16]\n",
      "10\n"
     ]
    }
   ],
   "source": [
    "let l4 = List.init 5 id \n",
    "\n",
    "let l5 = List.map square l4 \n",
    "\n",
    "let sum  = List.fold (fun a elem -> a + elem) 0 l4  \n",
    "\n",
    "printfn \"%A\" l5 \n",
    "printfn \"%A\" sum "
   ]
  },
  {
   "attachments": {},
   "cell_type": "markdown",
   "metadata": {},
   "source": [
    "Pero mucho más, porque la función `sum` hace lo que uno supone:"
   ]
  },
  {
   "cell_type": "code",
   "execution_count": 21,
   "metadata": {
    "dotnet_interactive": {
     "language": "fsharp"
    },
    "polyglot_notebook": {
     "kernelName": "fsharp"
    },
    "vscode": {
     "languageId": "polyglot-notebook"
    }
   },
   "outputs": [
    {
     "data": {
      "text/html": [
       "<div class=\"dni-plaintext\"><pre>30</pre></div><style>\r\n",
       ".dni-code-hint {\r\n",
       "    font-style: italic;\r\n",
       "    overflow: hidden;\r\n",
       "    white-space: nowrap;\r\n",
       "}\r\n",
       ".dni-treeview {\r\n",
       "    white-space: nowrap;\r\n",
       "}\r\n",
       ".dni-treeview td {\r\n",
       "    vertical-align: top;\r\n",
       "    text-align: start;\r\n",
       "}\r\n",
       "details.dni-treeview {\r\n",
       "    padding-left: 1em;\r\n",
       "}\r\n",
       "table td {\r\n",
       "    text-align: start;\r\n",
       "}\r\n",
       "table tr { \r\n",
       "    vertical-align: top; \r\n",
       "    margin: 0em 0px;\r\n",
       "}\r\n",
       "table tr td pre \r\n",
       "{ \r\n",
       "    vertical-align: top !important; \r\n",
       "    margin: 0em 0px !important;\r\n",
       "} \r\n",
       "table th {\r\n",
       "    text-align: start;\r\n",
       "}\r\n",
       "</style>"
      ]
     },
     "metadata": {},
     "output_type": "display_data"
    }
   ],
   "source": [
    "l4\n",
    "|> List.map square\n",
    "|> List.sum \n",
    "\n"
   ]
  },
  {
   "attachments": {},
   "cell_type": "markdown",
   "metadata": {},
   "source": [
    "Recomiendo la página [Choosing between collection functions](https://fsharpforfunandprofit.com/posts/list-module-functions/) para consultar ejemplos y uso de métodos de colecciones."
   ]
  }
 ],
 "metadata": {
  "kernelspec": {
   "display_name": ".NET (C#)",
   "language": "C#",
   "name": ".net-csharp"
  },
  "language_info": {
   "file_extension": ".cs",
   "mimetype": "text/x-csharp",
   "name": "C#",
   "pygments_lexer": "csharp",
   "version": "9.0"
  },
  "orig_nbformat": 4,
  "polyglot_notebook": {
   "kernelInfo": {
    "defaultKernelName": "csharp",
    "items": [
     {
      "aliases": [],
      "name": "csharp"
     }
    ]
   }
  }
 },
 "nbformat": 4,
 "nbformat_minor": 2
}
