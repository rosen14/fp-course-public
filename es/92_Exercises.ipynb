{
  "cells": [
    {
      "cell_type": "markdown",
      "metadata": {},
      "source": [
        "## Ejercicios"
      ]
    },
    {
      "cell_type": "markdown",
      "metadata": {},
      "source": [
        "### El video de la semana\n",
        "\n",
        "[_The lazy programmer's guide to writing 1000's of tests_, Scott Wlaschin](https://www.youtube.com/watch?v=IYzDFHx6QPY&ab_channel=NDCConferences)\n"
      ]
    },
    {
      "cell_type": "markdown",
      "metadata": {},
      "source": [
        "### Interpolación Lineal\n",
        "\n",
        "Nos han encomendado que escribamos una función que dadas dos listas `x` e `y` de números de punto flotante,\n",
        "y dado un valor específico `x0`, encontremos el correspondiente valor de `y0` mediante una interpolación lineal.\n",
        "\n",
        "Debido a la explosión de AI, decidimos pedirle a [ChatGPT](https://openai.com/blog/chatgpt) que nos escriba el código\n",
        "en F#, y nos concentraremos en realizar test unitarios para probar que el código generado funciona correctamente.\n",
        "\n",
        "Entonces:\n",
        "\n",
        "- Cree una solución para organizar el código. En dicha solución cree\n",
        "  \n",
        "  - un proyecto que contenga la biblioteca de funciones que se usarán en la interpolación lineal.\n",
        "  - un proyecto de tests de NUnit para probarlas. \n",
        "\n",
        "- Obtenga el código de ChatGPT, (o escríbalo usted mismo...)\n",
        "  \n",
        "- Escriba los tests para probar el código, en condiciones normales: \n",
        "  \n",
        "  - `x` e `y` tienen el mismo tamaño `n`. \n",
        "  - `x` tiene todos elementos diferentes, y en orden creciente.\n",
        "  - `x0` está entre los valores `x[0]` y `x[n-1]`.\n",
        "\n",
        "- Modifique ahora el código para que retorne un tipo `Result<float,string>`, de modo tal que se emita un error si \n",
        "\n",
        "  - `x` e `y` tienen distintos tamaños.\n",
        "  - `x` tiene elementos iguales\n",
        "  \n",
        "  y devuelva el valor `Ok y0` interpolado si las validaciones son exitosas.\n",
        "\n",
        "- Modifique los tests para contemplar los casos anteriores.\n"
      ]
    },
    {
      "cell_type": "markdown",
      "metadata": {},
      "source": [
        "#### Extrapolación\n",
        "\n",
        "Nos avisan ahora que el código tiene que contemplar el caso de la extrapolación,\n",
        "que ocurre cuando `x0 < x[0]` o `x0 > x[n-1]` de forma tal que:\n",
        "\n",
        "- Si `x0 < x[0]`, retorne el valor `y0 = y[0]`.\n",
        "- Retorne un nuevo error si `x0 > x[n-1]`.\n",
        "\n",
        "Modifique la biblioteca y los tests de acuerdo a este nuevo requerimiento.\n",
        "\n",
        "> Tenga en cuenta que no es necesario crear un proyecto que _use_ la biblioteca,\n",
        "> basta con el proyecto para testearla, y el de la biblioteca propiamente dicha.\n"
      ]
    }
  ],
  "metadata": {
    "language_info": {
      "name": "python"
    },
    "orig_nbformat": 4
  },
  "nbformat": 4,
  "nbformat_minor": 2
}
