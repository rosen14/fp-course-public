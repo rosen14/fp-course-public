{
 "cells": [
  {
   "cell_type": "markdown",
   "metadata": {},
   "source": [
    "## Ejercicios\n",
    "\n",
    "### Clasificación de exoplanetas\n",
    "\n",
    "En términos generales, los planetas se dividen en planetas rocosos (0,5-1,0 R ⊕), súper Tierras (1,0-1,75 R ⊕), subneptunos (1,75-3,5 R ⊕), subjovianos (3,5-6,0 R ⊕), y jovianos (6-14,3 R ⊕) según el tamaño de sus masas, y \"calientes\", \"cálidos\" y \"fríos\" según el flujo estelar incidente (ver [este trabajo](https://ui.adsabs.harvard.edu/abs/2018ApJ...856..122K/abstract)).\n",
    "\n",
    "Procesa los datos para agrupar los exoplanetas según esta clasificación y crea un bonito gráfico con ellos.\n",
    "\n",
    "### Estética\n",
    "\n",
    "- Aprenda cómo cambiar el fondo de un gráfico de `Plotly` para que nuestro censo de exoplanetas se parezca más al del sitio de la NASA.\n",
    "- Aprenda a fijar el color de cada gráfica para que coincida con los del sitio de la NASA (en nuestro ejemplo, los colores se seleccionan automáticamente de una paleta determinada).\n",
    "\n",
    "\n"
   ]
  }
 ],
 "metadata": {
  "language_info": {
   "name": "python"
  }
 },
 "nbformat": 4,
 "nbformat_minor": 2
}
