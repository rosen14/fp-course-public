{
 "cells": [
  {
   "attachments": {},
   "cell_type": "markdown",
   "metadata": {
    "lang": "es"
   },
   "source": [
    "\n",
    "## Discriminated Unions\n",
    "\n",
    "Tratar con entidades que pertenecen a un grupo de casos bien predefinido.\n",
    "\n",
    "\n",
    "Uno de los aspectos clave de F\\# (y otros lenguajes funcionales) es que proporciona una sintaxis específica para modelar aquellas características de entradas y salidas que pertenecen a una colección bien predefinida. Estos se llaman uniones discriminadas (_discriminated unions_).\n",
    "\n",
    "El tipo para nuestra `VendingMachine` de comida sería:"
   ]
  },
  {
   "cell_type": "code",
   "execution_count": 1,
   "metadata": {
    "dotnet_interactive": {
     "language": "fsharp"
    },
    "vscode": {
     "languageId": "polyglot-notebook"
    }
   },
   "outputs": [],
   "source": [
    "type FoodProduct =\n",
    "    | Chips\n",
    "    | Chocolate\n",
    "    | Candy "
   ]
  },
  {
   "cell_type": "markdown",
   "metadata": {
    "lang": "es"
   },
   "source": [
    "mientras que para la electrónica podríamos tener:"
   ]
  },
  {
   "cell_type": "code",
   "execution_count": 2,
   "metadata": {
    "dotnet_interactive": {
     "language": "fsharp"
    },
    "vscode": {
     "languageId": "polyglot-notebook"
    }
   },
   "outputs": [],
   "source": [
    "type Electronics = \n",
    "    | Phones\n",
    "    | Speakers\n",
    "    | Headphones"
   ]
  },
  {
   "attachments": {},
   "cell_type": "markdown",
   "metadata": {
    "lang": "es"
   },
   "source": [
    "> 🔔 Se acostumbra usar `PascalCase` para tipos (es decir, `FoodProduct`).\n",
    "\n",
    "> ❗️ Los tipos de casos en una unión discriminada deben comenzar con una letra mayúscula (`Phones`, `Chips`, etc.).\n",
    "\n",
    "En las expresiones anteriores estamos definiendo un tipo con un nombre (`FoodProduct`, `Electronics`) que puede tener varios tipos de casos. Es importante recalcar que los casos de cada tipo de unión discriminada son _disjuntos_, es decir, no se puede acceder al mismo tiempo. Por ejemplo:"
   ]
  },
  {
   "cell_type": "code",
   "execution_count": 3,
   "metadata": {
    "dotnet_interactive": {
     "language": "fsharp"
    },
    "vscode": {
     "languageId": "polyglot-notebook"
    }
   },
   "outputs": [],
   "source": [
    "let d = FoodProduct.Chips\n",
    "let ch = FoodProduct.Chocolate\n",
    "let s = Electronics.Speakers"
   ]
  },
  {
   "attachments": {},
   "cell_type": "markdown",
   "metadata": {
    "lang": "es"
   },
   "source": [
    "El lenguaje usa el punto `.` para representar un caso de unión discriminada. El valor `s` representa, por supuesto, un altavoz, y dado que es inmutable, no hay forma posible de que pueda ser un teléfono o un auricular.\n",
    "\n",
    "Entonces, ¿cómo podemos definir funciones con uniones discriminadas? Escribamos una función 'precio' que recibe una entrada de tipo `Electronics` y nos da el precio:"
   ]
  },
  {
   "cell_type": "code",
   "execution_count": 4,
   "metadata": {
    "dotnet_interactive": {
     "language": "fsharp"
    },
    "vscode": {
     "languageId": "polyglot-notebook"
    }
   },
   "outputs": [
    {
     "name": "stdout",
     "output_type": "stream",
     "text": [
      "The price of speaker is: 29 $\n"
     ]
    }
   ],
   "source": [
    "let price electronic = \n",
    "    match electronic with \n",
    "    | Phones -> 435\n",
    "    | Speakers -> 29\n",
    "    | Headphones -> 122\n",
    "\n",
    "printfn \"The price of speaker is: %A $\" (price Electronics.Speakers)    "
   ]
  },
  {
   "attachments": {},
   "cell_type": "markdown",
   "metadata": {
    "lang": "es"
   },
   "source": [
    "La forma en que uno puede desagregar los diferentes casos de una entrada que es una unión discriminada es a través de _coincidencia de patrones_ (_pattern matching_), representada por la construcción `match ... with` y luego, **todos** los casos posibles de la unión. La sintaxis es bastante sencilla: para cada etiqueta de caso de unión discriminada (después del signo `|` en la construcción) aparece la flecha `->` que indica el valor (un `int`) que devuelve la función en ese caso.\n",
    "\n",
    "Tenga en cuenta también que la coincidencia debe contener _todos_ los posibles casos de la unión discriminada. Si uno está olvidando algún caso, el compilador nos lo informará con un subrayado ondulado en la coincidencia. Esto significa que la coincidencia de patrones es _exhaustiva_.\n",
    "\n",
    "Otro aspecto muy importante de la coincidencia de patrones es que se evalúa _en el orden en que se escribe_.\n",
    "\n",
    "Pero, ¿qué sucede si queremos escribir una función `priceFood` y asignar un precio de 1,5 a todos los artículos, excepto a los chocolates, que tienen un precio de 2,35? El lenguaje introduce el símbolo _comodín_ que coincide con _cualquier_ entrada en la construcción de coincidencia de patrones. El comodín está representado por el símbolo `_` (guión bajo):"
   ]
  },
  {
   "cell_type": "code",
   "execution_count": 5,
   "metadata": {
    "dotnet_interactive": {
     "language": "fsharp"
    },
    "vscode": {
     "languageId": "polyglot-notebook"
    }
   },
   "outputs": [
    {
     "name": "stdout",
     "output_type": "stream",
     "text": [
      "Chocolate: 2.35 $\n",
      "Chips: 1.5 $\n",
      "Candy: 1.5 $\n"
     ]
    }
   ],
   "source": [
    "let priceFood food = \n",
    "    match food with \n",
    "    | Chocolate -> 2.35\n",
    "    | _ -> 1.5 \n",
    "\n",
    "printfn \"Chocolate: %A $\" (priceFood FoodProduct.Chocolate)        \n",
    "printfn \"Chips: %A $\" (priceFood FoodProduct.Chips)        \n",
    "printfn \"Candy: %A $\" (priceFood FoodProduct.Candy)        "
   ]
  },
  {
   "cell_type": "markdown",
   "metadata": {
    "lang": "es"
   },
   "source": [
    "Aquí vemos la interacción entre la evaluación del orden de la coincidencia de patrones y el comodín. Estamos devolviendo valores específicos para _algunos casos_ (Chocolate), y asignamos un valor común para _el resto de los casos_. Cuando `priceFood` recibe un \"valor\" de comida, se compara primero con el caso de \"Chocolate\". Si no es chocolate, el patrón comodín lo captura. Considere el siguiente ejemplo:"
   ]
  },
  {
   "cell_type": "code",
   "execution_count": 6,
   "metadata": {
    "dotnet_interactive": {
     "language": "fsharp"
    },
    "vscode": {
     "languageId": "polyglot-notebook"
    }
   },
   "outputs": [
    {
     "name": "stdout",
     "output_type": "stream",
     "text": [
      "Chocolate: 1.5 $\n",
      "Chips: 1.5 $\n",
      "Candy: 1.5 $\n"
     ]
    }
   ],
   "source": [
    "let priceSale food = \n",
    "    match food with \n",
    "    | _ -> 1.5 \n",
    "    | Chocolate -> 2.35\n",
    "\n",
    "printfn \"Chocolate: %A $\" (priceSale FoodProduct.Chocolate)        \n",
    "printfn \"Chips: %A $\" (priceSale FoodProduct.Chips)        \n",
    "printfn \"Candy: %A $\" (priceSale FoodProduct.Candy)        "
   ]
  },
  {
   "cell_type": "markdown",
   "metadata": {
    "lang": "es"
   },
   "source": [
    "Bueno, ¡todo está \"en oferta\" a 1,5! Esto se debe a que el comodín captura _cualquier entrada_ y dado que es el primer _caso_, cualquier alimento tendrá ese precio.\n",
    "\n",
    "Aquí nuevamente, el compilador detrás de escena viene a nuestro rescate. Le hará saber que no se alcanzarán algunas de las reglas de coincidencia de patrones:\n",
    "\n",
    "<img src=\"../img/rule_will_never_match.png\" alt=\"This will save you from bankruptcy\" width=\"400\"/>"
   ]
  },
  {
   "cell_type": "markdown",
   "metadata": {
    "lang": "es"
   },
   "source": [
    "### Combinando uniones discriminadas y tipos básicos\n",
    "\n",
    "En muchos casos, la construcción de unión discriminada no es lo suficientemente general, por lo que se puede combinar con tipos básicos. Digamos que queremos identificar la marca de cada uno de nuestros artículos en las máquinas expendedoras. Dado que puede acomodar múltiples marcas de productos, decidimos que representamos la marca por una \"cadena\". Podemos expandir nuestro tipo de unión discriminada `FoodProduct` como:"
   ]
  },
  {
   "cell_type": "code",
   "execution_count": 7,
   "metadata": {
    "dotnet_interactive": {
     "language": "fsharp"
    },
    "vscode": {
     "languageId": "polyglot-notebook"
    }
   },
   "outputs": [],
   "source": [
    "type BrandedFood =\n",
    "    | Chips of string \n",
    "    | Chocolate of string \n",
    "    | Candy of string "
   ]
  },
  {
   "cell_type": "markdown",
   "metadata": {
    "lang": "es"
   },
   "source": [
    "Cada uno de los casos del tipo `BrandedFood` tiene ahora un _valor_ de tipo `string`. La unión discriminada utiliza la palabra clave `of` para asociar cada caso con cada tipo de valor. Uno puede definir identificadores para este tipo compuesto como:"
   ]
  },
  {
   "cell_type": "code",
   "execution_count": 8,
   "metadata": {
    "dotnet_interactive": {
     "language": "fsharp"
    },
    "vscode": {
     "languageId": "polyglot-notebook"
    }
   },
   "outputs": [],
   "source": [
    "let belovedChocolate = BrandedFood.Chocolate \"Wonka\"\n",
    "let healthyChips = BrandedFood.Chips \"NotALeis\"\n",
    "let sourCandy = BrandedFood.Candy \"TearDrops\""
   ]
  },
  {
   "cell_type": "markdown",
   "metadata": {
    "lang": "es"
   },
   "source": [
    "En el ejemplo de la marca, elegimos combinar todos los casos con el mismo tipo básico, `string`. Pero, de nuevo, uno puede mezclar y combinar. Por ejemplo, un chocolate puede venir en diferentes presentaciones:"
   ]
  },
  {
   "cell_type": "code",
   "execution_count": 9,
   "metadata": {
    "dotnet_interactive": {
     "language": "fsharp"
    },
    "vscode": {
     "languageId": "polyglot-notebook"
    }
   },
   "outputs": [],
   "source": [
    "type ChocolatePresentation =\n",
    "| Bar of float  // a chocolate Bar of a given weight\n",
    "| Box of int // a package with a number of chocolate pieces    "
   ]
  },
  {
   "cell_type": "markdown",
   "metadata": {
    "lang": "es"
   },
   "source": [
    "O bien, si queremos modelar el cambio de dinero que la máquina expendedora devuelve al cliente, podemos definir un caso en el que se devuelve una cantidad real y otro que representa el hecho de que el cliente acaba de poner el dinero exacto en la máquina:"
   ]
  },
  {
   "cell_type": "code",
   "execution_count": 10,
   "metadata": {
    "dotnet_interactive": {
     "language": "fsharp"
    },
    "vscode": {
     "languageId": "polyglot-notebook"
    }
   },
   "outputs": [],
   "source": [
    "type Change =\n",
    "| Amount of float\n",
    "| NoChange"
   ]
  },
  {
   "cell_type": "markdown",
   "metadata": {
    "lang": "es"
   },
   "source": [
    "La coincidencia de patrones en funciones contra estas uniones discriminadas compuestas es nuevamente bastante simple. Para obtener la marca de un producto `BrandedFood`, podemos definir la función `marca`:"
   ]
  },
  {
   "cell_type": "code",
   "execution_count": 12,
   "metadata": {
    "dotnet_interactive": {
     "language": "fsharp"
    },
    "vscode": {
     "languageId": "polyglot-notebook"
    }
   },
   "outputs": [],
   "source": [
    "let brand product = \n",
    "    match product with\n",
    "    | Chips p -> p \n",
    "    | Chocolate p -> p \n",
    "    | Candy p -> p  "
   ]
  },
  {
   "cell_type": "code",
   "execution_count": 13,
   "metadata": {
    "dotnet_interactive": {
     "language": "fsharp"
    },
    "vscode": {
     "languageId": "polyglot-notebook"
    }
   },
   "outputs": [
    {
     "name": "stdout",
     "output_type": "stream",
     "text": [
      "Brand of belovedChocolate: Wonka\n"
     ]
    }
   ],
   "source": [
    "printfn \"Brand of belovedChocolate: %s\" (brand belovedChocolate)"
   ]
  },
  {
   "cell_type": "markdown",
   "metadata": {
    "lang": "es"
   },
   "source": [
    "En esta función, cada caso tiene un valor asociado representado por el identificador `p`, que se _desenvuelve_ de la unión discriminada y se devuelve.\n",
    "\n",
    "Otro ejemplo:"
   ]
  },
  {
   "cell_type": "code",
   "execution_count": 14,
   "metadata": {
    "dotnet_interactive": {
     "language": "fsharp"
    },
    "vscode": {
     "languageId": "polyglot-notebook"
    }
   },
   "outputs": [
    {
     "name": "stdout",
     "output_type": "stream",
     "text": [
      "You are receiving 3.0 $ as change\n"
     ]
    }
   ],
   "source": [
    "let changeValue change =\n",
    "    match change with \n",
    "    | Amount money -> money\n",
    "    | NoChange -> 0 \n",
    "\n",
    "let c = Amount 3 \n",
    "\n",
    "printfn \"You are receiving %A $ as change\" (changeValue c)"
   ]
  },
  {
   "attachments": {},
   "cell_type": "markdown",
   "metadata": {
    "lang": "es"
   },
   "source": [
    "> Notar sobre cómo una unión discriminada que mezcla tipos básicos parece presentar una especie de divergencia en el código. El tipo `Change` combina un tipo `float` envuelto (con `Amount`) y un tipo de unión pura `NoChange`. Dado que las funciones deben tener tipos de entrada y salida específicos, cualquier función que reciba una entrada `Change` tiene que devolver una salida definida. Normalmente hay dos posibilidades. La primera es que la función _aplane_ las entradas (como en el caso de `changeValue`), donde se obtiene el valor flotante del dinero que recibe el usuario. La segunda corresponde a una función que promueve los tipos de entrada a otro: por ejemplo, el caso trivial sería una función que imprime la cantidad de dinero que recibe el cliente, `imprimeCambio: Change -> ()`, es decir, recibe un 'Cambio' y devuelve 'unidad'.\n",
    "> Esta es una de las ideas clave detrás de la programación funcional, poder conectar diferentes tipos a través de funciones."
   ]
  },
  {
   "attachments": {},
   "cell_type": "markdown",
   "metadata": {
    "lang": "es"
   },
   "source": [
    "### Protección de entradas con uniones discriminadas únicas\n",
    "\n",
    "El último, pero no menos importante, caso de uso de uniones discriminadas corresponde a aquellas que solo tienen un término. Digamos que necesitamos describir los modelos de los diferentes artículos en nuestra máquina expendedora de productos electrónicos. Una forma de hacerlo es usando una unión discriminada _única_ (_single discriminated union_):"
   ]
  },
  {
   "cell_type": "code",
   "execution_count": 15,
   "metadata": {
    "dotnet_interactive": {
     "language": "fsharp"
    },
    "polyglot_notebook": {
     "kernelName": "fsharp"
    },
    "vscode": {
     "languageId": "polyglot-notebook"
    }
   },
   "outputs": [],
   "source": [
    "type Model =\n",
    "    | Model of string"
   ]
  },
  {
   "cell_type": "markdown",
   "metadata": {
    "lang": "es"
   },
   "source": [
    "Entonces, podemos definir diferentes modelos de artículos:"
   ]
  },
  {
   "cell_type": "code",
   "execution_count": 16,
   "metadata": {
    "dotnet_interactive": {
     "language": "fsharp"
    },
    "polyglot_notebook": {
     "kernelName": "fsharp"
    },
    "vscode": {
     "languageId": "polyglot-notebook"
    }
   },
   "outputs": [],
   "source": [
    "let yPhone = Model.Model \"Xtreme 3S\"\n",
    "let miniSpeakers = Model \"Louder Pro\""
   ]
  },
  {
   "cell_type": "markdown",
   "metadata": {
    "lang": "es"
   },
   "source": [
    "Dado que la unión discriminada solo tiene un caso, hay una forma breve de desenvolver el valor que contiene:"
   ]
  },
  {
   "cell_type": "code",
   "execution_count": 17,
   "metadata": {
    "dotnet_interactive": {
     "language": "fsharp"
    },
    "polyglot_notebook": {
     "kernelName": "fsharp"
    },
    "vscode": {
     "languageId": "polyglot-notebook"
    }
   },
   "outputs": [
    {
     "name": "stdout",
     "output_type": "stream",
     "text": [
      "The model of the yPhone is \"Xtreme 3S\"\n"
     ]
    }
   ],
   "source": [
    "let (Model yPhoneModel) = yPhone\n",
    "printfn \"The model of the yPhone is %A\" yPhoneModel"
   ]
  },
  {
   "cell_type": "markdown",
   "metadata": {
    "lang": "es"
   },
   "source": [
    "Parece que hay mucha pompa en estos tipos, ¿por qué no usar una 'cadena' más simple en su lugar? La respuesta está, de nuevo, relacionada con las funciones. Definamos la función `printModel` como:"
   ]
  },
  {
   "cell_type": "code",
   "execution_count": 18,
   "metadata": {
    "dotnet_interactive": {
     "language": "fsharp"
    },
    "polyglot_notebook": {
     "kernelName": "fsharp"
    },
    "vscode": {
     "languageId": "polyglot-notebook"
    }
   },
   "outputs": [],
   "source": [
    "let printModel (model: Model) =\n",
    "    let (Model value) = model \n",
    "    printfn \"The model is %A\" value "
   ]
  },
  {
   "cell_type": "code",
   "execution_count": 19,
   "metadata": {
    "dotnet_interactive": {
     "language": "fsharp"
    },
    "polyglot_notebook": {
     "kernelName": "fsharp"
    },
    "vscode": {
     "languageId": "polyglot-notebook"
    }
   },
   "outputs": [
    {
     "name": "stdout",
     "output_type": "stream",
     "text": [
      "The model is \"Xtreme 3S\"\n",
      "The model is \"Louder Pro\"\n"
     ]
    }
   ],
   "source": [
    "printModel yPhone\n",
    "printModel miniSpeakers"
   ]
  },
  {
   "cell_type": "markdown",
   "metadata": {
    "lang": "es"
   },
   "source": [
    "La firma de la función `printModel` es `Modelo -> ()`, lo que significa que recibe un valor de modelo y devuelve la unidad. Dado que la entrada es un 'Modelo', no hay forma posible de que podamos pasarle una cadena simple. De esta manera, uno protege la entrada de la función de tal manera que tiene que ser del tipo exacto que decidimos, y nada más.\n",
    "\n",
    "Debe señalarse que esto no es una validación, es decir, todavía se puede mezclar el significado de 'Modelo' construyéndolo con cualquier cadena, la única pieza de código que es la función 'printModel' está protegida por el único tipo de unión discriminada. Entonces, este tipo no reemplaza la validación, pero le brinda un código más limpio."
   ]
  },
  {
   "cell_type": "markdown",
   "metadata": {
    "lang": "es"
   },
   "source": [
    "### Terminando\n",
    "\n",
    "El tipo de unión discriminada en ambas variantes (simple y múltiple) es un aspecto clave de la programación funcional en F\\#. La capacidad de describir colecciones bien predefinidas con un solo tipo simplifica los códigos y los hace robustos. La especificación exhaustiva de coincidencia de patrones (supervisada por el compilador F\\# entre bastidores) garantiza que el programador se ocupe de todos los casos de la unión discriminada y que no se deje ni un solo caso con posibles agujeros en el código.\n",
    "\n",
    "El tipo de unión discriminada es la forma en que F\\# representa un _tipo de suma_, como se llama a este tipo de tipos en la teoría algebraica de tipos."
   ]
  },
  {
   "cell_type": "code",
   "execution_count": null,
   "metadata": {
    "dotnet_interactive": {
     "language": "fsharp"
    },
    "polyglot_notebook": {
     "kernelName": "fsharp"
    },
    "vscode": {
     "languageId": "polyglot-notebook"
    }
   },
   "outputs": [],
   "source": []
  },
  {
   "cell_type": "code",
   "execution_count": null,
   "metadata": {
    "dotnet_interactive": {
     "language": "csharp"
    },
    "polyglot_notebook": {
     "kernelName": "csharp"
    },
    "vscode": {
     "languageId": "polyglot-notebook"
    }
   },
   "outputs": [],
   "source": []
  }
 ],
 "metadata": {
  "kernelspec": {
   "display_name": ".NET (C#)",
   "language": "C#",
   "name": ".net-csharp"
  },
  "language_info": {
   "file_extension": ".cs",
   "mimetype": "text/x-csharp",
   "name": "C#",
   "pygments_lexer": "csharp",
   "version": "8.0"
  },
  "nbTranslate": {
   "displayLangs": [
    "es"
   ],
   "hotkey": "alt-t",
   "langInMainMenu": true,
   "sourceLang": "en",
   "targetLang": "es",
   "useGoogleTranslate": true
  },
  "polyglot_notebook": {
   "kernelInfo": {
    "defaultKernelName": "csharp",
    "items": [
     {
      "aliases": [
       "c#",
       "C#"
      ],
      "languageName": "C#",
      "name": "csharp"
     },
     {
      "aliases": [],
      "languageName": null,
      "name": ".NET"
     },
     {
      "aliases": [
       "f#",
       "F#"
      ],
      "languageName": "F#",
      "name": "fsharp"
     },
     {
      "aliases": [],
      "languageName": "HTML",
      "name": "html"
     },
     {
      "aliases": [],
      "languageName": "KQL",
      "name": "kql"
     },
     {
      "aliases": [],
      "languageName": "Mermaid",
      "name": "mermaid"
     },
     {
      "aliases": [
       "powershell"
      ],
      "languageName": "PowerShell",
      "name": "pwsh"
     },
     {
      "aliases": [],
      "languageName": "SQL",
      "name": "sql"
     },
     {
      "aliases": [],
      "name": "value"
     },
     {
      "aliases": [
       "frontend"
      ],
      "languageName": null,
      "name": "vscode"
     },
     {
      "aliases": [
       "js"
      ],
      "languageName": "JavaScript",
      "name": "javascript"
     },
     {
      "aliases": [],
      "name": "webview"
     }
    ]
   }
  }
 },
 "nbformat": 4,
 "nbformat_minor": 2
}
