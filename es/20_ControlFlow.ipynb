{
 "cells": [
  {
   "attachments": {},
   "cell_type": "markdown",
   "metadata": {},
   "source": [
    "\n",
    "## Manejando por las ramas con `if`, _pattern matching_ y recursión.\n",
    "\n",
    "Uno de los conceptos más importantes en programación es el control de flujo. Éste se refiere a la posibilidad del código de manejar diferentes caminos de ejecución de acuerdo a condiciones que aparecen al procesar datos. Por ejemplo, el usuario de la máquina expendedora puede pagar con billetes, monedas o tarjeta de crédito, y el sistema de software debe poder acomodar todos esos casos.\n",
    "\n",
    "En la mayoría de los lenguajes existe la sentencia `if condición then ... else`, que permite administrar el código de acuerdo a si la condición es verdadera o falsa. \n",
    "\n",
    "Sin embargo, en F#, no tenemos sentencias sino expresiones, con lo cual el `if` también es evaluado como una expresión y debe devolver un valor. Por ejemplo, podemos evaluar la función $|x|$:"
   ]
  },
  {
   "cell_type": "code",
   "execution_count": 2,
   "metadata": {
    "dotnet_interactive": {
     "language": "fsharp"
    },
    "polyglot_notebook": {
     "kernelName": "fsharp"
    }
   },
   "outputs": [
    {
     "name": "stdout",
     "output_type": "stream",
     "text": [
      "4\n",
      "5\n"
     ]
    }
   ],
   "source": [
    "let absoluteValue x =\n",
    "    let v = \n",
    "        if x < 0 then\n",
    "            -x \n",
    "        else \n",
    "            x\n",
    "    v\n",
    "\n",
    "printfn \"%A\" (absoluteValue 4)\n",
    "printfn \"%A\" (absoluteValue -5)"
   ]
  },
  {
   "attachments": {},
   "cell_type": "markdown",
   "metadata": {},
   "source": [
    "En este ejemplo, el resultado de la evaluación de la expresión `if` se guarda en el identificador `v` que es el valor de retorno de la función. Se puede escribir el `if` en una sola línea:"
   ]
  },
  {
   "cell_type": "code",
   "execution_count": 4,
   "metadata": {
    "dotnet_interactive": {
     "language": "fsharp"
    },
    "polyglot_notebook": {
     "kernelName": "fsharp"
    }
   },
   "outputs": [
    {
     "name": "stdout",
     "output_type": "stream",
     "text": [
      "2\n",
      "8\n"
     ]
    }
   ],
   "source": [
    "let absoluteValue2 x =\n",
    "    let v = if x < 0 then -x else x \n",
    "    v\n",
    "            \n",
    "printfn \"%A\" (absoluteValue2 2)\n",
    "printfn \"%A\" (absoluteValue2 -8)"
   ]
  },
  {
   "attachments": {},
   "cell_type": "markdown",
   "metadata": {},
   "source": [
    "E incluso no es necesario usar `v`, ya que el condicional se evalúa y su resultado es el que devuelve la función:"
   ]
  },
  {
   "cell_type": "code",
   "execution_count": 6,
   "metadata": {
    "dotnet_interactive": {
     "language": "fsharp"
    },
    "polyglot_notebook": {
     "kernelName": "fsharp"
    }
   },
   "outputs": [
    {
     "name": "stdout",
     "output_type": "stream",
     "text": [
      "2\n",
      "8\n"
     ]
    }
   ],
   "source": [
    "let absoluteValueOneliner x =\n",
    "    if x < 0 then -x else x \n",
    "    \n",
    "            \n",
    "printfn \"%A\" (absoluteValueOneliner 2)\n",
    "printfn \"%A\" (absoluteValueOneliner -8)"
   ]
  },
  {
   "attachments": {},
   "cell_type": "markdown",
   "metadata": {},
   "source": [
    "La expresión `if` no es más que un _edulcorante sintáctico_ para una expresión de pattern matching:"
   ]
  },
  {
   "cell_type": "code",
   "execution_count": 7,
   "metadata": {
    "dotnet_interactive": {
     "language": "fsharp"
    },
    "polyglot_notebook": {
     "kernelName": "fsharp"
    }
   },
   "outputs": [
    {
     "name": "stdout",
     "output_type": "stream",
     "text": [
      "2\n",
      "8\n"
     ]
    }
   ],
   "source": [
    "let absoluteValuePM x =\n",
    "    match x < 0 with \n",
    "    | true -> -x \n",
    "    | false -> x \n",
    "    \n",
    "            \n",
    "printfn \"%A\" (absoluteValuePM 2)\n",
    "printfn \"%A\" (absoluteValuePM -8)"
   ]
  },
  {
   "attachments": {},
   "cell_type": "markdown",
   "metadata": {},
   "source": [
    "En efecto, la expresión `x < 0` es de tipo `bool`, que tiene dos casos posibles, `true` y `false`.  \n",
    "\n",
    "Obsérvese también que ambas ramas del condicional deben evaluarse al mismo tipo de dato, en el ejemplo anterior, `int`. \n",
    "\n",
    "El lenguaje no provee otra variante del condicional `if`, porque para eso está...\n"
   ]
  },
  {
   "attachments": {},
   "cell_type": "markdown",
   "metadata": {},
   "source": [
    "### Pattern Matching\n",
    "\n",
    "Una de las fortalezas del lenguaje radica en la construcción de _pattern matching_. Hasta ahora la hemos usado para seleccionar los casos posibles en una unión discriminada. Sin embargo, el _pattern matching_ es más general y, a diferencia del `if`, permite crear múltiples ramas. Para ello se usa la palabra reservada `when`, de la siguiente manera:"
   ]
  },
  {
   "cell_type": "markdown",
   "metadata": {},
   "source": []
  },
  {
   "cell_type": "code",
   "execution_count": 11,
   "metadata": {
    "dotnet_interactive": {
     "language": "fsharp"
    },
    "polyglot_notebook": {
     "kernelName": "fsharp"
    }
   },
   "outputs": [
    {
     "name": "stdout",
     "output_type": "stream",
     "text": [
      "No vota ni puede comprar vino\n",
      "Puede votar, pero no comprar vino\n",
      "Puede votar y comprar vino\n"
     ]
    }
   ],
   "source": [
    "let votingAge = 16\n",
    "let buyingOHAge = 18 \n",
    "\n",
    "let checkAge (age: int) =\n",
    "    match age with \n",
    "    | a when a < votingAge -> printfn \"No vota ni puede comprar vino\"\n",
    "    | a when a >= votingAge && a < buyingOHAge -> printfn \"Puede votar, pero no comprar vino\"\n",
    "    | a when a >= buyingOHAge -> printfn \"Puede votar y comprar vino\" \n",
    "\n",
    "\n",
    "checkAge 15\n",
    "checkAge 17\n",
    "checkAge 50"
   ]
  },
  {
   "attachments": {},
   "cell_type": "markdown",
   "metadata": {},
   "source": [
    "En este caso el _pattern matching_ nos permite decidir entre tres opciones de la edad. Notar que la función `checkAge` retorna el tipo `unit`. Otro ejemplo sería:"
   ]
  },
  {
   "cell_type": "code",
   "execution_count": 2,
   "metadata": {
    "dotnet_interactive": {
     "language": "fsharp"
    },
    "polyglot_notebook": {
     "kernelName": "fsharp"
    }
   },
   "outputs": [
    {
     "name": "stdout",
     "output_type": "stream",
     "text": [
      "\"Alarm: Red\"\n",
      "\"Alarm: Yellow\"\n",
      "\"Alarm: Freezing\"\n"
     ]
    }
   ],
   "source": [
    "type WeatherWarning = \n",
    "    | Freezing \n",
    "    | YellowAlertHot\n",
    "    | RedAlertHot \n",
    "    | NoAlarm \n",
    "\n",
    "let emitAlarm warning = \n",
    "    match warning with \n",
    "    | Freezing -> printfn \"%A\" \"Alarm: Freezing\"\n",
    "    | YellowAlertHot-> printfn \"%A\" \"Alarm: Yellow\"\n",
    "    | RedAlertHot -> printfn \"%A\" \"Alarm: Red\"\n",
    "    | NoAlarm  -> printfn \"%A\" \"It's fine \"\n",
    "\n",
    "let checkTempForWarning temp =\n",
    "    match temp with \n",
    "    | t when t <= 0 -> Freezing \n",
    "    | t when t > 33 && t < 39 -> YellowAlertHot\n",
    "    | t when t >= 39 -> RedAlertHot\n",
    "    | _ -> NoAlarm     \n",
    "\n",
    "emitAlarm (checkTempForWarning 43)\n",
    "\n",
    "checkTempForWarning 37\n",
    "|> emitAlarm \n",
    "\n",
    "-3 \n",
    "|> checkTempForWarning \n",
    "|> emitAlarm \n",
    "\n"
   ]
  },
  {
   "cell_type": "code",
   "execution_count": 5,
   "metadata": {
    "dotnet_interactive": {
     "language": "fsharp"
    },
    "polyglot_notebook": {
     "kernelName": "fsharp"
    }
   },
   "outputs": [
    {
     "data": {
      "text/html": [
       "<details open=\"open\" class=\"dni-treeview\"><summary><span class=\"dni-code-hint\"><code>RedAlertHot</code></span></summary><div><table><thead><tr></tr></thead><tbody></tbody></table></div></details><style>\r\n",
       ".dni-code-hint {\r\n",
       "    font-style: italic;\r\n",
       "    overflow: hidden;\r\n",
       "    white-space: nowrap;\r\n",
       "}\r\n",
       ".dni-treeview {\r\n",
       "    white-space: nowrap;\r\n",
       "}\r\n",
       ".dni-treeview td {\r\n",
       "    vertical-align: top;\r\n",
       "    text-align: start;\r\n",
       "}\r\n",
       "details.dni-treeview {\r\n",
       "    padding-left: 1em;\r\n",
       "}\r\n",
       "table td {\r\n",
       "    text-align: start;\r\n",
       "}\r\n",
       "table tr { \r\n",
       "    vertical-align: top; \r\n",
       "    margin: 0em 0px;\r\n",
       "}\r\n",
       "table tr td pre \r\n",
       "{ \r\n",
       "    vertical-align: top !important; \r\n",
       "    margin: 0em 0px !important;\r\n",
       "} \r\n",
       "table th {\r\n",
       "    text-align: start;\r\n",
       "}\r\n",
       "</style>"
      ]
     },
     "metadata": {},
     "output_type": "display_data"
    }
   ],
   "source": [
    "checkTempForWarning 43\n",
    "\n",
    "checkTempForWarning -4\n",
    "\n",
    "45 \n",
    "|> checkTempForWarning \n"
   ]
  },
  {
   "cell_type": "code",
   "execution_count": 3,
   "metadata": {
    "dotnet_interactive": {
     "language": "fsharp"
    },
    "polyglot_notebook": {
     "kernelName": "fsharp"
    }
   },
   "outputs": [],
   "source": [
    "type WeatherWarningXtreme = \n",
    "    | Freezing \n",
    "    | TooCold\n",
    "    | Superconducting\n",
    "\n",
    "let checkTempForWarning2 temp =\n",
    "    match temp with \n",
    "    | t when t <= 0 -> Freezing\n",
    "    | t when t > -200 && t<0 -> TooCold\n",
    "    | t when t < -200 -> Superconducting\n",
    "    // | _ -> NoAlarm     "
   ]
  },
  {
   "attachments": {},
   "cell_type": "markdown",
   "metadata": {},
   "source": [
    "Un ejemplo más para ver cómo es la sintaxis del _pattern matching_ en la situación en que se quieren agrupar casos:"
   ]
  },
  {
   "cell_type": "code",
   "execution_count": 15,
   "metadata": {
    "dotnet_interactive": {
     "language": "fsharp"
    },
    "polyglot_notebook": {
     "kernelName": "fsharp"
    }
   },
   "outputs": [
    {
     "name": "stdout",
     "output_type": "stream",
     "text": [
      "4\n",
      "4\n",
      "2\n"
     ]
    }
   ],
   "source": [
    "type Animals =\n",
    "    | Cat\n",
    "    | Dog \n",
    "    | Eagle  \n",
    "\n",
    "let howManyLegs animal =\n",
    "    match animal with\n",
    "    | Animals.Cat | Animals.Dog -> 4  // grouping two cases\n",
    "    | Animals.Eagle -> 2\n",
    "\n",
    "printfn \"%A\" (howManyLegs Animals.Cat)\n",
    "printfn \"%A\" (howManyLegs Animals.Dog)\n",
    "printfn \"%A\" (howManyLegs Animals.Eagle)\n"
   ]
  },
  {
   "attachments": {},
   "cell_type": "markdown",
   "metadata": {},
   "source": [
    "Esto es posible en el caso en que el _pattern matching_ sea contra expresiones que son o representan constantes. "
   ]
  },
  {
   "attachments": {},
   "cell_type": "markdown",
   "metadata": {},
   "source": [
    "## Reemplazando el `for` por recursión\n",
    "\n",
    "Dado que el loop `for` habitual requiere (ya sea explicita o implícitamente) algún tipo de contador que se va actualizando, esto es, es una _variable_, es necesario contar con una forma de poder hacer loops sin el `for`. Para ello se utiliza la recursión en todos los lenguajes funcionales. \n",
    "\n",
    "Por ejemplo, si uno tiene el loop\n",
    "\n",
    "```c\n",
    "    for(int i = 0; i < n; i++)\n",
    "    {\n",
    "        printf(\"%d\\n\",i);\n",
    "    }\n",
    "```"
   ]
  },
  {
   "attachments": {},
   "cell_type": "markdown",
   "metadata": {},
   "source": [
    "Se reemplazará por una función recursiva:"
   ]
  },
  {
   "cell_type": "code",
   "execution_count": 5,
   "metadata": {
    "dotnet_interactive": {
     "language": "fsharp"
    },
    "polyglot_notebook": {
     "kernelName": "fsharp"
    }
   },
   "outputs": [
    {
     "name": "stdout",
     "output_type": "stream",
     "text": [
      "0\n",
      "1\n",
      "2\n",
      "done\n"
     ]
    }
   ],
   "source": [
    "let printNumbers n = \n",
    "\n",
    "    let rec loop i n =\n",
    "        if i < n then\n",
    "            printfn \"%d\" i\n",
    "            loop (i + 1) n\n",
    "        else \n",
    "            printfn \"done\"\n",
    "\n",
    "    loop 0 n\n",
    "\n",
    "printNumbers 3    "
   ]
  },
  {
   "attachments": {},
   "cell_type": "markdown",
   "metadata": {},
   "source": [
    "El primer punto a notar es que, dado que en el lenguaje hay solo expresiones, los loops `for` van a aparecer representados por funciones, ya no es posible tener un loop como un conjunto de sentencias que se ejecutan. En general los loops como sentencias implican también una aplicación sobre variables de lo que sucede dentro del loop. \n",
    "\n"
   ]
  },
  {
   "attachments": {},
   "cell_type": "markdown",
   "metadata": {},
   "source": [
    "Veamos el clásico ejemplo de la serie de Fibonacci:\n",
    "$$\n",
    "a_n = a_{n-1} + a_{n-2}\n",
    "$$\n",
    "con $a_0=0$ y $a_1=1$.\n",
    "\n",
    "Este ejemplo, escrito en C sería:\n",
    "```c\n",
    "int fib(int n) {\n",
    "    int prev1 = 0, prev2 = 1, curr = 0;\n",
    "    if (n == 0)\n",
    "        return prev1;\n",
    "    else if (n == 1)\n",
    "        return prev2;\n",
    "    else {\n",
    "        for (int i = 2; i <= n; i++) {\n",
    "            curr = prev1 + prev2;\n",
    "            prev1 = prev2;\n",
    "            prev2 = curr;\n",
    "        }\n",
    "        return curr;\n",
    "    }\n",
    "}\n",
    "```\n",
    "\n",
    "La versión no recursiva implica guardar el estado de los dos valores previos de la serie dentro de la función, que se realiza al usar `prev1=0` y `prev2=1`. "
   ]
  },
  {
   "attachments": {},
   "cell_type": "markdown",
   "metadata": {},
   "source": [
    "La versión recursiva en C sería \n",
    "```c\n",
    "int fib(int n) {\n",
    "    if (n < 2)\n",
    "        return n;\n",
    "    else\n",
    "        return fib(n-1) + fib(n-2);\n",
    "}\n",
    "```"
   ]
  },
  {
   "cell_type": "markdown",
   "metadata": {},
   "source": [
    "En F# la recursión funciona en forma similar, aunque se puede utilizar _pattern matching_:"
   ]
  },
  {
   "cell_type": "code",
   "execution_count": 18,
   "metadata": {
    "dotnet_interactive": {
     "language": "fsharp"
    },
    "polyglot_notebook": {
     "kernelName": "fsharp"
    }
   },
   "outputs": [
    {
     "name": "stdout",
     "output_type": "stream",
     "text": [
      "55\n"
     ]
    }
   ],
   "source": [
    "let rec fib n  = \n",
    "    match n with\n",
    "    | 0 | 1 -> n\n",
    "    | n -> fib (n-1) + fib (n - 2)\n",
    "    \n",
    "fib 10 |> printfn \"%i\" "
   ]
  },
  {
   "attachments": {},
   "cell_type": "markdown",
   "metadata": {},
   "source": [
    "Uno podría estar interesado en sumar una serie de números, por ejemplo calcular la serie\n",
    "$$\n",
    "1 + \\frac{1}{2} + \\frac{1}{3} + \\cdots + \\frac{1}{n}\n",
    "$$\n",
    "hasta un cierto valor de $n$:"
   ]
  },
  {
   "cell_type": "code",
   "execution_count": 22,
   "metadata": {
    "dotnet_interactive": {
     "language": "fsharp"
    },
    "polyglot_notebook": {
     "kernelName": "fsharp"
    }
   },
   "outputs": [
    {
     "name": "stdout",
     "output_type": "stream",
     "text": [
      "5.187377518\n"
     ]
    }
   ],
   "source": [
    "let rec sumSeries n =\n",
    "    match n with\n",
    "    | 0 -> 0.0\n",
    "    | n -> 1.0/(float n) + sumSeries(n-1)\n",
    "\n",
    "printfn \"%A\" (sumSeries 100)    "
   ]
  },
  {
   "attachments": {},
   "cell_type": "markdown",
   "metadata": {},
   "source": [
    "En la práctica, la forma más pura de programar una recursión no es la más adecuada. Por ejemplo, en el caso de la sucesión de Fibonacci, hay llamados a la función recursiva que recalculan valores que efectivamente ya fueron calculados. Por eso se utiliza frecuentemente el método conocido como _tail recursion_. En este caso, se previene el llamado innecesario a la función recursiva introduciendo nuevos valores que van llevando la información del estado anterior de la recursión al cálculo presente:"
   ]
  },
  {
   "cell_type": "code",
   "execution_count": null,
   "metadata": {
    "dotnet_interactive": {
     "language": "fsharp"
    },
    "polyglot_notebook": {
     "kernelName": "fsharp"
    }
   },
   "outputs": [],
   "source": [
    "let fib n =\n",
    "    let rec loop acc1 acc2 n =\n",
    "        match n with\n",
    "        | 0 -> acc1\n",
    "        | 1 -> acc2\n",
    "        | _ ->\n",
    "            loop acc2 (acc1 + acc2) (n - 1)\n",
    "    loop 0 1 n"
   ]
  },
  {
   "attachments": {},
   "cell_type": "markdown",
   "metadata": {},
   "source": [
    "En este caso la función exterior `fib` no es recursiva en sí misma, pero utiliza una función recursiva en su interior, denominada `loop`. Los valores `acc1` y `acc2` son los encargados de llevar la información de los elementos previos de la serie necesarios para calcular el elemento presente."
   ]
  },
  {
   "attachments": {},
   "cell_type": "markdown",
   "metadata": {},
   "source": [
    "> 👀 Es importante recordar que F# es un lenguaje _multiparadigma_, así que, estrictamente hablando, sí posee un `for` parecido al que uno conoce en otros lenguajes. En este curso en particular nos estamos enfocando en el paradigma funcional de F#, con lo cual **elegimos** descartar el uso del `for` tradicional."
   ]
  }
 ],
 "metadata": {
  "kernelspec": {
   "display_name": ".NET (C#)",
   "language": "C#",
   "name": ".net-csharp"
  },
  "language_info": {
   "name": "polyglot-notebook"
  },
  "polyglot_notebook": {
   "kernelInfo": {
    "defaultKernelName": "csharp",
    "items": [
     {
      "aliases": [
       "C#",
       "c#"
      ],
      "languageName": "C#",
      "name": "csharp"
     },
     {
      "aliases": [],
      "languageName": "Mermaid",
      "name": "mermaid"
     },
     {
      "aliases": [
       "frontend"
      ],
      "name": "vscode"
     }
    ]
   }
  }
 },
 "nbformat": 4,
 "nbformat_minor": 2
}
