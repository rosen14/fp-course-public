{
 "cells": [
  {
   "cell_type": "markdown",
   "metadata": {},
   "source": [
    "## Más allá de las excepciones: `Result`"
   ]
  },
  {
   "attachments": {},
   "cell_type": "markdown",
   "metadata": {},
   "source": [
    "Hemos visto que las excepciones que emite un programa pueden alterar el flujo de trabajo del mismo. En el caso en que las excepciones no son capturadas, el programa simplemente termina, con los consiguientes perjucios para el usuario.\n",
    "\n",
    "Vimos también que tenemos la posibilidad de emitir nuestras propias excepciones, sin utilizar las propias del sistema operativo. \n",
    "\n",
    "En el ejemplo previo, teníamos una función `divide` que emitía cierto tipo de excepciones de acuerdo a casos que son errores (ya sea porque se trata de realizar una operación prohibida), o casos en los cuales el caso de uso no está permitido por el sistema (como dividir por uno).  \n",
    "\n",
    "\n"
   ]
  },
  {
   "cell_type": "code",
   "execution_count": 2,
   "metadata": {
    "dotnet_interactive": {
     "language": "fsharp"
    },
    "polyglot_notebook": {
     "kernelName": "fsharp"
    },
    "vscode": {
     "languageId": "polyglot-notebook"
    }
   },
   "outputs": [],
   "source": [
    "exception DivideByOne of string \n",
    "\n",
    "let divide x y =\n",
    "    match y with \n",
    "    | 0.0 -> invalidOp \"Trying to divide by zero!!\" \n",
    "    | 1.0 -> raise (DivideByOne \"Can't believe you are trying to divide by one\")\n",
    "    | _ -> x/y \n"
   ]
  },
  {
   "attachments": {},
   "cell_type": "markdown",
   "metadata": {},
   "source": [
    "Por otra parte, teníamos la función `annoyedDivide` que es quien llama a `divide` y es la encargada de capturar los posibles errores a través de excepciones:"
   ]
  },
  {
   "cell_type": "code",
   "execution_count": 3,
   "metadata": {
    "dotnet_interactive": {
     "language": "fsharp"
    },
    "polyglot_notebook": {
     "kernelName": "fsharp"
    },
    "vscode": {
     "languageId": "polyglot-notebook"
    }
   },
   "outputs": [],
   "source": [
    "let annoyedDivide x y =\n",
    "    try \n",
    "        divide x y \n",
    "    with \n",
    "    | DivideByOne s -> \n",
    "        printfn \"%A\" (s)\n",
    "        -1.0\n",
    "    | :? System.InvalidOperationException as ex -> \n",
    "        printfn \"Message: %A\" (ex.Message)\n",
    "        -1.0          \n",
    "\n",
    "        "
   ]
  },
  {
   "attachments": {},
   "cell_type": "markdown",
   "metadata": {},
   "source": [
    "Qué pasaría si además de dividir dos números, tenemos que calcular la raíz cuadrada del resultado? Tendríamos que usar la función `sqrt`"
   ]
  },
  {
   "cell_type": "code",
   "execution_count": 3,
   "metadata": {
    "dotnet_interactive": {
     "language": "fsharp"
    },
    "polyglot_notebook": {
     "kernelName": "fsharp"
    },
    "vscode": {
     "languageId": "polyglot-notebook"
    }
   },
   "outputs": [
    {
     "name": "stdout",
     "output_type": "stream",
     "text": [
      "Sqrt 4: 2\n",
      "Sqrt 4: NaN\n"
     ]
    }
   ],
   "source": [
    "printfn $\"Sqrt 4: {sqrt 4.0}\"\n",
    "printfn $\"Sqrt 4: {sqrt -4.0}\""
   ]
  },
  {
   "attachments": {},
   "cell_type": "markdown",
   "metadata": {},
   "source": [
    "Pero tenemos que validar que el input de la función no sea negativo:"
   ]
  },
  {
   "cell_type": "code",
   "execution_count": 4,
   "metadata": {
    "dotnet_interactive": {
     "language": "fsharp"
    },
    "polyglot_notebook": {
     "kernelName": "fsharp"
    },
    "vscode": {
     "languageId": "polyglot-notebook"
    }
   },
   "outputs": [],
   "source": [
    "exception CannotSqrtOfNegative of string \n",
    "\n",
    "let squareRoot (x: float) = \n",
    "    if x < 0 then \n",
    "        raise (CannotSqrtOfNegative \"Cannot compute sqrt of a negative number\")\n",
    "    else \n",
    "        sqrt x         "
   ]
  },
  {
   "cell_type": "code",
   "execution_count": 5,
   "metadata": {
    "dotnet_interactive": {
     "language": "fsharp"
    },
    "polyglot_notebook": {
     "kernelName": "fsharp"
    },
    "vscode": {
     "languageId": "polyglot-notebook"
    }
   },
   "outputs": [
    {
     "name": "stdout",
     "output_type": "stream",
     "text": [
      "2.0\n"
     ]
    },
    {
     "ename": "Error",
     "evalue": "FSI_0008+CannotSqrtOfNegative: CannotSqrtOfNegative \"Cannot compute sqrt of a negative number\"\n   at FSI_0008.squareRoot(Double x)\n   at <StartupCode$FSI_0009>.$FSI_0009.main@()\n   at System.RuntimeMethodHandle.InvokeMethod(Object target, Void** arguments, Signature sig, Boolean isConstructor)\n   at System.Reflection.MethodBaseInvoker.InvokeWithNoArgs(Object obj, BindingFlags invokeAttr)",
     "output_type": "error",
     "traceback": [
      "FSI_0008+CannotSqrtOfNegative: CannotSqrtOfNegative \"Cannot compute sqrt of a negative number\"\n",
      "   at FSI_0008.squareRoot(Double x)\n",
      "   at <StartupCode$FSI_0009>.$FSI_0009.main@()\n",
      "   at System.RuntimeMethodHandle.InvokeMethod(Object target, Void** arguments, Signature sig, Boolean isConstructor)\n",
      "   at System.Reflection.MethodBaseInvoker.InvokeWithNoArgs(Object obj, BindingFlags invokeAttr)"
     ]
    }
   ],
   "source": [
    "printfn \"%A\" (squareRoot 4.0)\n",
    "printfn \"%A\" (squareRoot -4.0)"
   ]
  },
  {
   "cell_type": "code",
   "execution_count": 6,
   "metadata": {
    "dotnet_interactive": {
     "language": "fsharp"
    },
    "polyglot_notebook": {
     "kernelName": "fsharp"
    },
    "vscode": {
     "languageId": "polyglot-notebook"
    }
   },
   "outputs": [],
   "source": [
    "let annoyedSqrt x =\n",
    "    try \n",
    "        squareRoot x \n",
    "    with \n",
    "    | CannotSqrtOfNegative s -> \n",
    "        printfn \"Message: %A\" s\n",
    "        -1 \n"
   ]
  },
  {
   "attachments": {},
   "cell_type": "markdown",
   "metadata": {},
   "source": [
    "Una vez más nos encontramos con el problema sobre qué retornar cuando se captura la excepción."
   ]
  },
  {
   "cell_type": "code",
   "execution_count": 7,
   "metadata": {
    "dotnet_interactive": {
     "language": "fsharp"
    },
    "polyglot_notebook": {
     "kernelName": "fsharp"
    },
    "vscode": {
     "languageId": "polyglot-notebook"
    }
   },
   "outputs": [
    {
     "data": {
      "text/html": [
       "<div class=\"dni-plaintext\"><pre>1.2909944487358056</pre></div><style>\r\n",
       ".dni-code-hint {\r\n",
       "    font-style: italic;\r\n",
       "    overflow: hidden;\r\n",
       "    white-space: nowrap;\r\n",
       "}\r\n",
       ".dni-treeview {\r\n",
       "    white-space: nowrap;\r\n",
       "}\r\n",
       ".dni-treeview td {\r\n",
       "    vertical-align: top;\r\n",
       "    text-align: start;\r\n",
       "}\r\n",
       "details.dni-treeview {\r\n",
       "    padding-left: 1em;\r\n",
       "}\r\n",
       "table td {\r\n",
       "    text-align: start;\r\n",
       "}\r\n",
       "table tr { \r\n",
       "    vertical-align: top; \r\n",
       "    margin: 0em 0px;\r\n",
       "}\r\n",
       "table tr td pre \r\n",
       "{ \r\n",
       "    vertical-align: top !important; \r\n",
       "    margin: 0em 0px !important;\r\n",
       "} \r\n",
       "table th {\r\n",
       "    text-align: start;\r\n",
       "}\r\n",
       "</style>"
      ]
     },
     "metadata": {},
     "output_type": "display_data"
    }
   ],
   "source": [
    "let x = 5.0\n",
    "let y = 3.0 \n",
    "\n",
    "sqrt (x/y)"
   ]
  },
  {
   "cell_type": "code",
   "execution_count": 8,
   "metadata": {
    "dotnet_interactive": {
     "language": "fsharp"
    },
    "polyglot_notebook": {
     "kernelName": "fsharp"
    },
    "vscode": {
     "languageId": "polyglot-notebook"
    }
   },
   "outputs": [
    {
     "name": "stdout",
     "output_type": "stream",
     "text": [
      "Message: \"Trying to divide by zero!!\"\n"
     ]
    },
    {
     "data": {
      "text/html": [
       "<div class=\"dni-plaintext\"><pre>NaN</pre></div><style>\r\n",
       ".dni-code-hint {\r\n",
       "    font-style: italic;\r\n",
       "    overflow: hidden;\r\n",
       "    white-space: nowrap;\r\n",
       "}\r\n",
       ".dni-treeview {\r\n",
       "    white-space: nowrap;\r\n",
       "}\r\n",
       ".dni-treeview td {\r\n",
       "    vertical-align: top;\r\n",
       "    text-align: start;\r\n",
       "}\r\n",
       "details.dni-treeview {\r\n",
       "    padding-left: 1em;\r\n",
       "}\r\n",
       "table td {\r\n",
       "    text-align: start;\r\n",
       "}\r\n",
       "table tr { \r\n",
       "    vertical-align: top; \r\n",
       "    margin: 0em 0px;\r\n",
       "}\r\n",
       "table tr td pre \r\n",
       "{ \r\n",
       "    vertical-align: top !important; \r\n",
       "    margin: 0em 0px !important;\r\n",
       "} \r\n",
       "table th {\r\n",
       "    text-align: start;\r\n",
       "}\r\n",
       "</style>"
      ]
     },
     "metadata": {},
     "output_type": "display_data"
    }
   ],
   "source": [
    "let x = 5\n",
    "let y = 0 \n",
    "\n",
    "sqrt  (annoyedDivide x y)"
   ]
  },
  {
   "cell_type": "code",
   "execution_count": 9,
   "metadata": {
    "dotnet_interactive": {
     "language": "fsharp"
    },
    "polyglot_notebook": {
     "kernelName": "fsharp"
    },
    "vscode": {
     "languageId": "polyglot-notebook"
    }
   },
   "outputs": [
    {
     "name": "stdout",
     "output_type": "stream",
     "text": [
      "Message: \"Cannot compute sqrt of a negative number\"\n"
     ]
    },
    {
     "data": {
      "text/html": [
       "<div class=\"dni-plaintext\"><pre>-1</pre></div><style>\r\n",
       ".dni-code-hint {\r\n",
       "    font-style: italic;\r\n",
       "    overflow: hidden;\r\n",
       "    white-space: nowrap;\r\n",
       "}\r\n",
       ".dni-treeview {\r\n",
       "    white-space: nowrap;\r\n",
       "}\r\n",
       ".dni-treeview td {\r\n",
       "    vertical-align: top;\r\n",
       "    text-align: start;\r\n",
       "}\r\n",
       "details.dni-treeview {\r\n",
       "    padding-left: 1em;\r\n",
       "}\r\n",
       "table td {\r\n",
       "    text-align: start;\r\n",
       "}\r\n",
       "table tr { \r\n",
       "    vertical-align: top; \r\n",
       "    margin: 0em 0px;\r\n",
       "}\r\n",
       "table tr td pre \r\n",
       "{ \r\n",
       "    vertical-align: top !important; \r\n",
       "    margin: 0em 0px !important;\r\n",
       "} \r\n",
       "table th {\r\n",
       "    text-align: start;\r\n",
       "}\r\n",
       "</style>"
      ]
     },
     "metadata": {},
     "output_type": "display_data"
    }
   ],
   "source": [
    "let x = -5\n",
    "let y = 3 \n",
    "\n",
    "annoyedSqrt  (annoyedDivide x y)"
   ]
  },
  {
   "cell_type": "code",
   "execution_count": 10,
   "metadata": {
    "dotnet_interactive": {
     "language": "fsharp"
    },
    "polyglot_notebook": {
     "kernelName": "fsharp"
    },
    "vscode": {
     "languageId": "polyglot-notebook"
    }
   },
   "outputs": [
    {
     "name": "stdout",
     "output_type": "stream",
     "text": [
      "Message: \"Cannot compute sqrt of a negative number\"\n"
     ]
    },
    {
     "data": {
      "text/html": [
       "<div class=\"dni-plaintext\"><pre>-1</pre></div><style>\r\n",
       ".dni-code-hint {\r\n",
       "    font-style: italic;\r\n",
       "    overflow: hidden;\r\n",
       "    white-space: nowrap;\r\n",
       "}\r\n",
       ".dni-treeview {\r\n",
       "    white-space: nowrap;\r\n",
       "}\r\n",
       ".dni-treeview td {\r\n",
       "    vertical-align: top;\r\n",
       "    text-align: start;\r\n",
       "}\r\n",
       "details.dni-treeview {\r\n",
       "    padding-left: 1em;\r\n",
       "}\r\n",
       "table td {\r\n",
       "    text-align: start;\r\n",
       "}\r\n",
       "table tr { \r\n",
       "    vertical-align: top; \r\n",
       "    margin: 0em 0px;\r\n",
       "}\r\n",
       "table tr td pre \r\n",
       "{ \r\n",
       "    vertical-align: top !important; \r\n",
       "    margin: 0em 0px !important;\r\n",
       "} \r\n",
       "table th {\r\n",
       "    text-align: start;\r\n",
       "}\r\n",
       "</style>"
      ]
     },
     "metadata": {},
     "output_type": "display_data"
    }
   ],
   "source": [
    "let x = -5\n",
    "let y = 3 \n",
    "\n",
    "annoyedDivide x y\n",
    "|> annoyedSqrt"
   ]
  },
  {
   "attachments": {},
   "cell_type": "markdown",
   "metadata": {},
   "source": [
    "### El tipo `Result`\n",
    "\n",
    "Para solucionar los inconvenientes que presenta esta aproximación al manejo de errores, F# provee un tipo de dato a tal efecto. Observemos que tanto `divide` como `squareRoot` tienen dos salidas posibles, dependiendo de si el cálculo se puede efectuar o si hay algún error. En ningún caso uno puede estar en ambas situaciones al mismo tiempo, es decir, son situaciones _disjuntas_. Para eso están las uniones discriminadas!\n",
    "\n",
    "El lenguaje define un tipo de unión particular, denominado `Result`:\n",
    "\n",
    "```fsharp\n",
    "type Result<'T,'TError> =\n",
    "    | Ok of 'T\n",
    "    | Error of 'TError\n",
    "```\n",
    "\n",
    "`Result es un tipo genérico que puede encontrarse en alguno de los dos estados posibles\n",
    "- `Ok 'T` cuando la operación se pudo realizar\n",
    "- `Error 'TError` cuando existe un error."
   ]
  },
  {
   "cell_type": "code",
   "execution_count": 11,
   "metadata": {
    "dotnet_interactive": {
     "language": "fsharp"
    },
    "polyglot_notebook": {
     "kernelName": "fsharp"
    },
    "vscode": {
     "languageId": "polyglot-notebook"
    }
   },
   "outputs": [
    {
     "name": "stdout",
     "output_type": "stream",
     "text": [
      "Ok 2.0\n",
      "Error \"Can't believe you are trying to divide by one\"\n",
      "Error \"Trying to divide by zero!!\"\n"
     ]
    }
   ],
   "source": [
    "let divideR x y =\n",
    "    match y with \n",
    "    | 0.0 -> Error \"Trying to divide by zero!!\" \n",
    "    | 1.0 -> Error \"Can't believe you are trying to divide by one\"\n",
    "    | _ -> Ok (x/y) \n",
    "\n",
    "printfn \"%A\" (divideR 4 2)\n",
    "printfn \"%A\" (divideR 4 1)\n",
    "printfn \"%A\" (divideR 4 0)"
   ]
  },
  {
   "cell_type": "code",
   "execution_count": 12,
   "metadata": {
    "dotnet_interactive": {
     "language": "fsharp"
    },
    "polyglot_notebook": {
     "kernelName": "fsharp"
    },
    "vscode": {
     "languageId": "polyglot-notebook"
    }
   },
   "outputs": [],
   "source": [
    "let squareRootR (x: float) = \n",
    "    if x < 0 then \n",
    "        \"Cannot compute sqrt of a negative number\" |> Error \n",
    "    else \n",
    "        sqrt x |> Ok       "
   ]
  },
  {
   "cell_type": "code",
   "execution_count": 13,
   "metadata": {
    "dotnet_interactive": {
     "language": "fsharp"
    },
    "polyglot_notebook": {
     "kernelName": "fsharp"
    },
    "vscode": {
     "languageId": "polyglot-notebook"
    }
   },
   "outputs": [
    {
     "name": "stdout",
     "output_type": "stream",
     "text": [
      "Ok 2.0\n",
      "Error \"Cannot compute sqrt of a negative number\"\n"
     ]
    }
   ],
   "source": [
    "printfn \"%A\" (squareRootR 4.0)\n",
    "printfn \"%A\" (squareRootR -4.0)"
   ]
  },
  {
   "attachments": {},
   "cell_type": "markdown",
   "metadata": {},
   "source": [
    "#### Railway programming\n",
    "\n",
    "Evidentemente, el uso del tipo `Result` aclara significativamente el código. Pero ahora sucede que:\n",
    "\n",
    "```fsharp\n",
    "divideR:\n",
    "   x: float ->\n",
    "   y: float\n",
    "   -> Result<float,string>\n",
    "```\n",
    "\n",
    "mientras que \n",
    "\n",
    "```fsharp \n",
    "squareRootR:\n",
    "   x: float\n",
    "   -> Result<float,string>\n",
    "```\n",
    "\n",
    "Entonces no me es posible componer ambas funciones, dado que el output de `divideR` es de tipo `Result`, mientras que el input de `squareRootR` es un `float`.  \n",
    "\n",
    "\n"
   ]
  },
  {
   "cell_type": "code",
   "execution_count": 18,
   "metadata": {
    "dotnet_interactive": {
     "language": "fsharp"
    },
    "polyglot_notebook": {
     "kernelName": "fsharp"
    },
    "vscode": {
     "languageId": "polyglot-notebook"
    }
   },
   "outputs": [
    {
     "name": "stdout",
     "output_type": "stream",
     "text": [
      "Ok 0.8164965809\n"
     ]
    }
   ],
   "source": [
    "let x = 4\n",
    "let y = 6 \n",
    "\n",
    "let r = divideR x y \n",
    "        |> Result.bind squareRootR\n",
    "\n",
    "printfn \"%A\" r         "
   ]
  },
  {
   "cell_type": "code",
   "execution_count": 19,
   "metadata": {
    "dotnet_interactive": {
     "language": "fsharp"
    },
    "polyglot_notebook": {
     "kernelName": "fsharp"
    },
    "vscode": {
     "languageId": "polyglot-notebook"
    }
   },
   "outputs": [
    {
     "name": "stdout",
     "output_type": "stream",
     "text": [
      "Error \"Trying to divide by zero!!\"\n"
     ]
    }
   ],
   "source": [
    "let x = 4\n",
    "let y = 0 \n",
    "\n",
    "let r = divideR x y \n",
    "        |> Result.bind squareRootR\n",
    "\n",
    "printfn \"%A\" r        "
   ]
  },
  {
   "cell_type": "code",
   "execution_count": 20,
   "metadata": {
    "dotnet_interactive": {
     "language": "fsharp"
    },
    "polyglot_notebook": {
     "kernelName": "fsharp"
    },
    "vscode": {
     "languageId": "polyglot-notebook"
    }
   },
   "outputs": [
    {
     "name": "stdout",
     "output_type": "stream",
     "text": [
      "Error \"Cannot compute sqrt of a negative number\"\n"
     ]
    }
   ],
   "source": [
    "let x = -4\n",
    "let y = 4 \n",
    "\n",
    "let r = divideR x y \n",
    "        |> Result.bind squareRootR\n",
    "\n",
    "printfn \"%A\" r      "
   ]
  },
  {
   "attachments": {},
   "cell_type": "markdown",
   "metadata": {},
   "source": [
    "El método `bind` de `Result` se ocupa de emparejar los inputs y outputs para poder conectar ambas funciones:\n",
    "\n",
    "```fsharp \n",
    "bind:\n",
    "   binder: ('T -> Result<'U,'TError>) ->\n",
    "   result: Result<'T,'TError>\n",
    "        -> Result<'U,'TError>\n",
    "bind f inp evaluates to match inp with Error e -> Error e | Ok x -> f x\n",
    "```"
   ]
  },
  {
   "attachments": {},
   "cell_type": "markdown",
   "metadata": {},
   "source": [
    "Supongamos ahora que además queremos sumarle un valor al resultado de $\\sqrt{x/y}$. Afortunadamente la suma es una operación menos restrictiva que las anteriores, así que no es necesario tanta ceremonia:"
   ]
  },
  {
   "cell_type": "code",
   "execution_count": 21,
   "metadata": {
    "dotnet_interactive": {
     "language": "fsharp"
    },
    "polyglot_notebook": {
     "kernelName": "fsharp"
    },
    "vscode": {
     "languageId": "polyglot-notebook"
    }
   },
   "outputs": [],
   "source": [
    "let add10 y =\n",
    "    y + 10.0 "
   ]
  },
  {
   "attachments": {},
   "cell_type": "markdown",
   "metadata": {},
   "source": [
    "Pero ahora tenemos otro problema, porque nuestra operación completa nos da como output `Result<float,string>`, que no es el input de `add10`....\n",
    "\n",
    "Para eso existe el método `map` de `Result`: \n"
   ]
  },
  {
   "cell_type": "code",
   "execution_count": 23,
   "metadata": {
    "dotnet_interactive": {
     "language": "fsharp"
    },
    "polyglot_notebook": {
     "kernelName": "fsharp"
    },
    "vscode": {
     "languageId": "polyglot-notebook"
    }
   },
   "outputs": [
    {
     "name": "stdout",
     "output_type": "stream",
     "text": [
      "Ok 12.0\n"
     ]
    }
   ],
   "source": [
    "let x = 8\n",
    "let y = 2 \n",
    "\n",
    "let r = \n",
    "    divideR x y \n",
    "    |> Result.bind squareRootR\n",
    "    |> Result.map add10 \n",
    "\n",
    "printfn \"%A\" r    "
   ]
  },
  {
   "cell_type": "code",
   "execution_count": 25,
   "metadata": {
    "dotnet_interactive": {
     "language": "fsharp"
    },
    "polyglot_notebook": {
     "kernelName": "fsharp"
    },
    "vscode": {
     "languageId": "polyglot-notebook"
    }
   },
   "outputs": [
    {
     "name": "stdout",
     "output_type": "stream",
     "text": [
      "Error \"Cannot compute sqrt of a negative number\"\n"
     ]
    }
   ],
   "source": [
    "let x = 8\n",
    "let y = -2 \n",
    "\n",
    "let r = \n",
    "    divideR x y \n",
    "    |> Result.bind squareRootR\n",
    "    |> Result.map add10 \n",
    "\n",
    "printfn \"%A\" r    "
   ]
  },
  {
   "cell_type": "code",
   "execution_count": 26,
   "metadata": {
    "dotnet_interactive": {
     "language": "fsharp"
    },
    "polyglot_notebook": {
     "kernelName": "fsharp"
    },
    "vscode": {
     "languageId": "polyglot-notebook"
    }
   },
   "outputs": [
    {
     "name": "stdout",
     "output_type": "stream",
     "text": [
      "Error \"Trying to divide by zero!!\"\n"
     ]
    }
   ],
   "source": [
    "let x = 8\n",
    "let y = 0 \n",
    "\n",
    "let r = \n",
    "    divideR x y \n",
    "    |> Result.bind squareRootR\n",
    "    |> Result.map add10 \n",
    "\n",
    "printfn \"%A\" r    "
   ]
  },
  {
   "cell_type": "code",
   "execution_count": 28,
   "metadata": {
    "dotnet_interactive": {
     "language": "fsharp"
    },
    "polyglot_notebook": {
     "kernelName": "fsharp"
    },
    "vscode": {
     "languageId": "polyglot-notebook"
    }
   },
   "outputs": [
    {
     "name": "stdout",
     "output_type": "stream",
     "text": [
      "Error \"Hubo un error: Trying to divide by zero!!\"\n"
     ]
    }
   ],
   "source": [
    "let x = 8\n",
    "let y = 0 \n",
    "\n",
    "let res = \n",
    "    divideR x y \n",
    "    |> Result.bind squareRootR\n",
    "    |> Result.map add10 \n",
    "\n",
    "let err = \n",
    "    res\n",
    "    |> Result.mapError (fun e -> $\"Hubo un error: {e}\")    \n",
    "\n",
    "printfn  \"%A\" err    "
   ]
  }
 ],
 "metadata": {
  "kernelspec": {
   "display_name": ".NET (C#)",
   "language": "C#",
   "name": ".net-csharp"
  },
  "language_info": {
   "name": "python"
  },
  "orig_nbformat": 4,
  "polyglot_notebook": {
   "kernelInfo": {
    "defaultKernelName": "csharp",
    "items": [
     {
      "aliases": [],
      "name": "csharp"
     }
    ]
   }
  }
 },
 "nbformat": 4,
 "nbformat_minor": 2
}
