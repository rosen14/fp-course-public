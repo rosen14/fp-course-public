{
  "cells": [
    {
      "cell_type": "markdown",
      "metadata": {},
      "source": [
        "## Ejercicios"
      ]
    },
    {
      "cell_type": "markdown",
      "metadata": {},
      "source": [
        "### La aplicación de la máquina expendedora (1/3)\n",
        "\n",
        "A lo largo de varios ejercicios hemos indagado en el modelo de software que simule una máquina expendedora. \n",
        "Hemos visto\n",
        "\n",
        "- Un [modelo para monedas](https://ibprogramacionavanzada.github.io/fsharp/14_Exercises/) y [tarjetas de crédito](https://ibprogramacionavanzada.github.io/fsharp/13_Records_es/)\n",
        "- Cuáles serían [los inputs y outputs](https://ibprogramacionavanzada.github.io/fsharp/73_Exercises/). \n",
        "- Cómo [leer los productos](https://ibprogramacionavanzada.github.io/fsharp/70_VendingMachineReadFood/) y [configurar la máquina](https://github.com/IBProgramacionAvanzada/c3p0/blob/main/TP2/TP2.ipynb).\n",
        "\n",
        "En este ejercicio se propone integrar todos estos códigos en una sola aplicación de .NET. Para ello \n",
        "\n",
        "- Diseñar cómo se va a organizar el código en módulos\n",
        "- Crear los archivos ya sea usando el comando `dotnet` o la extensión `Ionide` de VS Code.\n",
        "  "
      ]
    },
    {
      "cell_type": "markdown",
      "metadata": {},
      "source": [
        "### La aplicación de la máquina expendedora (2/3)\n",
        "\n",
        "Para verificar el trabajo apropiado de las funciones del código, es necesario escribir test unitarios. \n",
        "\n",
        "- Analice cuáles son los test que se necesitan para cada parte del código.\n",
        "- Escriba los test que considere necesarios, usando `NUnit`.\n"
      ]
    },
    {
      "cell_type": "markdown",
      "metadata": {},
      "source": [
        "### La aplicación de la máquina expendedora (3/3)\n",
        "\n",
        "Finalmente, para completar la aplicación:\n",
        "\n",
        "- Simule en el `main` una compra de alguno de los items de la máquina, con alguno de los métodos de pago a su elección."
      ]
    }
  ],
  "metadata": {
    "language_info": {
      "name": "python"
    },
    "orig_nbformat": 4
  },
  "nbformat": 4,
  "nbformat_minor": 2
}
