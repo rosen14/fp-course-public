{
 "cells": [
  {
   "cell_type": "markdown",
   "metadata": {},
   "source": [
    "## Advent of Code 2022 - Day 2\n",
    "\n",
    "\n",
    "[Advent of Code](https://adventofcode.com/2022/about) es una serie de ejercicios de programación que se publican antes de las navidades de cada año, de allí su \n",
    "nombre de _Advenimiento_. Preparados por [Eric Wastl](https://twitter.com/ericwastl), sus protagonistas en general son los elfos que ayudan a Papá Noel con \n",
    "la preparación de los regalos. En este ejercicio corresponde al  del [día 2 del año pasado](https://adventofcode.com/2022/day/2):\n",
    "\n",
    "Los Elfos comienzan a establecer un campamento en la playa. Para decidir qué carpa estará más cerca del almacén de refrigerios, ya está en marcha un torneo gigante de piedra, papel o tijera.\n",
    "\n",
    "Piedra, Papel o Tijera es un juego entre dos jugadores. Cada juego contiene muchas rondas; en cada ronda, los jugadores eligen simultáneamente piedra, papel o tijera usando una forma de mano. Luego, se selecciona un ganador para esa ronda: Piedra derrota a Tijera, Tijera derrota a Papel y Papel derrota a Piedra. Si ambos jugadores eligen la misma forma, la ronda termina en empate.\n",
    "\n",
    "Agradecido por tu ayuda [en el ejercicio anterior](https://ibprogramacionavanzada.github.io/fsharp/63_Exercises/), un Elfo te da una guía de estrategia encriptada (tu entrada de rompecabezas)  que seguramente te ayudará a ganar. \"La primera columna es lo que tu oponente va a jugar: A para Piedra, B para Papel y C para Tijera. La segunda columna...\" \n",
    "\n",
    "De repente, el Elfo es llamado para ayudar con la tienda de alguien.\n",
    "\n",
    "Supongamos entonces que la segunda columna debe ser la jugada en respuesta: X para Piedra, Y para Papel y Z para Tijera. Ganar cada vez sería sospechoso, por lo que las respuestas deben haber sido cuidadosamente elegidas.\n",
    "\n",
    "El ganador de todo el torneo es el jugador con la puntuación más alta. Su puntaje total es la suma de sus puntajes para cada ronda. El puntaje de una sola ronda es el puntaje de la forma que seleccionó (1 para Piedra, 2 para Papel y 3 para Tijera) más el puntaje para el resultado de la ronda (0 si perdió, 3 si la ronda fue un empate , y 6 si se gana).\n",
    "\n",
    "Como no se puede estar seguro de si el Elfo está tratando de ayudar o no, hay que calcular la puntuación que se obtendría si se siguiera la guía de estrategia.\n",
    "\n",
    "Por ejemplo, dada la siguiente guía de estrategia:\n",
    "\n",
    "A Y  \n",
    "B X  \n",
    "C Z  \n",
    "\n",
    "Esta guía de estrategia predice y recomienda lo siguiente:\n",
    "\n",
    "- En la primera ronda, tu oponente elegirá Piedra (A), por lo que se debe elegir Papel (Y). Esto termina en una victoria para uno con una puntuación de 8 (2 porque elegiste Papel + 6 porque ganaste).\n",
    "- En la segunda ronda, tu oponente elegirá Papel (B), de modo tal que se debe elegir Piedra (X). Esto termina en una derrota propia con una puntuación de 1 (1 + 0).\n",
    "- La tercera ronda es un empate con ambos jugadores eligiendo Tijera, lo que le da una puntuación de 3 + 3 = 6.\n",
    "En este ejemplo, si siguiera la guía de estrategia, obtendría una puntuación total de 15 (8 + 1 + 6).\n",
    "\n",
    "¿Cuál sería su puntaje total si todo sale exactamente de acuerdo con su guía de estrategia?\n",
    "\n",
    "Luego de un rato, el elfo termina de ayudar con la tienda y vuelve a ti sigilosamente. \"De todos modos, la segunda columna dice cómo debe terminar la ronda: X significa que debes perder, Y significa que debes terminar la ronda en un empate y Z significa que debes ganar. ¡Buena suerte!\"\n",
    "\n",
    "La puntuación total todavía se calcula de la misma manera, pero ahora debes averiguar qué forma elegir para que la ronda termine como se indica.\n",
    "\n",
    "El ejemplo anterior ahora es así:\n",
    "\n",
    "- En la primera ronda, tu oponente elegirá Piedra (A), y se necesita que la ronda termine en tablas (Y), así que también eliges Piedra. Esto le da una puntuación de 1 + 3 = 4.\n",
    "- En la segunda ronda, tu oponente elegirá Papel (B) y tú eliges Piedra, por lo que pierde (X) con una puntuación de 1 + 0 = 1.\n",
    "- En la tercera ronda, se deberá ganar a la Tijera de tu oponente con Piedra por una puntuación de 1 + 6 = 7.\n",
    "Ahora con la guía de estrategia ultrasecreta correctamente descifrada, se obtendría una puntuación total de 12.\n",
    "\n",
    "Siguiendo las nuevas instrucciones del duende para la segunda columna, ¿cuál sería tu puntaje total si todo sale exactamente de acuerdo con tu guía de estrategia?\n",
    "\n",
    "El archivo completo con el inventario de caloría de los Elfos se encuentra [acá](https://github.com/IBProgramacionAvanzada/IBProgramacionAvanzada.github.io/tree/master/assets/day2.input).\n",
    "\n"
   ]
  },
  {
   "cell_type": "markdown",
   "metadata": {
    "vscode": {
     "languageId": "polyglot-notebook"
    }
   },
   "source": [
    "A, X: Piedra (1)\n",
    "B, Y: Papel (2)\n",
    "C, Z: Tijera (3)\n",
    "\n",
    "Perder: 0\n",
    "Empatar: 3\n",
    "Ganar : 6\n"
   ]
  },
  {
   "cell_type": "code",
   "execution_count": 11,
   "metadata": {
    "dotnet_interactive": {
     "language": "fsharp"
    },
    "polyglot_notebook": {
     "kernelName": "fsharp"
    },
    "vscode": {
     "languageId": "polyglot-notebook"
    }
   },
   "outputs": [
    {
     "data": {
      "text/html": [
       "<div class=\"dni-plaintext\"><pre>6</pre></div><style>\r\n",
       ".dni-code-hint {\r\n",
       "    font-style: italic;\r\n",
       "    overflow: hidden;\r\n",
       "    white-space: nowrap;\r\n",
       "}\r\n",
       ".dni-treeview {\r\n",
       "    white-space: nowrap;\r\n",
       "}\r\n",
       ".dni-treeview td {\r\n",
       "    vertical-align: top;\r\n",
       "    text-align: start;\r\n",
       "}\r\n",
       "details.dni-treeview {\r\n",
       "    padding-left: 1em;\r\n",
       "}\r\n",
       "table td {\r\n",
       "    text-align: start;\r\n",
       "}\r\n",
       "table tr { \r\n",
       "    vertical-align: top; \r\n",
       "    margin: 0em 0px;\r\n",
       "}\r\n",
       "table tr td pre \r\n",
       "{ \r\n",
       "    vertical-align: top !important; \r\n",
       "    margin: 0em 0px !important;\r\n",
       "} \r\n",
       "table th {\r\n",
       "    text-align: start;\r\n",
       "}\r\n",
       "</style>"
      ]
     },
     "metadata": {},
     "output_type": "display_data"
    }
   ],
   "source": [
    "type Mano = \n",
    "    | Piedra\n",
    "    | Papel\n",
    "    | Tijera\n",
    "\n",
    "let decrypt (char: String) = \n",
    "    match char with\n",
    "    | \"A\" | \"X\" -> Piedra\n",
    "    | \"B\" | \"Y\" -> Papel\n",
    "    | \"C\" | \"Z\" -> Tijera\n",
    "\n",
    "let result (mano1: Mano) (mano2: Mano) = \n",
    "    match (mano1, mano2) with\n",
    "    | (m1, m2) when m1 = m2 -> 3\n",
    "    | (m1, m2) when m1 = Piedra && m2 = Papel -> 6\n",
    "    | (m1, m2) when m1 = Piedra && m2 = Tijera -> 0\n",
    "    | (m1, m2) when m1 = Papel && m2 = Piedra -> 0\n",
    "    | (m1, m2) when m1 = Papel && m2 = Tijera -> 6\n",
    "    | (m1, m2) when m1 = Tijera && m2 = Piedra -> 6\n",
    "    | (m1, m2) when m1 = Tijera && m2 = Papel -> 0\n",
    "\n",
    "let valorEleccion (mano: Mano) = \n",
    "    match mano with\n",
    "    | Piedra -> 1\n",
    "    | Papel -> 2\n",
    "    | Tijera -> 3\n",
    "\n",
    "let puntaje (mano1: Mano) (mano2: Mano) =\n",
    "    let bonusEleccion = valorEleccion mano2\n",
    "    let resultado = result mano1 mano2\n",
    "    bonusEleccion + resultado\n",
    "\n",
    "let readFile (fileName: string) =  \n",
    "    let lines = File.ReadAllLines(fileName)\n",
    "    lines "
   ]
  },
  {
   "cell_type": "code",
   "execution_count": 15,
   "metadata": {
    "dotnet_interactive": {
     "language": "fsharp"
    },
    "polyglot_notebook": {
     "kernelName": "fsharp"
    },
    "vscode": {
     "languageId": "polyglot-notebook"
    }
   },
   "outputs": [
    {
     "data": {
      "text/html": [
       "<div class=\"dni-plaintext\"><pre>15572</pre></div><style>\r\n",
       ".dni-code-hint {\r\n",
       "    font-style: italic;\r\n",
       "    overflow: hidden;\r\n",
       "    white-space: nowrap;\r\n",
       "}\r\n",
       ".dni-treeview {\r\n",
       "    white-space: nowrap;\r\n",
       "}\r\n",
       ".dni-treeview td {\r\n",
       "    vertical-align: top;\r\n",
       "    text-align: start;\r\n",
       "}\r\n",
       "details.dni-treeview {\r\n",
       "    padding-left: 1em;\r\n",
       "}\r\n",
       "table td {\r\n",
       "    text-align: start;\r\n",
       "}\r\n",
       "table tr { \r\n",
       "    vertical-align: top; \r\n",
       "    margin: 0em 0px;\r\n",
       "}\r\n",
       "table tr td pre \r\n",
       "{ \r\n",
       "    vertical-align: top !important; \r\n",
       "    margin: 0em 0px !important;\r\n",
       "} \r\n",
       "table th {\r\n",
       "    text-align: start;\r\n",
       "}\r\n",
       "</style>"
      ]
     },
     "metadata": {},
     "output_type": "display_data"
    }
   ],
   "source": [
    "let filename = \"day2.txt\"\n",
    "\n",
    "let lines = readFile filename\n",
    "\n",
    "lines\n",
    "|> Seq.map (fun linea -> linea.Split \" \")\n",
    "|> Seq.map (fun x -> puntaje (decrypt x[0]) (decrypt x[1]))\n",
    "|> Seq.sum\n",
    "\n"
   ]
  },
  {
   "cell_type": "code",
   "execution_count": 17,
   "metadata": {
    "dotnet_interactive": {
     "language": "fsharp"
    },
    "polyglot_notebook": {
     "kernelName": "fsharp"
    },
    "vscode": {
     "languageId": "polyglot-notebook"
    }
   },
   "outputs": [
    {
     "data": {
      "text/html": [
       "<div class=\"dni-plaintext\"><pre>9</pre></div><style>\r\n",
       ".dni-code-hint {\r\n",
       "    font-style: italic;\r\n",
       "    overflow: hidden;\r\n",
       "    white-space: nowrap;\r\n",
       "}\r\n",
       ".dni-treeview {\r\n",
       "    white-space: nowrap;\r\n",
       "}\r\n",
       ".dni-treeview td {\r\n",
       "    vertical-align: top;\r\n",
       "    text-align: start;\r\n",
       "}\r\n",
       "details.dni-treeview {\r\n",
       "    padding-left: 1em;\r\n",
       "}\r\n",
       "table td {\r\n",
       "    text-align: start;\r\n",
       "}\r\n",
       "table tr { \r\n",
       "    vertical-align: top; \r\n",
       "    margin: 0em 0px;\r\n",
       "}\r\n",
       "table tr td pre \r\n",
       "{ \r\n",
       "    vertical-align: top !important; \r\n",
       "    margin: 0em 0px !important;\r\n",
       "} \r\n",
       "table th {\r\n",
       "    text-align: start;\r\n",
       "}\r\n",
       "</style>"
      ]
     },
     "metadata": {},
     "output_type": "display_data"
    }
   ],
   "source": [
    "let decrypt2 (mano1: Mano) (mano2: String)= \n",
    "    match mano2 with\n",
    "    | \"Z\" ->\n",
    "        match mano1 with\n",
    "        | Tijera -> Piedra\n",
    "        | Papel -> Tijera\n",
    "        | Piedra -> Papel\n",
    "    | \"Y\" -> mano1\n",
    "    | \"X\" ->\n",
    "        match mano1 with\n",
    "        | Tijera -> Papel\n",
    "        | Papel -> Piedra\n",
    "        | Piedra -> Tijera\n",
    "\n",
    "\n",
    "let filename = \"day2.txt\"\n",
    "\n",
    "let lines = readFile filename\n",
    "\n",
    "lines\n",
    "|> Seq.take 2\n",
    "|> Seq.map (fun linea -> linea.Split \" \")\n",
    "|> Seq.map (fun x -> puntaje (decrypt x[0]) (decrypt2 (decrypt x[0]) x[1]))\n",
    "|> Seq.sum"
   ]
  }
 ],
 "metadata": {
  "kernelspec": {
   "display_name": ".NET (C#)",
   "language": "C#",
   "name": ".net-csharp"
  },
  "language_info": {
   "name": "python"
  },
  "orig_nbformat": 4,
  "polyglot_notebook": {
   "kernelInfo": {
    "defaultKernelName": "csharp",
    "items": [
     {
      "aliases": [],
      "name": "csharp"
     }
    ]
   }
  }
 },
 "nbformat": 4,
 "nbformat_minor": 2
}
