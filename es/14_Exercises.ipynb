{
  "cells": [
    {
      "cell_type": "markdown",
      "metadata": {},
      "source": [
        "## Ejercicios"
      ]
    },
    {
      "cell_type": "markdown",
      "metadata": {},
      "source": [
        "### El video de la semana\n",
        "\n",
        "[_The Art of Code_, Dylan Beattie](https://youtu.be/6avJHaC3C2U)\n"
      ]
    },
    {
      "cell_type": "code",
      "execution_count": 2,
      "metadata": {
        "dotnet_interactive": {
          "language": "fsharp"
        },
        "polyglot_notebook": {
          "kernelName": "fsharp"
        },
        "vscode": {
          "languageId": "polyglot-notebook"
        }
      },
      "outputs": [],
      "source": [
        "type FoodProduct =\n",
        "    | Chips\n",
        "    | Chocolate\n",
        "    | Candy \n",
        "\n",
        "type BrandedFood =\n",
        "    | Chips of string \n",
        "    | Chocolate of string \n",
        "    | Candy of string     \n",
        "\n",
        "type FoodMachineItem =\n",
        "    {\n",
        "        Brand: BrandedFood\n",
        "        ProductType: FoodProduct \n",
        "        Price: float \n",
        "    }"
      ]
    },
    {
      "cell_type": "markdown",
      "metadata": {},
      "source": [
        "### Lugares en la máquina expendedora\n",
        "\n",
        "El vendedor de la máquina expendedora de alimentos proporciona a la máquina diferentes lugares en cada estante para acomodar productos que tienen diferentes tamaños. El vendedor ofrece tres tamaños diferentes, simple, doble y triple.\n",
        "\n",
        "- Modelar los tamaños de los lugares en un tipo `SlotSize`.\n",
        "- Extienda el modelo `FoodMachineItem` para agregar el tamaño del producto medido por el tamaño de la lugar que ocupa.\n"
      ]
    },
    {
      "cell_type": "code",
      "execution_count": 4,
      "metadata": {
        "dotnet_interactive": {
          "language": "fsharp"
        },
        "polyglot_notebook": {
          "kernelName": "fsharp"
        },
        "vscode": {
          "languageId": "polyglot-notebook"
        }
      },
      "outputs": [],
      "source": [
        "type SlotSize =\n",
        "    | Simple\n",
        "    | Doble\n",
        "    | Triple\n",
        "\n",
        "type FoodMachineItem =\n",
        "    {\n",
        "        Brand: BrandedFood\n",
        "        ProductType: FoodProduct \n",
        "        Price: float \n",
        "        Size: SlotSize\n",
        "    }"
      ]
    },
    {
      "cell_type": "markdown",
      "metadata": {},
      "source": [
        "### Maquina de café\n",
        "\n",
        "Nuestro cliente de máquinas expendedoras quiere agregar una máquina de café justo al lado de la máquina expendedora de alimentos y quiere que preparemos el software para administrarla. Como conversación de primera ronda, nos han informado que la cafetera servirá café y té negro. A ambos se les puede agregar azúcar y crema. También tendrá chocolate y capuchino, con la única opción de agregar azúcar. Finalmente, también servirá un saludable té verde o blanco que se puede cubrir solo con leche. Comience a modelar la máquina de café introduciendo los tipos para describir todas estas bebidas.\n"
      ]
    },
    {
      "cell_type": "code",
      "execution_count": 4,
      "metadata": {
        "dotnet_interactive": {
          "language": "fsharp"
        },
        "polyglot_notebook": {
          "kernelName": "fsharp"
        },
        "vscode": {
          "languageId": "polyglot-notebook"
        }
      },
      "outputs": [],
      "source": [
        "type BothOptions =\n",
        "    | SinAdicional\n",
        "    | ConLeche\n",
        "    | ConAzucar\n",
        "    | LecheAzucar\n",
        "\n",
        "type OnlySugar =\n",
        "    | SinAdicional\n",
        "    | ConAzucar\n",
        "\n",
        "type OnlyMilk =\n",
        "    | SinAdicional\n",
        "    | ConLeche\n",
        "\n",
        "type Adicionales =\n",
        "    | Cafe of BothOptions\n",
        "    | TeNegro of BothOptions\n",
        "    | Chocolate of OnlySugar\n",
        "    | Capuchino of OnlySugar\n",
        "    | TeVerde of OnlyMilk\n",
        "    | TeBlanco of OnlyMilk\n",
        "\n",
        "type Bebidas =\n",
        "    | Cafe\n",
        "    | TeNegro\n",
        "    | Chocolate\n",
        "    | Capuchino\n",
        "    | TeVerde\n",
        "    | TeBlanco\n",
        "\n",
        "type MaquinaCafeItem =\n",
        "    {\n",
        "        Bebida: Bebidas \n",
        "        Adicional: Adicionales\n",
        "    }\n",
        "\n",
        "let MaquinaCafeItem = {\n",
        "    Bebida = Bebidas.Cafe \n",
        "    Adicional = Adicionales.Cafe LecheAzucar\n",
        "}\n",
        "\n"
      ]
    },
    {
      "cell_type": "code",
      "execution_count": 7,
      "metadata": {
        "dotnet_interactive": {
          "language": "fsharp"
        },
        "polyglot_notebook": {
          "kernelName": "fsharp"
        },
        "vscode": {
          "languageId": "polyglot-notebook"
        }
      },
      "outputs": [
        {
          "name": "stdout",
          "output_type": "stream",
          "text": [
            "Cafe LecheAzucar\n"
          ]
        }
      ],
      "source": [
        "//printfn \"%A\" MaquinaCafeItem.Bebida\n",
        "printfn \"%A\" MaquinaCafeItem.Adicional"
      ]
    },
    {
      "cell_type": "markdown",
      "metadata": {},
      "source": [
        "### Monedas\n",
        "\n",
        "En algún momento, un cliente ingresará cierta cantidad de cada moneda para comprar un producto en la máquina expendedora de alimentos. La máquina recibe monedas de 10, 25 y 50 centavos únicamente.\n",
        "\n",
        "- Modelar un tipo `Monedas` que dé cuenta del número de cada una de las monedas que recibe la máquina.\n",
        "- Crear una función `cantidad` que reciba un valor de `Monedas` y devuelva la cantidad en $\\$$ que el cliente introdujo en la máquina.\n",
        "\n",
        "> 💡 La función `float` se puede usar para convertir un valor entero a un tipo flotante\n"
      ]
    },
    {
      "cell_type": "code",
      "execution_count": 12,
      "metadata": {
        "dotnet_interactive": {
          "language": "fsharp"
        },
        "polyglot_notebook": {
          "kernelName": "fsharp"
        },
        "vscode": {
          "languageId": "polyglot-notebook"
        }
      },
      "outputs": [
        {
          "data": {
            "text/html": [
              "<div class=\"dni-plaintext\"><pre>350</pre></div><style>\r\n",
              ".dni-code-hint {\r\n",
              "    font-style: italic;\r\n",
              "    overflow: hidden;\r\n",
              "    white-space: nowrap;\r\n",
              "}\r\n",
              ".dni-treeview {\r\n",
              "    white-space: nowrap;\r\n",
              "}\r\n",
              ".dni-treeview td {\r\n",
              "    vertical-align: top;\r\n",
              "    text-align: start;\r\n",
              "}\r\n",
              "details.dni-treeview {\r\n",
              "    padding-left: 1em;\r\n",
              "}\r\n",
              "table td {\r\n",
              "    text-align: start;\r\n",
              "}\r\n",
              "table tr { \r\n",
              "    vertical-align: top; \r\n",
              "    margin: 0em 0px;\r\n",
              "}\r\n",
              "table tr td pre \r\n",
              "{ \r\n",
              "    vertical-align: top !important; \r\n",
              "    margin: 0em 0px !important;\r\n",
              "} \r\n",
              "table th {\r\n",
              "    text-align: start;\r\n",
              "}\r\n",
              "</style>"
            ]
          },
          "metadata": {},
          "output_type": "display_data"
        }
      ],
      "source": [
        "type Monedas = {\n",
        "     Diez: uint\n",
        "     Veinticinco: uint\n",
        "     Cincuenta: uint\n",
        "}\n",
        "\n",
        "let Monedas = {\n",
        "    Diez = 10u\n",
        "    Veinticinco = 0u\n",
        "    Cincuenta = 5u\n",
        "}\n",
        "\n",
        "let cantidad monedas =\n",
        "    monedas.Diez*10u + monedas.Veinticinco*25u + monedas.Cincuenta*50u\n",
        "\n",
        "cantidad Monedas"
      ]
    },
    {
      "cell_type": "markdown",
      "metadata": {},
      "source": [
        "### Poker (o Truco)\n",
        "\n",
        "- Usando uniones discriminadas y/o records, modelar un mazo de cartas francesas (poker) o españolas (truco), sin comodines.\n",
        "- Cómo cambiaría el modelo anterior si se incluyen dos comodines por mazo?"
      ]
    },
    {
      "cell_type": "code",
      "execution_count": 27,
      "metadata": {
        "dotnet_interactive": {
          "language": "fsharp"
        },
        "polyglot_notebook": {
          "kernelName": "fsharp"
        },
        "vscode": {
          "languageId": "polyglot-notebook"
        }
      },
      "outputs": [],
      "source": [
        "type Palos =\n",
        "    | Corazones\n",
        "    | Treboles\n",
        "    | Picas\n",
        "    | Diamantes\n",
        "\n",
        "type Comodines = \n",
        "    | A\n",
        "    | B\n",
        "\n",
        "type Cartas =\n",
        "    | As of Palos\n",
        "    | K of Palos\n",
        "    | Q of Palos\n",
        "    | J of Palos\n",
        "    | Diez of Palos\n",
        "    | Nueve of Palos\n",
        "    | Ocho of Palos\n",
        "    | Siete of Palos\n",
        "    | Seis of Palos\n",
        "    | Cinco of Palos\n",
        "    | Cuatro of Palos\n",
        "    | Tres of Palos\n",
        "    | Dos of Palos\n",
        "    | Comodin of Comodines\n",
        "\n",
        "let c1 = Cartas.As Corazones\n"
      ]
    },
    {
      "cell_type": "code",
      "execution_count": 28,
      "metadata": {
        "dotnet_interactive": {
          "language": "fsharp"
        },
        "polyglot_notebook": {
          "kernelName": "fsharp"
        },
        "vscode": {
          "languageId": "polyglot-notebook"
        }
      },
      "outputs": [
        {
          "name": "stdout",
          "output_type": "stream",
          "text": [
            "As Corazones\n"
          ]
        }
      ],
      "source": [
        "\n",
        "printfn \"%A\" c1"
      ]
    }
  ],
  "metadata": {
    "language_info": {
      "name": "python"
    },
    "orig_nbformat": 4
  },
  "nbformat": 4,
  "nbformat_minor": 2
}
