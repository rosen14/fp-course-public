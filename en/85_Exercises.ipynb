{
 "cells": [
  {
   "cell_type": "markdown",
   "metadata": {},
   "source": [
    "## Exercises\n",
    "\n",
    "### Exoplanet classification\n",
    "\n",
    "Broadly, the planets are divided into rocky planets (0.5-1.0 R ⊕), super-Earths (1.0-1.75 R ⊕), sub-Neptunes (1.75-3.5 R ⊕), sub-Jovians (3.5-6.0 R ⊕), and Jovians (6-14.3 R ⊕) based on their planet mass sizes, and “hot,” “warm,” and “cold” based on the incident stellar flux (See [this paper](https://ui.adsabs.harvard.edu/abs/2018ApJ...856..122K/abstract)).\n",
    "\n",
    "Process the data to group the exoplanets by this classification and create a nice plot with them.\n",
    "\n",
    "### Aesthetics\n",
    "\n",
    "- Learn how to change the background of a Plotly graph so our exoplanet census resembles more the one at NASA's site.\n",
    "- Learn how to fix the color of each trace to match the ones at NASA's site (in our example, the colors are selected automagically from a given palette.)\n",
    "\n",
    "\n"
   ]
  }
 ],
 "metadata": {
  "language_info": {
   "name": "python"
  }
 },
 "nbformat": 4,
 "nbformat_minor": 2
}
