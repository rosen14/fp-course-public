{
 "cells": [
  {
   "cell_type": "markdown",
   "metadata": {},
   "source": []
  },
  {
   "cell_type": "markdown",
   "metadata": {},
   "source": [
    "# Diccionarios"
   ]
  },
  {
   "attachments": {},
   "cell_type": "markdown",
   "metadata": {},
   "source": [
    "Un `Map` es un diccionario, de modo tal que se accede a los datos a través de una llave. "
   ]
  },
  {
   "cell_type": "markdown",
   "metadata": {},
   "source": []
  },
  {
   "cell_type": "code",
   "execution_count": 3,
   "metadata": {
    "dotnet_interactive": {
     "language": "fsharp"
    },
    "polyglot_notebook": {
     "kernelName": "fsharp"
    },
    "vscode": {
     "languageId": "polyglot-notebook"
    }
   },
   "outputs": [
    {
     "name": "stdout",
     "output_type": "stream",
     "text": [
      "map [(2, \"Bananas\"); (3, \"Apples\")]\n",
      "\"Apples\"\n"
     ]
    }
   ],
   "source": [
    "let m1 = Map [3, \"Apples\" ; 2, \"Bananas\"]\n",
    "\n",
    "printfn \"%A\" m1 \n",
    "printfn \"%A\" m1[3] \n"
   ]
  },
  {
   "cell_type": "code",
   "execution_count": 4,
   "metadata": {
    "dotnet_interactive": {
     "language": "fsharp"
    },
    "polyglot_notebook": {
     "kernelName": "fsharp"
    },
    "vscode": {
     "languageId": "polyglot-notebook"
    }
   },
   "outputs": [
    {
     "ename": "Error",
     "evalue": "System.Collections.Generic.KeyNotFoundException: The given key was not present in the dictionary.\n   at Microsoft.FSharp.Collections.MapTreeModule.throwKeyNotFound[a]() in D:\\a\\_work\\1\\s\\src\\FSharp.Core\\map.fs:line 187\n   at Microsoft.FSharp.Collections.MapTreeModule.find[TKey,TValue](IComparer`1 comparer, TKey k, MapTree`2 m) in D:\\a\\_work\\1\\s\\src\\FSharp.Core\\map.fs:line 196\n   at Microsoft.FSharp.Collections.FSharpMap`2.get_Item(TKey key) in D:\\a\\_work\\1\\s\\src\\FSharp.Core\\map.fs:line 777\n   at <StartupCode$FSI_0011>.$FSI_0011.main@()\n   at System.RuntimeMethodHandle.InvokeMethod(Object target, Void** arguments, Signature sig, Boolean isConstructor)\n   at System.Reflection.MethodInvoker.Invoke(Object obj, IntPtr* args, BindingFlags invokeAttr)",
     "output_type": "error",
     "traceback": [
      "System.Collections.Generic.KeyNotFoundException: The given key was not present in the dictionary.\n",
      "   at Microsoft.FSharp.Collections.MapTreeModule.throwKeyNotFound[a]() in D:\\a\\_work\\1\\s\\src\\FSharp.Core\\map.fs:line 187\n",
      "   at Microsoft.FSharp.Collections.MapTreeModule.find[TKey,TValue](IComparer`1 comparer, TKey k, MapTree`2 m) in D:\\a\\_work\\1\\s\\src\\FSharp.Core\\map.fs:line 196\n",
      "   at Microsoft.FSharp.Collections.FSharpMap`2.get_Item(TKey key) in D:\\a\\_work\\1\\s\\src\\FSharp.Core\\map.fs:line 777\n",
      "   at <StartupCode$FSI_0011>.$FSI_0011.main@()\n",
      "   at System.RuntimeMethodHandle.InvokeMethod(Object target, Void** arguments, Signature sig, Boolean isConstructor)\n",
      "   at System.Reflection.MethodInvoker.Invoke(Object obj, IntPtr* args, BindingFlags invokeAttr)"
     ]
    }
   ],
   "source": [
    "printfn \"%A\" m1.[5]"
   ]
  },
  {
   "attachments": {},
   "cell_type": "markdown",
   "metadata": {},
   "source": [
    "A diferencia de las listas, es posible crear nuevos diccionarios usando funciones para agregar o cambiar ciertos valores:"
   ]
  },
  {
   "cell_type": "code",
   "execution_count": 5,
   "metadata": {
    "dotnet_interactive": {
     "language": "fsharp"
    },
    "polyglot_notebook": {
     "kernelName": "fsharp"
    },
    "vscode": {
     "languageId": "polyglot-notebook"
    }
   },
   "outputs": [
    {
     "name": "stdout",
     "output_type": "stream",
     "text": [
      "map [(2, \"Bananas\"); (3, \"Apples\"); (4, \"Oranges\")]\n"
     ]
    }
   ],
   "source": [
    "let m2 = m1.Add(4,\"Oranges\")\n",
    "printfn \"%A\" m2\n"
   ]
  },
  {
   "cell_type": "code",
   "execution_count": 6,
   "metadata": {
    "dotnet_interactive": {
     "language": "fsharp"
    },
    "polyglot_notebook": {
     "kernelName": "fsharp"
    },
    "vscode": {
     "languageId": "polyglot-notebook"
    }
   },
   "outputs": [
    {
     "name": "stdout",
     "output_type": "stream",
     "text": [
      "map [(2, \"Bananas\"); (3, \"Apples\"); (4, \"Oranges\")]\n",
      "map [(2, \"Peaches\"); (3, \"Apples\"); (4, \"Oranges\")]\n"
     ]
    }
   ],
   "source": [
    "let m3 = Map.add 2 \"Peaches\" m2 \n",
    "printfn \"%A\" m2\n",
    "printfn \"%A\" m3\n"
   ]
  },
  {
   "attachments": {},
   "cell_type": "markdown",
   "metadata": {},
   "source": [
    "Veamos algunas funciones similares con el ejemplo de los [⭐️⭐️⭐️](https://www.google.com/search?sxsrf=AB5stBhaoXbELdiYcGYn7LFGYKB5MFJghw:1689278838922&q=tapas+diarios+argentina+campeon&tbm=isch&source=univ&fir=qHsD8jNqiBcR9M%252CU5M3nzbfNCNn8M%252C_%253B7lmgd4_tqxBr0M%252CTb5831L19eaXcM%252C_%253Bxkamwj7oGERHKM%252CTb5831L19eaXcM%252C_%253Bf811CjKb2LLh7M%252C6IbX8QPfQ6R-DM%252C_%253BvmanPOo9DcX_oM%252Cf5SKLsrn8UfPGM%252C_%253BG3kgOTfPZp1rEM%252CU5M3nzbfNCNn8M%252C_%253ByAGLp8C-7HBuaM%252Cf5SKLsrn8UfPGM%252C_%253BE1ymLFohpM5KnM%252CNUdpLYYeU0KINM%252C_%253BItgEyKk9MEK-bM%252CTb5831L19eaXcM%252C_%253Bmen7RXX3I3w1JM%252CqckwzAwT3VRJQM%252C_%253B6YT2RZN5uLw1BM%252CMfkxFsfwjq9IsM%252C_%253BdcLhUOM3R1ox_M%252Cf5SKLsrn8UfPGM%252C_%253B6it-AccCwiaQDM%252CNTrBj-F-R3FTuM%252C_%253Bdk-DC8MACwI8RM%252CBm6aDjdldCzeKM%252C_%253BMiSESfwPCDZDVM%252C6IbX8QPfQ6R-DM%252C_%253Bw6MLsP6bc25E5M%252CmR8TtUtR6UUpvM%252C_%253B7YN4ps_NYgQ57M%252CNUdpLYYeU0KINM%252C_%253BJb_wAw717kA0CM%252Ce2JcT5Tr2HlqvM%252C_&usg=AI4_-kSS5BeL8NRNJld05TDcYoXr3u9QXQ&sa=X&ved=2ahUKEwirhPuIvoyAAxUNpJUCHeYpB5gQjJkEegQIDhAC&biw=1808&bih=1276&dpr=2):"
   ]
  },
  {
   "cell_type": "code",
   "execution_count": 1,
   "metadata": {
    "dotnet_interactive": {
     "language": "fsharp"
    },
    "polyglot_notebook": {
     "kernelName": "fsharp"
    },
    "vscode": {
     "languageId": "polyglot-notebook"
    }
   },
   "outputs": [],
   "source": [
    "type Position = GoalKeeper | Defender | Midfielder | Forward \n",
    "\n",
    "type Player =\n",
    "    {\n",
    "        Name : string\n",
    "        Team: string \n",
    "        Position: Position \n",
    "        Age: uint8 \n",
    "    }"
   ]
  },
  {
   "cell_type": "code",
   "execution_count": 2,
   "metadata": {
    "dotnet_interactive": {
     "language": "fsharp"
    },
    "polyglot_notebook": {
     "kernelName": "fsharp"
    },
    "vscode": {
     "languageId": "polyglot-notebook"
    }
   },
   "outputs": [],
   "source": [
    "let champions2022 = Map [// Los 3 arqueros de Argentina en Qatar 2022\n",
    "     23, { Name = \"Emiliano Martínez\" ;  Team = \"Aston Villa\"; Position = GoalKeeper; Age = 30uy};\n",
    "     12, { Name = \"Gerónimo Rulli\" ;  Team = \"Villarreal\"; Position = GoalKeeper; Age = 30uy};\n",
    "     1, { Name = \"Franco Armani\" ;  Team = \"River\"; Position = GoalKeeper; Age = 36uy};\n",
    "    // Los 9 defensores de Argentina en Qatar 2022\n",
    "     26, { Name = \"Nahuel Molina\" ;  Team = \"Atlético de Madrid\"; Position = Defender; Age = 24uy};\n",
    "     4, { Name = \"Gonzalo Montiel\" ;  Team = \"Sevilla\"; Position = Defender; Age = 25uy};\n",
    "     13, { Name = \"Cristian Romero\" ;  Team = \"Tottenham\"; Position = Defender; Age = 24uy};\n",
    "     6, { Name = \"Germán Pezzella\" ;  Team = \"Betis\"; Position = Defender; Age = 31uy};\n",
    "     19, { Name = \"Nicolás Otamendi\" ;  Team = \"Benfica\"; Position = Defender; Age = 34uy};\n",
    "     25, { Name = \"Lisandro Martínez\" ;  Team = \"Manchester United\"; Position = Defender; Age = 24uy};\n",
    "     8, { Name = \"Marcos Acuña\" ;  Team = \"Sevilla\"; Position = Defender; Age = 31uy};\n",
    "     3, { Name = \"Nicolás Tagliafico\" ;  Team = \"Olympique de Lyon\"; Position = Defender; Age = 30uy};\n",
    "     2, { Name = \"Juan Foyth\" ;  Team = \"Villarreal\"; Position = Defender; Age = 24uy};\n",
    "    // Los 8 mediocampistas de Argentina en Qatar 2022\n",
    "     7, { Name = \"Rodrigo De Paul\" ;  Team = \"Atlético de Madrid\"; Position = Midfielder; Age = 28uy};\n",
    "     5, { Name = \"Leandro Paredes\" ;  Team = \"Juventus\"; Position = Midfielder; Age = 28uy};\n",
    "     20, { Name = \"Alexis Mac Allister\" ;  Team = \"Brighton\"; Position = Midfielder; Age = 23uy};\n",
    "     18, { Name = \"Guido Rodríguez\" ;  Team = \"Betis\"; Position = Midfielder; Age = 28uy};\n",
    "     17, { Name = \"Alejandro Gómez\" ;  Team = \"Sevilla\"; Position = Midfielder; Age = 34uy};\n",
    "     24, { Name = \"Enzo Fernández\" ;  Team = \"Benfica\"; Position = Midfielder; Age = 21uy};\n",
    "     14, { Name = \"Exequiel Palacios\" ;  Team = \"Bayer Leverkusen\"; Position = Midfielder; Age = 24uy};\n",
    "     16, { Name = \"Thiago Almada\" ;  Team = \"Atlanta United\"; Position = Midfielder; Age = 21uy};\n",
    "    // Los 6 delanteros de Argentina en Qatar 2022\n",
    "     11, { Name = \"Ángel Di María\" ;  Team = \"Juventus\"; Position = Forward; Age = 34uy};\n",
    "     22, { Name = \"Lautaro Martínez\" ;  Team = \"Inter\"; Position = Forward; Age = 25uy};\n",
    "     9, { Name = \"Julián Álvarez\" ;  Team = \"Manchester City\"; Position = Forward; Age = 22uy};\n",
    "     21, { Name = \"Paulo Dybala\" ;  Team = \"Roma\"; Position = Forward; Age = 29uy};\n",
    "     15, { Name = \"Ángel Correa\" ;  Team = \"Atlético Madrid\"; Position = Forward; Age = 27uy};\n",
    "     10, { Name = \"Lionel Messi\" ;  Team = \"París Saint-Germain\"; Position = Forward; Age = 35uy};\n",
    "]"
   ]
  },
  {
   "cell_type": "code",
   "execution_count": 3,
   "metadata": {
    "dotnet_interactive": {
     "language": "fsharp"
    },
    "polyglot_notebook": {
     "kernelName": "fsharp"
    },
    "vscode": {
     "languageId": "polyglot-notebook"
    }
   },
   "outputs": [
    {
     "name": "stdout",
     "output_type": "stream",
     "text": [
      "1: Franco Armani (36), GoalKeeper, juega en River\n",
      "2: Juan Foyth (24), Defender, juega en Villarreal\n",
      "3: Nicolás Tagliafico (30), Defender, juega en Olympique de Lyon\n",
      "4: Gonzalo Montiel (25), Defender, juega en Sevilla\n",
      "5: Leandro Paredes (28), Midfielder, juega en Juventus\n",
      "6: Germán Pezzella (31), Defender, juega en Betis\n",
      "7: Rodrigo De Paul (28), Midfielder, juega en Atlético de Madrid\n",
      "8: Marcos Acuña (31), Defender, juega en Sevilla\n",
      "9: Julián Álvarez (22), Forward, juega en Manchester City\n",
      "10: Lionel Messi (35), Forward, juega en París Saint-Germain\n",
      "11: Ángel Di María (34), Forward, juega en Juventus\n",
      "12: Gerónimo Rulli (30), GoalKeeper, juega en Villarreal\n",
      "13: Cristian Romero (24), Defender, juega en Tottenham\n",
      "14: Exequiel Palacios (24), Midfielder, juega en Bayer Leverkusen\n",
      "15: Ángel Correa (27), Forward, juega en Atlético Madrid\n",
      "16: Thiago Almada (21), Midfielder, juega en Atlanta United\n",
      "17: Alejandro Gómez (34), Midfielder, juega en Sevilla\n",
      "18: Guido Rodríguez (28), Midfielder, juega en Betis\n",
      "19: Nicolás Otamendi (34), Defender, juega en Benfica\n",
      "20: Alexis Mac Allister (23), Midfielder, juega en Brighton\n",
      "21: Paulo Dybala (29), Forward, juega en Roma\n",
      "22: Lautaro Martínez (25), Forward, juega en Inter\n",
      "23: Emiliano Martínez (30), GoalKeeper, juega en Aston Villa\n",
      "24: Enzo Fernández (21), Midfielder, juega en Benfica\n",
      "25: Lisandro Martínez (24), Defender, juega en Manchester United\n",
      "26: Nahuel Molina (24), Defender, juega en Atlético de Madrid\n"
     ]
    }
   ],
   "source": [
    "let toStringPlayer number player = \n",
    "    $\"{number}: {player.Name} ({player.Age}), {player.Position}, juega en {player.Team}\"\n",
    "\n",
    "\n",
    "let prettyPrintMap m = \n",
    "    m\n",
    "    |> Map.iter (fun n p -> printfn \"%s\" (toStringPlayer n p))  \n",
    "\n",
    "prettyPrintMap champions2022       "
   ]
  },
  {
   "cell_type": "code",
   "execution_count": 11,
   "metadata": {
    "dotnet_interactive": {
     "language": "fsharp"
    },
    "polyglot_notebook": {
     "kernelName": "fsharp"
    },
    "vscode": {
     "languageId": "polyglot-notebook"
    }
   },
   "outputs": [
    {
     "name": "stdout",
     "output_type": "stream",
     "text": [
      "1: Franco Armani (36), GoalKeeper, juega en River\n",
      "2: Juan Foyth (24), Defender, juega en Villarreal\n",
      "3: Nicolás Tagliafico (30), Defender, juega en Olympique de Lyon\n",
      "4: Gonzalo Montiel (25), Defender, juega en Sevilla\n",
      "5: Leandro Paredes (28), Midfielder, juega en Juventus\n",
      "6: Germán Pezzella (31), Defender, juega en Betis\n",
      "7: Rodrigo De Paul (28), Midfielder, juega en Atlético de Madrid\n",
      "8: Marcos Acuña (31), Defender, juega en Sevilla\n",
      "9: Julián Álvarez (22), Forward, juega en Manchester City\n",
      "10: Lionel Messi (35), Forward, juega en París Saint-Germain\n",
      "11: Ángel Di María (34), Forward, juega en Juventus\n",
      "12: Gerónimo Rulli (30), GoalKeeper, juega en Villarreal\n",
      "13: Cristian Romero (24), Defender, juega en Tottenham\n",
      "14: Exequiel Palacios (24), Midfielder, juega en Bayer Leverkusen\n",
      "15: Ángel Correa (27), Forward, juega en Atlético Madrid\n",
      "16: Thiago Almada (21), Midfielder, juega en Atlanta United\n",
      "17: Alejandro Gómez (34), Midfielder, juega en Sevilla\n",
      "18: Guido Rodríguez (28), Midfielder, juega en Betis\n",
      "19: Nicolás Otamendi (34), Defender, juega en Benfica\n",
      "20: Alexis Mac Allister (23), Midfielder, juega en Brighton\n",
      "21: Paulo Dybala (29), Forward, juega en Roma\n",
      "22: Lautaro Martínez (25), Forward, juega en Inter\n",
      "23: Emiliano Martínez (30), GoalKeeper, juega en Aston Villa\n",
      "24: Enzo Fernández (21), Midfielder, juega en Benfica\n",
      "25: Lisandro Martínez (24), Defender, juega en Manchester United\n",
      "26: Nahuel Molina (24), Defender, juega en Atlético de Madrid\n"
     ]
    }
   ],
   "source": [
    "champions2022 \n",
    "|> Map.toList \n",
    "|> List.sortBy (fun (n,p) -> n)\n",
    "|> Map.ofList\n",
    "|> prettyPrintMap"
   ]
  },
  {
   "cell_type": "markdown",
   "metadata": {},
   "source": [
    "Quizás uno no necesita imprimir todos los datos de cada jugador:"
   ]
  },
  {
   "cell_type": "code",
   "execution_count": 12,
   "metadata": {
    "dotnet_interactive": {
     "language": "fsharp"
    },
    "polyglot_notebook": {
     "kernelName": "fsharp"
    },
    "vscode": {
     "languageId": "polyglot-notebook"
    }
   },
   "outputs": [
    {
     "name": "stdout",
     "output_type": "stream",
     "text": [
      "Franco Armani tiene 36 años\n",
      "Juan Foyth tiene 24 años\n",
      "Nicolás Tagliafico tiene 30 años\n",
      "Gonzalo Montiel tiene 25 años\n",
      "Leandro Paredes tiene 28 años\n",
      "Germán Pezzella tiene 31 años\n",
      "Rodrigo De Paul tiene 28 años\n",
      "Marcos Acuña tiene 31 años\n",
      "Julián Álvarez tiene 22 años\n",
      "Lionel Messi tiene 35 años\n",
      "Ángel Di María tiene 34 años\n",
      "Gerónimo Rulli tiene 30 años\n",
      "Cristian Romero tiene 24 años\n",
      "Exequiel Palacios tiene 24 años\n",
      "Ángel Correa tiene 27 años\n",
      "Thiago Almada tiene 21 años\n",
      "Alejandro Gómez tiene 34 años\n",
      "Guido Rodríguez tiene 28 años\n",
      "Nicolás Otamendi tiene 34 años\n",
      "Alexis Mac Allister tiene 23 años\n",
      "Paulo Dybala tiene 29 años\n",
      "Lautaro Martínez tiene 25 años\n",
      "Emiliano Martínez tiene 30 años\n",
      "Enzo Fernández tiene 21 años\n",
      "Lisandro Martínez tiene 24 años\n",
      "Nahuel Molina tiene 24 años\n"
     ]
    }
   ],
   "source": [
    "champions2022 \n",
    "|> Map.map (fun _ p -> $\"{p.Name} tiene {p.Age} años\")\n",
    "|> Map.iter (fun _ s -> printfn \"%s\" s)"
   ]
  },
  {
   "attachments": {},
   "cell_type": "markdown",
   "metadata": {},
   "source": [
    "Se puede buscar algún elemento del diccionario a través de la llave:"
   ]
  },
  {
   "cell_type": "code",
   "execution_count": 13,
   "metadata": {
    "dotnet_interactive": {
     "language": "fsharp"
    },
    "polyglot_notebook": {
     "kernelName": "fsharp"
    },
    "vscode": {
     "languageId": "polyglot-notebook"
    }
   },
   "outputs": [
    {
     "data": {
      "text/html": [
       "<details open=\"open\" class=\"dni-treeview\"><summary><span class=\"dni-code-hint\"><code>{ Name = \"Lautaro Martínez\"\\n  Team = \"Inter\"\\n  Position = Forward\\n  Age = 25uy }</code></span></summary><div><table><thead><tr></tr></thead><tbody><tr><td>Name</td><td>Lautaro Mart&#237;nez</td></tr><tr><td>Team</td><td>Inter</td></tr><tr><td>Position</td><td><details class=\"dni-treeview\"><summary><span class=\"dni-code-hint\"><code>Forward</code></span></summary><div><table><thead><tr></tr></thead><tbody></tbody></table></div></details></td></tr><tr><td>Age</td><td><div class=\"dni-plaintext\"><pre>25</pre></div></td></tr></tbody></table></div></details><style>\r\n",
       ".dni-code-hint {\r\n",
       "    font-style: italic;\r\n",
       "    overflow: hidden;\r\n",
       "    white-space: nowrap;\r\n",
       "}\r\n",
       ".dni-treeview {\r\n",
       "    white-space: nowrap;\r\n",
       "}\r\n",
       ".dni-treeview td {\r\n",
       "    vertical-align: top;\r\n",
       "    text-align: start;\r\n",
       "}\r\n",
       "details.dni-treeview {\r\n",
       "    padding-left: 1em;\r\n",
       "}\r\n",
       "table td {\r\n",
       "    text-align: start;\r\n",
       "}\r\n",
       "table tr { \r\n",
       "    vertical-align: top; \r\n",
       "    margin: 0em 0px;\r\n",
       "}\r\n",
       "table tr td pre \r\n",
       "{ \r\n",
       "    vertical-align: top !important; \r\n",
       "    margin: 0em 0px !important;\r\n",
       "} \r\n",
       "table th {\r\n",
       "    text-align: start;\r\n",
       "}\r\n",
       "</style>"
      ]
     },
     "metadata": {},
     "output_type": "display_data"
    }
   ],
   "source": [
    "champions2022\n",
    "|> Map.find 22\n"
   ]
  },
  {
   "cell_type": "code",
   "execution_count": 14,
   "metadata": {
    "dotnet_interactive": {
     "language": "fsharp"
    },
    "polyglot_notebook": {
     "kernelName": "fsharp"
    },
    "vscode": {
     "languageId": "polyglot-notebook"
    }
   },
   "outputs": [
    {
     "ename": "Error",
     "evalue": "System.Collections.Generic.KeyNotFoundException: The given key was not present in the dictionary.\n   at Microsoft.FSharp.Collections.MapTreeModule.throwKeyNotFound[a]() in D:\\a\\_work\\1\\s\\src\\FSharp.Core\\map.fs:line 187\n   at Microsoft.FSharp.Collections.MapTreeModule.find[TKey,TValue](IComparer`1 comparer, TKey k, MapTree`2 m) in D:\\a\\_work\\1\\s\\src\\FSharp.Core\\map.fs:line 196\n   at Microsoft.FSharp.Collections.MapModule.Find[TKey,T](TKey key, FSharpMap`2 table) in D:\\a\\_work\\1\\s\\src\\FSharp.Core\\map.fs:line 1148\n   at <StartupCode$FSI_0039>.$FSI_0039.main@()\n   at System.RuntimeMethodHandle.InvokeMethod(Object target, Void** arguments, Signature sig, Boolean isConstructor)\n   at System.Reflection.MethodInvoker.Invoke(Object obj, IntPtr* args, BindingFlags invokeAttr)",
     "output_type": "error",
     "traceback": [
      "System.Collections.Generic.KeyNotFoundException: The given key was not present in the dictionary.\n",
      "   at Microsoft.FSharp.Collections.MapTreeModule.throwKeyNotFound[a]() in D:\\a\\_work\\1\\s\\src\\FSharp.Core\\map.fs:line 187\n",
      "   at Microsoft.FSharp.Collections.MapTreeModule.find[TKey,TValue](IComparer`1 comparer, TKey k, MapTree`2 m) in D:\\a\\_work\\1\\s\\src\\FSharp.Core\\map.fs:line 196\n",
      "   at Microsoft.FSharp.Collections.MapModule.Find[TKey,T](TKey key, FSharpMap`2 table) in D:\\a\\_work\\1\\s\\src\\FSharp.Core\\map.fs:line 1148\n",
      "   at <StartupCode$FSI_0039>.$FSI_0039.main@()\n",
      "   at System.RuntimeMethodHandle.InvokeMethod(Object target, Void** arguments, Signature sig, Boolean isConstructor)\n",
      "   at System.Reflection.MethodInvoker.Invoke(Object obj, IntPtr* args, BindingFlags invokeAttr)"
     ]
    }
   ],
   "source": [
    "champions2022\n",
    "|> Map.find 31"
   ]
  },
  {
   "attachments": {},
   "cell_type": "markdown",
   "metadata": {},
   "source": [
    "Nótese que `Map.find` devuelve obviamente el único elemento que encuentra. Si uno quiere todos los elementos que comparten una cierta característica, usamos `Map.filter`"
   ]
  },
  {
   "cell_type": "code",
   "execution_count": 15,
   "metadata": {
    "dotnet_interactive": {
     "language": "fsharp"
    },
    "polyglot_notebook": {
     "kernelName": "fsharp"
    },
    "vscode": {
     "languageId": "polyglot-notebook"
    }
   },
   "outputs": [
    {
     "data": {
      "text/html": [
       "<table><thead><tr><th><i>key</i></th><th>value</th></tr></thead><tbody><tr><td><div class=\"dni-plaintext\"><pre>16</pre></div></td><td><details class=\"dni-treeview\"><summary><span class=\"dni-code-hint\"><code>{ Name = \"Thiago Almada\"\\n  Team = \"Atlanta United\"\\n  Position = Midfielder\\n  Age = 21uy }</code></span></summary><div><table><thead><tr></tr></thead><tbody><tr><td>Name</td><td>Thiago Almada</td></tr><tr><td>Team</td><td>Atlanta United</td></tr><tr><td>Position</td><td><details class=\"dni-treeview\"><summary><span class=\"dni-code-hint\"><code>Midfielder</code></span></summary><div><table><thead><tr></tr></thead><tbody></tbody></table></div></details></td></tr><tr><td>Age</td><td><div class=\"dni-plaintext\"><pre>21</pre></div></td></tr></tbody></table></div></details></td></tr><tr><td><div class=\"dni-plaintext\"><pre>24</pre></div></td><td><details class=\"dni-treeview\"><summary><span class=\"dni-code-hint\"><code>{ Name = \"Enzo Fernández\"\\n  Team = \"Benfica\"\\n  Position = Midfielder\\n  Age = 21uy }</code></span></summary><div><table><thead><tr></tr></thead><tbody><tr><td>Name</td><td>Enzo Fern&#225;ndez</td></tr><tr><td>Team</td><td>Benfica</td></tr><tr><td>Position</td><td><details class=\"dni-treeview\"><summary><span class=\"dni-code-hint\"><code>Midfielder</code></span></summary><div><table><thead><tr></tr></thead><tbody></tbody></table></div></details></td></tr><tr><td>Age</td><td><div class=\"dni-plaintext\"><pre>21</pre></div></td></tr></tbody></table></div></details></td></tr></tbody></table><style>\r\n",
       ".dni-code-hint {\r\n",
       "    font-style: italic;\r\n",
       "    overflow: hidden;\r\n",
       "    white-space: nowrap;\r\n",
       "}\r\n",
       ".dni-treeview {\r\n",
       "    white-space: nowrap;\r\n",
       "}\r\n",
       ".dni-treeview td {\r\n",
       "    vertical-align: top;\r\n",
       "    text-align: start;\r\n",
       "}\r\n",
       "details.dni-treeview {\r\n",
       "    padding-left: 1em;\r\n",
       "}\r\n",
       "table td {\r\n",
       "    text-align: start;\r\n",
       "}\r\n",
       "table tr { \r\n",
       "    vertical-align: top; \r\n",
       "    margin: 0em 0px;\r\n",
       "}\r\n",
       "table tr td pre \r\n",
       "{ \r\n",
       "    vertical-align: top !important; \r\n",
       "    margin: 0em 0px !important;\r\n",
       "} \r\n",
       "table th {\r\n",
       "    text-align: start;\r\n",
       "}\r\n",
       "</style>"
      ]
     },
     "metadata": {},
     "output_type": "display_data"
    }
   ],
   "source": [
    "champions2022\n",
    "|> Map.filter (fun _ p -> p.Age = 21uy)"
   ]
  },
  {
   "cell_type": "code",
   "execution_count": 16,
   "metadata": {
    "dotnet_interactive": {
     "language": "fsharp"
    },
    "polyglot_notebook": {
     "kernelName": "fsharp"
    },
    "vscode": {
     "languageId": "polyglot-notebook"
    }
   },
   "outputs": [
    {
     "name": "stdout",
     "output_type": "stream",
     "text": [
      "1: Franco Armani (36), GoalKeeper, juega en River\n",
      "12: Gerónimo Rulli (30), GoalKeeper, juega en Villarreal\n",
      "23: Emiliano Martínez (30), GoalKeeper, juega en Aston Villa\n"
     ]
    }
   ],
   "source": [
    "let arqueros = \n",
    "    champions2022\n",
    "    |> Map.filter (fun _ p -> p.Position = GoalKeeper)\n",
    "\n",
    "prettyPrintMap arqueros    "
   ]
  },
  {
   "attachments": {},
   "cell_type": "markdown",
   "metadata": {},
   "source": [
    "Podemos usar otros métodos para procesar los datos del diccionario, pero puede ser necesario convertirlas a una la lista con `Map.ofList`:"
   ]
  },
  {
   "cell_type": "code",
   "execution_count": 17,
   "metadata": {
    "dotnet_interactive": {
     "language": "fsharp"
    },
    "polyglot_notebook": {
     "kernelName": "fsharp"
    },
    "vscode": {
     "languageId": "polyglot-notebook"
    }
   },
   "outputs": [
    {
     "data": {
      "text/html": [
       "<div class=\"dni-plaintext\"><pre>27.76923076923077</pre></div><style>\r\n",
       ".dni-code-hint {\r\n",
       "    font-style: italic;\r\n",
       "    overflow: hidden;\r\n",
       "    white-space: nowrap;\r\n",
       "}\r\n",
       ".dni-treeview {\r\n",
       "    white-space: nowrap;\r\n",
       "}\r\n",
       ".dni-treeview td {\r\n",
       "    vertical-align: top;\r\n",
       "    text-align: start;\r\n",
       "}\r\n",
       "details.dni-treeview {\r\n",
       "    padding-left: 1em;\r\n",
       "}\r\n",
       "table td {\r\n",
       "    text-align: start;\r\n",
       "}\r\n",
       "table tr { \r\n",
       "    vertical-align: top; \r\n",
       "    margin: 0em 0px;\r\n",
       "}\r\n",
       "table tr td pre \r\n",
       "{ \r\n",
       "    vertical-align: top !important; \r\n",
       "    margin: 0em 0px !important;\r\n",
       "} \r\n",
       "table th {\r\n",
       "    text-align: start;\r\n",
       "}\r\n",
       "</style>"
      ]
     },
     "metadata": {},
     "output_type": "display_data"
    }
   ],
   "source": [
    "champions2022\n",
    "|> Map.toList \n",
    "|> List.averageBy (fun (_,p) -> float p.Age)"
   ]
  },
  {
   "attachments": {},
   "cell_type": "markdown",
   "metadata": {},
   "source": [
    "La función `Map.partition` nos permite agrupar los elementos en dos diccionarios con características disjuntas:"
   ]
  },
  {
   "cell_type": "code",
   "execution_count": 29,
   "metadata": {
    "dotnet_interactive": {
     "language": "fsharp"
    },
    "polyglot_notebook": {
     "kernelName": "fsharp"
    },
    "vscode": {
     "languageId": "polyglot-notebook"
    }
   },
   "outputs": [
    {
     "name": "stdout",
     "output_type": "stream",
     "text": [
      "Los menores de 30 son 16\n",
      "Los mayores de 30 son 10\n"
     ]
    }
   ],
   "source": [
    "let menoresde30, mayoresde30 = \n",
    "    champions2022\n",
    "    |> Map.map (fun _ p -> (p.Name,p.Age))\n",
    "    |> Map.partition (fun _ (name,age) -> age < 30uy)\n",
    "\n",
    "printfn $\"Los menores de 30 son {menoresde30.Count}\"\n",
    "printfn $\"Los mayores de 30 son {mayoresde30.Count}\""
   ]
  },
  {
   "attachments": {},
   "cell_type": "markdown",
   "metadata": {},
   "source": [
    "Finalmente, algunas funciones nos permiten evaluar una determinada característica de un diccionario:"
   ]
  },
  {
   "cell_type": "code",
   "execution_count": 4,
   "metadata": {
    "dotnet_interactive": {
     "language": "fsharp"
    },
    "polyglot_notebook": {
     "kernelName": "fsharp"
    },
    "vscode": {
     "languageId": "polyglot-notebook"
    }
   },
   "outputs": [
    {
     "data": {
      "text/html": [
       "<div class=\"dni-plaintext\"><pre>False</pre></div><style>\r\n",
       ".dni-code-hint {\r\n",
       "    font-style: italic;\r\n",
       "    overflow: hidden;\r\n",
       "    white-space: nowrap;\r\n",
       "}\r\n",
       ".dni-treeview {\r\n",
       "    white-space: nowrap;\r\n",
       "}\r\n",
       ".dni-treeview td {\r\n",
       "    vertical-align: top;\r\n",
       "    text-align: start;\r\n",
       "}\r\n",
       "details.dni-treeview {\r\n",
       "    padding-left: 1em;\r\n",
       "}\r\n",
       "table td {\r\n",
       "    text-align: start;\r\n",
       "}\r\n",
       "table tr { \r\n",
       "    vertical-align: top; \r\n",
       "    margin: 0em 0px;\r\n",
       "}\r\n",
       "table tr td pre \r\n",
       "{ \r\n",
       "    vertical-align: top !important; \r\n",
       "    margin: 0em 0px !important;\r\n",
       "} \r\n",
       "table th {\r\n",
       "    text-align: start;\r\n",
       "}\r\n",
       "</style>"
      ]
     },
     "metadata": {},
     "output_type": "display_data"
    }
   ],
   "source": [
    "champions2022\n",
    "|> Map.forall (fun _ p -> p.Age < 30uy)"
   ]
  },
  {
   "cell_type": "code",
   "execution_count": 18,
   "metadata": {
    "dotnet_interactive": {
     "language": "fsharp"
    },
    "polyglot_notebook": {
     "kernelName": "fsharp"
    },
    "vscode": {
     "languageId": "polyglot-notebook"
    }
   },
   "outputs": [
    {
     "data": {
      "text/html": [
       "<div class=\"dni-plaintext\"><pre>[ 1, 2, 3, 4, 5, 6, 7, 8, 9, 10, 11, 12, 13, 14, 15, 16, 17, 18, 19, 20 ... (6 more) ]</pre></div><style>\r\n",
       ".dni-code-hint {\r\n",
       "    font-style: italic;\r\n",
       "    overflow: hidden;\r\n",
       "    white-space: nowrap;\r\n",
       "}\r\n",
       ".dni-treeview {\r\n",
       "    white-space: nowrap;\r\n",
       "}\r\n",
       ".dni-treeview td {\r\n",
       "    vertical-align: top;\r\n",
       "    text-align: start;\r\n",
       "}\r\n",
       "details.dni-treeview {\r\n",
       "    padding-left: 1em;\r\n",
       "}\r\n",
       "table td {\r\n",
       "    text-align: start;\r\n",
       "}\r\n",
       "table tr { \r\n",
       "    vertical-align: top; \r\n",
       "    margin: 0em 0px;\r\n",
       "}\r\n",
       "table tr td pre \r\n",
       "{ \r\n",
       "    vertical-align: top !important; \r\n",
       "    margin: 0em 0px !important;\r\n",
       "} \r\n",
       "table th {\r\n",
       "    text-align: start;\r\n",
       "}\r\n",
       "</style>"
      ]
     },
     "metadata": {},
     "output_type": "display_data"
    }
   ],
   "source": [
    "Map.keys champions2022"
   ]
  },
  {
   "cell_type": "code",
   "execution_count": 26,
   "metadata": {
    "dotnet_interactive": {
     "language": "fsharp"
    },
    "polyglot_notebook": {
     "kernelName": "fsharp"
    },
    "vscode": {
     "languageId": "polyglot-notebook"
    }
   },
   "outputs": [
    {
     "data": {
      "text/html": [
       "<div class=\"dni-plaintext\"><pre>[ 1, 2, 3, 4, 5, 6, 7, 8, 9, 10, 11, 12, 13, 14, 15, 16, 17, 18, 19, 20 ... (more) ]</pre></div><style>\r\n",
       ".dni-code-hint {\r\n",
       "    font-style: italic;\r\n",
       "    overflow: hidden;\r\n",
       "    white-space: nowrap;\r\n",
       "}\r\n",
       ".dni-treeview {\r\n",
       "    white-space: nowrap;\r\n",
       "}\r\n",
       ".dni-treeview td {\r\n",
       "    vertical-align: top;\r\n",
       "    text-align: start;\r\n",
       "}\r\n",
       "details.dni-treeview {\r\n",
       "    padding-left: 1em;\r\n",
       "}\r\n",
       "table td {\r\n",
       "    text-align: start;\r\n",
       "}\r\n",
       "table tr { \r\n",
       "    vertical-align: top; \r\n",
       "    margin: 0em 0px;\r\n",
       "}\r\n",
       "table tr td pre \r\n",
       "{ \r\n",
       "    vertical-align: top !important; \r\n",
       "    margin: 0em 0px !important;\r\n",
       "} \r\n",
       "table th {\r\n",
       "    text-align: start;\r\n",
       "}\r\n",
       "</style>"
      ]
     },
     "metadata": {},
     "output_type": "display_data"
    }
   ],
   "source": [
    "champions2022\n",
    "|> Map.toList \n",
    "|> List.map (fun (k,_)-> k)"
   ]
  },
  {
   "cell_type": "code",
   "execution_count": 20,
   "metadata": {
    "dotnet_interactive": {
     "language": "fsharp"
    },
    "polyglot_notebook": {
     "kernelName": "fsharp"
    },
    "vscode": {
     "languageId": "polyglot-notebook"
    }
   },
   "outputs": [
    {
     "data": {
      "text/html": [
       "<table><thead><tr><th><i>index</i></th><th>value</th></tr></thead><tbody><tr><td>0</td><td><details class=\"dni-treeview\"><summary><span class=\"dni-code-hint\"><code>{ Name = \"Franco Armani\"\\n  Team = \"River\"\\n  Position = GoalKeeper\\n  Age = 36uy }</code></span></summary><div><table><thead><tr></tr></thead><tbody><tr><td>Name</td><td>Franco Armani</td></tr><tr><td>Team</td><td>River</td></tr><tr><td>Position</td><td><details class=\"dni-treeview\"><summary><span class=\"dni-code-hint\"><code>GoalKeeper</code></span></summary><div><table><thead><tr></tr></thead><tbody></tbody></table></div></details></td></tr><tr><td>Age</td><td><div class=\"dni-plaintext\"><pre>36</pre></div></td></tr></tbody></table></div></details></td></tr><tr><td>1</td><td><details class=\"dni-treeview\"><summary><span class=\"dni-code-hint\"><code>{ Name = \"Juan Foyth\"\\n  Team = \"Villarreal\"\\n  Position = Defender\\n  Age = 24uy }</code></span></summary><div><table><thead><tr></tr></thead><tbody><tr><td>Name</td><td>Juan Foyth</td></tr><tr><td>Team</td><td>Villarreal</td></tr><tr><td>Position</td><td><details class=\"dni-treeview\"><summary><span class=\"dni-code-hint\"><code>Defender</code></span></summary><div><table><thead><tr></tr></thead><tbody></tbody></table></div></details></td></tr><tr><td>Age</td><td><div class=\"dni-plaintext\"><pre>24</pre></div></td></tr></tbody></table></div></details></td></tr><tr><td>2</td><td><details class=\"dni-treeview\"><summary><span class=\"dni-code-hint\"><code>{ Name = \"Nicolás Tagliafico\"\\n  Team = \"Olympique de Lyon\"\\n  Position = Defender\\n  Age = 30uy }</code></span></summary><div><table><thead><tr></tr></thead><tbody><tr><td>Name</td><td>Nicol&#225;s Tagliafico</td></tr><tr><td>Team</td><td>Olympique de Lyon</td></tr><tr><td>Position</td><td><details class=\"dni-treeview\"><summary><span class=\"dni-code-hint\"><code>Defender</code></span></summary><div><table><thead><tr></tr></thead><tbody></tbody></table></div></details></td></tr><tr><td>Age</td><td><div class=\"dni-plaintext\"><pre>30</pre></div></td></tr></tbody></table></div></details></td></tr><tr><td>3</td><td><details class=\"dni-treeview\"><summary><span class=\"dni-code-hint\"><code>{ Name = \"Gonzalo Montiel\"\\n  Team = \"Sevilla\"\\n  Position = Defender\\n  Age = 25uy }</code></span></summary><div><table><thead><tr></tr></thead><tbody><tr><td>Name</td><td>Gonzalo Montiel</td></tr><tr><td>Team</td><td>Sevilla</td></tr><tr><td>Position</td><td><details class=\"dni-treeview\"><summary><span class=\"dni-code-hint\"><code>Defender</code></span></summary><div><table><thead><tr></tr></thead><tbody></tbody></table></div></details></td></tr><tr><td>Age</td><td><div class=\"dni-plaintext\"><pre>25</pre></div></td></tr></tbody></table></div></details></td></tr><tr><td>4</td><td><details class=\"dni-treeview\"><summary><span class=\"dni-code-hint\"><code>{ Name = \"Leandro Paredes\"\\n  Team = \"Juventus\"\\n  Position = Midfielder\\n  Age = 28uy }</code></span></summary><div><table><thead><tr></tr></thead><tbody><tr><td>Name</td><td>Leandro Paredes</td></tr><tr><td>Team</td><td>Juventus</td></tr><tr><td>Position</td><td><details class=\"dni-treeview\"><summary><span class=\"dni-code-hint\"><code>Midfielder</code></span></summary><div><table><thead><tr></tr></thead><tbody></tbody></table></div></details></td></tr><tr><td>Age</td><td><div class=\"dni-plaintext\"><pre>28</pre></div></td></tr></tbody></table></div></details></td></tr><tr><td>5</td><td><details class=\"dni-treeview\"><summary><span class=\"dni-code-hint\"><code>{ Name = \"Germán Pezzella\"\\n  Team = \"Betis\"\\n  Position = Defender\\n  Age = 31uy }</code></span></summary><div><table><thead><tr></tr></thead><tbody><tr><td>Name</td><td>Germ&#225;n Pezzella</td></tr><tr><td>Team</td><td>Betis</td></tr><tr><td>Position</td><td><details class=\"dni-treeview\"><summary><span class=\"dni-code-hint\"><code>Defender</code></span></summary><div><table><thead><tr></tr></thead><tbody></tbody></table></div></details></td></tr><tr><td>Age</td><td><div class=\"dni-plaintext\"><pre>31</pre></div></td></tr></tbody></table></div></details></td></tr><tr><td>6</td><td><details class=\"dni-treeview\"><summary><span class=\"dni-code-hint\"><code>{ Name = \"Rodrigo De Paul\"\\n  Team = \"Atlético de Madrid\"\\n  Position = Midfielder\\n  Age = 28uy }</code></span></summary><div><table><thead><tr></tr></thead><tbody><tr><td>Name</td><td>Rodrigo De Paul</td></tr><tr><td>Team</td><td>Atl&#233;tico de Madrid</td></tr><tr><td>Position</td><td><details class=\"dni-treeview\"><summary><span class=\"dni-code-hint\"><code>Midfielder</code></span></summary><div><table><thead><tr></tr></thead><tbody></tbody></table></div></details></td></tr><tr><td>Age</td><td><div class=\"dni-plaintext\"><pre>28</pre></div></td></tr></tbody></table></div></details></td></tr><tr><td>7</td><td><details class=\"dni-treeview\"><summary><span class=\"dni-code-hint\"><code>{ Name = \"Marcos Acuña\"\\n  Team = \"Sevilla\"\\n  Position = Defender\\n  Age = 31uy }</code></span></summary><div><table><thead><tr></tr></thead><tbody><tr><td>Name</td><td>Marcos Acu&#241;a</td></tr><tr><td>Team</td><td>Sevilla</td></tr><tr><td>Position</td><td><details class=\"dni-treeview\"><summary><span class=\"dni-code-hint\"><code>Defender</code></span></summary><div><table><thead><tr></tr></thead><tbody></tbody></table></div></details></td></tr><tr><td>Age</td><td><div class=\"dni-plaintext\"><pre>31</pre></div></td></tr></tbody></table></div></details></td></tr><tr><td>8</td><td><details class=\"dni-treeview\"><summary><span class=\"dni-code-hint\"><code>{ Name = \"Julián Álvarez\"\\n  Team = \"Manchester City\"\\n  Position = Forward\\n  Age = 22uy }</code></span></summary><div><table><thead><tr></tr></thead><tbody><tr><td>Name</td><td>Juli&#225;n &#193;lvarez</td></tr><tr><td>Team</td><td>Manchester City</td></tr><tr><td>Position</td><td><details class=\"dni-treeview\"><summary><span class=\"dni-code-hint\"><code>Forward</code></span></summary><div><table><thead><tr></tr></thead><tbody></tbody></table></div></details></td></tr><tr><td>Age</td><td><div class=\"dni-plaintext\"><pre>22</pre></div></td></tr></tbody></table></div></details></td></tr><tr><td>9</td><td><details class=\"dni-treeview\"><summary><span class=\"dni-code-hint\"><code>{ Name = \"Lionel Messi\"\\n  Team = \"París Saint-Germain\"\\n  Position = Forward\\n  Age = 35uy }</code></span></summary><div><table><thead><tr></tr></thead><tbody><tr><td>Name</td><td>Lionel Messi</td></tr><tr><td>Team</td><td>Par&#237;s Saint-Germain</td></tr><tr><td>Position</td><td><details class=\"dni-treeview\"><summary><span class=\"dni-code-hint\"><code>Forward</code></span></summary><div><table><thead><tr></tr></thead><tbody></tbody></table></div></details></td></tr><tr><td>Age</td><td><div class=\"dni-plaintext\"><pre>35</pre></div></td></tr></tbody></table></div></details></td></tr><tr><td>10</td><td><details class=\"dni-treeview\"><summary><span class=\"dni-code-hint\"><code>{ Name = \"Ángel Di María\"\\n  Team = \"Juventus\"\\n  Position = Forward\\n  Age = 34uy }</code></span></summary><div><table><thead><tr></tr></thead><tbody><tr><td>Name</td><td>&#193;ngel Di Mar&#237;a</td></tr><tr><td>Team</td><td>Juventus</td></tr><tr><td>Position</td><td><details class=\"dni-treeview\"><summary><span class=\"dni-code-hint\"><code>Forward</code></span></summary><div><table><thead><tr></tr></thead><tbody></tbody></table></div></details></td></tr><tr><td>Age</td><td><div class=\"dni-plaintext\"><pre>34</pre></div></td></tr></tbody></table></div></details></td></tr><tr><td>11</td><td><details class=\"dni-treeview\"><summary><span class=\"dni-code-hint\"><code>{ Name = \"Gerónimo Rulli\"\\n  Team = \"Villarreal\"\\n  Position = GoalKeeper\\n  Age = 30uy }</code></span></summary><div><table><thead><tr></tr></thead><tbody><tr><td>Name</td><td>Ger&#243;nimo Rulli</td></tr><tr><td>Team</td><td>Villarreal</td></tr><tr><td>Position</td><td><details class=\"dni-treeview\"><summary><span class=\"dni-code-hint\"><code>GoalKeeper</code></span></summary><div><table><thead><tr></tr></thead><tbody></tbody></table></div></details></td></tr><tr><td>Age</td><td><div class=\"dni-plaintext\"><pre>30</pre></div></td></tr></tbody></table></div></details></td></tr><tr><td>12</td><td><details class=\"dni-treeview\"><summary><span class=\"dni-code-hint\"><code>{ Name = \"Cristian Romero\"\\n  Team = \"Tottenham\"\\n  Position = Defender\\n  Age = 24uy }</code></span></summary><div><table><thead><tr></tr></thead><tbody><tr><td>Name</td><td>Cristian Romero</td></tr><tr><td>Team</td><td>Tottenham</td></tr><tr><td>Position</td><td><details class=\"dni-treeview\"><summary><span class=\"dni-code-hint\"><code>Defender</code></span></summary><div><table><thead><tr></tr></thead><tbody></tbody></table></div></details></td></tr><tr><td>Age</td><td><div class=\"dni-plaintext\"><pre>24</pre></div></td></tr></tbody></table></div></details></td></tr><tr><td>13</td><td><details class=\"dni-treeview\"><summary><span class=\"dni-code-hint\"><code>{ Name = \"Exequiel Palacios\"\\n  Team = \"Bayer Leverkusen\"\\n  Position = Midfielder\\n  Age = 24uy }</code></span></summary><div><table><thead><tr></tr></thead><tbody><tr><td>Name</td><td>Exequiel Palacios</td></tr><tr><td>Team</td><td>Bayer Leverkusen</td></tr><tr><td>Position</td><td><details class=\"dni-treeview\"><summary><span class=\"dni-code-hint\"><code>Midfielder</code></span></summary><div><table><thead><tr></tr></thead><tbody></tbody></table></div></details></td></tr><tr><td>Age</td><td><div class=\"dni-plaintext\"><pre>24</pre></div></td></tr></tbody></table></div></details></td></tr><tr><td>14</td><td><details class=\"dni-treeview\"><summary><span class=\"dni-code-hint\"><code>{ Name = \"Ángel Correa\"\\n  Team = \"Atlético Madrid\"\\n  Position = Forward\\n  Age = 27uy }</code></span></summary><div><table><thead><tr></tr></thead><tbody><tr><td>Name</td><td>&#193;ngel Correa</td></tr><tr><td>Team</td><td>Atl&#233;tico Madrid</td></tr><tr><td>Position</td><td><details class=\"dni-treeview\"><summary><span class=\"dni-code-hint\"><code>Forward</code></span></summary><div><table><thead><tr></tr></thead><tbody></tbody></table></div></details></td></tr><tr><td>Age</td><td><div class=\"dni-plaintext\"><pre>27</pre></div></td></tr></tbody></table></div></details></td></tr><tr><td>15</td><td><details class=\"dni-treeview\"><summary><span class=\"dni-code-hint\"><code>{ Name = \"Thiago Almada\"\\n  Team = \"Atlanta United\"\\n  Position = Midfielder\\n  Age = 21uy }</code></span></summary><div><table><thead><tr></tr></thead><tbody><tr><td>Name</td><td>Thiago Almada</td></tr><tr><td>Team</td><td>Atlanta United</td></tr><tr><td>Position</td><td><details class=\"dni-treeview\"><summary><span class=\"dni-code-hint\"><code>Midfielder</code></span></summary><div><table><thead><tr></tr></thead><tbody></tbody></table></div></details></td></tr><tr><td>Age</td><td><div class=\"dni-plaintext\"><pre>21</pre></div></td></tr></tbody></table></div></details></td></tr><tr><td>16</td><td><details class=\"dni-treeview\"><summary><span class=\"dni-code-hint\"><code>{ Name = \"Alejandro Gómez\"\\n  Team = \"Sevilla\"\\n  Position = Midfielder\\n  Age = 34uy }</code></span></summary><div><table><thead><tr></tr></thead><tbody><tr><td>Name</td><td>Alejandro G&#243;mez</td></tr><tr><td>Team</td><td>Sevilla</td></tr><tr><td>Position</td><td><details class=\"dni-treeview\"><summary><span class=\"dni-code-hint\"><code>Midfielder</code></span></summary><div><table><thead><tr></tr></thead><tbody></tbody></table></div></details></td></tr><tr><td>Age</td><td><div class=\"dni-plaintext\"><pre>34</pre></div></td></tr></tbody></table></div></details></td></tr><tr><td>17</td><td><details class=\"dni-treeview\"><summary><span class=\"dni-code-hint\"><code>{ Name = \"Guido Rodríguez\"\\n  Team = \"Betis\"\\n  Position = Midfielder\\n  Age = 28uy }</code></span></summary><div><table><thead><tr></tr></thead><tbody><tr><td>Name</td><td>Guido Rodr&#237;guez</td></tr><tr><td>Team</td><td>Betis</td></tr><tr><td>Position</td><td><details class=\"dni-treeview\"><summary><span class=\"dni-code-hint\"><code>Midfielder</code></span></summary><div><table><thead><tr></tr></thead><tbody></tbody></table></div></details></td></tr><tr><td>Age</td><td><div class=\"dni-plaintext\"><pre>28</pre></div></td></tr></tbody></table></div></details></td></tr><tr><td>18</td><td><details class=\"dni-treeview\"><summary><span class=\"dni-code-hint\"><code>{ Name = \"Nicolás Otamendi\"\\n  Team = \"Benfica\"\\n  Position = Defender\\n  Age = 34uy }</code></span></summary><div><table><thead><tr></tr></thead><tbody><tr><td>Name</td><td>Nicol&#225;s Otamendi</td></tr><tr><td>Team</td><td>Benfica</td></tr><tr><td>Position</td><td><details class=\"dni-treeview\"><summary><span class=\"dni-code-hint\"><code>Defender</code></span></summary><div><table><thead><tr></tr></thead><tbody></tbody></table></div></details></td></tr><tr><td>Age</td><td><div class=\"dni-plaintext\"><pre>34</pre></div></td></tr></tbody></table></div></details></td></tr><tr><td>19</td><td><details class=\"dni-treeview\"><summary><span class=\"dni-code-hint\"><code>{ Name = \"Alexis Mac Allister\"\\n  Team = \"Brighton\"\\n  Position = Midfielder\\n  Age = 23uy }</code></span></summary><div><table><thead><tr></tr></thead><tbody><tr><td>Name</td><td>Alexis Mac Allister</td></tr><tr><td>Team</td><td>Brighton</td></tr><tr><td>Position</td><td><details class=\"dni-treeview\"><summary><span class=\"dni-code-hint\"><code>Midfielder</code></span></summary><div><table><thead><tr></tr></thead><tbody></tbody></table></div></details></td></tr><tr><td>Age</td><td><div class=\"dni-plaintext\"><pre>23</pre></div></td></tr></tbody></table></div></details></td></tr><tr><td colspan=\"2\"><i>... (more)</i></td></tr></tbody></table><style>\r\n",
       ".dni-code-hint {\r\n",
       "    font-style: italic;\r\n",
       "    overflow: hidden;\r\n",
       "    white-space: nowrap;\r\n",
       "}\r\n",
       ".dni-treeview {\r\n",
       "    white-space: nowrap;\r\n",
       "}\r\n",
       ".dni-treeview td {\r\n",
       "    vertical-align: top;\r\n",
       "    text-align: start;\r\n",
       "}\r\n",
       "details.dni-treeview {\r\n",
       "    padding-left: 1em;\r\n",
       "}\r\n",
       "table td {\r\n",
       "    text-align: start;\r\n",
       "}\r\n",
       "table tr { \r\n",
       "    vertical-align: top; \r\n",
       "    margin: 0em 0px;\r\n",
       "}\r\n",
       "table tr td pre \r\n",
       "{ \r\n",
       "    vertical-align: top !important; \r\n",
       "    margin: 0em 0px !important;\r\n",
       "} \r\n",
       "table th {\r\n",
       "    text-align: start;\r\n",
       "}\r\n",
       "</style>"
      ]
     },
     "metadata": {},
     "output_type": "display_data"
    }
   ],
   "source": [
    "Map.values champions2022"
   ]
  },
  {
   "cell_type": "code",
   "execution_count": 25,
   "metadata": {
    "dotnet_interactive": {
     "language": "fsharp"
    },
    "polyglot_notebook": {
     "kernelName": "fsharp"
    },
    "vscode": {
     "languageId": "polyglot-notebook"
    }
   },
   "outputs": [
    {
     "data": {
      "text/html": [
       "<table><thead><tr><th><i>index</i></th><th>value</th></tr></thead><tbody><tr><td>0</td><td><details class=\"dni-treeview\"><summary><span class=\"dni-code-hint\"><code>{ Name = \"Franco Armani\"\\n  Team = \"River\"\\n  Position = GoalKeeper\\n  Age = 36uy }</code></span></summary><div><table><thead><tr></tr></thead><tbody><tr><td>Name</td><td>Franco Armani</td></tr><tr><td>Team</td><td>River</td></tr><tr><td>Position</td><td><details class=\"dni-treeview\"><summary><span class=\"dni-code-hint\"><code>GoalKeeper</code></span></summary><div><table><thead><tr></tr></thead><tbody></tbody></table></div></details></td></tr><tr><td>Age</td><td><div class=\"dni-plaintext\"><pre>36</pre></div></td></tr></tbody></table></div></details></td></tr><tr><td>1</td><td><details class=\"dni-treeview\"><summary><span class=\"dni-code-hint\"><code>{ Name = \"Juan Foyth\"\\n  Team = \"Villarreal\"\\n  Position = Defender\\n  Age = 24uy }</code></span></summary><div><table><thead><tr></tr></thead><tbody><tr><td>Name</td><td>Juan Foyth</td></tr><tr><td>Team</td><td>Villarreal</td></tr><tr><td>Position</td><td><details class=\"dni-treeview\"><summary><span class=\"dni-code-hint\"><code>Defender</code></span></summary><div><table><thead><tr></tr></thead><tbody></tbody></table></div></details></td></tr><tr><td>Age</td><td><div class=\"dni-plaintext\"><pre>24</pre></div></td></tr></tbody></table></div></details></td></tr><tr><td>2</td><td><details class=\"dni-treeview\"><summary><span class=\"dni-code-hint\"><code>{ Name = \"Nicolás Tagliafico\"\\n  Team = \"Olympique de Lyon\"\\n  Position = Defender\\n  Age = 30uy }</code></span></summary><div><table><thead><tr></tr></thead><tbody><tr><td>Name</td><td>Nicol&#225;s Tagliafico</td></tr><tr><td>Team</td><td>Olympique de Lyon</td></tr><tr><td>Position</td><td><details class=\"dni-treeview\"><summary><span class=\"dni-code-hint\"><code>Defender</code></span></summary><div><table><thead><tr></tr></thead><tbody></tbody></table></div></details></td></tr><tr><td>Age</td><td><div class=\"dni-plaintext\"><pre>30</pre></div></td></tr></tbody></table></div></details></td></tr><tr><td>3</td><td><details class=\"dni-treeview\"><summary><span class=\"dni-code-hint\"><code>{ Name = \"Gonzalo Montiel\"\\n  Team = \"Sevilla\"\\n  Position = Defender\\n  Age = 25uy }</code></span></summary><div><table><thead><tr></tr></thead><tbody><tr><td>Name</td><td>Gonzalo Montiel</td></tr><tr><td>Team</td><td>Sevilla</td></tr><tr><td>Position</td><td><details class=\"dni-treeview\"><summary><span class=\"dni-code-hint\"><code>Defender</code></span></summary><div><table><thead><tr></tr></thead><tbody></tbody></table></div></details></td></tr><tr><td>Age</td><td><div class=\"dni-plaintext\"><pre>25</pre></div></td></tr></tbody></table></div></details></td></tr><tr><td>4</td><td><details class=\"dni-treeview\"><summary><span class=\"dni-code-hint\"><code>{ Name = \"Leandro Paredes\"\\n  Team = \"Juventus\"\\n  Position = Midfielder\\n  Age = 28uy }</code></span></summary><div><table><thead><tr></tr></thead><tbody><tr><td>Name</td><td>Leandro Paredes</td></tr><tr><td>Team</td><td>Juventus</td></tr><tr><td>Position</td><td><details class=\"dni-treeview\"><summary><span class=\"dni-code-hint\"><code>Midfielder</code></span></summary><div><table><thead><tr></tr></thead><tbody></tbody></table></div></details></td></tr><tr><td>Age</td><td><div class=\"dni-plaintext\"><pre>28</pre></div></td></tr></tbody></table></div></details></td></tr><tr><td>5</td><td><details class=\"dni-treeview\"><summary><span class=\"dni-code-hint\"><code>{ Name = \"Germán Pezzella\"\\n  Team = \"Betis\"\\n  Position = Defender\\n  Age = 31uy }</code></span></summary><div><table><thead><tr></tr></thead><tbody><tr><td>Name</td><td>Germ&#225;n Pezzella</td></tr><tr><td>Team</td><td>Betis</td></tr><tr><td>Position</td><td><details class=\"dni-treeview\"><summary><span class=\"dni-code-hint\"><code>Defender</code></span></summary><div><table><thead><tr></tr></thead><tbody></tbody></table></div></details></td></tr><tr><td>Age</td><td><div class=\"dni-plaintext\"><pre>31</pre></div></td></tr></tbody></table></div></details></td></tr><tr><td>6</td><td><details class=\"dni-treeview\"><summary><span class=\"dni-code-hint\"><code>{ Name = \"Rodrigo De Paul\"\\n  Team = \"Atlético de Madrid\"\\n  Position = Midfielder\\n  Age = 28uy }</code></span></summary><div><table><thead><tr></tr></thead><tbody><tr><td>Name</td><td>Rodrigo De Paul</td></tr><tr><td>Team</td><td>Atl&#233;tico de Madrid</td></tr><tr><td>Position</td><td><details class=\"dni-treeview\"><summary><span class=\"dni-code-hint\"><code>Midfielder</code></span></summary><div><table><thead><tr></tr></thead><tbody></tbody></table></div></details></td></tr><tr><td>Age</td><td><div class=\"dni-plaintext\"><pre>28</pre></div></td></tr></tbody></table></div></details></td></tr><tr><td>7</td><td><details class=\"dni-treeview\"><summary><span class=\"dni-code-hint\"><code>{ Name = \"Marcos Acuña\"\\n  Team = \"Sevilla\"\\n  Position = Defender\\n  Age = 31uy }</code></span></summary><div><table><thead><tr></tr></thead><tbody><tr><td>Name</td><td>Marcos Acu&#241;a</td></tr><tr><td>Team</td><td>Sevilla</td></tr><tr><td>Position</td><td><details class=\"dni-treeview\"><summary><span class=\"dni-code-hint\"><code>Defender</code></span></summary><div><table><thead><tr></tr></thead><tbody></tbody></table></div></details></td></tr><tr><td>Age</td><td><div class=\"dni-plaintext\"><pre>31</pre></div></td></tr></tbody></table></div></details></td></tr><tr><td>8</td><td><details class=\"dni-treeview\"><summary><span class=\"dni-code-hint\"><code>{ Name = \"Julián Álvarez\"\\n  Team = \"Manchester City\"\\n  Position = Forward\\n  Age = 22uy }</code></span></summary><div><table><thead><tr></tr></thead><tbody><tr><td>Name</td><td>Juli&#225;n &#193;lvarez</td></tr><tr><td>Team</td><td>Manchester City</td></tr><tr><td>Position</td><td><details class=\"dni-treeview\"><summary><span class=\"dni-code-hint\"><code>Forward</code></span></summary><div><table><thead><tr></tr></thead><tbody></tbody></table></div></details></td></tr><tr><td>Age</td><td><div class=\"dni-plaintext\"><pre>22</pre></div></td></tr></tbody></table></div></details></td></tr><tr><td>9</td><td><details class=\"dni-treeview\"><summary><span class=\"dni-code-hint\"><code>{ Name = \"Lionel Messi\"\\n  Team = \"París Saint-Germain\"\\n  Position = Forward\\n  Age = 35uy }</code></span></summary><div><table><thead><tr></tr></thead><tbody><tr><td>Name</td><td>Lionel Messi</td></tr><tr><td>Team</td><td>Par&#237;s Saint-Germain</td></tr><tr><td>Position</td><td><details class=\"dni-treeview\"><summary><span class=\"dni-code-hint\"><code>Forward</code></span></summary><div><table><thead><tr></tr></thead><tbody></tbody></table></div></details></td></tr><tr><td>Age</td><td><div class=\"dni-plaintext\"><pre>35</pre></div></td></tr></tbody></table></div></details></td></tr><tr><td>10</td><td><details class=\"dni-treeview\"><summary><span class=\"dni-code-hint\"><code>{ Name = \"Ángel Di María\"\\n  Team = \"Juventus\"\\n  Position = Forward\\n  Age = 34uy }</code></span></summary><div><table><thead><tr></tr></thead><tbody><tr><td>Name</td><td>&#193;ngel Di Mar&#237;a</td></tr><tr><td>Team</td><td>Juventus</td></tr><tr><td>Position</td><td><details class=\"dni-treeview\"><summary><span class=\"dni-code-hint\"><code>Forward</code></span></summary><div><table><thead><tr></tr></thead><tbody></tbody></table></div></details></td></tr><tr><td>Age</td><td><div class=\"dni-plaintext\"><pre>34</pre></div></td></tr></tbody></table></div></details></td></tr><tr><td>11</td><td><details class=\"dni-treeview\"><summary><span class=\"dni-code-hint\"><code>{ Name = \"Gerónimo Rulli\"\\n  Team = \"Villarreal\"\\n  Position = GoalKeeper\\n  Age = 30uy }</code></span></summary><div><table><thead><tr></tr></thead><tbody><tr><td>Name</td><td>Ger&#243;nimo Rulli</td></tr><tr><td>Team</td><td>Villarreal</td></tr><tr><td>Position</td><td><details class=\"dni-treeview\"><summary><span class=\"dni-code-hint\"><code>GoalKeeper</code></span></summary><div><table><thead><tr></tr></thead><tbody></tbody></table></div></details></td></tr><tr><td>Age</td><td><div class=\"dni-plaintext\"><pre>30</pre></div></td></tr></tbody></table></div></details></td></tr><tr><td>12</td><td><details class=\"dni-treeview\"><summary><span class=\"dni-code-hint\"><code>{ Name = \"Cristian Romero\"\\n  Team = \"Tottenham\"\\n  Position = Defender\\n  Age = 24uy }</code></span></summary><div><table><thead><tr></tr></thead><tbody><tr><td>Name</td><td>Cristian Romero</td></tr><tr><td>Team</td><td>Tottenham</td></tr><tr><td>Position</td><td><details class=\"dni-treeview\"><summary><span class=\"dni-code-hint\"><code>Defender</code></span></summary><div><table><thead><tr></tr></thead><tbody></tbody></table></div></details></td></tr><tr><td>Age</td><td><div class=\"dni-plaintext\"><pre>24</pre></div></td></tr></tbody></table></div></details></td></tr><tr><td>13</td><td><details class=\"dni-treeview\"><summary><span class=\"dni-code-hint\"><code>{ Name = \"Exequiel Palacios\"\\n  Team = \"Bayer Leverkusen\"\\n  Position = Midfielder\\n  Age = 24uy }</code></span></summary><div><table><thead><tr></tr></thead><tbody><tr><td>Name</td><td>Exequiel Palacios</td></tr><tr><td>Team</td><td>Bayer Leverkusen</td></tr><tr><td>Position</td><td><details class=\"dni-treeview\"><summary><span class=\"dni-code-hint\"><code>Midfielder</code></span></summary><div><table><thead><tr></tr></thead><tbody></tbody></table></div></details></td></tr><tr><td>Age</td><td><div class=\"dni-plaintext\"><pre>24</pre></div></td></tr></tbody></table></div></details></td></tr><tr><td>14</td><td><details class=\"dni-treeview\"><summary><span class=\"dni-code-hint\"><code>{ Name = \"Ángel Correa\"\\n  Team = \"Atlético Madrid\"\\n  Position = Forward\\n  Age = 27uy }</code></span></summary><div><table><thead><tr></tr></thead><tbody><tr><td>Name</td><td>&#193;ngel Correa</td></tr><tr><td>Team</td><td>Atl&#233;tico Madrid</td></tr><tr><td>Position</td><td><details class=\"dni-treeview\"><summary><span class=\"dni-code-hint\"><code>Forward</code></span></summary><div><table><thead><tr></tr></thead><tbody></tbody></table></div></details></td></tr><tr><td>Age</td><td><div class=\"dni-plaintext\"><pre>27</pre></div></td></tr></tbody></table></div></details></td></tr><tr><td>15</td><td><details class=\"dni-treeview\"><summary><span class=\"dni-code-hint\"><code>{ Name = \"Thiago Almada\"\\n  Team = \"Atlanta United\"\\n  Position = Midfielder\\n  Age = 21uy }</code></span></summary><div><table><thead><tr></tr></thead><tbody><tr><td>Name</td><td>Thiago Almada</td></tr><tr><td>Team</td><td>Atlanta United</td></tr><tr><td>Position</td><td><details class=\"dni-treeview\"><summary><span class=\"dni-code-hint\"><code>Midfielder</code></span></summary><div><table><thead><tr></tr></thead><tbody></tbody></table></div></details></td></tr><tr><td>Age</td><td><div class=\"dni-plaintext\"><pre>21</pre></div></td></tr></tbody></table></div></details></td></tr><tr><td>16</td><td><details class=\"dni-treeview\"><summary><span class=\"dni-code-hint\"><code>{ Name = \"Alejandro Gómez\"\\n  Team = \"Sevilla\"\\n  Position = Midfielder\\n  Age = 34uy }</code></span></summary><div><table><thead><tr></tr></thead><tbody><tr><td>Name</td><td>Alejandro G&#243;mez</td></tr><tr><td>Team</td><td>Sevilla</td></tr><tr><td>Position</td><td><details class=\"dni-treeview\"><summary><span class=\"dni-code-hint\"><code>Midfielder</code></span></summary><div><table><thead><tr></tr></thead><tbody></tbody></table></div></details></td></tr><tr><td>Age</td><td><div class=\"dni-plaintext\"><pre>34</pre></div></td></tr></tbody></table></div></details></td></tr><tr><td>17</td><td><details class=\"dni-treeview\"><summary><span class=\"dni-code-hint\"><code>{ Name = \"Guido Rodríguez\"\\n  Team = \"Betis\"\\n  Position = Midfielder\\n  Age = 28uy }</code></span></summary><div><table><thead><tr></tr></thead><tbody><tr><td>Name</td><td>Guido Rodr&#237;guez</td></tr><tr><td>Team</td><td>Betis</td></tr><tr><td>Position</td><td><details class=\"dni-treeview\"><summary><span class=\"dni-code-hint\"><code>Midfielder</code></span></summary><div><table><thead><tr></tr></thead><tbody></tbody></table></div></details></td></tr><tr><td>Age</td><td><div class=\"dni-plaintext\"><pre>28</pre></div></td></tr></tbody></table></div></details></td></tr><tr><td>18</td><td><details class=\"dni-treeview\"><summary><span class=\"dni-code-hint\"><code>{ Name = \"Nicolás Otamendi\"\\n  Team = \"Benfica\"\\n  Position = Defender\\n  Age = 34uy }</code></span></summary><div><table><thead><tr></tr></thead><tbody><tr><td>Name</td><td>Nicol&#225;s Otamendi</td></tr><tr><td>Team</td><td>Benfica</td></tr><tr><td>Position</td><td><details class=\"dni-treeview\"><summary><span class=\"dni-code-hint\"><code>Defender</code></span></summary><div><table><thead><tr></tr></thead><tbody></tbody></table></div></details></td></tr><tr><td>Age</td><td><div class=\"dni-plaintext\"><pre>34</pre></div></td></tr></tbody></table></div></details></td></tr><tr><td>19</td><td><details class=\"dni-treeview\"><summary><span class=\"dni-code-hint\"><code>{ Name = \"Alexis Mac Allister\"\\n  Team = \"Brighton\"\\n  Position = Midfielder\\n  Age = 23uy }</code></span></summary><div><table><thead><tr></tr></thead><tbody><tr><td>Name</td><td>Alexis Mac Allister</td></tr><tr><td>Team</td><td>Brighton</td></tr><tr><td>Position</td><td><details class=\"dni-treeview\"><summary><span class=\"dni-code-hint\"><code>Midfielder</code></span></summary><div><table><thead><tr></tr></thead><tbody></tbody></table></div></details></td></tr><tr><td>Age</td><td><div class=\"dni-plaintext\"><pre>23</pre></div></td></tr></tbody></table></div></details></td></tr><tr><td colspan=\"2\"><i>... (more)</i></td></tr></tbody></table><style>\r\n",
       ".dni-code-hint {\r\n",
       "    font-style: italic;\r\n",
       "    overflow: hidden;\r\n",
       "    white-space: nowrap;\r\n",
       "}\r\n",
       ".dni-treeview {\r\n",
       "    white-space: nowrap;\r\n",
       "}\r\n",
       ".dni-treeview td {\r\n",
       "    vertical-align: top;\r\n",
       "    text-align: start;\r\n",
       "}\r\n",
       "details.dni-treeview {\r\n",
       "    padding-left: 1em;\r\n",
       "}\r\n",
       "table td {\r\n",
       "    text-align: start;\r\n",
       "}\r\n",
       "table tr { \r\n",
       "    vertical-align: top; \r\n",
       "    margin: 0em 0px;\r\n",
       "}\r\n",
       "table tr td pre \r\n",
       "{ \r\n",
       "    vertical-align: top !important; \r\n",
       "    margin: 0em 0px !important;\r\n",
       "} \r\n",
       "table th {\r\n",
       "    text-align: start;\r\n",
       "}\r\n",
       "</style>"
      ]
     },
     "metadata": {},
     "output_type": "display_data"
    }
   ],
   "source": [
    "champions2022\n",
    "|> Map.toList \n",
    "|> List.map (fun (_,v)-> v)"
   ]
  }
 ],
 "metadata": {
  "language_info": {
   "name": "python"
  },
  "orig_nbformat": 4
 },
 "nbformat": 4,
 "nbformat_minor": 2
}
