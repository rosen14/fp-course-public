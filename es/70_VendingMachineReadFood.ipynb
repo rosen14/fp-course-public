{
 "cells": [
  {
   "cell_type": "markdown",
   "metadata": {},
   "source": [
    "## Volviendo a la máquina expendedora"
   ]
  },
  {
   "attachments": {},
   "cell_type": "markdown",
   "metadata": {},
   "source": [
    "Vamos a trabajar con un modelo para los items de nuestra máquina expendedora, que nos han llegado como [archivo](../data/FoodAndDrinks.csv). El modelo es el siguiente:"
   ]
  },
  {
   "cell_type": "code",
   "execution_count": 23,
   "metadata": {
    "dotnet_interactive": {
     "language": "fsharp"
    },
    "polyglot_notebook": {
     "kernelName": "fsharp"
    },
    "vscode": {
     "languageId": "polyglot-notebook"
    }
   },
   "outputs": [],
   "source": [
    "[<Measure>]\n",
    "type oz \n",
    "\n",
    "type FoodType = \n",
    "    FoodType of string \n",
    "\n",
    "type FoodProduct =\n",
    "    | Eat of FoodType \n",
    "    | Drink of FoodType \n",
    "\n",
    "type Brand = \n",
    "    | Brand of string \n",
    " \n",
    "\n",
    "type FoodMachineItem =\n",
    "    {\n",
    "        Brand: Brand\n",
    "        ProductType: FoodProduct \n",
    "        Price: float \n",
    "        Weight: float<oz> \n",
    "    }"
   ]
  },
  {
   "attachments": {},
   "cell_type": "markdown",
   "metadata": {},
   "source": [
    "Algunas funciones de conveniencia:"
   ]
  },
  {
   "cell_type": "code",
   "execution_count": 24,
   "metadata": {
    "dotnet_interactive": {
     "language": "fsharp"
    },
    "polyglot_notebook": {
     "kernelName": "fsharp"
    },
    "vscode": {
     "languageId": "polyglot-notebook"
    }
   },
   "outputs": [],
   "source": [
    "let prettyPrint item = \n",
    "    let (Brand nameBrand) = item.Brand\n",
    "\n",
    "    let foodType = \n",
    "        match item.ProductType with \n",
    "        | Eat (FoodType t) -> t \n",
    "        | Drink (FoodType t) -> t\n",
    "\n",
    "    printfn $\"{foodType} ({nameBrand}, {item.Weight} oz) costs {item.Price}$\""
   ]
  },
  {
   "cell_type": "code",
   "execution_count": 25,
   "metadata": {
    "dotnet_interactive": {
     "language": "fsharp"
    },
    "polyglot_notebook": {
     "kernelName": "fsharp"
    },
    "vscode": {
     "languageId": "polyglot-notebook"
    }
   },
   "outputs": [],
   "source": [
    "let readFile(fileName: string) =  \n",
    "    let lines = File.ReadAllLines(fileName)\n",
    "    lines \n",
    "    "
   ]
  },
  {
   "attachments": {},
   "cell_type": "markdown",
   "metadata": {},
   "source": [
    "Ahora podemos leer los datos:"
   ]
  },
  {
   "cell_type": "code",
   "execution_count": 26,
   "metadata": {
    "dotnet_interactive": {
     "language": "fsharp"
    },
    "polyglot_notebook": {
     "kernelName": "fsharp"
    },
    "vscode": {
     "languageId": "polyglot-notebook"
    }
   },
   "outputs": [],
   "source": [
    "let foodAndDrinkData = \"../data/FoodAndDrinks.csv\"\n",
    "\n",
    "let products = readFile(foodAndDrinkData)\n"
   ]
  },
  {
   "cell_type": "code",
   "execution_count": 5,
   "metadata": {
    "dotnet_interactive": {
     "language": "fsharp"
    },
    "polyglot_notebook": {
     "kernelName": "fsharp"
    },
    "vscode": {
     "languageId": "polyglot-notebook"
    }
   },
   "outputs": [
    {
     "data": {
      "text/html": [
       "<span><a href=\"https://docs.microsoft.com/dotnet/api/system.string[]?view=net-7.0\">System.String[]</a></span>"
      ]
     },
     "metadata": {},
     "output_type": "display_data"
    }
   ],
   "source": [
    "products.GetType()"
   ]
  },
  {
   "cell_type": "code",
   "execution_count": 27,
   "metadata": {
    "dotnet_interactive": {
     "language": "fsharp"
    },
    "polyglot_notebook": {
     "kernelName": "fsharp"
    },
    "vscode": {
     "languageId": "polyglot-notebook"
    }
   },
   "outputs": [
    {
     "name": "stdout",
     "output_type": "stream",
     "text": [
      "\"Food,Brand,Weight/Size,Price,Drinks,Brand,Weight/Size,Price\"\n",
      "\"Chips,Lay's,1 oz,$1.00,Bottled Water,Aquafina,16 oz,$1.50\"\n"
     ]
    }
   ],
   "source": [
    "printfn \"%A\" products[0]\n",
    "printfn \"%A\" products[1]"
   ]
  },
  {
   "cell_type": "code",
   "execution_count": 28,
   "metadata": {
    "dotnet_interactive": {
     "language": "fsharp"
    },
    "polyglot_notebook": {
     "kernelName": "fsharp"
    },
    "vscode": {
     "languageId": "polyglot-notebook"
    }
   },
   "outputs": [
    {
     "name": "stdout",
     "output_type": "stream",
     "text": [
      "0: Food,Brand,Weight/Size,Price,Drinks,Brand,Weight/Size,Price\n",
      "1: Chips,Lay's,1 oz,$1.00,Bottled Water,Aquafina,16 oz,$1.50\n",
      "2: Chips,Doritos,2 oz,$2.00,Bottled Water,Dasani,20 oz,$2.00\n",
      "3: Candy Bars,Snickers,1.5 oz,$1.25,Soda,Coca-Cola,12 oz,$1.50\n",
      "4: Candy Bars,Kit Kat,1.5 oz,$1.25,Soda,Pepsi,20 oz,$2.00\n",
      "5: Granola Bars,Nature Valley,1.5 oz,$1.50,Sports Drinks,Gatorade,20 oz,$2.50\n",
      "6: Cookies,Chips Ahoy,1.5 oz,$1.25,Juice Boxes,Capri Sun,6 oz,$1.00\n",
      "7: Crackers,Cheez-Its,2 oz,$1.50,Energy Drinks,Red Bull,8.4 oz,$3.00\n",
      "8: Nuts,Planters,1 oz,$1.50,Iced Tea,Lipton,16 oz,$1.50\n",
      "9: Popcorn,Pop-Secret,2 oz,$2.00,Lemonade,Minute Maid,16 oz,$1.50\n",
      "10: Beef Jerky,Jack Link's,1 oz,$3.50,Iced Coffee,Starbucks,12 oz,$2.50\n",
      "11: Cup Noodles,Maruchan,3 oz,$1.50,Chocolate,Swiss Miss,8 oz,$2.00\n",
      "12: Pretzels,Rold Gold,1 oz,$1.00,Milk,Nesquik,8 oz,$1.00\n",
      "13: Trail Mix,Planters,1 oz,$1.50,Chocolate Milk,Yoo-hoo,8 oz,$1.00\n",
      "14: Rice Krispie Treats,Kellogg's,1.5 oz,$1.25,Fruit Smoothies,Naked Juice,16 oz,$4.00\n",
      "15: Protein Bars,Quest,2.1 oz,$3.00,,\n"
     ]
    }
   ],
   "source": [
    "products[0..20]\n",
    "|> Seq.iteri (fun i s ->  printfn $\"{i}: {s}\")"
   ]
  },
  {
   "attachments": {},
   "cell_type": "markdown",
   "metadata": {},
   "source": [
    "Qué tenemos que hacer? Veamos un poco cómo nos llega el dato:"
   ]
  },
  {
   "cell_type": "code",
   "execution_count": 8,
   "metadata": {
    "dotnet_interactive": {
     "language": "fsharp"
    },
    "polyglot_notebook": {
     "kernelName": "fsharp"
    },
    "vscode": {
     "languageId": "polyglot-notebook"
    }
   },
   "outputs": [
    {
     "name": "stdout",
     "output_type": "stream",
     "text": [
      "[|\"Chips\"; \"Doritos\"; \"2 oz\"; \"$2.00\"; \"Bottled Water\"; \"Dasani\"; \"20 oz\";\n",
      "  \"$2.00\"|]\n"
     ]
    }
   ],
   "source": [
    "let items =   products[2].Split(',')\n",
    "printfn \"%A\" items"
   ]
  },
  {
   "attachments": {},
   "cell_type": "markdown",
   "metadata": {},
   "source": [
    "Esto es una secuencia (`seq`) que tiene dos items. Podemos hacer \n",
    "\n",
    "- una función que dado este string nos devuelva dos datos `FoodMachineItem`\n",
    "- una función que transforme el peso en un tipo `float<oz>`\n",
    "- una función que transforme el precio en un tipo `float`"
   ]
  },
  {
   "cell_type": "code",
   "execution_count": 9,
   "metadata": {
    "dotnet_interactive": {
     "language": "fsharp"
    },
    "polyglot_notebook": {
     "kernelName": "fsharp"
    },
    "vscode": {
     "languageId": "polyglot-notebook"
    }
   },
   "outputs": [
    {
     "data": {
      "text/html": [
       "<div class=\"dni-plaintext\"><pre>2</pre></div><style>\r\n",
       ".dni-code-hint {\r\n",
       "    font-style: italic;\r\n",
       "    overflow: hidden;\r\n",
       "    white-space: nowrap;\r\n",
       "}\r\n",
       ".dni-treeview {\r\n",
       "    white-space: nowrap;\r\n",
       "}\r\n",
       ".dni-treeview td {\r\n",
       "    vertical-align: top;\r\n",
       "    text-align: start;\r\n",
       "}\r\n",
       "details.dni-treeview {\r\n",
       "    padding-left: 1em;\r\n",
       "}\r\n",
       "table td {\r\n",
       "    text-align: start;\r\n",
       "}\r\n",
       "table tr { \r\n",
       "    vertical-align: top; \r\n",
       "    margin: 0em 0px;\r\n",
       "}\r\n",
       "table tr td pre \r\n",
       "{ \r\n",
       "    vertical-align: top !important; \r\n",
       "    margin: 0em 0px !important;\r\n",
       "} \r\n",
       "table th {\r\n",
       "    text-align: start;\r\n",
       "}\r\n",
       "</style>"
      ]
     },
     "metadata": {},
     "output_type": "display_data"
    }
   ],
   "source": [
    "let price (s:string) =\n",
    "    s.Split('$')[1] |> float\n",
    "    \n",
    "    \n",
    "price \"$2.00\""
   ]
  },
  {
   "cell_type": "code",
   "execution_count": 29,
   "metadata": {
    "dotnet_interactive": {
     "language": "fsharp"
    },
    "polyglot_notebook": {
     "kernelName": "fsharp"
    },
    "vscode": {
     "languageId": "polyglot-notebook"
    }
   },
   "outputs": [
    {
     "name": "stdout",
     "output_type": "stream",
     "text": [
      "20\n"
     ]
    }
   ],
   "source": [
    "let weight (s:string) =\n",
    "    s.Split('o')[0] \n",
    "    |> float\n",
    "    |> (fun v -> v*1.0<oz>)\n",
    "\n",
    "printfn $\"\"\"{weight \"20 oz\"}\"\"\""
   ]
  },
  {
   "cell_type": "code",
   "execution_count": 31,
   "metadata": {
    "dotnet_interactive": {
     "language": "fsharp"
    },
    "polyglot_notebook": {
     "kernelName": "fsharp"
    },
    "vscode": {
     "languageId": "polyglot-notebook"
    }
   },
   "outputs": [],
   "source": [
    "let createItems (s: string) = \n",
    "    let itemList = \n",
    "        s.Split(',')\n",
    "        |> Seq.toList \n",
    "\n",
    "    printfn \"%A\" itemList \n",
    "    let eat = \n",
    "        {\n",
    "            Brand = Brand (itemList[1])\n",
    "            ProductType = Eat (FoodType itemList[0]) \n",
    "            Price = price itemList[3]\n",
    "            Weight = weight itemList[2]\n",
    "        }\n",
    "    let drink = \n",
    "        {\n",
    "            Brand = Brand (itemList[5])\n",
    "            ProductType = Drink (FoodType itemList[4]) \n",
    "            Price = price itemList[7]\n",
    "            Weight = weight itemList[6]\n",
    "        }\n",
    "\n",
    "    (eat,drink)        \n",
    "            \n",
    "\n"
   ]
  },
  {
   "cell_type": "code",
   "execution_count": 32,
   "metadata": {
    "dotnet_interactive": {
     "language": "fsharp"
    },
    "polyglot_notebook": {
     "kernelName": "fsharp"
    },
    "vscode": {
     "languageId": "polyglot-notebook"
    }
   },
   "outputs": [
    {
     "name": "stdout",
     "output_type": "stream",
     "text": [
      "[|\"Chips\"; \"Doritos\"; \"2 oz\"; \"$2.00\"; \"Bottled Water\"; \"Dasani\"; \"20 oz\";\n",
      "  \"$2.00\"|]\n",
      "[\"Chips\"; \"Doritos\"; \"2 oz\"; \"$2.00\"; \"Bottled Water\"; \"Dasani\"; \"20 oz\";\n",
      " \"$2.00\"]\n"
     ]
    },
    {
     "data": {
      "text/html": [
       "<details open=\"open\" class=\"dni-treeview\"><summary><span class=\"dni-code-hint\"><code>({ Brand = Brand &quot;Doritos&quot;\\n  ProductType = Eat (FoodType &quot;Chips&quot;)\\n  Price = 2.0\\n  Weight = 2.0 }, { Brand = Brand &quot;Dasani&quot;\\n  ProductType = Drink (FoodType &quot;Bottled Water&quot;)\\n  Price = 2.0\\n  Weight = 20.0 })</code></span></summary><div><table><thead><tr></tr></thead><tbody><tr><td>Item1</td><td><details class=\"dni-treeview\"><summary><span class=\"dni-code-hint\"><code>{ Brand = Brand &quot;Doritos&quot;\\n  ProductType = Eat (FoodType &quot;Chips&quot;)\\n  Price = 2.0\\n  Weight = 2.0 }</code></span></summary><div><table><thead><tr></tr></thead><tbody><tr><td>Brand</td><td><details class=\"dni-treeview\"><summary><span class=\"dni-code-hint\"><code>Brand &quot;Doritos&quot;</code></span></summary><div><table><thead><tr></tr></thead><tbody><tr><td>Item</td><td><div class=\"dni-plaintext\"><pre>Doritos</pre></div></td></tr></tbody></table></div></details></td></tr><tr><td>ProductType</td><td><details class=\"dni-treeview\"><summary><span class=\"dni-code-hint\"><code>Eat (FoodType &quot;Chips&quot;)</code></span></summary><div><table><thead><tr></tr></thead><tbody><tr><td>Item</td><td><details class=\"dni-treeview\"><summary><span class=\"dni-code-hint\"><code>FoodType &quot;Chips&quot;</code></span></summary><div><table><thead><tr></tr></thead><tbody><tr><td>Item</td><td><div class=\"dni-plaintext\"><pre>Chips</pre></div></td></tr></tbody></table></div></details></td></tr></tbody></table></div></details></td></tr><tr><td>Price</td><td><div class=\"dni-plaintext\"><pre>2</pre></div></td></tr><tr><td>Weight</td><td><div class=\"dni-plaintext\"><pre>2</pre></div></td></tr></tbody></table></div></details></td></tr><tr><td>Item2</td><td><details class=\"dni-treeview\"><summary><span class=\"dni-code-hint\"><code>{ Brand = Brand &quot;Dasani&quot;\\n  ProductType = Drink (FoodType &quot;Bottled Water&quot;)\\n  Price = 2.0\\n  Weight = 20.0 }</code></span></summary><div><table><thead><tr></tr></thead><tbody><tr><td>Brand</td><td><details class=\"dni-treeview\"><summary><span class=\"dni-code-hint\"><code>Brand &quot;Dasani&quot;</code></span></summary><div><table><thead><tr></tr></thead><tbody><tr><td>Item</td><td><div class=\"dni-plaintext\"><pre>Dasani</pre></div></td></tr></tbody></table></div></details></td></tr><tr><td>ProductType</td><td><details class=\"dni-treeview\"><summary><span class=\"dni-code-hint\"><code>Drink (FoodType &quot;Bottled Water&quot;)</code></span></summary><div><table><thead><tr></tr></thead><tbody><tr><td>Item</td><td><details class=\"dni-treeview\"><summary><span class=\"dni-code-hint\"><code>FoodType &quot;Bottled Water&quot;</code></span></summary><div><table><thead><tr></tr></thead><tbody><tr><td>Item</td><td><div class=\"dni-plaintext\"><pre>Bottled Water</pre></div></td></tr></tbody></table></div></details></td></tr></tbody></table></div></details></td></tr><tr><td>Price</td><td><div class=\"dni-plaintext\"><pre>2</pre></div></td></tr><tr><td>Weight</td><td><div class=\"dni-plaintext\"><pre>20</pre></div></td></tr></tbody></table></div></details></td></tr></tbody></table></div></details><style>\r\n",
       ".dni-code-hint {\r\n",
       "    font-style: italic;\r\n",
       "    overflow: hidden;\r\n",
       "    white-space: nowrap;\r\n",
       "}\r\n",
       ".dni-treeview {\r\n",
       "    white-space: nowrap;\r\n",
       "}\r\n",
       ".dni-treeview td {\r\n",
       "    vertical-align: top;\r\n",
       "    text-align: start;\r\n",
       "}\r\n",
       "details.dni-treeview {\r\n",
       "    padding-left: 1em;\r\n",
       "}\r\n",
       "table td {\r\n",
       "    text-align: start;\r\n",
       "}\r\n",
       "table tr { \r\n",
       "    vertical-align: top; \r\n",
       "    margin: 0em 0px;\r\n",
       "}\r\n",
       "table tr td pre \r\n",
       "{ \r\n",
       "    vertical-align: top !important; \r\n",
       "    margin: 0em 0px !important;\r\n",
       "} \r\n",
       "table th {\r\n",
       "    text-align: start;\r\n",
       "}\r\n",
       "</style>"
      ]
     },
     "metadata": {},
     "output_type": "display_data"
    }
   ],
   "source": [
    "let items =   products[2].Split(',')\n",
    "printfn \"%A\" items\n",
    "createItems products[2]"
   ]
  },
  {
   "cell_type": "code",
   "execution_count": 33,
   "metadata": {
    "dotnet_interactive": {
     "language": "fsharp"
    },
    "polyglot_notebook": {
     "kernelName": "fsharp"
    },
    "vscode": {
     "languageId": "polyglot-notebook"
    }
   },
   "outputs": [
    {
     "name": "stdout",
     "output_type": "stream",
     "text": [
      "[\"Chips\"; \"Lay's\"; \"1 oz\"; \"$1.00\"; \"Bottled Water\"; \"Aquafina\"; \"16 oz\";\n",
      " \"$1.50\"]\n",
      "[\"Chips\"; \"Doritos\"; \"2 oz\"; \"$2.00\"; \"Bottled Water\"; \"Dasani\"; \"20 oz\";\n",
      " \"$2.00\"]\n",
      "[\"Candy Bars\"; \"Snickers\"; \"1.5 oz\"; \"$1.25\"; \"Soda\"; \"Coca-Cola\"; \"12 oz\";\n",
      " \"$1.50\"]\n",
      "[\"Candy Bars\"; \"Kit Kat\"; \"1.5 oz\"; \"$1.25\"; \"Soda\"; \"Pepsi\"; \"20 oz\"; \"$2.00\"]\n",
      "[\"Granola Bars\"; \"Nature Valley\"; \"1.5 oz\"; \"$1.50\"; \"Sports Drinks\"; \"Gatorade\";\n",
      " \"20 oz\"; \"$2.50\"]\n",
      "[\"Cookies\"; \"Chips Ahoy\"; \"1.5 oz\"; \"$1.25\"; \"Juice Boxes\"; \"Capri Sun\"; \"6 oz\";\n",
      " \"$1.00\"]\n",
      "[\"Crackers\"; \"Cheez-Its\"; \"2 oz\"; \"$1.50\"; \"Energy Drinks\"; \"Red Bull\"; \"8.4 oz\";\n",
      " \"$3.00\"]\n",
      "[\"Nuts\"; \"Planters\"; \"1 oz\"; \"$1.50\"; \"Iced Tea\"; \"Lipton\"; \"16 oz\"; \"$1.50\"]\n",
      "[\"Popcorn\"; \"Pop-Secret\"; \"2 oz\"; \"$2.00\"; \"Lemonade\"; \"Minute Maid\"; \"16 oz\";\n",
      " \"$1.50\"]\n",
      "[\"Beef Jerky\"; \"Jack Link's\"; \"1 oz\"; \"$3.50\"; \"Iced Coffee\"; \"Starbucks\";\n",
      " \"12 oz\"; \"$2.50\"]\n",
      "[\"Cup Noodles\"; \"Maruchan\"; \"3 oz\"; \"$1.50\"; \"Chocolate\"; \"Swiss Miss\"; \"8 oz\";\n",
      " \"$2.00\"]\n",
      "[\"Pretzels\"; \"Rold Gold\"; \"1 oz\"; \"$1.00\"; \"Milk\"; \"Nesquik\"; \"8 oz\"; \"$1.00\"]\n",
      "[\"Trail Mix\"; \"Planters\"; \"1 oz\"; \"$1.50\"; \"Chocolate Milk\"; \"Yoo-hoo\"; \"8 oz\";\n",
      " \"$1.00\"]\n",
      "[\"Rice Krispie Treats\"; \"Kellogg's\"; \"1.5 oz\"; \"$1.25\"; \"Fruit Smoothies\";\n",
      " \"Naked Juice\"; \"16 oz\"; \"$4.00\"]\n",
      "[\"Protein Bars\"; \"Quest\"; \"2.1 oz\"; \"$3.00\"; \"\"; \"\"]\n"
     ]
    },
    {
     "ename": "Error",
     "evalue": "System.Reflection.TargetInvocationException: Exception has been thrown by the target of an invocation.\n ---> System.ArgumentException: The index was outside the range of elements in the list. (Parameter 'n')\n   at Microsoft.FSharp.Collections.PrivateListHelpers.nth[a](FSharpList`1 l, Int32 n) in D:\\a\\_work\\1\\s\\src\\FSharp.Core\\prim-types.fs:line 4093\n   at FSI_0061.createItems(String s)\n   at FSI_0064.it@2-22.Invoke(String p)\n   at Microsoft.FSharp.Collections.Internal.IEnumerator.map@128.DoMoveNext(b& curr) in D:\\a\\_work\\1\\s\\src\\FSharp.Core\\seq.fs:line 130\n   at Microsoft.FSharp.Collections.Internal.IEnumerator.MapEnumerator`1.System.Collections.IEnumerator.MoveNext() in D:\\a\\_work\\1\\s\\src\\FSharp.Core\\seq.fs:line 113\n   at Microsoft.DotNet.Interactive.Formatting.EnumerableExtensions.TakeAndCountRemaining[T](IEnumerable`1 source, Int32 count, Boolean forceCountRemainder) in D:\\a\\_work\\1\\s\\src\\Microsoft.DotNet.Interactive.Formatting\\EnumerableExtensions.cs:line 23\n   at Microsoft.DotNet.Interactive.Formatting.PlainTextFormatter.JoinGeneric[T](IEnumerable`1 seq, TextWriter writer, FormatContext context) in D:\\a\\_work\\1\\s\\src\\Microsoft.DotNet.Interactive.Formatting\\PlainTextFormatter.cs:line 329\n   at System.RuntimeMethodHandle.InvokeMethod(Object target, Void** arguments, Signature sig, Boolean isConstructor)\n   at System.Reflection.MethodBaseInvoker.InvokeDirectByRefWithFewArgs(Object obj, Span`1 copyOfArgs, BindingFlags invokeAttr)\n   --- End of inner exception stack trace ---\n   at System.Reflection.MethodBaseInvoker.InvokeDirectByRefWithFewArgs(Object obj, Span`1 copyOfArgs, BindingFlags invokeAttr)\n   at System.Reflection.MethodBaseInvoker.InvokeWithFewArgs(Object obj, BindingFlags invokeAttr, Binder binder, Object[] parameters, CultureInfo culture)\n   at System.Delegate.DynamicInvokeImpl(Object[] args)\n   at Microsoft.DotNet.Interactive.Formatting.PlainTextFormatter`1.<>c__DisplayClass8_0.<CreateForAnyEnumerable>b__5(T value, FormatContext context) in D:\\a\\_work\\1\\s\\src\\Microsoft.DotNet.Interactive.Formatting\\PlainTextFormatter{T}.cs:line 103\n   at Microsoft.DotNet.Interactive.Formatting.PlainTextSummaryFormatter.<>c.<.cctor>b__7_2(IEnumerable obj, FormatContext context) in D:\\a\\_work\\1\\s\\src\\Microsoft.DotNet.Interactive.Formatting\\PlainTextSummaryFormatter.cs:line 42\n   at Microsoft.DotNet.Interactive.Formatting.Formatter.<>c__DisplayClass52_0.<TryFindPreferredFormatter>b__4(Object value, FormatContext context) in D:\\a\\_work\\1\\s\\src\\Microsoft.DotNet.Interactive.Formatting\\Formatter.cs:line 649\n   at Microsoft.DotNet.Interactive.Formatting.Formatter`1.FormatTo(T obj, FormatContext context, String mimeType) in D:\\a\\_work\\1\\s\\src\\Microsoft.DotNet.Interactive.Formatting\\Formatter{T}.cs:line 68\n   at Microsoft.DotNet.Interactive.Formatting.Formatter.ToDisplayString(Object obj, String mimeType) in D:\\a\\_work\\1\\s\\src\\Microsoft.DotNet.Interactive.Formatting\\Formatter.cs:line 277\n   at Microsoft.DotNet.Interactive.Formatting.HtmlFormatter`1.<>c__DisplayClass8_5.<CreateTreeViewFormatterForAnyObject>b__8(FormatContext context) in D:\\a\\_work\\1\\s\\src\\Microsoft.DotNet.Interactive.Formatting\\HtmlFormatter{T}.cs:line 280\n   at Microsoft.DotNet.Interactive.Formatting.HtmlTag.WriteTo(FormatContext context) in D:\\a\\_work\\1\\s\\src\\Microsoft.DotNet.Interactive.Formatting\\HtmlTag.cs:line 103\n   at Microsoft.DotNet.Interactive.Formatting.PocketView.Write(IReadOnlyList`1 args, FormatContext context) in D:\\a\\_work\\1\\s\\src\\Microsoft.DotNet.Interactive.Formatting\\PocketView.cs:line 220\n   at Microsoft.DotNet.Interactive.Formatting.PocketView.Write(IReadOnlyList`1 args, FormatContext context) in D:\\a\\_work\\1\\s\\src\\Microsoft.DotNet.Interactive.Formatting\\PocketView.cs:line 216\n   at Microsoft.DotNet.Interactive.Formatting.PocketView.Write(IReadOnlyList`1 args, FormatContext context) in D:\\a\\_work\\1\\s\\src\\Microsoft.DotNet.Interactive.Formatting\\PocketView.cs:line 216\n   at Microsoft.DotNet.Interactive.Formatting.PocketView.WriteTo(FormatContext context) in D:\\a\\_work\\1\\s\\src\\Microsoft.DotNet.Interactive.Formatting\\PocketView.cs:line 283\n   at Microsoft.DotNet.Interactive.Formatting.HtmlFormatter`1.<CreateTreeViewFormatterForAnyObject>g__BuildTreeView|8_3(T source, FormatContext context, ValueTuple`2[] rows) in D:\\a\\_work\\1\\s\\src\\Microsoft.DotNet.Interactive.Formatting\\HtmlFormatter{T}.cs:line 294\n   at Microsoft.DotNet.Interactive.Formatting.HtmlFormatter`1.<>c__DisplayClass8_0.<CreateTreeViewFormatterForAnyObject>b__2(T instance, FormatContext context) in D:\\a\\_work\\1\\s\\src\\Microsoft.DotNet.Interactive.Formatting\\HtmlFormatter{T}.cs:line 266\n   at Microsoft.DotNet.Interactive.Formatting.HtmlFormatter`1.Format(T value, FormatContext context) in D:\\a\\_work\\1\\s\\src\\Microsoft.DotNet.Interactive.Formatting\\HtmlFormatter{T}.cs:line 54\n   at Microsoft.DotNet.Interactive.Formatting.HtmlFormatter.<>c.<.cctor>b__0_14(Object value, FormatContext context) in D:\\a\\_work\\1\\s\\src\\Microsoft.DotNet.Interactive.Formatting\\HtmlFormatter.cs:line 225\n   at Microsoft.DotNet.Interactive.Formatting.HtmlFormatter`1.Format(T value, FormatContext context) in D:\\a\\_work\\1\\s\\src\\Microsoft.DotNet.Interactive.Formatting\\HtmlFormatter{T}.cs:line 54\n   at Microsoft.DotNet.Interactive.Formatting.Formatter`1.FormatTo(T obj, FormatContext context, String mimeType) in D:\\a\\_work\\1\\s\\src\\Microsoft.DotNet.Interactive.Formatting\\Formatter{T}.cs:line 68\n   at Microsoft.DotNet.Interactive.Formatting.Formatter.ToDisplayString(Object obj, String mimeType) in D:\\a\\_work\\1\\s\\src\\Microsoft.DotNet.Interactive.Formatting\\Formatter.cs:line 277\n   at Microsoft.DotNet.Interactive.FormattedValue.<>c__DisplayClass12_0.<CreateManyFromObject>b__0(String mimeType) in D:\\a\\_work\\1\\s\\src\\Microsoft.DotNet.Interactive\\FormattedValue.cs:line 49\n   at System.Linq.Enumerable.SelectArrayIterator`2.Fill(ReadOnlySpan`1 source, Span`1 destination, Func`2 func)\n   at System.Linq.Enumerable.SelectArrayIterator`2.ToArray()\n   at Microsoft.DotNet.Interactive.FormattedValue.CreateManyFromObject(Object value, String[] mimeTypes) in D:\\a\\_work\\1\\s\\src\\Microsoft.DotNet.Interactive\\FormattedValue.cs:line 47\n   at <StartupCode$Microsoft-DotNet-Interactive-FSharp>.$FSharpKernel.clo@191-3.MoveNext() in D:\\a\\_work\\1\\s\\src\\Microsoft.DotNet.Interactive.FSharp\\FSharpKernel.fs:line 223\n   at Microsoft.DotNet.Interactive.Kernel.HandleAsync(KernelCommand command, KernelInvocationContext context) in D:\\a\\_work\\1\\s\\src\\Microsoft.DotNet.Interactive\\Kernel.cs:line 330\n   at Microsoft.DotNet.Interactive.KernelCommandPipeline.<BuildPipeline>b__6_0(KernelCommand command, KernelInvocationContext context, KernelPipelineContinuation _) in D:\\a\\_work\\1\\s\\src\\Microsoft.DotNet.Interactive\\KernelCommandPipeline.cs:line 60\n   at Microsoft.DotNet.Interactive.KernelCommandPipeline.SendAsync(KernelCommand command, KernelInvocationContext context) in D:\\a\\_work\\1\\s\\src\\Microsoft.DotNet.Interactive\\KernelCommandPipeline.cs:line 41",
     "output_type": "error",
     "traceback": [
      "System.Reflection.TargetInvocationException: Exception has been thrown by the target of an invocation.\n",
      " ---> System.ArgumentException: The index was outside the range of elements in the list. (Parameter 'n')\n",
      "   at Microsoft.FSharp.Collections.PrivateListHelpers.nth[a](FSharpList`1 l, Int32 n) in D:\\a\\_work\\1\\s\\src\\FSharp.Core\\prim-types.fs:line 4093\n",
      "   at FSI_0061.createItems(String s)\n",
      "   at FSI_0064.it@2-22.Invoke(String p)\n",
      "   at Microsoft.FSharp.Collections.Internal.IEnumerator.map@128.DoMoveNext(b& curr) in D:\\a\\_work\\1\\s\\src\\FSharp.Core\\seq.fs:line 130\n",
      "   at Microsoft.FSharp.Collections.Internal.IEnumerator.MapEnumerator`1.System.Collections.IEnumerator.MoveNext() in D:\\a\\_work\\1\\s\\src\\FSharp.Core\\seq.fs:line 113\n",
      "   at Microsoft.DotNet.Interactive.Formatting.EnumerableExtensions.TakeAndCountRemaining[T](IEnumerable`1 source, Int32 count, Boolean forceCountRemainder) in D:\\a\\_work\\1\\s\\src\\Microsoft.DotNet.Interactive.Formatting\\EnumerableExtensions.cs:line 23\n",
      "   at Microsoft.DotNet.Interactive.Formatting.PlainTextFormatter.JoinGeneric[T](IEnumerable`1 seq, TextWriter writer, FormatContext context) in D:\\a\\_work\\1\\s\\src\\Microsoft.DotNet.Interactive.Formatting\\PlainTextFormatter.cs:line 329\n",
      "   at System.RuntimeMethodHandle.InvokeMethod(Object target, Void** arguments, Signature sig, Boolean isConstructor)\n",
      "   at System.Reflection.MethodBaseInvoker.InvokeDirectByRefWithFewArgs(Object obj, Span`1 copyOfArgs, BindingFlags invokeAttr)\n",
      "   --- End of inner exception stack trace ---\n",
      "   at System.Reflection.MethodBaseInvoker.InvokeDirectByRefWithFewArgs(Object obj, Span`1 copyOfArgs, BindingFlags invokeAttr)\n",
      "   at System.Reflection.MethodBaseInvoker.InvokeWithFewArgs(Object obj, BindingFlags invokeAttr, Binder binder, Object[] parameters, CultureInfo culture)\n",
      "   at System.Delegate.DynamicInvokeImpl(Object[] args)\n",
      "   at Microsoft.DotNet.Interactive.Formatting.PlainTextFormatter`1.<>c__DisplayClass8_0.<CreateForAnyEnumerable>b__5(T value, FormatContext context) in D:\\a\\_work\\1\\s\\src\\Microsoft.DotNet.Interactive.Formatting\\PlainTextFormatter{T}.cs:line 103\n",
      "   at Microsoft.DotNet.Interactive.Formatting.PlainTextSummaryFormatter.<>c.<.cctor>b__7_2(IEnumerable obj, FormatContext context) in D:\\a\\_work\\1\\s\\src\\Microsoft.DotNet.Interactive.Formatting\\PlainTextSummaryFormatter.cs:line 42\n",
      "   at Microsoft.DotNet.Interactive.Formatting.Formatter.<>c__DisplayClass52_0.<TryFindPreferredFormatter>b__4(Object value, FormatContext context) in D:\\a\\_work\\1\\s\\src\\Microsoft.DotNet.Interactive.Formatting\\Formatter.cs:line 649\n",
      "   at Microsoft.DotNet.Interactive.Formatting.Formatter`1.FormatTo(T obj, FormatContext context, String mimeType) in D:\\a\\_work\\1\\s\\src\\Microsoft.DotNet.Interactive.Formatting\\Formatter{T}.cs:line 68\n",
      "   at Microsoft.DotNet.Interactive.Formatting.Formatter.ToDisplayString(Object obj, String mimeType) in D:\\a\\_work\\1\\s\\src\\Microsoft.DotNet.Interactive.Formatting\\Formatter.cs:line 277\n",
      "   at Microsoft.DotNet.Interactive.Formatting.HtmlFormatter`1.<>c__DisplayClass8_5.<CreateTreeViewFormatterForAnyObject>b__8(FormatContext context) in D:\\a\\_work\\1\\s\\src\\Microsoft.DotNet.Interactive.Formatting\\HtmlFormatter{T}.cs:line 280\n",
      "   at Microsoft.DotNet.Interactive.Formatting.HtmlTag.WriteTo(FormatContext context) in D:\\a\\_work\\1\\s\\src\\Microsoft.DotNet.Interactive.Formatting\\HtmlTag.cs:line 103\n",
      "   at Microsoft.DotNet.Interactive.Formatting.PocketView.Write(IReadOnlyList`1 args, FormatContext context) in D:\\a\\_work\\1\\s\\src\\Microsoft.DotNet.Interactive.Formatting\\PocketView.cs:line 220\n",
      "   at Microsoft.DotNet.Interactive.Formatting.PocketView.Write(IReadOnlyList`1 args, FormatContext context) in D:\\a\\_work\\1\\s\\src\\Microsoft.DotNet.Interactive.Formatting\\PocketView.cs:line 216\n",
      "   at Microsoft.DotNet.Interactive.Formatting.PocketView.Write(IReadOnlyList`1 args, FormatContext context) in D:\\a\\_work\\1\\s\\src\\Microsoft.DotNet.Interactive.Formatting\\PocketView.cs:line 216\n",
      "   at Microsoft.DotNet.Interactive.Formatting.PocketView.WriteTo(FormatContext context) in D:\\a\\_work\\1\\s\\src\\Microsoft.DotNet.Interactive.Formatting\\PocketView.cs:line 283\n",
      "   at Microsoft.DotNet.Interactive.Formatting.HtmlFormatter`1.<CreateTreeViewFormatterForAnyObject>g__BuildTreeView|8_3(T source, FormatContext context, ValueTuple`2[] rows) in D:\\a\\_work\\1\\s\\src\\Microsoft.DotNet.Interactive.Formatting\\HtmlFormatter{T}.cs:line 294\n",
      "   at Microsoft.DotNet.Interactive.Formatting.HtmlFormatter`1.<>c__DisplayClass8_0.<CreateTreeViewFormatterForAnyObject>b__2(T instance, FormatContext context) in D:\\a\\_work\\1\\s\\src\\Microsoft.DotNet.Interactive.Formatting\\HtmlFormatter{T}.cs:line 266\n",
      "   at Microsoft.DotNet.Interactive.Formatting.HtmlFormatter`1.Format(T value, FormatContext context) in D:\\a\\_work\\1\\s\\src\\Microsoft.DotNet.Interactive.Formatting\\HtmlFormatter{T}.cs:line 54\n",
      "   at Microsoft.DotNet.Interactive.Formatting.HtmlFormatter.<>c.<.cctor>b__0_14(Object value, FormatContext context) in D:\\a\\_work\\1\\s\\src\\Microsoft.DotNet.Interactive.Formatting\\HtmlFormatter.cs:line 225\n",
      "   at Microsoft.DotNet.Interactive.Formatting.HtmlFormatter`1.Format(T value, FormatContext context) in D:\\a\\_work\\1\\s\\src\\Microsoft.DotNet.Interactive.Formatting\\HtmlFormatter{T}.cs:line 54\n",
      "   at Microsoft.DotNet.Interactive.Formatting.Formatter`1.FormatTo(T obj, FormatContext context, String mimeType) in D:\\a\\_work\\1\\s\\src\\Microsoft.DotNet.Interactive.Formatting\\Formatter{T}.cs:line 68\n",
      "   at Microsoft.DotNet.Interactive.Formatting.Formatter.ToDisplayString(Object obj, String mimeType) in D:\\a\\_work\\1\\s\\src\\Microsoft.DotNet.Interactive.Formatting\\Formatter.cs:line 277\n",
      "   at Microsoft.DotNet.Interactive.FormattedValue.<>c__DisplayClass12_0.<CreateManyFromObject>b__0(String mimeType) in D:\\a\\_work\\1\\s\\src\\Microsoft.DotNet.Interactive\\FormattedValue.cs:line 49\n",
      "   at System.Linq.Enumerable.SelectArrayIterator`2.Fill(ReadOnlySpan`1 source, Span`1 destination, Func`2 func)\n",
      "   at System.Linq.Enumerable.SelectArrayIterator`2.ToArray()\n",
      "   at Microsoft.DotNet.Interactive.FormattedValue.CreateManyFromObject(Object value, String[] mimeTypes) in D:\\a\\_work\\1\\s\\src\\Microsoft.DotNet.Interactive\\FormattedValue.cs:line 47\n",
      "   at <StartupCode$Microsoft-DotNet-Interactive-FSharp>.$FSharpKernel.clo@191-3.MoveNext() in D:\\a\\_work\\1\\s\\src\\Microsoft.DotNet.Interactive.FSharp\\FSharpKernel.fs:line 223\n",
      "   at Microsoft.DotNet.Interactive.Kernel.HandleAsync(KernelCommand command, KernelInvocationContext context) in D:\\a\\_work\\1\\s\\src\\Microsoft.DotNet.Interactive\\Kernel.cs:line 330\n",
      "   at Microsoft.DotNet.Interactive.KernelCommandPipeline.<BuildPipeline>b__6_0(KernelCommand command, KernelInvocationContext context, KernelPipelineContinuation _) in D:\\a\\_work\\1\\s\\src\\Microsoft.DotNet.Interactive\\KernelCommandPipeline.cs:line 60\n",
      "   at Microsoft.DotNet.Interactive.KernelCommandPipeline.SendAsync(KernelCommand command, KernelInvocationContext context) in D:\\a\\_work\\1\\s\\src\\Microsoft.DotNet.Interactive\\KernelCommandPipeline.cs:line 41"
     ]
    }
   ],
   "source": [
    "products[1..]\n",
    "|> Seq.map (fun p -> createItems p)"
   ]
  },
  {
   "attachments": {},
   "cell_type": "markdown",
   "metadata": {},
   "source": [
    "### Tratando con datos que no están\n",
    "\n",
    "La forma que F# nos ofrece para tratar con datos que no existen es el tipo `option`: \n",
    "\n",
    "```fsharp\n",
    "type Option<'a> =       \n",
    "   | Some of 'a           // valid value\n",
    "   | None                 // missing\n",
    "```"
   ]
  },
  {
   "cell_type": "code",
   "execution_count": 13,
   "metadata": {
    "dotnet_interactive": {
     "language": "fsharp"
    },
    "polyglot_notebook": {
     "kernelName": "fsharp"
    },
    "vscode": {
     "languageId": "polyglot-notebook"
    }
   },
   "outputs": [
    {
     "name": "stdout",
     "output_type": "stream",
     "text": [
      "Some \"hola\"\n",
      "None\n"
     ]
    }
   ],
   "source": [
    "let emptyStringAsOption (s:string) = \n",
    "\n",
    "    if (String.IsNullOrEmpty(s)) then \n",
    "        None \n",
    "    else \n",
    "        Some s\n",
    "\n",
    "printfn \"%A\" (emptyStringAsOption \"hola\")\n",
    "printfn \"%A\" (emptyStringAsOption \"\")        "
   ]
  },
  {
   "attachments": {},
   "cell_type": "markdown",
   "metadata": {},
   "source": [
    "El tipo `option` tiene métodos similares a los del tipo `Result`"
   ]
  },
  {
   "cell_type": "code",
   "execution_count": 35,
   "metadata": {
    "dotnet_interactive": {
     "language": "fsharp"
    },
    "polyglot_notebook": {
     "kernelName": "fsharp"
    },
    "vscode": {
     "languageId": "polyglot-notebook"
    }
   },
   "outputs": [
    {
     "name": "stdout",
     "output_type": "stream",
     "text": [
      "Some 43\n",
      "None\n"
     ]
    }
   ],
   "source": [
    "let tryParseInt (s:string) = \n",
    "    if (s |> Seq.forall Char.IsDigit) then \n",
    "        Some (int s)\n",
    "    else \n",
    "        None \n",
    "\n",
    "printfn \"%A\" (tryParseInt \"43\")\n",
    "\n",
    "printfn \"%A\" (tryParseInt \"Messi\")\n"
   ]
  },
  {
   "cell_type": "code",
   "execution_count": 36,
   "metadata": {
    "dotnet_interactive": {
     "language": "fsharp"
    },
    "polyglot_notebook": {
     "kernelName": "fsharp"
    },
    "vscode": {
     "languageId": "polyglot-notebook"
    }
   },
   "outputs": [],
   "source": [
    "let divisionBy2 s = \n",
    "    s\n",
    "    |> tryParseInt\n",
    "    |> Option.map (fun n -> n/2)\n",
    "\n"
   ]
  },
  {
   "cell_type": "code",
   "execution_count": 37,
   "metadata": {
    "dotnet_interactive": {
     "language": "fsharp"
    },
    "polyglot_notebook": {
     "kernelName": "fsharp"
    },
    "vscode": {
     "languageId": "polyglot-notebook"
    }
   },
   "outputs": [
    {
     "name": "stdout",
     "output_type": "stream",
     "text": [
      "Some 21\n",
      "None\n"
     ]
    }
   ],
   "source": [
    "printfn \"%A\" (divisionBy2 \"43\")   \n",
    "printfn \"%A\" (divisionBy2 \"Messi\") "
   ]
  },
  {
   "attachments": {},
   "cell_type": "markdown",
   "metadata": {},
   "source": [
    "Luego de esta introducción, volvamos a mirar nuestros datos. El problema lo tenemos en la última línea:"
   ]
  },
  {
   "cell_type": "code",
   "execution_count": 17,
   "metadata": {
    "dotnet_interactive": {
     "language": "fsharp"
    },
    "polyglot_notebook": {
     "kernelName": "fsharp"
    },
    "vscode": {
     "languageId": "polyglot-notebook"
    }
   },
   "outputs": [
    {
     "data": {
      "text/plain": [
       "Protein Bars,Quest,2.1 oz,$3.00,,"
      ]
     },
     "metadata": {},
     "output_type": "display_data"
    }
   ],
   "source": [
    "products[15]"
   ]
  },
  {
   "cell_type": "code",
   "execution_count": 18,
   "metadata": {
    "dotnet_interactive": {
     "language": "fsharp"
    },
    "polyglot_notebook": {
     "kernelName": "fsharp"
    },
    "vscode": {
     "languageId": "polyglot-notebook"
    }
   },
   "outputs": [
    {
     "data": {
      "text/html": [
       "<div class=\"dni-plaintext\"><pre>[ Protein Bars, Quest, 2.1 oz, $3.00, ,  ]</pre></div><style>\r\n",
       ".dni-code-hint {\r\n",
       "    font-style: italic;\r\n",
       "    overflow: hidden;\r\n",
       "    white-space: nowrap;\r\n",
       "}\r\n",
       ".dni-treeview {\r\n",
       "    white-space: nowrap;\r\n",
       "}\r\n",
       ".dni-treeview td {\r\n",
       "    vertical-align: top;\r\n",
       "    text-align: start;\r\n",
       "}\r\n",
       "details.dni-treeview {\r\n",
       "    padding-left: 1em;\r\n",
       "}\r\n",
       "table td {\r\n",
       "    text-align: start;\r\n",
       "}\r\n",
       "table tr { \r\n",
       "    vertical-align: top; \r\n",
       "    margin: 0em 0px;\r\n",
       "}\r\n",
       "table tr td pre \r\n",
       "{ \r\n",
       "    vertical-align: top !important; \r\n",
       "    margin: 0em 0px !important;\r\n",
       "} \r\n",
       "table th {\r\n",
       "    text-align: start;\r\n",
       "}\r\n",
       "</style>"
      ]
     },
     "metadata": {},
     "output_type": "display_data"
    }
   ],
   "source": [
    "products[15].Split(',')"
   ]
  },
  {
   "cell_type": "code",
   "execution_count": 38,
   "metadata": {
    "dotnet_interactive": {
     "language": "fsharp"
    },
    "polyglot_notebook": {
     "kernelName": "fsharp"
    },
    "vscode": {
     "languageId": "polyglot-notebook"
    }
   },
   "outputs": [],
   "source": [
    "let createItemsRobust (s: string) = \n",
    "    let itemList = \n",
    "        s.Split(',')\n",
    "        |> Seq.toList \n",
    "\n",
    "    // printfn \"%A\" itemList \n",
    "    let eat = \n",
    "        {\n",
    "            Brand = Brand (itemList[1])\n",
    "            ProductType = Eat (FoodType itemList[0]) \n",
    "            Price = price itemList[3]\n",
    "            Weight = weight itemList[2]\n",
    "        }        \n",
    "\n",
    "    let drink = \n",
    "        if (String.IsNullOrEmpty(itemList[4])) then \n",
    "            None \n",
    "        else \n",
    "            {\n",
    "                Brand = Brand (itemList[5])\n",
    "                ProductType = Drink (FoodType itemList[4]) \n",
    "                Price = price itemList[7]\n",
    "                Weight = weight itemList[6]\n",
    "            } |> Some \n",
    "\n",
    "    (eat,drink)        \n",
    "            \n",
    "\n"
   ]
  },
  {
   "cell_type": "code",
   "execution_count": 39,
   "metadata": {
    "dotnet_interactive": {
     "language": "fsharp"
    },
    "polyglot_notebook": {
     "kernelName": "fsharp"
    },
    "vscode": {
     "languageId": "polyglot-notebook"
    }
   },
   "outputs": [
    {
     "name": "stdout",
     "output_type": "stream",
     "text": [
      "({ Brand = Brand \"Lay's\"\n",
      "   ProductType = Eat (FoodType \"Chips\")\n",
      "   Price = 1.0\n",
      "   Weight = 1.0 }, Some { Brand = Brand \"Aquafina\"\n",
      "                          ProductType = Eat (FoodType \"Bottled Water\")\n",
      "                          Price = 1.5\n",
      "                          Weight = 16.0 })\n",
      "({ Brand = Brand \"Doritos\"\n",
      "   ProductType = Eat (FoodType \"Chips\")\n",
      "   Price = 2.0\n",
      "   Weight = 2.0 }, Some { Brand = Brand \"Dasani\"\n",
      "                          ProductType = Eat (FoodType \"Bottled Water\")\n",
      "                          Price = 2.0\n",
      "                          Weight = 20.0 })\n",
      "({ Brand = Brand \"Snickers\"\n",
      "   ProductType = Eat (FoodType \"Candy Bars\")\n",
      "   Price = 1.25\n",
      "   Weight = 1.5 }, Some { Brand = Brand \"Coca-Cola\"\n",
      "                          ProductType = Eat (FoodType \"Soda\")\n",
      "                          Price = 1.5\n",
      "                          Weight = 12.0 })\n",
      "({ Brand = Brand \"Kit Kat\"\n",
      "   ProductType = Eat (FoodType \"Candy Bars\")\n",
      "   Price = 1.25\n",
      "   Weight = 1.5 }, Some { Brand = Brand \"Pepsi\"\n",
      "                          ProductType = Eat (FoodType \"Soda\")\n",
      "                          Price = 2.0\n",
      "                          Weight = 20.0 })\n",
      "({ Brand = Brand \"Nature Valley\"\n",
      "   ProductType = Eat (FoodType \"Granola Bars\")\n",
      "   Price = 1.5\n",
      "   Weight = 1.5 }, Some { Brand = Brand \"Gatorade\"\n",
      "                          ProductType = Eat (FoodType \"Sports Drinks\")\n",
      "                          Price = 2.5\n",
      "                          Weight = 20.0 })\n",
      "({ Brand = Brand \"Chips Ahoy\"\n",
      "   ProductType = Eat (FoodType \"Cookies\")\n",
      "   Price = 1.25\n",
      "   Weight = 1.5 }, Some { Brand = Brand \"Capri Sun\"\n",
      "                          ProductType = Eat (FoodType \"Juice Boxes\")\n",
      "                          Price = 1.0\n",
      "                          Weight = 6.0 })\n",
      "({ Brand = Brand \"Cheez-Its\"\n",
      "   ProductType = Eat (FoodType \"Crackers\")\n",
      "   Price = 1.5\n",
      "   Weight = 2.0 }, Some { Brand = Brand \"Red Bull\"\n",
      "                          ProductType = Eat (FoodType \"Energy Drinks\")\n",
      "                          Price = 3.0\n",
      "                          Weight = 8.4 })\n",
      "({ Brand = Brand \"Planters\"\n",
      "   ProductType = Eat (FoodType \"Nuts\")\n",
      "   Price = 1.5\n",
      "   Weight = 1.0 }, Some { Brand = Brand \"Lipton\"\n",
      "                          ProductType = Eat (FoodType \"Iced Tea\")\n",
      "                          Price = 1.5\n",
      "                          Weight = 16.0 })\n",
      "({ Brand = Brand \"Pop-Secret\"\n",
      "   ProductType = Eat (FoodType \"Popcorn\")\n",
      "   Price = 2.0\n",
      "   Weight = 2.0 }, Some { Brand = Brand \"Minute Maid\"\n",
      "                          ProductType = Eat (FoodType \"Lemonade\")\n",
      "                          Price = 1.5\n",
      "                          Weight = 16.0 })\n",
      "({ Brand = Brand \"Jack Link's\"\n",
      "   ProductType = Eat (FoodType \"Beef Jerky\")\n",
      "   Price = 3.5\n",
      "   Weight = 1.0 }, Some { Brand = Brand \"Starbucks\"\n",
      "                          ProductType = Eat (FoodType \"Iced Coffee\")\n",
      "                          Price = 2.5\n",
      "                          Weight = 12.0 })\n",
      "({ Brand = Brand \"Maruchan\"\n",
      "   ProductType = Eat (FoodType \"Cup Noodles\")\n",
      "   Price = 1.5\n",
      "   Weight = 3.0 }, Some { Brand = Brand \"Swiss Miss\"\n",
      "                          ProductType = Eat (FoodType \"Chocolate\")\n",
      "                          Price = 2.0\n",
      "                          Weight = 8.0 })\n",
      "({ Brand = Brand \"Rold Gold\"\n",
      "   ProductType = Eat (FoodType \"Pretzels\")\n",
      "   Price = 1.0\n",
      "   Weight = 1.0 }, Some { Brand = Brand \"Nesquik\"\n",
      "                          ProductType = Eat (FoodType \"Milk\")\n",
      "                          Price = 1.0\n",
      "                          Weight = 8.0 })\n",
      "({ Brand = Brand \"Planters\"\n",
      "   ProductType = Eat (FoodType \"Trail Mix\")\n",
      "   Price = 1.5\n",
      "   Weight = 1.0 }, Some { Brand = Brand \"Yoo-hoo\"\n",
      "                          ProductType = Eat (FoodType \"Chocolate Milk\")\n",
      "                          Price = 1.0\n",
      "                          Weight = 8.0 })\n",
      "({ Brand = Brand \"Kellogg's\"\n",
      "   ProductType = Eat (FoodType \"Rice Krispie Treats\")\n",
      "   Price = 1.25\n",
      "   Weight = 1.5 }, Some { Brand = Brand \"Naked Juice\"\n",
      "                          ProductType = Eat (FoodType \"Fruit Smoothies\")\n",
      "                          Price = 4.0\n",
      "                          Weight = 16.0 })\n",
      "({ Brand = Brand \"Quest\"\n",
      "   ProductType = Eat (FoodType \"Protein Bars\")\n",
      "   Price = 3.0\n",
      "   Weight = 2.1 }, None)\n"
     ]
    }
   ],
   "source": [
    "let mixedSeq = \n",
    "    products[1..]\n",
    "    |> Seq.map (fun p -> createItemsRobust p)\n",
    "\n",
    "mixedSeq     \n",
    "|> Seq.iter (fun i -> printfn \"%A\" i)"
   ]
  },
  {
   "cell_type": "code",
   "execution_count": 40,
   "metadata": {
    "dotnet_interactive": {
     "language": "fsharp"
    },
    "polyglot_notebook": {
     "kernelName": "fsharp"
    },
    "vscode": {
     "languageId": "polyglot-notebook"
    }
   },
   "outputs": [],
   "source": [
    "let s = [ Some 3; Some 2; None; Some 42]"
   ]
  },
  {
   "cell_type": "code",
   "execution_count": 41,
   "metadata": {
    "dotnet_interactive": {
     "language": "fsharp"
    },
    "polyglot_notebook": {
     "kernelName": "fsharp"
    },
    "vscode": {
     "languageId": "polyglot-notebook"
    }
   },
   "outputs": [
    {
     "data": {
      "text/html": [
       "<details open=\"open\" class=\"dni-treeview\"><summary><span class=\"dni-code-hint\"><code>[ 3, 2, 42 ]</code></span></summary><div><table><thead><tr></tr></thead><tbody><tr><td>HeadOrDefault</td><td><div class=\"dni-plaintext\"><pre>3</pre></div></td></tr><tr><td>TailOrNull</td><td><details class=\"dni-treeview\"><summary><span class=\"dni-code-hint\"><code>[ 2, 42 ]</code></span></summary><div><table><thead><tr></tr></thead><tbody><tr><td>HeadOrDefault</td><td><div class=\"dni-plaintext\"><pre>2</pre></div></td></tr><tr><td>TailOrNull</td><td><details class=\"dni-treeview\"><summary><span class=\"dni-code-hint\"><code>[ 42 ]</code></span></summary><div><table><thead><tr></tr></thead><tbody><tr><td>HeadOrDefault</td><td><div class=\"dni-plaintext\"><pre>42</pre></div></td></tr><tr><td>TailOrNull</td><td><details class=\"dni-treeview\"><summary><span class=\"dni-code-hint\"><code>[  ]</code></span></summary><div><table><thead><tr></tr></thead><tbody><tr><td>HeadOrDefault</td><td><div class=\"dni-plaintext\"><pre>0</pre></div></td></tr><tr><td>TailOrNull</td><td><div class=\"dni-plaintext\"><pre>&lt;null&gt;</pre></div></td></tr><tr><td>Head</td><td><details class=\"dni-treeview\"><summary><span class=\"dni-code-hint\"><code>System.InvalidOperationException: The input list was empty.\\n   at Microsoft.FSharp.Collections.FSharpList`1.get_Head() in D:\\a\\_work\\1\\s\\src\\FSharp.Core\\prim-types.fs:line 4141\\n   at lambda_method513(Closure, FSharpList`1)\\n   at Microsoft.DotNet.Interactive.Formatting.MemberAccessor`1.GetValueOrE...</code></span></summary><div><table><thead><tr></tr></thead><tbody><tr><td>TargetSite</td><td><details class=\"dni-treeview\"><summary><span class=\"dni-code-hint\"><code>T get_Head()</code></span></summary><div><table><thead><tr></tr></thead><tbody><tr><td>Name</td><td>get_Head</td></tr><tr><td>DeclaringType</td><td>Microsoft.FSharp.Collections.FSharpList`1[T]</td></tr><tr><td>ReflectedType</td><td>Microsoft.FSharp.Collections.FSharpList`1[T]</td></tr><tr><td>MemberType</td><td>Method</td></tr><tr><td>MetadataToken</td><td>100663764</td></tr><tr><td>Module</td><td>FSharp.Core.dll</td></tr><tr><td>IsSecurityCritical</td><td>True</td></tr><tr><td>IsSecuritySafeCritical</td><td>False</td></tr><tr><td>IsSecurityTransparent</td><td>False</td></tr><tr><td>MethodHandle</td><td>System.RuntimeMethodHandle</td></tr><tr><td>Attributes</td><td>Public, HideBySig, SpecialName</td></tr><tr><td>CallingConvention</td><td>Standard, HasThis</td></tr><tr><td>ReturnType</td><td>T</td></tr><tr><td>ReturnTypeCustomAttributes</td><td>T</td></tr><tr><td>ReturnParameter</td><td>T</td></tr><tr><td>IsCollectible</td><td>False</td></tr><tr><td>IsGenericMethod</td><td>False</td></tr><tr><td>IsGenericMethodDefinition</td><td>False</td></tr><tr><td>ContainsGenericParameters</td><td>True</td></tr><tr><td>MethodImplementationFlags</td><td>IL</td></tr><tr><td>IsAbstract</td><td>False</td></tr><tr><td>IsConstructor</td><td>False</td></tr><tr><td>IsFinal</td><td>False</td></tr><tr><td>IsHideBySig</td><td>True</td></tr><tr><td>IsSpecialName</td><td>True</td></tr><tr><td>IsStatic</td><td>False</td></tr><tr><td>IsVirtual</td><td>False</td></tr><tr><td>IsAssembly</td><td>False</td></tr><tr><td>IsFamily</td><td>False</td></tr><tr><td>IsFamilyAndAssembly</td><td>False</td></tr><tr><td>IsFamilyOrAssembly</td><td>False</td></tr><tr><td>IsPrivate</td><td>False</td></tr><tr><td>IsPublic</td><td>True</td></tr><tr><td>IsConstructedGenericMethod</td><td>False</td></tr><tr><td>CustomAttributes</td><td>[  ]</td></tr></tbody></table></div></details></td></tr><tr><td>Message</td><td><div class=\"dni-plaintext\"><pre>The input list was empty.</pre></div></td></tr><tr><td>Data</td><td><i>(empty)</i></td></tr><tr><td>InnerException</td><td><div class=\"dni-plaintext\"><pre>&lt;null&gt;</pre></div></td></tr><tr><td>HelpLink</td><td><div class=\"dni-plaintext\"><pre>&lt;null&gt;</pre></div></td></tr><tr><td>Source</td><td><div class=\"dni-plaintext\"><pre>FSharp.Core</pre></div></td></tr><tr><td>HResult</td><td><div class=\"dni-plaintext\"><pre>-2146233079</pre></div></td></tr><tr><td>StackTrace</td><td><div class=\"dni-plaintext\"><pre>   at Microsoft.FSharp.Collections.FSharpList`1.get_Head() in D:\\a\\_work\\1\\s\\src\\FSharp.Core\\prim-types.fs:line 4141\n",
       "   at lambda_method513(Closure, FSharpList`1)\n",
       "   at Microsoft.DotNet.Interactive.Formatting.MemberAccessor`1.GetValueOrException(T instance) in D:\\a\\_work\\1\\s\\src\\Microsoft.DotNet.Interactive.Formatting\\MemberAccessor{T}.cs:line 58</pre></div></td></tr></tbody></table></div></details></td></tr><tr><td>Tail</td><td><details class=\"dni-treeview\"><summary><span class=\"dni-code-hint\"><code>System.InvalidOperationException: The input list was empty.\\n   at Microsoft.FSharp.Collections.FSharpList`1.get_Tail() in D:\\a\\_work\\1\\s\\src\\FSharp.Core\\prim-types.fs:line 4146\\n   at lambda_method514(Closure, FSharpList`1)\\n   at Microsoft.DotNet.Interactive.Formatting.MemberAccessor`1.GetValueOrE...</code></span></summary><div><table><thead><tr></tr></thead><tbody><tr><td>TargetSite</td><td><details class=\"dni-treeview\"><summary><span class=\"dni-code-hint\"><code>Microsoft.FSharp.Collections.FSharpList`1[T] get_Tail()</code></span></summary><div><table><thead><tr></tr></thead><tbody><tr><td>Name</td><td>get_Tail</td></tr><tr><td>DeclaringType</td><td>Microsoft.FSharp.Collections.FSharpList`1[T]</td></tr><tr><td>ReflectedType</td><td>Microsoft.FSharp.Collections.FSharpList`1[T]</td></tr><tr><td>MemberType</td><td>Method</td></tr><tr><td>MetadataToken</td><td>100663765</td></tr><tr><td>Module</td><td>FSharp.Core.dll</td></tr><tr><td>IsSecurityCritical</td><td>True</td></tr><tr><td>IsSecuritySafeCritical</td><td>False</td></tr><tr><td>IsSecurityTransparent</td><td>False</td></tr><tr><td>MethodHandle</td><td>System.RuntimeMethodHandle</td></tr><tr><td>Attributes</td><td>Public, HideBySig, SpecialName</td></tr><tr><td>CallingConvention</td><td>Standard, HasThis</td></tr><tr><td>ReturnType</td><td>Microsoft.FSharp.Collections.FSharpList`1[T]</td></tr><tr><td>ReturnTypeCustomAttributes</td><td>Microsoft.FSharp.Collections.FSharpList`1[T]</td></tr><tr><td>ReturnParameter</td><td>Microsoft.FSharp.Collections.FSharpList`1[T]</td></tr><tr><td>IsCollectible</td><td>False</td></tr><tr><td>IsGenericMethod</td><td>False</td></tr><tr><td>IsGenericMethodDefinition</td><td>False</td></tr><tr><td>ContainsGenericParameters</td><td>True</td></tr><tr><td>MethodImplementationFlags</td><td>IL</td></tr><tr><td>IsAbstract</td><td>False</td></tr><tr><td>IsConstructor</td><td>False</td></tr><tr><td>IsFinal</td><td>False</td></tr><tr><td>IsHideBySig</td><td>True</td></tr><tr><td>IsSpecialName</td><td>True</td></tr><tr><td>IsStatic</td><td>False</td></tr><tr><td>IsVirtual</td><td>False</td></tr><tr><td>IsAssembly</td><td>False</td></tr><tr><td>IsFamily</td><td>False</td></tr><tr><td>IsFamilyAndAssembly</td><td>False</td></tr><tr><td>IsFamilyOrAssembly</td><td>False</td></tr><tr><td>IsPrivate</td><td>False</td></tr><tr><td>IsPublic</td><td>True</td></tr><tr><td>IsConstructedGenericMethod</td><td>False</td></tr><tr><td>CustomAttributes</td><td>[  ]</td></tr></tbody></table></div></details></td></tr><tr><td>Message</td><td><div class=\"dni-plaintext\"><pre>The input list was empty.</pre></div></td></tr><tr><td>Data</td><td><i>(empty)</i></td></tr><tr><td>InnerException</td><td><div class=\"dni-plaintext\"><pre>&lt;null&gt;</pre></div></td></tr><tr><td>HelpLink</td><td><div class=\"dni-plaintext\"><pre>&lt;null&gt;</pre></div></td></tr><tr><td>Source</td><td><div class=\"dni-plaintext\"><pre>FSharp.Core</pre></div></td></tr><tr><td>HResult</td><td><div class=\"dni-plaintext\"><pre>-2146233079</pre></div></td></tr><tr><td>StackTrace</td><td><div class=\"dni-plaintext\"><pre>   at Microsoft.FSharp.Collections.FSharpList`1.get_Tail() in D:\\a\\_work\\1\\s\\src\\FSharp.Core\\prim-types.fs:line 4146\n",
       "   at lambda_method514(Closure, FSharpList`1)\n",
       "   at Microsoft.DotNet.Interactive.Formatting.MemberAccessor`1.GetValueOrException(T instance) in D:\\a\\_work\\1\\s\\src\\Microsoft.DotNet.Interactive.Formatting\\MemberAccessor{T}.cs:line 58</pre></div></td></tr></tbody></table></div></details></td></tr><tr><td><i>(values)</i></td><td><div class=\"dni-plaintext\"><pre>[  ]</pre></div></td></tr></tbody></table></div></details></td></tr><tr><td>Head</td><td><div class=\"dni-plaintext\"><pre>42</pre></div></td></tr><tr><td>Tail</td><td><details class=\"dni-treeview\"><summary><span class=\"dni-code-hint\"><code>[  ]</code></span></summary><div><table><thead><tr></tr></thead><tbody><tr><td>HeadOrDefault</td><td><div class=\"dni-plaintext\"><pre>0</pre></div></td></tr><tr><td>TailOrNull</td><td><div class=\"dni-plaintext\"><pre>&lt;null&gt;</pre></div></td></tr><tr><td>Head</td><td><details class=\"dni-treeview\"><summary><span class=\"dni-code-hint\"><code>System.InvalidOperationException: The input list was empty.\\n   at Microsoft.FSharp.Collections.FSharpList`1.get_Head() in D:\\a\\_work\\1\\s\\src\\FSharp.Core\\prim-types.fs:line 4141\\n   at lambda_method513(Closure, FSharpList`1)\\n   at Microsoft.DotNet.Interactive.Formatting.MemberAccessor`1.GetValueOrE...</code></span></summary><div><table><thead><tr></tr></thead><tbody><tr><td>TargetSite</td><td><details class=\"dni-treeview\"><summary><span class=\"dni-code-hint\"><code>T get_Head()</code></span></summary><div><table><thead><tr></tr></thead><tbody><tr><td>Name</td><td>get_Head</td></tr><tr><td>DeclaringType</td><td>Microsoft.FSharp.Collections.FSharpList`1[T]</td></tr><tr><td>ReflectedType</td><td>Microsoft.FSharp.Collections.FSharpList`1[T]</td></tr><tr><td>MemberType</td><td>Method</td></tr><tr><td>MetadataToken</td><td>100663764</td></tr><tr><td>Module</td><td>FSharp.Core.dll</td></tr><tr><td>IsSecurityCritical</td><td>True</td></tr><tr><td>IsSecuritySafeCritical</td><td>False</td></tr><tr><td>IsSecurityTransparent</td><td>False</td></tr><tr><td>MethodHandle</td><td>System.RuntimeMethodHandle</td></tr><tr><td>Attributes</td><td>Public, HideBySig, SpecialName</td></tr><tr><td>CallingConvention</td><td>Standard, HasThis</td></tr><tr><td>ReturnType</td><td>T</td></tr><tr><td>ReturnTypeCustomAttributes</td><td>T</td></tr><tr><td>ReturnParameter</td><td>T</td></tr><tr><td>IsCollectible</td><td>False</td></tr><tr><td>IsGenericMethod</td><td>False</td></tr><tr><td>IsGenericMethodDefinition</td><td>False</td></tr><tr><td>ContainsGenericParameters</td><td>True</td></tr><tr><td>MethodImplementationFlags</td><td>IL</td></tr><tr><td>IsAbstract</td><td>False</td></tr><tr><td>IsConstructor</td><td>False</td></tr><tr><td>IsFinal</td><td>False</td></tr><tr><td>IsHideBySig</td><td>True</td></tr><tr><td>IsSpecialName</td><td>True</td></tr><tr><td>IsStatic</td><td>False</td></tr><tr><td>IsVirtual</td><td>False</td></tr><tr><td>IsAssembly</td><td>False</td></tr><tr><td>IsFamily</td><td>False</td></tr><tr><td>IsFamilyAndAssembly</td><td>False</td></tr><tr><td>IsFamilyOrAssembly</td><td>False</td></tr><tr><td>IsPrivate</td><td>False</td></tr><tr><td>IsPublic</td><td>True</td></tr><tr><td>IsConstructedGenericMethod</td><td>False</td></tr><tr><td>CustomAttributes</td><td>[  ]</td></tr></tbody></table></div></details></td></tr><tr><td>Message</td><td><div class=\"dni-plaintext\"><pre>The input list was empty.</pre></div></td></tr><tr><td>Data</td><td><i>(empty)</i></td></tr><tr><td>InnerException</td><td><div class=\"dni-plaintext\"><pre>&lt;null&gt;</pre></div></td></tr><tr><td>HelpLink</td><td><div class=\"dni-plaintext\"><pre>&lt;null&gt;</pre></div></td></tr><tr><td>Source</td><td><div class=\"dni-plaintext\"><pre>FSharp.Core</pre></div></td></tr><tr><td>HResult</td><td><div class=\"dni-plaintext\"><pre>-2146233079</pre></div></td></tr><tr><td>StackTrace</td><td><div class=\"dni-plaintext\"><pre>   at Microsoft.FSharp.Collections.FSharpList`1.get_Head() in D:\\a\\_work\\1\\s\\src\\FSharp.Core\\prim-types.fs:line 4141\n",
       "   at lambda_method513(Closure, FSharpList`1)\n",
       "   at Microsoft.DotNet.Interactive.Formatting.MemberAccessor`1.GetValueOrException(T instance) in D:\\a\\_work\\1\\s\\src\\Microsoft.DotNet.Interactive.Formatting\\MemberAccessor{T}.cs:line 58</pre></div></td></tr></tbody></table></div></details></td></tr><tr><td>Tail</td><td><details class=\"dni-treeview\"><summary><span class=\"dni-code-hint\"><code>System.InvalidOperationException: The input list was empty.\\n   at Microsoft.FSharp.Collections.FSharpList`1.get_Tail() in D:\\a\\_work\\1\\s\\src\\FSharp.Core\\prim-types.fs:line 4146\\n   at lambda_method514(Closure, FSharpList`1)\\n   at Microsoft.DotNet.Interactive.Formatting.MemberAccessor`1.GetValueOrE...</code></span></summary><div><table><thead><tr></tr></thead><tbody><tr><td>TargetSite</td><td><details class=\"dni-treeview\"><summary><span class=\"dni-code-hint\"><code>Microsoft.FSharp.Collections.FSharpList`1[T] get_Tail()</code></span></summary><div><table><thead><tr></tr></thead><tbody><tr><td>Name</td><td>get_Tail</td></tr><tr><td>DeclaringType</td><td>Microsoft.FSharp.Collections.FSharpList`1[T]</td></tr><tr><td>ReflectedType</td><td>Microsoft.FSharp.Collections.FSharpList`1[T]</td></tr><tr><td>MemberType</td><td>Method</td></tr><tr><td>MetadataToken</td><td>100663765</td></tr><tr><td>Module</td><td>FSharp.Core.dll</td></tr><tr><td>IsSecurityCritical</td><td>True</td></tr><tr><td>IsSecuritySafeCritical</td><td>False</td></tr><tr><td>IsSecurityTransparent</td><td>False</td></tr><tr><td>MethodHandle</td><td>System.RuntimeMethodHandle</td></tr><tr><td>Attributes</td><td>Public, HideBySig, SpecialName</td></tr><tr><td>CallingConvention</td><td>Standard, HasThis</td></tr><tr><td>ReturnType</td><td>Microsoft.FSharp.Collections.FSharpList`1[T]</td></tr><tr><td>ReturnTypeCustomAttributes</td><td>Microsoft.FSharp.Collections.FSharpList`1[T]</td></tr><tr><td>ReturnParameter</td><td>Microsoft.FSharp.Collections.FSharpList`1[T]</td></tr><tr><td>IsCollectible</td><td>False</td></tr><tr><td>IsGenericMethod</td><td>False</td></tr><tr><td>IsGenericMethodDefinition</td><td>False</td></tr><tr><td>ContainsGenericParameters</td><td>True</td></tr><tr><td>MethodImplementationFlags</td><td>IL</td></tr><tr><td>IsAbstract</td><td>False</td></tr><tr><td>IsConstructor</td><td>False</td></tr><tr><td>IsFinal</td><td>False</td></tr><tr><td>IsHideBySig</td><td>True</td></tr><tr><td>IsSpecialName</td><td>True</td></tr><tr><td>IsStatic</td><td>False</td></tr><tr><td>IsVirtual</td><td>False</td></tr><tr><td>IsAssembly</td><td>False</td></tr><tr><td>IsFamily</td><td>False</td></tr><tr><td>IsFamilyAndAssembly</td><td>False</td></tr><tr><td>IsFamilyOrAssembly</td><td>False</td></tr><tr><td>IsPrivate</td><td>False</td></tr><tr><td>IsPublic</td><td>True</td></tr><tr><td>IsConstructedGenericMethod</td><td>False</td></tr><tr><td>CustomAttributes</td><td>[  ]</td></tr></tbody></table></div></details></td></tr><tr><td>Message</td><td><div class=\"dni-plaintext\"><pre>The input list was empty.</pre></div></td></tr><tr><td>Data</td><td><i>(empty)</i></td></tr><tr><td>InnerException</td><td><div class=\"dni-plaintext\"><pre>&lt;null&gt;</pre></div></td></tr><tr><td>HelpLink</td><td><div class=\"dni-plaintext\"><pre>&lt;null&gt;</pre></div></td></tr><tr><td>Source</td><td><div class=\"dni-plaintext\"><pre>FSharp.Core</pre></div></td></tr><tr><td>HResult</td><td><div class=\"dni-plaintext\"><pre>-2146233079</pre></div></td></tr><tr><td>StackTrace</td><td><div class=\"dni-plaintext\"><pre>   at Microsoft.FSharp.Collections.FSharpList`1.get_Tail() in D:\\a\\_work\\1\\s\\src\\FSharp.Core\\prim-types.fs:line 4146\n",
       "   at lambda_method514(Closure, FSharpList`1)\n",
       "   at Microsoft.DotNet.Interactive.Formatting.MemberAccessor`1.GetValueOrException(T instance) in D:\\a\\_work\\1\\s\\src\\Microsoft.DotNet.Interactive.Formatting\\MemberAccessor{T}.cs:line 58</pre></div></td></tr></tbody></table></div></details></td></tr><tr><td><i>(values)</i></td><td><div class=\"dni-plaintext\"><pre>[  ]</pre></div></td></tr></tbody></table></div></details></td></tr><tr><td><i>(values)</i></td><td><div class=\"dni-plaintext\"><pre>[ 42 ]</pre></div></td></tr></tbody></table></div></details></td></tr><tr><td>Head</td><td><div class=\"dni-plaintext\"><pre>2</pre></div></td></tr><tr><td>Tail</td><td><details class=\"dni-treeview\"><summary><span class=\"dni-code-hint\"><code>[ 42 ]</code></span></summary><div><table><thead><tr></tr></thead><tbody><tr><td>HeadOrDefault</td><td><div class=\"dni-plaintext\"><pre>42</pre></div></td></tr><tr><td>TailOrNull</td><td><details class=\"dni-treeview\"><summary><span class=\"dni-code-hint\"><code>[  ]</code></span></summary><div><table><thead><tr></tr></thead><tbody><tr><td>HeadOrDefault</td><td><div class=\"dni-plaintext\"><pre>0</pre></div></td></tr><tr><td>TailOrNull</td><td><div class=\"dni-plaintext\"><pre>&lt;null&gt;</pre></div></td></tr><tr><td>Head</td><td><details class=\"dni-treeview\"><summary><span class=\"dni-code-hint\"><code>System.InvalidOperationException: The input list was empty.\\n   at Microsoft.FSharp.Collections.FSharpList`1.get_Head() in D:\\a\\_work\\1\\s\\src\\FSharp.Core\\prim-types.fs:line 4141\\n   at lambda_method513(Closure, FSharpList`1)\\n   at Microsoft.DotNet.Interactive.Formatting.MemberAccessor`1.GetValueOrE...</code></span></summary><div><table><thead><tr></tr></thead><tbody><tr><td>TargetSite</td><td><details class=\"dni-treeview\"><summary><span class=\"dni-code-hint\"><code>T get_Head()</code></span></summary><div><table><thead><tr></tr></thead><tbody><tr><td>Name</td><td>get_Head</td></tr><tr><td>DeclaringType</td><td>Microsoft.FSharp.Collections.FSharpList`1[T]</td></tr><tr><td>ReflectedType</td><td>Microsoft.FSharp.Collections.FSharpList`1[T]</td></tr><tr><td>MemberType</td><td>Method</td></tr><tr><td>MetadataToken</td><td>100663764</td></tr><tr><td>Module</td><td>FSharp.Core.dll</td></tr><tr><td>IsSecurityCritical</td><td>True</td></tr><tr><td>IsSecuritySafeCritical</td><td>False</td></tr><tr><td>IsSecurityTransparent</td><td>False</td></tr><tr><td>MethodHandle</td><td>System.RuntimeMethodHandle</td></tr><tr><td>Attributes</td><td>Public, HideBySig, SpecialName</td></tr><tr><td>CallingConvention</td><td>Standard, HasThis</td></tr><tr><td>ReturnType</td><td>T</td></tr><tr><td>ReturnTypeCustomAttributes</td><td>T</td></tr><tr><td>ReturnParameter</td><td>T</td></tr><tr><td>IsCollectible</td><td>False</td></tr><tr><td>IsGenericMethod</td><td>False</td></tr><tr><td>IsGenericMethodDefinition</td><td>False</td></tr><tr><td>ContainsGenericParameters</td><td>True</td></tr><tr><td>MethodImplementationFlags</td><td>IL</td></tr><tr><td>IsAbstract</td><td>False</td></tr><tr><td>IsConstructor</td><td>False</td></tr><tr><td>IsFinal</td><td>False</td></tr><tr><td>IsHideBySig</td><td>True</td></tr><tr><td>IsSpecialName</td><td>True</td></tr><tr><td>IsStatic</td><td>False</td></tr><tr><td>IsVirtual</td><td>False</td></tr><tr><td>IsAssembly</td><td>False</td></tr><tr><td>IsFamily</td><td>False</td></tr><tr><td>IsFamilyAndAssembly</td><td>False</td></tr><tr><td>IsFamilyOrAssembly</td><td>False</td></tr><tr><td>IsPrivate</td><td>False</td></tr><tr><td>IsPublic</td><td>True</td></tr><tr><td>IsConstructedGenericMethod</td><td>False</td></tr><tr><td>CustomAttributes</td><td>[  ]</td></tr></tbody></table></div></details></td></tr><tr><td>Message</td><td><div class=\"dni-plaintext\"><pre>The input list was empty.</pre></div></td></tr><tr><td>Data</td><td><i>(empty)</i></td></tr><tr><td>InnerException</td><td><div class=\"dni-plaintext\"><pre>&lt;null&gt;</pre></div></td></tr><tr><td>HelpLink</td><td><div class=\"dni-plaintext\"><pre>&lt;null&gt;</pre></div></td></tr><tr><td>Source</td><td><div class=\"dni-plaintext\"><pre>FSharp.Core</pre></div></td></tr><tr><td>HResult</td><td><div class=\"dni-plaintext\"><pre>-2146233079</pre></div></td></tr><tr><td>StackTrace</td><td><div class=\"dni-plaintext\"><pre>   at Microsoft.FSharp.Collections.FSharpList`1.get_Head() in D:\\a\\_work\\1\\s\\src\\FSharp.Core\\prim-types.fs:line 4141\n",
       "   at lambda_method513(Closure, FSharpList`1)\n",
       "   at Microsoft.DotNet.Interactive.Formatting.MemberAccessor`1.GetValueOrException(T instance) in D:\\a\\_work\\1\\s\\src\\Microsoft.DotNet.Interactive.Formatting\\MemberAccessor{T}.cs:line 58</pre></div></td></tr></tbody></table></div></details></td></tr><tr><td>Tail</td><td><details class=\"dni-treeview\"><summary><span class=\"dni-code-hint\"><code>System.InvalidOperationException: The input list was empty.\\n   at Microsoft.FSharp.Collections.FSharpList`1.get_Tail() in D:\\a\\_work\\1\\s\\src\\FSharp.Core\\prim-types.fs:line 4146\\n   at lambda_method514(Closure, FSharpList`1)\\n   at Microsoft.DotNet.Interactive.Formatting.MemberAccessor`1.GetValueOrE...</code></span></summary><div><table><thead><tr></tr></thead><tbody><tr><td>TargetSite</td><td><details class=\"dni-treeview\"><summary><span class=\"dni-code-hint\"><code>Microsoft.FSharp.Collections.FSharpList`1[T] get_Tail()</code></span></summary><div><table><thead><tr></tr></thead><tbody><tr><td>Name</td><td>get_Tail</td></tr><tr><td>DeclaringType</td><td>Microsoft.FSharp.Collections.FSharpList`1[T]</td></tr><tr><td>ReflectedType</td><td>Microsoft.FSharp.Collections.FSharpList`1[T]</td></tr><tr><td>MemberType</td><td>Method</td></tr><tr><td>MetadataToken</td><td>100663765</td></tr><tr><td>Module</td><td>FSharp.Core.dll</td></tr><tr><td>IsSecurityCritical</td><td>True</td></tr><tr><td>IsSecuritySafeCritical</td><td>False</td></tr><tr><td>IsSecurityTransparent</td><td>False</td></tr><tr><td>MethodHandle</td><td>System.RuntimeMethodHandle</td></tr><tr><td>Attributes</td><td>Public, HideBySig, SpecialName</td></tr><tr><td>CallingConvention</td><td>Standard, HasThis</td></tr><tr><td>ReturnType</td><td>Microsoft.FSharp.Collections.FSharpList`1[T]</td></tr><tr><td>ReturnTypeCustomAttributes</td><td>Microsoft.FSharp.Collections.FSharpList`1[T]</td></tr><tr><td>ReturnParameter</td><td>Microsoft.FSharp.Collections.FSharpList`1[T]</td></tr><tr><td>IsCollectible</td><td>False</td></tr><tr><td>IsGenericMethod</td><td>False</td></tr><tr><td>IsGenericMethodDefinition</td><td>False</td></tr><tr><td>ContainsGenericParameters</td><td>True</td></tr><tr><td>MethodImplementationFlags</td><td>IL</td></tr><tr><td>IsAbstract</td><td>False</td></tr><tr><td>IsConstructor</td><td>False</td></tr><tr><td>IsFinal</td><td>False</td></tr><tr><td>IsHideBySig</td><td>True</td></tr><tr><td>IsSpecialName</td><td>True</td></tr><tr><td>IsStatic</td><td>False</td></tr><tr><td>IsVirtual</td><td>False</td></tr><tr><td>IsAssembly</td><td>False</td></tr><tr><td>IsFamily</td><td>False</td></tr><tr><td>IsFamilyAndAssembly</td><td>False</td></tr><tr><td>IsFamilyOrAssembly</td><td>False</td></tr><tr><td>IsPrivate</td><td>False</td></tr><tr><td>IsPublic</td><td>True</td></tr><tr><td>IsConstructedGenericMethod</td><td>False</td></tr><tr><td>CustomAttributes</td><td>[  ]</td></tr></tbody></table></div></details></td></tr><tr><td>Message</td><td><div class=\"dni-plaintext\"><pre>The input list was empty.</pre></div></td></tr><tr><td>Data</td><td><i>(empty)</i></td></tr><tr><td>InnerException</td><td><div class=\"dni-plaintext\"><pre>&lt;null&gt;</pre></div></td></tr><tr><td>HelpLink</td><td><div class=\"dni-plaintext\"><pre>&lt;null&gt;</pre></div></td></tr><tr><td>Source</td><td><div class=\"dni-plaintext\"><pre>FSharp.Core</pre></div></td></tr><tr><td>HResult</td><td><div class=\"dni-plaintext\"><pre>-2146233079</pre></div></td></tr><tr><td>StackTrace</td><td><div class=\"dni-plaintext\"><pre>   at Microsoft.FSharp.Collections.FSharpList`1.get_Tail() in D:\\a\\_work\\1\\s\\src\\FSharp.Core\\prim-types.fs:line 4146\n",
       "   at lambda_method514(Closure, FSharpList`1)\n",
       "   at Microsoft.DotNet.Interactive.Formatting.MemberAccessor`1.GetValueOrException(T instance) in D:\\a\\_work\\1\\s\\src\\Microsoft.DotNet.Interactive.Formatting\\MemberAccessor{T}.cs:line 58</pre></div></td></tr></tbody></table></div></details></td></tr><tr><td><i>(values)</i></td><td><div class=\"dni-plaintext\"><pre>[  ]</pre></div></td></tr></tbody></table></div></details></td></tr><tr><td>Head</td><td><div class=\"dni-plaintext\"><pre>42</pre></div></td></tr><tr><td>Tail</td><td><details class=\"dni-treeview\"><summary><span class=\"dni-code-hint\"><code>[  ]</code></span></summary><div><table><thead><tr></tr></thead><tbody><tr><td>HeadOrDefault</td><td><div class=\"dni-plaintext\"><pre>0</pre></div></td></tr><tr><td>TailOrNull</td><td><div class=\"dni-plaintext\"><pre>&lt;null&gt;</pre></div></td></tr><tr><td>Head</td><td><details class=\"dni-treeview\"><summary><span class=\"dni-code-hint\"><code>System.InvalidOperationException: The input list was empty.\\n   at Microsoft.FSharp.Collections.FSharpList`1.get_Head() in D:\\a\\_work\\1\\s\\src\\FSharp.Core\\prim-types.fs:line 4141\\n   at lambda_method513(Closure, FSharpList`1)\\n   at Microsoft.DotNet.Interactive.Formatting.MemberAccessor`1.GetValueOrE...</code></span></summary><div><table><thead><tr></tr></thead><tbody><tr><td>TargetSite</td><td><details class=\"dni-treeview\"><summary><span class=\"dni-code-hint\"><code>T get_Head()</code></span></summary><div><table><thead><tr></tr></thead><tbody><tr><td>Name</td><td>get_Head</td></tr><tr><td>DeclaringType</td><td>Microsoft.FSharp.Collections.FSharpList`1[T]</td></tr><tr><td>ReflectedType</td><td>Microsoft.FSharp.Collections.FSharpList`1[T]</td></tr><tr><td>MemberType</td><td>Method</td></tr><tr><td>MetadataToken</td><td>100663764</td></tr><tr><td>Module</td><td>FSharp.Core.dll</td></tr><tr><td>IsSecurityCritical</td><td>True</td></tr><tr><td>IsSecuritySafeCritical</td><td>False</td></tr><tr><td>IsSecurityTransparent</td><td>False</td></tr><tr><td>MethodHandle</td><td>System.RuntimeMethodHandle</td></tr><tr><td>Attributes</td><td>Public, HideBySig, SpecialName</td></tr><tr><td>CallingConvention</td><td>Standard, HasThis</td></tr><tr><td>ReturnType</td><td>T</td></tr><tr><td>ReturnTypeCustomAttributes</td><td>T</td></tr><tr><td>ReturnParameter</td><td>T</td></tr><tr><td>IsCollectible</td><td>False</td></tr><tr><td>IsGenericMethod</td><td>False</td></tr><tr><td>IsGenericMethodDefinition</td><td>False</td></tr><tr><td>ContainsGenericParameters</td><td>True</td></tr><tr><td>MethodImplementationFlags</td><td>IL</td></tr><tr><td>IsAbstract</td><td>False</td></tr><tr><td>IsConstructor</td><td>False</td></tr><tr><td>IsFinal</td><td>False</td></tr><tr><td>IsHideBySig</td><td>True</td></tr><tr><td>IsSpecialName</td><td>True</td></tr><tr><td>IsStatic</td><td>False</td></tr><tr><td>IsVirtual</td><td>False</td></tr><tr><td>IsAssembly</td><td>False</td></tr><tr><td>IsFamily</td><td>False</td></tr><tr><td>IsFamilyAndAssembly</td><td>False</td></tr><tr><td>IsFamilyOrAssembly</td><td>False</td></tr><tr><td>IsPrivate</td><td>False</td></tr><tr><td>IsPublic</td><td>True</td></tr><tr><td>IsConstructedGenericMethod</td><td>False</td></tr><tr><td>CustomAttributes</td><td>[  ]</td></tr></tbody></table></div></details></td></tr><tr><td>Message</td><td><div class=\"dni-plaintext\"><pre>The input list was empty.</pre></div></td></tr><tr><td>Data</td><td><i>(empty)</i></td></tr><tr><td>InnerException</td><td><div class=\"dni-plaintext\"><pre>&lt;null&gt;</pre></div></td></tr><tr><td>HelpLink</td><td><div class=\"dni-plaintext\"><pre>&lt;null&gt;</pre></div></td></tr><tr><td>Source</td><td><div class=\"dni-plaintext\"><pre>FSharp.Core</pre></div></td></tr><tr><td>HResult</td><td><div class=\"dni-plaintext\"><pre>-2146233079</pre></div></td></tr><tr><td>StackTrace</td><td><div class=\"dni-plaintext\"><pre>   at Microsoft.FSharp.Collections.FSharpList`1.get_Head() in D:\\a\\_work\\1\\s\\src\\FSharp.Core\\prim-types.fs:line 4141\n",
       "   at lambda_method513(Closure, FSharpList`1)\n",
       "   at Microsoft.DotNet.Interactive.Formatting.MemberAccessor`1.GetValueOrException(T instance) in D:\\a\\_work\\1\\s\\src\\Microsoft.DotNet.Interactive.Formatting\\MemberAccessor{T}.cs:line 58</pre></div></td></tr></tbody></table></div></details></td></tr><tr><td>Tail</td><td><details class=\"dni-treeview\"><summary><span class=\"dni-code-hint\"><code>System.InvalidOperationException: The input list was empty.\\n   at Microsoft.FSharp.Collections.FSharpList`1.get_Tail() in D:\\a\\_work\\1\\s\\src\\FSharp.Core\\prim-types.fs:line 4146\\n   at lambda_method514(Closure, FSharpList`1)\\n   at Microsoft.DotNet.Interactive.Formatting.MemberAccessor`1.GetValueOrE...</code></span></summary><div><table><thead><tr></tr></thead><tbody><tr><td>TargetSite</td><td><details class=\"dni-treeview\"><summary><span class=\"dni-code-hint\"><code>Microsoft.FSharp.Collections.FSharpList`1[T] get_Tail()</code></span></summary><div><table><thead><tr></tr></thead><tbody><tr><td>Name</td><td>get_Tail</td></tr><tr><td>DeclaringType</td><td>Microsoft.FSharp.Collections.FSharpList`1[T]</td></tr><tr><td>ReflectedType</td><td>Microsoft.FSharp.Collections.FSharpList`1[T]</td></tr><tr><td>MemberType</td><td>Method</td></tr><tr><td>MetadataToken</td><td>100663765</td></tr><tr><td>Module</td><td>FSharp.Core.dll</td></tr><tr><td>IsSecurityCritical</td><td>True</td></tr><tr><td>IsSecuritySafeCritical</td><td>False</td></tr><tr><td>IsSecurityTransparent</td><td>False</td></tr><tr><td>MethodHandle</td><td>System.RuntimeMethodHandle</td></tr><tr><td>Attributes</td><td>Public, HideBySig, SpecialName</td></tr><tr><td>CallingConvention</td><td>Standard, HasThis</td></tr><tr><td>ReturnType</td><td>Microsoft.FSharp.Collections.FSharpList`1[T]</td></tr><tr><td>ReturnTypeCustomAttributes</td><td>Microsoft.FSharp.Collections.FSharpList`1[T]</td></tr><tr><td>ReturnParameter</td><td>Microsoft.FSharp.Collections.FSharpList`1[T]</td></tr><tr><td>IsCollectible</td><td>False</td></tr><tr><td>IsGenericMethod</td><td>False</td></tr><tr><td>IsGenericMethodDefinition</td><td>False</td></tr><tr><td>ContainsGenericParameters</td><td>True</td></tr><tr><td>MethodImplementationFlags</td><td>IL</td></tr><tr><td>IsAbstract</td><td>False</td></tr><tr><td>IsConstructor</td><td>False</td></tr><tr><td>IsFinal</td><td>False</td></tr><tr><td>IsHideBySig</td><td>True</td></tr><tr><td>IsSpecialName</td><td>True</td></tr><tr><td>IsStatic</td><td>False</td></tr><tr><td>IsVirtual</td><td>False</td></tr><tr><td>IsAssembly</td><td>False</td></tr><tr><td>IsFamily</td><td>False</td></tr><tr><td>IsFamilyAndAssembly</td><td>False</td></tr><tr><td>IsFamilyOrAssembly</td><td>False</td></tr><tr><td>IsPrivate</td><td>False</td></tr><tr><td>IsPublic</td><td>True</td></tr><tr><td>IsConstructedGenericMethod</td><td>False</td></tr><tr><td>CustomAttributes</td><td>[  ]</td></tr></tbody></table></div></details></td></tr><tr><td>Message</td><td><div class=\"dni-plaintext\"><pre>The input list was empty.</pre></div></td></tr><tr><td>Data</td><td><i>(empty)</i></td></tr><tr><td>InnerException</td><td><div class=\"dni-plaintext\"><pre>&lt;null&gt;</pre></div></td></tr><tr><td>HelpLink</td><td><div class=\"dni-plaintext\"><pre>&lt;null&gt;</pre></div></td></tr><tr><td>Source</td><td><div class=\"dni-plaintext\"><pre>FSharp.Core</pre></div></td></tr><tr><td>HResult</td><td><div class=\"dni-plaintext\"><pre>-2146233079</pre></div></td></tr><tr><td>StackTrace</td><td><div class=\"dni-plaintext\"><pre>   at Microsoft.FSharp.Collections.FSharpList`1.get_Tail() in D:\\a\\_work\\1\\s\\src\\FSharp.Core\\prim-types.fs:line 4146\n",
       "   at lambda_method514(Closure, FSharpList`1)\n",
       "   at Microsoft.DotNet.Interactive.Formatting.MemberAccessor`1.GetValueOrException(T instance) in D:\\a\\_work\\1\\s\\src\\Microsoft.DotNet.Interactive.Formatting\\MemberAccessor{T}.cs:line 58</pre></div></td></tr></tbody></table></div></details></td></tr><tr><td><i>(values)</i></td><td><div class=\"dni-plaintext\"><pre>[  ]</pre></div></td></tr></tbody></table></div></details></td></tr><tr><td><i>(values)</i></td><td><div class=\"dni-plaintext\"><pre>[ 42 ]</pre></div></td></tr></tbody></table></div></details></td></tr><tr><td><i>(values)</i></td><td><div class=\"dni-plaintext\"><pre>[ 2, 42 ]</pre></div></td></tr></tbody></table></div></details></td></tr><tr><td>Head</td><td><div class=\"dni-plaintext\"><pre>3</pre></div></td></tr><tr><td>Tail</td><td><details class=\"dni-treeview\"><summary><span class=\"dni-code-hint\"><code>[ 2, 42 ]</code></span></summary><div><table><thead><tr></tr></thead><tbody><tr><td>HeadOrDefault</td><td><div class=\"dni-plaintext\"><pre>2</pre></div></td></tr><tr><td>TailOrNull</td><td><details class=\"dni-treeview\"><summary><span class=\"dni-code-hint\"><code>[ 42 ]</code></span></summary><div><table><thead><tr></tr></thead><tbody><tr><td>HeadOrDefault</td><td><div class=\"dni-plaintext\"><pre>42</pre></div></td></tr><tr><td>TailOrNull</td><td><details class=\"dni-treeview\"><summary><span class=\"dni-code-hint\"><code>[  ]</code></span></summary><div><table><thead><tr></tr></thead><tbody><tr><td>HeadOrDefault</td><td><div class=\"dni-plaintext\"><pre>0</pre></div></td></tr><tr><td>TailOrNull</td><td><div class=\"dni-plaintext\"><pre>&lt;null&gt;</pre></div></td></tr><tr><td>Head</td><td><details class=\"dni-treeview\"><summary><span class=\"dni-code-hint\"><code>System.InvalidOperationException: The input list was empty.\\n   at Microsoft.FSharp.Collections.FSharpList`1.get_Head() in D:\\a\\_work\\1\\s\\src\\FSharp.Core\\prim-types.fs:line 4141\\n   at lambda_method513(Closure, FSharpList`1)\\n   at Microsoft.DotNet.Interactive.Formatting.MemberAccessor`1.GetValueOrE...</code></span></summary><div><table><thead><tr></tr></thead><tbody><tr><td>TargetSite</td><td><details class=\"dni-treeview\"><summary><span class=\"dni-code-hint\"><code>T get_Head()</code></span></summary><div><table><thead><tr></tr></thead><tbody><tr><td>Name</td><td>get_Head</td></tr><tr><td>DeclaringType</td><td>Microsoft.FSharp.Collections.FSharpList`1[T]</td></tr><tr><td>ReflectedType</td><td>Microsoft.FSharp.Collections.FSharpList`1[T]</td></tr><tr><td>MemberType</td><td>Method</td></tr><tr><td>MetadataToken</td><td>100663764</td></tr><tr><td>Module</td><td>FSharp.Core.dll</td></tr><tr><td>IsSecurityCritical</td><td>True</td></tr><tr><td>IsSecuritySafeCritical</td><td>False</td></tr><tr><td>IsSecurityTransparent</td><td>False</td></tr><tr><td>MethodHandle</td><td>System.RuntimeMethodHandle</td></tr><tr><td>Attributes</td><td>Public, HideBySig, SpecialName</td></tr><tr><td>CallingConvention</td><td>Standard, HasThis</td></tr><tr><td>ReturnType</td><td>T</td></tr><tr><td>ReturnTypeCustomAttributes</td><td>T</td></tr><tr><td>ReturnParameter</td><td>T</td></tr><tr><td>IsCollectible</td><td>False</td></tr><tr><td>IsGenericMethod</td><td>False</td></tr><tr><td>IsGenericMethodDefinition</td><td>False</td></tr><tr><td>ContainsGenericParameters</td><td>True</td></tr><tr><td>MethodImplementationFlags</td><td>IL</td></tr><tr><td>IsAbstract</td><td>False</td></tr><tr><td>IsConstructor</td><td>False</td></tr><tr><td>IsFinal</td><td>False</td></tr><tr><td>IsHideBySig</td><td>True</td></tr><tr><td>IsSpecialName</td><td>True</td></tr><tr><td>IsStatic</td><td>False</td></tr><tr><td>IsVirtual</td><td>False</td></tr><tr><td>IsAssembly</td><td>False</td></tr><tr><td>IsFamily</td><td>False</td></tr><tr><td>IsFamilyAndAssembly</td><td>False</td></tr><tr><td>IsFamilyOrAssembly</td><td>False</td></tr><tr><td>IsPrivate</td><td>False</td></tr><tr><td>IsPublic</td><td>True</td></tr><tr><td>IsConstructedGenericMethod</td><td>False</td></tr><tr><td>CustomAttributes</td><td>[  ]</td></tr></tbody></table></div></details></td></tr><tr><td>Message</td><td><div class=\"dni-plaintext\"><pre>The input list was empty.</pre></div></td></tr><tr><td>Data</td><td><i>(empty)</i></td></tr><tr><td>InnerException</td><td><div class=\"dni-plaintext\"><pre>&lt;null&gt;</pre></div></td></tr><tr><td>HelpLink</td><td><div class=\"dni-plaintext\"><pre>&lt;null&gt;</pre></div></td></tr><tr><td>Source</td><td><div class=\"dni-plaintext\"><pre>FSharp.Core</pre></div></td></tr><tr><td>HResult</td><td><div class=\"dni-plaintext\"><pre>-2146233079</pre></div></td></tr><tr><td>StackTrace</td><td><div class=\"dni-plaintext\"><pre>   at Microsoft.FSharp.Collections.FSharpList`1.get_Head() in D:\\a\\_work\\1\\s\\src\\FSharp.Core\\prim-types.fs:line 4141\n",
       "   at lambda_method513(Closure, FSharpList`1)\n",
       "   at Microsoft.DotNet.Interactive.Formatting.MemberAccessor`1.GetValueOrException(T instance) in D:\\a\\_work\\1\\s\\src\\Microsoft.DotNet.Interactive.Formatting\\MemberAccessor{T}.cs:line 58</pre></div></td></tr></tbody></table></div></details></td></tr><tr><td>Tail</td><td><details class=\"dni-treeview\"><summary><span class=\"dni-code-hint\"><code>System.InvalidOperationException: The input list was empty.\\n   at Microsoft.FSharp.Collections.FSharpList`1.get_Tail() in D:\\a\\_work\\1\\s\\src\\FSharp.Core\\prim-types.fs:line 4146\\n   at lambda_method514(Closure, FSharpList`1)\\n   at Microsoft.DotNet.Interactive.Formatting.MemberAccessor`1.GetValueOrE...</code></span></summary><div><table><thead><tr></tr></thead><tbody><tr><td>TargetSite</td><td><details class=\"dni-treeview\"><summary><span class=\"dni-code-hint\"><code>Microsoft.FSharp.Collections.FSharpList`1[T] get_Tail()</code></span></summary><div><table><thead><tr></tr></thead><tbody><tr><td>Name</td><td>get_Tail</td></tr><tr><td>DeclaringType</td><td>Microsoft.FSharp.Collections.FSharpList`1[T]</td></tr><tr><td>ReflectedType</td><td>Microsoft.FSharp.Collections.FSharpList`1[T]</td></tr><tr><td>MemberType</td><td>Method</td></tr><tr><td>MetadataToken</td><td>100663765</td></tr><tr><td>Module</td><td>FSharp.Core.dll</td></tr><tr><td>IsSecurityCritical</td><td>True</td></tr><tr><td>IsSecuritySafeCritical</td><td>False</td></tr><tr><td>IsSecurityTransparent</td><td>False</td></tr><tr><td>MethodHandle</td><td>System.RuntimeMethodHandle</td></tr><tr><td>Attributes</td><td>Public, HideBySig, SpecialName</td></tr><tr><td>CallingConvention</td><td>Standard, HasThis</td></tr><tr><td>ReturnType</td><td>Microsoft.FSharp.Collections.FSharpList`1[T]</td></tr><tr><td>ReturnTypeCustomAttributes</td><td>Microsoft.FSharp.Collections.FSharpList`1[T]</td></tr><tr><td>ReturnParameter</td><td>Microsoft.FSharp.Collections.FSharpList`1[T]</td></tr><tr><td>IsCollectible</td><td>False</td></tr><tr><td>IsGenericMethod</td><td>False</td></tr><tr><td>IsGenericMethodDefinition</td><td>False</td></tr><tr><td>ContainsGenericParameters</td><td>True</td></tr><tr><td>MethodImplementationFlags</td><td>IL</td></tr><tr><td>IsAbstract</td><td>False</td></tr><tr><td>IsConstructor</td><td>False</td></tr><tr><td>IsFinal</td><td>False</td></tr><tr><td>IsHideBySig</td><td>True</td></tr><tr><td>IsSpecialName</td><td>True</td></tr><tr><td>IsStatic</td><td>False</td></tr><tr><td>IsVirtual</td><td>False</td></tr><tr><td>IsAssembly</td><td>False</td></tr><tr><td>IsFamily</td><td>False</td></tr><tr><td>IsFamilyAndAssembly</td><td>False</td></tr><tr><td>IsFamilyOrAssembly</td><td>False</td></tr><tr><td>IsPrivate</td><td>False</td></tr><tr><td>IsPublic</td><td>True</td></tr><tr><td>IsConstructedGenericMethod</td><td>False</td></tr><tr><td>CustomAttributes</td><td>[  ]</td></tr></tbody></table></div></details></td></tr><tr><td>Message</td><td><div class=\"dni-plaintext\"><pre>The input list was empty.</pre></div></td></tr><tr><td>Data</td><td><i>(empty)</i></td></tr><tr><td>InnerException</td><td><div class=\"dni-plaintext\"><pre>&lt;null&gt;</pre></div></td></tr><tr><td>HelpLink</td><td><div class=\"dni-plaintext\"><pre>&lt;null&gt;</pre></div></td></tr><tr><td>Source</td><td><div class=\"dni-plaintext\"><pre>FSharp.Core</pre></div></td></tr><tr><td>HResult</td><td><div class=\"dni-plaintext\"><pre>-2146233079</pre></div></td></tr><tr><td>StackTrace</td><td><div class=\"dni-plaintext\"><pre>   at Microsoft.FSharp.Collections.FSharpList`1.get_Tail() in D:\\a\\_work\\1\\s\\src\\FSharp.Core\\prim-types.fs:line 4146\n",
       "   at lambda_method514(Closure, FSharpList`1)\n",
       "   at Microsoft.DotNet.Interactive.Formatting.MemberAccessor`1.GetValueOrException(T instance) in D:\\a\\_work\\1\\s\\src\\Microsoft.DotNet.Interactive.Formatting\\MemberAccessor{T}.cs:line 58</pre></div></td></tr></tbody></table></div></details></td></tr><tr><td><i>(values)</i></td><td><div class=\"dni-plaintext\"><pre>[  ]</pre></div></td></tr></tbody></table></div></details></td></tr><tr><td>Head</td><td><div class=\"dni-plaintext\"><pre>42</pre></div></td></tr><tr><td>Tail</td><td><details class=\"dni-treeview\"><summary><span class=\"dni-code-hint\"><code>[  ]</code></span></summary><div><table><thead><tr></tr></thead><tbody><tr><td>HeadOrDefault</td><td><div class=\"dni-plaintext\"><pre>0</pre></div></td></tr><tr><td>TailOrNull</td><td><div class=\"dni-plaintext\"><pre>&lt;null&gt;</pre></div></td></tr><tr><td>Head</td><td><details class=\"dni-treeview\"><summary><span class=\"dni-code-hint\"><code>System.InvalidOperationException: The input list was empty.\\n   at Microsoft.FSharp.Collections.FSharpList`1.get_Head() in D:\\a\\_work\\1\\s\\src\\FSharp.Core\\prim-types.fs:line 4141\\n   at lambda_method513(Closure, FSharpList`1)\\n   at Microsoft.DotNet.Interactive.Formatting.MemberAccessor`1.GetValueOrE...</code></span></summary><div><table><thead><tr></tr></thead><tbody><tr><td>TargetSite</td><td><details class=\"dni-treeview\"><summary><span class=\"dni-code-hint\"><code>T get_Head()</code></span></summary><div><table><thead><tr></tr></thead><tbody><tr><td>Name</td><td>get_Head</td></tr><tr><td>DeclaringType</td><td>Microsoft.FSharp.Collections.FSharpList`1[T]</td></tr><tr><td>ReflectedType</td><td>Microsoft.FSharp.Collections.FSharpList`1[T]</td></tr><tr><td>MemberType</td><td>Method</td></tr><tr><td>MetadataToken</td><td>100663764</td></tr><tr><td>Module</td><td>FSharp.Core.dll</td></tr><tr><td>IsSecurityCritical</td><td>True</td></tr><tr><td>IsSecuritySafeCritical</td><td>False</td></tr><tr><td>IsSecurityTransparent</td><td>False</td></tr><tr><td>MethodHandle</td><td>System.RuntimeMethodHandle</td></tr><tr><td>Attributes</td><td>Public, HideBySig, SpecialName</td></tr><tr><td>CallingConvention</td><td>Standard, HasThis</td></tr><tr><td>ReturnType</td><td>T</td></tr><tr><td>ReturnTypeCustomAttributes</td><td>T</td></tr><tr><td>ReturnParameter</td><td>T</td></tr><tr><td>IsCollectible</td><td>False</td></tr><tr><td>IsGenericMethod</td><td>False</td></tr><tr><td>IsGenericMethodDefinition</td><td>False</td></tr><tr><td>ContainsGenericParameters</td><td>True</td></tr><tr><td>MethodImplementationFlags</td><td>IL</td></tr><tr><td>IsAbstract</td><td>False</td></tr><tr><td>IsConstructor</td><td>False</td></tr><tr><td>IsFinal</td><td>False</td></tr><tr><td>IsHideBySig</td><td>True</td></tr><tr><td>IsSpecialName</td><td>True</td></tr><tr><td>IsStatic</td><td>False</td></tr><tr><td>IsVirtual</td><td>False</td></tr><tr><td>IsAssembly</td><td>False</td></tr><tr><td>IsFamily</td><td>False</td></tr><tr><td>IsFamilyAndAssembly</td><td>False</td></tr><tr><td>IsFamilyOrAssembly</td><td>False</td></tr><tr><td>IsPrivate</td><td>False</td></tr><tr><td>IsPublic</td><td>True</td></tr><tr><td>IsConstructedGenericMethod</td><td>False</td></tr><tr><td>CustomAttributes</td><td>[  ]</td></tr></tbody></table></div></details></td></tr><tr><td>Message</td><td><div class=\"dni-plaintext\"><pre>The input list was empty.</pre></div></td></tr><tr><td>Data</td><td><i>(empty)</i></td></tr><tr><td>InnerException</td><td><div class=\"dni-plaintext\"><pre>&lt;null&gt;</pre></div></td></tr><tr><td>HelpLink</td><td><div class=\"dni-plaintext\"><pre>&lt;null&gt;</pre></div></td></tr><tr><td>Source</td><td><div class=\"dni-plaintext\"><pre>FSharp.Core</pre></div></td></tr><tr><td>HResult</td><td><div class=\"dni-plaintext\"><pre>-2146233079</pre></div></td></tr><tr><td>StackTrace</td><td><div class=\"dni-plaintext\"><pre>   at Microsoft.FSharp.Collections.FSharpList`1.get_Head() in D:\\a\\_work\\1\\s\\src\\FSharp.Core\\prim-types.fs:line 4141\n",
       "   at lambda_method513(Closure, FSharpList`1)\n",
       "   at Microsoft.DotNet.Interactive.Formatting.MemberAccessor`1.GetValueOrException(T instance) in D:\\a\\_work\\1\\s\\src\\Microsoft.DotNet.Interactive.Formatting\\MemberAccessor{T}.cs:line 58</pre></div></td></tr></tbody></table></div></details></td></tr><tr><td>Tail</td><td><details class=\"dni-treeview\"><summary><span class=\"dni-code-hint\"><code>System.InvalidOperationException: The input list was empty.\\n   at Microsoft.FSharp.Collections.FSharpList`1.get_Tail() in D:\\a\\_work\\1\\s\\src\\FSharp.Core\\prim-types.fs:line 4146\\n   at lambda_method514(Closure, FSharpList`1)\\n   at Microsoft.DotNet.Interactive.Formatting.MemberAccessor`1.GetValueOrE...</code></span></summary><div><table><thead><tr></tr></thead><tbody><tr><td>TargetSite</td><td><details class=\"dni-treeview\"><summary><span class=\"dni-code-hint\"><code>Microsoft.FSharp.Collections.FSharpList`1[T] get_Tail()</code></span></summary><div><table><thead><tr></tr></thead><tbody><tr><td>Name</td><td>get_Tail</td></tr><tr><td>DeclaringType</td><td>Microsoft.FSharp.Collections.FSharpList`1[T]</td></tr><tr><td>ReflectedType</td><td>Microsoft.FSharp.Collections.FSharpList`1[T]</td></tr><tr><td>MemberType</td><td>Method</td></tr><tr><td>MetadataToken</td><td>100663765</td></tr><tr><td>Module</td><td>FSharp.Core.dll</td></tr><tr><td>IsSecurityCritical</td><td>True</td></tr><tr><td>IsSecuritySafeCritical</td><td>False</td></tr><tr><td>IsSecurityTransparent</td><td>False</td></tr><tr><td>MethodHandle</td><td>System.RuntimeMethodHandle</td></tr><tr><td>Attributes</td><td>Public, HideBySig, SpecialName</td></tr><tr><td>CallingConvention</td><td>Standard, HasThis</td></tr><tr><td>ReturnType</td><td>Microsoft.FSharp.Collections.FSharpList`1[T]</td></tr><tr><td>ReturnTypeCustomAttributes</td><td>Microsoft.FSharp.Collections.FSharpList`1[T]</td></tr><tr><td>ReturnParameter</td><td>Microsoft.FSharp.Collections.FSharpList`1[T]</td></tr><tr><td>IsCollectible</td><td>False</td></tr><tr><td>IsGenericMethod</td><td>False</td></tr><tr><td>IsGenericMethodDefinition</td><td>False</td></tr><tr><td>ContainsGenericParameters</td><td>True</td></tr><tr><td>MethodImplementationFlags</td><td>IL</td></tr><tr><td>IsAbstract</td><td>False</td></tr><tr><td>IsConstructor</td><td>False</td></tr><tr><td>IsFinal</td><td>False</td></tr><tr><td>IsHideBySig</td><td>True</td></tr><tr><td>IsSpecialName</td><td>True</td></tr><tr><td>IsStatic</td><td>False</td></tr><tr><td>IsVirtual</td><td>False</td></tr><tr><td>IsAssembly</td><td>False</td></tr><tr><td>IsFamily</td><td>False</td></tr><tr><td>IsFamilyAndAssembly</td><td>False</td></tr><tr><td>IsFamilyOrAssembly</td><td>False</td></tr><tr><td>IsPrivate</td><td>False</td></tr><tr><td>IsPublic</td><td>True</td></tr><tr><td>IsConstructedGenericMethod</td><td>False</td></tr><tr><td>CustomAttributes</td><td>[  ]</td></tr></tbody></table></div></details></td></tr><tr><td>Message</td><td><div class=\"dni-plaintext\"><pre>The input list was empty.</pre></div></td></tr><tr><td>Data</td><td><i>(empty)</i></td></tr><tr><td>InnerException</td><td><div class=\"dni-plaintext\"><pre>&lt;null&gt;</pre></div></td></tr><tr><td>HelpLink</td><td><div class=\"dni-plaintext\"><pre>&lt;null&gt;</pre></div></td></tr><tr><td>Source</td><td><div class=\"dni-plaintext\"><pre>FSharp.Core</pre></div></td></tr><tr><td>HResult</td><td><div class=\"dni-plaintext\"><pre>-2146233079</pre></div></td></tr><tr><td>StackTrace</td><td><div class=\"dni-plaintext\"><pre>   at Microsoft.FSharp.Collections.FSharpList`1.get_Tail() in D:\\a\\_work\\1\\s\\src\\FSharp.Core\\prim-types.fs:line 4146\n",
       "   at lambda_method514(Closure, FSharpList`1)\n",
       "   at Microsoft.DotNet.Interactive.Formatting.MemberAccessor`1.GetValueOrException(T instance) in D:\\a\\_work\\1\\s\\src\\Microsoft.DotNet.Interactive.Formatting\\MemberAccessor{T}.cs:line 58</pre></div></td></tr></tbody></table></div></details></td></tr><tr><td><i>(values)</i></td><td><div class=\"dni-plaintext\"><pre>[  ]</pre></div></td></tr></tbody></table></div></details></td></tr><tr><td><i>(values)</i></td><td><div class=\"dni-plaintext\"><pre>[ 42 ]</pre></div></td></tr></tbody></table></div></details></td></tr><tr><td>Head</td><td><div class=\"dni-plaintext\"><pre>2</pre></div></td></tr><tr><td>Tail</td><td><details class=\"dni-treeview\"><summary><span class=\"dni-code-hint\"><code>[ 42 ]</code></span></summary><div><table><thead><tr></tr></thead><tbody><tr><td>HeadOrDefault</td><td><div class=\"dni-plaintext\"><pre>42</pre></div></td></tr><tr><td>TailOrNull</td><td><details class=\"dni-treeview\"><summary><span class=\"dni-code-hint\"><code>[  ]</code></span></summary><div><table><thead><tr></tr></thead><tbody><tr><td>HeadOrDefault</td><td><div class=\"dni-plaintext\"><pre>0</pre></div></td></tr><tr><td>TailOrNull</td><td><div class=\"dni-plaintext\"><pre>&lt;null&gt;</pre></div></td></tr><tr><td>Head</td><td><details class=\"dni-treeview\"><summary><span class=\"dni-code-hint\"><code>System.InvalidOperationException: The input list was empty.\\n   at Microsoft.FSharp.Collections.FSharpList`1.get_Head() in D:\\a\\_work\\1\\s\\src\\FSharp.Core\\prim-types.fs:line 4141\\n   at lambda_method513(Closure, FSharpList`1)\\n   at Microsoft.DotNet.Interactive.Formatting.MemberAccessor`1.GetValueOrE...</code></span></summary><div><table><thead><tr></tr></thead><tbody><tr><td>TargetSite</td><td><details class=\"dni-treeview\"><summary><span class=\"dni-code-hint\"><code>T get_Head()</code></span></summary><div><table><thead><tr></tr></thead><tbody><tr><td>Name</td><td>get_Head</td></tr><tr><td>DeclaringType</td><td>Microsoft.FSharp.Collections.FSharpList`1[T]</td></tr><tr><td>ReflectedType</td><td>Microsoft.FSharp.Collections.FSharpList`1[T]</td></tr><tr><td>MemberType</td><td>Method</td></tr><tr><td>MetadataToken</td><td>100663764</td></tr><tr><td>Module</td><td>FSharp.Core.dll</td></tr><tr><td>IsSecurityCritical</td><td>True</td></tr><tr><td>IsSecuritySafeCritical</td><td>False</td></tr><tr><td>IsSecurityTransparent</td><td>False</td></tr><tr><td>MethodHandle</td><td>System.RuntimeMethodHandle</td></tr><tr><td>Attributes</td><td>Public, HideBySig, SpecialName</td></tr><tr><td>CallingConvention</td><td>Standard, HasThis</td></tr><tr><td>ReturnType</td><td>T</td></tr><tr><td>ReturnTypeCustomAttributes</td><td>T</td></tr><tr><td>ReturnParameter</td><td>T</td></tr><tr><td>IsCollectible</td><td>False</td></tr><tr><td>IsGenericMethod</td><td>False</td></tr><tr><td>IsGenericMethodDefinition</td><td>False</td></tr><tr><td>ContainsGenericParameters</td><td>True</td></tr><tr><td>MethodImplementationFlags</td><td>IL</td></tr><tr><td>IsAbstract</td><td>False</td></tr><tr><td>IsConstructor</td><td>False</td></tr><tr><td>IsFinal</td><td>False</td></tr><tr><td>IsHideBySig</td><td>True</td></tr><tr><td>IsSpecialName</td><td>True</td></tr><tr><td>IsStatic</td><td>False</td></tr><tr><td>IsVirtual</td><td>False</td></tr><tr><td>IsAssembly</td><td>False</td></tr><tr><td>IsFamily</td><td>False</td></tr><tr><td>IsFamilyAndAssembly</td><td>False</td></tr><tr><td>IsFamilyOrAssembly</td><td>False</td></tr><tr><td>IsPrivate</td><td>False</td></tr><tr><td>IsPublic</td><td>True</td></tr><tr><td>IsConstructedGenericMethod</td><td>False</td></tr><tr><td>CustomAttributes</td><td>[  ]</td></tr></tbody></table></div></details></td></tr><tr><td>Message</td><td><div class=\"dni-plaintext\"><pre>The input list was empty.</pre></div></td></tr><tr><td>Data</td><td><i>(empty)</i></td></tr><tr><td>InnerException</td><td><div class=\"dni-plaintext\"><pre>&lt;null&gt;</pre></div></td></tr><tr><td>HelpLink</td><td><div class=\"dni-plaintext\"><pre>&lt;null&gt;</pre></div></td></tr><tr><td>Source</td><td><div class=\"dni-plaintext\"><pre>FSharp.Core</pre></div></td></tr><tr><td>HResult</td><td><div class=\"dni-plaintext\"><pre>-2146233079</pre></div></td></tr><tr><td>StackTrace</td><td><div class=\"dni-plaintext\"><pre>   at Microsoft.FSharp.Collections.FSharpList`1.get_Head() in D:\\a\\_work\\1\\s\\src\\FSharp.Core\\prim-types.fs:line 4141\n",
       "   at lambda_method513(Closure, FSharpList`1)\n",
       "   at Microsoft.DotNet.Interactive.Formatting.MemberAccessor`1.GetValueOrException(T instance) in D:\\a\\_work\\1\\s\\src\\Microsoft.DotNet.Interactive.Formatting\\MemberAccessor{T}.cs:line 58</pre></div></td></tr></tbody></table></div></details></td></tr><tr><td>Tail</td><td><details class=\"dni-treeview\"><summary><span class=\"dni-code-hint\"><code>System.InvalidOperationException: The input list was empty.\\n   at Microsoft.FSharp.Collections.FSharpList`1.get_Tail() in D:\\a\\_work\\1\\s\\src\\FSharp.Core\\prim-types.fs:line 4146\\n   at lambda_method514(Closure, FSharpList`1)\\n   at Microsoft.DotNet.Interactive.Formatting.MemberAccessor`1.GetValueOrE...</code></span></summary><div><table><thead><tr></tr></thead><tbody><tr><td>TargetSite</td><td><details class=\"dni-treeview\"><summary><span class=\"dni-code-hint\"><code>Microsoft.FSharp.Collections.FSharpList`1[T] get_Tail()</code></span></summary><div><table><thead><tr></tr></thead><tbody><tr><td>Name</td><td>get_Tail</td></tr><tr><td>DeclaringType</td><td>Microsoft.FSharp.Collections.FSharpList`1[T]</td></tr><tr><td>ReflectedType</td><td>Microsoft.FSharp.Collections.FSharpList`1[T]</td></tr><tr><td>MemberType</td><td>Method</td></tr><tr><td>MetadataToken</td><td>100663765</td></tr><tr><td>Module</td><td>FSharp.Core.dll</td></tr><tr><td>IsSecurityCritical</td><td>True</td></tr><tr><td>IsSecuritySafeCritical</td><td>False</td></tr><tr><td>IsSecurityTransparent</td><td>False</td></tr><tr><td>MethodHandle</td><td>System.RuntimeMethodHandle</td></tr><tr><td>Attributes</td><td>Public, HideBySig, SpecialName</td></tr><tr><td>CallingConvention</td><td>Standard, HasThis</td></tr><tr><td>ReturnType</td><td>Microsoft.FSharp.Collections.FSharpList`1[T]</td></tr><tr><td>ReturnTypeCustomAttributes</td><td>Microsoft.FSharp.Collections.FSharpList`1[T]</td></tr><tr><td>ReturnParameter</td><td>Microsoft.FSharp.Collections.FSharpList`1[T]</td></tr><tr><td>IsCollectible</td><td>False</td></tr><tr><td>IsGenericMethod</td><td>False</td></tr><tr><td>IsGenericMethodDefinition</td><td>False</td></tr><tr><td>ContainsGenericParameters</td><td>True</td></tr><tr><td>MethodImplementationFlags</td><td>IL</td></tr><tr><td>IsAbstract</td><td>False</td></tr><tr><td>IsConstructor</td><td>False</td></tr><tr><td>IsFinal</td><td>False</td></tr><tr><td>IsHideBySig</td><td>True</td></tr><tr><td>IsSpecialName</td><td>True</td></tr><tr><td>IsStatic</td><td>False</td></tr><tr><td>IsVirtual</td><td>False</td></tr><tr><td>IsAssembly</td><td>False</td></tr><tr><td>IsFamily</td><td>False</td></tr><tr><td>IsFamilyAndAssembly</td><td>False</td></tr><tr><td>IsFamilyOrAssembly</td><td>False</td></tr><tr><td>IsPrivate</td><td>False</td></tr><tr><td>IsPublic</td><td>True</td></tr><tr><td>IsConstructedGenericMethod</td><td>False</td></tr><tr><td>CustomAttributes</td><td>[  ]</td></tr></tbody></table></div></details></td></tr><tr><td>Message</td><td><div class=\"dni-plaintext\"><pre>The input list was empty.</pre></div></td></tr><tr><td>Data</td><td><i>(empty)</i></td></tr><tr><td>InnerException</td><td><div class=\"dni-plaintext\"><pre>&lt;null&gt;</pre></div></td></tr><tr><td>HelpLink</td><td><div class=\"dni-plaintext\"><pre>&lt;null&gt;</pre></div></td></tr><tr><td>Source</td><td><div class=\"dni-plaintext\"><pre>FSharp.Core</pre></div></td></tr><tr><td>HResult</td><td><div class=\"dni-plaintext\"><pre>-2146233079</pre></div></td></tr><tr><td>StackTrace</td><td><div class=\"dni-plaintext\"><pre>   at Microsoft.FSharp.Collections.FSharpList`1.get_Tail() in D:\\a\\_work\\1\\s\\src\\FSharp.Core\\prim-types.fs:line 4146\n",
       "   at lambda_method514(Closure, FSharpList`1)\n",
       "   at Microsoft.DotNet.Interactive.Formatting.MemberAccessor`1.GetValueOrException(T instance) in D:\\a\\_work\\1\\s\\src\\Microsoft.DotNet.Interactive.Formatting\\MemberAccessor{T}.cs:line 58</pre></div></td></tr></tbody></table></div></details></td></tr><tr><td><i>(values)</i></td><td><div class=\"dni-plaintext\"><pre>[  ]</pre></div></td></tr></tbody></table></div></details></td></tr><tr><td>Head</td><td><div class=\"dni-plaintext\"><pre>42</pre></div></td></tr><tr><td>Tail</td><td><details class=\"dni-treeview\"><summary><span class=\"dni-code-hint\"><code>[  ]</code></span></summary><div><table><thead><tr></tr></thead><tbody><tr><td>HeadOrDefault</td><td><div class=\"dni-plaintext\"><pre>0</pre></div></td></tr><tr><td>TailOrNull</td><td><div class=\"dni-plaintext\"><pre>&lt;null&gt;</pre></div></td></tr><tr><td>Head</td><td><details class=\"dni-treeview\"><summary><span class=\"dni-code-hint\"><code>System.InvalidOperationException: The input list was empty.\\n   at Microsoft.FSharp.Collections.FSharpList`1.get_Head() in D:\\a\\_work\\1\\s\\src\\FSharp.Core\\prim-types.fs:line 4141\\n   at lambda_method513(Closure, FSharpList`1)\\n   at Microsoft.DotNet.Interactive.Formatting.MemberAccessor`1.GetValueOrE...</code></span></summary><div><table><thead><tr></tr></thead><tbody><tr><td>TargetSite</td><td><details class=\"dni-treeview\"><summary><span class=\"dni-code-hint\"><code>T get_Head()</code></span></summary><div><table><thead><tr></tr></thead><tbody><tr><td>Name</td><td>get_Head</td></tr><tr><td>DeclaringType</td><td>Microsoft.FSharp.Collections.FSharpList`1[T]</td></tr><tr><td>ReflectedType</td><td>Microsoft.FSharp.Collections.FSharpList`1[T]</td></tr><tr><td>MemberType</td><td>Method</td></tr><tr><td>MetadataToken</td><td>100663764</td></tr><tr><td>Module</td><td>FSharp.Core.dll</td></tr><tr><td>IsSecurityCritical</td><td>True</td></tr><tr><td>IsSecuritySafeCritical</td><td>False</td></tr><tr><td>IsSecurityTransparent</td><td>False</td></tr><tr><td>MethodHandle</td><td>System.RuntimeMethodHandle</td></tr><tr><td>Attributes</td><td>Public, HideBySig, SpecialName</td></tr><tr><td>CallingConvention</td><td>Standard, HasThis</td></tr><tr><td>ReturnType</td><td>T</td></tr><tr><td>ReturnTypeCustomAttributes</td><td>T</td></tr><tr><td>ReturnParameter</td><td>T</td></tr><tr><td>IsCollectible</td><td>False</td></tr><tr><td>IsGenericMethod</td><td>False</td></tr><tr><td>IsGenericMethodDefinition</td><td>False</td></tr><tr><td>ContainsGenericParameters</td><td>True</td></tr><tr><td>MethodImplementationFlags</td><td>IL</td></tr><tr><td>IsAbstract</td><td>False</td></tr><tr><td>IsConstructor</td><td>False</td></tr><tr><td>IsFinal</td><td>False</td></tr><tr><td>IsHideBySig</td><td>True</td></tr><tr><td>IsSpecialName</td><td>True</td></tr><tr><td>IsStatic</td><td>False</td></tr><tr><td>IsVirtual</td><td>False</td></tr><tr><td>IsAssembly</td><td>False</td></tr><tr><td>IsFamily</td><td>False</td></tr><tr><td>IsFamilyAndAssembly</td><td>False</td></tr><tr><td>IsFamilyOrAssembly</td><td>False</td></tr><tr><td>IsPrivate</td><td>False</td></tr><tr><td>IsPublic</td><td>True</td></tr><tr><td>IsConstructedGenericMethod</td><td>False</td></tr><tr><td>CustomAttributes</td><td>[  ]</td></tr></tbody></table></div></details></td></tr><tr><td>Message</td><td><div class=\"dni-plaintext\"><pre>The input list was empty.</pre></div></td></tr><tr><td>Data</td><td><i>(empty)</i></td></tr><tr><td>InnerException</td><td><div class=\"dni-plaintext\"><pre>&lt;null&gt;</pre></div></td></tr><tr><td>HelpLink</td><td><div class=\"dni-plaintext\"><pre>&lt;null&gt;</pre></div></td></tr><tr><td>Source</td><td><div class=\"dni-plaintext\"><pre>FSharp.Core</pre></div></td></tr><tr><td>HResult</td><td><div class=\"dni-plaintext\"><pre>-2146233079</pre></div></td></tr><tr><td>StackTrace</td><td><div class=\"dni-plaintext\"><pre>   at Microsoft.FSharp.Collections.FSharpList`1.get_Head() in D:\\a\\_work\\1\\s\\src\\FSharp.Core\\prim-types.fs:line 4141\n",
       "   at lambda_method513(Closure, FSharpList`1)\n",
       "   at Microsoft.DotNet.Interactive.Formatting.MemberAccessor`1.GetValueOrException(T instance) in D:\\a\\_work\\1\\s\\src\\Microsoft.DotNet.Interactive.Formatting\\MemberAccessor{T}.cs:line 58</pre></div></td></tr></tbody></table></div></details></td></tr><tr><td>Tail</td><td><details class=\"dni-treeview\"><summary><span class=\"dni-code-hint\"><code>System.InvalidOperationException: The input list was empty.\\n   at Microsoft.FSharp.Collections.FSharpList`1.get_Tail() in D:\\a\\_work\\1\\s\\src\\FSharp.Core\\prim-types.fs:line 4146\\n   at lambda_method514(Closure, FSharpList`1)\\n   at Microsoft.DotNet.Interactive.Formatting.MemberAccessor`1.GetValueOrE...</code></span></summary><div><table><thead><tr></tr></thead><tbody><tr><td>TargetSite</td><td><details class=\"dni-treeview\"><summary><span class=\"dni-code-hint\"><code>Microsoft.FSharp.Collections.FSharpList`1[T] get_Tail()</code></span></summary><div><table><thead><tr></tr></thead><tbody><tr><td>Name</td><td>get_Tail</td></tr><tr><td>DeclaringType</td><td>Microsoft.FSharp.Collections.FSharpList`1[T]</td></tr><tr><td>ReflectedType</td><td>Microsoft.FSharp.Collections.FSharpList`1[T]</td></tr><tr><td>MemberType</td><td>Method</td></tr><tr><td>MetadataToken</td><td>100663765</td></tr><tr><td>Module</td><td>FSharp.Core.dll</td></tr><tr><td>IsSecurityCritical</td><td>True</td></tr><tr><td>IsSecuritySafeCritical</td><td>False</td></tr><tr><td>IsSecurityTransparent</td><td>False</td></tr><tr><td>MethodHandle</td><td>System.RuntimeMethodHandle</td></tr><tr><td>Attributes</td><td>Public, HideBySig, SpecialName</td></tr><tr><td>CallingConvention</td><td>Standard, HasThis</td></tr><tr><td>ReturnType</td><td>Microsoft.FSharp.Collections.FSharpList`1[T]</td></tr><tr><td>ReturnTypeCustomAttributes</td><td>Microsoft.FSharp.Collections.FSharpList`1[T]</td></tr><tr><td>ReturnParameter</td><td>Microsoft.FSharp.Collections.FSharpList`1[T]</td></tr><tr><td>IsCollectible</td><td>False</td></tr><tr><td>IsGenericMethod</td><td>False</td></tr><tr><td>IsGenericMethodDefinition</td><td>False</td></tr><tr><td>ContainsGenericParameters</td><td>True</td></tr><tr><td>MethodImplementationFlags</td><td>IL</td></tr><tr><td>IsAbstract</td><td>False</td></tr><tr><td>IsConstructor</td><td>False</td></tr><tr><td>IsFinal</td><td>False</td></tr><tr><td>IsHideBySig</td><td>True</td></tr><tr><td>IsSpecialName</td><td>True</td></tr><tr><td>IsStatic</td><td>False</td></tr><tr><td>IsVirtual</td><td>False</td></tr><tr><td>IsAssembly</td><td>False</td></tr><tr><td>IsFamily</td><td>False</td></tr><tr><td>IsFamilyAndAssembly</td><td>False</td></tr><tr><td>IsFamilyOrAssembly</td><td>False</td></tr><tr><td>IsPrivate</td><td>False</td></tr><tr><td>IsPublic</td><td>True</td></tr><tr><td>IsConstructedGenericMethod</td><td>False</td></tr><tr><td>CustomAttributes</td><td>[  ]</td></tr></tbody></table></div></details></td></tr><tr><td>Message</td><td><div class=\"dni-plaintext\"><pre>The input list was empty.</pre></div></td></tr><tr><td>Data</td><td><i>(empty)</i></td></tr><tr><td>InnerException</td><td><div class=\"dni-plaintext\"><pre>&lt;null&gt;</pre></div></td></tr><tr><td>HelpLink</td><td><div class=\"dni-plaintext\"><pre>&lt;null&gt;</pre></div></td></tr><tr><td>Source</td><td><div class=\"dni-plaintext\"><pre>FSharp.Core</pre></div></td></tr><tr><td>HResult</td><td><div class=\"dni-plaintext\"><pre>-2146233079</pre></div></td></tr><tr><td>StackTrace</td><td><div class=\"dni-plaintext\"><pre>   at Microsoft.FSharp.Collections.FSharpList`1.get_Tail() in D:\\a\\_work\\1\\s\\src\\FSharp.Core\\prim-types.fs:line 4146\n",
       "   at lambda_method514(Closure, FSharpList`1)\n",
       "   at Microsoft.DotNet.Interactive.Formatting.MemberAccessor`1.GetValueOrException(T instance) in D:\\a\\_work\\1\\s\\src\\Microsoft.DotNet.Interactive.Formatting\\MemberAccessor{T}.cs:line 58</pre></div></td></tr></tbody></table></div></details></td></tr><tr><td><i>(values)</i></td><td><div class=\"dni-plaintext\"><pre>[  ]</pre></div></td></tr></tbody></table></div></details></td></tr><tr><td><i>(values)</i></td><td><div class=\"dni-plaintext\"><pre>[ 42 ]</pre></div></td></tr></tbody></table></div></details></td></tr><tr><td><i>(values)</i></td><td><div class=\"dni-plaintext\"><pre>[ 2, 42 ]</pre></div></td></tr></tbody></table></div></details></td></tr><tr><td><i>(values)</i></td><td><div class=\"dni-plaintext\"><pre>[ 3, 2, 42 ]</pre></div></td></tr></tbody></table></div></details><style>\r\n",
       ".dni-code-hint {\r\n",
       "    font-style: italic;\r\n",
       "    overflow: hidden;\r\n",
       "    white-space: nowrap;\r\n",
       "}\r\n",
       ".dni-treeview {\r\n",
       "    white-space: nowrap;\r\n",
       "}\r\n",
       ".dni-treeview td {\r\n",
       "    vertical-align: top;\r\n",
       "    text-align: start;\r\n",
       "}\r\n",
       "details.dni-treeview {\r\n",
       "    padding-left: 1em;\r\n",
       "}\r\n",
       "table td {\r\n",
       "    text-align: start;\r\n",
       "}\r\n",
       "table tr { \r\n",
       "    vertical-align: top; \r\n",
       "    margin: 0em 0px;\r\n",
       "}\r\n",
       "table tr td pre \r\n",
       "{ \r\n",
       "    vertical-align: top !important; \r\n",
       "    margin: 0em 0px !important;\r\n",
       "} \r\n",
       "table th {\r\n",
       "    text-align: start;\r\n",
       "}\r\n",
       "</style>"
      ]
     },
     "metadata": {},
     "output_type": "display_data"
    }
   ],
   "source": [
    "s\n",
    "|> List.choose id "
   ]
  },
  {
   "cell_type": "code",
   "execution_count": 42,
   "metadata": {
    "dotnet_interactive": {
     "language": "fsharp"
    },
    "polyglot_notebook": {
     "kernelName": "fsharp"
    },
    "vscode": {
     "languageId": "polyglot-notebook"
    }
   },
   "outputs": [],
   "source": [
    "let eats = \n",
    "    mixedSeq\n",
    "    |> Seq.map fst \n",
    "\n",
    "let drinks = \n",
    "    mixedSeq\n",
    "    |> Seq.map snd \n",
    "    |> Seq.choose id \n",
    "\n",
    "let all = \n",
    "    seq { \n",
    "        yield! eats\n",
    "        yield! drinks \n",
    "    }\n"
   ]
  },
  {
   "cell_type": "code",
   "execution_count": 43,
   "metadata": {
    "dotnet_interactive": {
     "language": "fsharp"
    },
    "polyglot_notebook": {
     "kernelName": "fsharp"
    },
    "vscode": {
     "languageId": "polyglot-notebook"
    }
   },
   "outputs": [
    {
     "name": "stdout",
     "output_type": "stream",
     "text": [
      "Chips (Lay's, 1 oz) costs 1$\n",
      "Chips (Doritos, 2 oz) costs 2$\n",
      "Candy Bars (Snickers, 1.5 oz) costs 1.25$\n",
      "Candy Bars (Kit Kat, 1.5 oz) costs 1.25$\n",
      "Granola Bars (Nature Valley, 1.5 oz) costs 1.5$\n",
      "Cookies (Chips Ahoy, 1.5 oz) costs 1.25$\n",
      "Crackers (Cheez-Its, 2 oz) costs 1.5$\n",
      "Nuts (Planters, 1 oz) costs 1.5$\n",
      "Popcorn (Pop-Secret, 2 oz) costs 2$\n",
      "Beef Jerky (Jack Link's, 1 oz) costs 3.5$\n",
      "Cup Noodles (Maruchan, 3 oz) costs 1.5$\n",
      "Pretzels (Rold Gold, 1 oz) costs 1$\n",
      "Trail Mix (Planters, 1 oz) costs 1.5$\n",
      "Rice Krispie Treats (Kellogg's, 1.5 oz) costs 1.25$\n",
      "Protein Bars (Quest, 2.1 oz) costs 3$\n",
      "Bottled Water (Aquafina, 16 oz) costs 1.5$\n",
      "Bottled Water (Dasani, 20 oz) costs 2$\n",
      "Soda (Coca-Cola, 12 oz) costs 1.5$\n",
      "Soda (Pepsi, 20 oz) costs 2$\n",
      "Sports Drinks (Gatorade, 20 oz) costs 2.5$\n",
      "Juice Boxes (Capri Sun, 6 oz) costs 1$\n",
      "Energy Drinks (Red Bull, 8.4 oz) costs 3$\n",
      "Iced Tea (Lipton, 16 oz) costs 1.5$\n",
      "Lemonade (Minute Maid, 16 oz) costs 1.5$\n",
      "Iced Coffee (Starbucks, 12 oz) costs 2.5$\n",
      "Chocolate (Swiss Miss, 8 oz) costs 2$\n",
      "Milk (Nesquik, 8 oz) costs 1$\n",
      "Chocolate Milk (Yoo-hoo, 8 oz) costs 1$\n",
      "Fruit Smoothies (Naked Juice, 16 oz) costs 4$\n"
     ]
    }
   ],
   "source": [
    "all\n",
    "|> Seq.iter prettyPrint"
   ]
  }
 ],
 "metadata": {
  "kernelspec": {
   "display_name": ".NET (C#)",
   "language": "C#",
   "name": ".net-csharp"
  },
  "language_info": {
   "name": "python"
  },
  "orig_nbformat": 4,
  "polyglot_notebook": {
   "kernelInfo": {
    "defaultKernelName": "csharp",
    "items": [
     {
      "aliases": [],
      "name": "csharp"
     }
    ]
   }
  }
 },
 "nbformat": 4,
 "nbformat_minor": 2
}
