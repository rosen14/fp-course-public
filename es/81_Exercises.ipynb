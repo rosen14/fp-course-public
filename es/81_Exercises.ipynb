{
  "cells": [
    {
      "cell_type": "markdown",
      "metadata": {},
      "source": [
        "## Ejercicios"
      ]
    },
    {
      "cell_type": "markdown",
      "metadata": {},
      "source": [
        "### Derivada simbólica\n",
        "\n",
        "El [siguiente tipo de dato](https://link.springer.com/book/10.1007/978-1-4842-0740-6) representa una variable matemática (`Expr.Var`), un número (`Expr.Num`) y dos operaciones, suma (`Expr.Sum`) y producto (`Expr.Prod`):\n",
        "\n",
        "```fsharp\n",
        "type Expr =\n",
        "    | Num of int \n",
        "    | Var\n",
        "    | Sum of Expr * Expr\n",
        "    | Prod of Expr * Expr\n",
        "```\n",
        "\n",
        "Por ejemplo, la expresión $3 + 5 x$ se expresaría como\n",
        "\n",
        "```fsharp\n",
        "Sum (Num 3, Prod (Num 5, Var))\n",
        "```\n",
        "\n",
        "\n",
        "- Escriba una función `diff` que recibe una expresión `Expr` y calcula su derivada.\n",
        "\n",
        "Considere la siguiente función\n",
        "\n",
        "```fsharp\n",
        "let rec show expr = \n",
        "    match expr with \n",
        "    | Var -> \"x\"\n",
        "    | Num i -> i.ToString()\n",
        "    | Sum (e1,e2) -> \n",
        "        let sum = show e1 + \"+\" + show e2 \n",
        "        sum \n",
        "    | Prod (e1,e2) ->\n",
        "        show e1 + \"*\" + show e2 \n",
        "```\n",
        "\n",
        "que dada una expresión, la imprime en una forma más legible. Por ejemplo, si tenemos\n",
        "\n",
        "```fsharp\n",
        "let q = Sum (Num 3, Prod (Num 5, Var))\n",
        "```\n",
        "\n",
        "la aplicación de `show` a `q` nos da\n",
        "\n",
        "```fsharp\n",
        "3+5*x\n",
        "```\n",
        "\n",
        "Sin embargo, esta función no es capaz de simplificar las expresiones. Por ejemplo:\n",
        "\n",
        "```fsharp\n",
        "let t = Sum (Num 3, Num 1)\n",
        "show t\n",
        "```\n",
        "\n",
        "da como resultado `3+1`, en lugar de `4` como quisiéramos. \n",
        "\n",
        "- Escriba funciones para simplificar los casos más habituales (suma con 0, multiplicación con 1, etc.)\n",
        "- Modifique la función `diff` de modo tal que dada una expresión `Expr`, de como resultado un `string` que represente la derivada simplificada utilizando\n",
        "  las funciones del item anterior.\n",
        "- Explore las limitaciones de la función `show`, y analice cuáles serían las maneras de resolverlas.\n"
      ]
    },
    {
      "cell_type": "markdown",
      "metadata": {},
      "source": [
        "### Horario de atención\n",
        "\n",
        "Nos han encargado un programa sencillo para manejar el [horario de atención](https://github.com/christian-fei/opening-hours-kata) \n",
        "al público de un bar. Los requerimientos son los siguientes\n",
        "\n",
        "- Los días de apertura y las horas de atención deben ser configurables. Por ejemplo, Lunes, Miércoles y Viernes de 9 a 18. \n",
        "  (El bar tiene horario corrido).\n",
        "- Es necesario poder mostrar el próximo día que el bar está abierto en un cartel en la ventana del bar.\n",
        "- Además es necesario proveer de una función que indique si en un determinado día y horario, el bar está abierto.\n",
        "\n",
        "Las funciones necesarias son\n",
        "\n",
        "- `isOpenOn`: dada una fecha, determina si el bar está abierto o no\n",
        "- `nextOpeningDate`: dada una fecha, calcula el siguiente día que está abierto el bar\n",
        "\n",
        "Hint: Para manejar fechas, se puede usar la biblioteca [`System.DateTime`], por ejemplo:\n",
        " \n",
        "```fsharp\n",
        "// crea la fecha con año, mes, día, hora, minutos y segundos\n",
        "let date1 = DateTime(2022, 5, 11, 14, 30, 52)\n",
        "\n",
        "// Ahora, ahora en UTC y el día de hoy\n",
        "let date1 = DateTime.Now\n",
        "let date2 = DateTime.UtcNow\n",
        "let date3 = DateTime.Today\n",
        "\n",
        "// Se pueden sumar o restar duraciones:\n",
        "let today = DateTime.Now\n",
        "let duration = TimeSpan(1, 0, 0, 0) // duración de un día, 0 horas, 0 minutos y 0 segundos\n",
        "let tomorrow = today.Add duration\n",
        "printfn $\"{today:ddd}\" // Thu\n",
        "printfn $\"{tomorrow:ddd}\" // Fri\n",
        "```\n",
        "\n",
        "La documentación completa de la biblioteca se encuentra [acá](https://learn.microsoft.com/en-us/dotnet/api/system.datetime?view=net-7.0#initialization-01), con muchos ejemplos.\n",
        "\n"
      ]
    },
    {
      "cell_type": "markdown",
      "metadata": {},
      "source": [
        "### The Beatles\n",
        "\n",
        "Usando el _type provider_  de CSV que vimos en la clase, y [los datos de las canciones de\n",
        "los Beatles](https://github.com/fcolavecchia/fp-course-public/blob/main/data/The%20Beatles%20songs%20dataset.csv), haga una lista de los tres años más productivos de su carrera.\n"
      ]
    }
  ],
  "metadata": {
    "kernelspec": {
      "display_name": ".NET (C#)",
      "language": "C#",
      "name": ".net-csharp"
    },
    "language_info": {
      "name": "python"
    },
    "orig_nbformat": 4,
    "polyglot_notebook": {
      "kernelInfo": {
        "defaultKernelName": "csharp",
        "items": [
          {
            "aliases": [],
            "name": "csharp"
          }
        ]
      }
    }
  },
  "nbformat": 4,
  "nbformat_minor": 2
}
